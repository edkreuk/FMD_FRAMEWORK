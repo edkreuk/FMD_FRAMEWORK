{
 "cells": [
  {
   "cell_type": "markdown",
   "id": "d3c6b110-b18e-4f89-9a8c-29e8c30bf171",
   "metadata": {
    "microsoft": {
     "language": "python",
     "language_group": "synapse_pyspark"
    },
    "nteract": {
     "transient": {
      "deleting": false
     }
    }
   },
   "source": [
    "\n",
    "\n",
    "   \"![FMD_Overview](https://github.com/edkreuk/FMD_FRAMEWORK/blob/main/Images/FMD_Overview.png?raw=true)\""
   ]
  },
  {
   "cell_type": "markdown",
   "id": "2a5ff914-bf2c-47a1-90fa-489b16e653c0",
   "metadata": {
    "microsoft": {
     "language": "python",
     "language_group": "synapse_pyspark"
    },
    "nteract": {
     "transient": {
      "deleting": false
     }
    }
   },
   "source": [
    "Create Lakehouse if not exists and Attach Lakehouse "
   ]
  },
  {
   "cell_type": "code",
   "execution_count": 317,
   "id": "49e36a04-9423-4d9d-84c9-ab4ac0edf4dd",
   "metadata": {
    "microsoft": {
     "language": "python",
     "language_group": "synapse_pyspark"
    }
   },
   "outputs": [
    {
     "data": {
      "application/vnd.livy.statement-meta+json": {
       "execution_finish_time": "2025-03-12T21:16:16.8293688Z",
       "execution_start_time": "2025-03-12T21:16:15.9670431Z",
       "livy_statement_state": "available",
       "normalized_state": "finished",
       "parent_msg_id": "35b4d355-3407-4b3c-9890-75ce115839a9",
       "queued_time": "2025-03-12T21:16:15.9653429Z",
       "session_id": "3e96f9db-6801-4dbb-8609-8c3d1bc7a8c1",
       "session_start_time": null,
       "spark_pool": null,
       "state": "finished",
       "statement_id": 217,
       "statement_ids": [
        217
       ]
      },
      "text/plain": [
       "StatementMeta(, 3e96f9db-6801-4dbb-8609-8c3d1bc7a8c1, 217, Finished, Available, Finished)"
      ]
     },
     "metadata": {},
     "output_type": "display_data"
    },
    {
     "name": "stdout",
     "output_type": "stream",
     "text": [
      "Lakehouse already exists\n"
     ]
    }
   ],
   "source": [
    "try:\n",
    "    notebookutils.lakehouse.create(name = \"LH_FMD_CONFIGURATION\")\n",
    "except Exception as ex:\n",
    "    print('Lakehouse already exists')"
   ]
  },
  {
   "cell_type": "code",
   "execution_count": null,
   "id": "3e4b1a66-8c9b-4be7-a7fa-cb5ba25d9fb6",
   "metadata": {
    "microsoft": {
     "language": "python",
     "language_group": "synapse_pyspark"
    }
   },
   "outputs": [
    {
     "data": {
      "application/vnd.livy.statement-meta+json": {
       "execution_finish_time": "2025-03-12T21:18:33.4297741Z",
       "execution_start_time": "2025-03-12T21:18:33.3557672Z",
       "livy_statement_state": "available",
       "normalized_state": "finished",
       "parent_msg_id": "87dd24b9-a644-4246-965f-236f0bb79ef1",
       "queued_time": "2025-03-12T21:16:16.3691677Z",
       "session_id": "95e50a05-94ce-4a80-b142-46099c8476e7",
       "session_start_time": "2025-03-12T21:16:16.9213798Z",
       "spark_pool": null,
       "state": "finished",
       "statement_id": -1,
       "statement_ids": []
      },
      "text/plain": [
       "StatementMeta(, 95e50a05-94ce-4a80-b142-46099c8476e7, -1, Finished, Available, Finished)"
      ]
     },
     "metadata": {},
     "output_type": "display_data"
    }
   ],
   "source": [
    "%%configure -f\n",
    "{ \n",
    "    \"defaultLakehouse\": { \n",
    "        \"name\":  \"LH_FMD_ONFIGURATION\"\n",
    "    }\n",
    "}"
   ]
  },
  {
   "cell_type": "code",
   "execution_count": 414,
   "id": "1954c1d5-24fb-40dd-8784-7faf4ab0e12d",
   "metadata": {
    "microsoft": {
     "language": "python",
     "language_group": "synapse_pyspark"
    },
    "tags": [
     "parameters"
    ]
   },
   "outputs": [
    {
     "data": {
      "application/vnd.livy.statement-meta+json": {
       "execution_finish_time": "2025-03-12T22:01:54.9628183Z",
       "execution_start_time": "2025-03-12T22:01:54.596855Z",
       "livy_statement_state": "available",
       "normalized_state": "finished",
       "parent_msg_id": "b5c30669-0be9-452c-9aa1-c1e727597a73",
       "queued_time": "2025-03-12T22:01:54.5947255Z",
       "session_id": "95e50a05-94ce-4a80-b142-46099c8476e7",
       "session_start_time": null,
       "spark_pool": null,
       "state": "finished",
       "statement_id": 110,
       "statement_ids": [
        110
       ]
      },
      "text/plain": [
       "StatementMeta(, 95e50a05-94ce-4a80-b142-46099c8476e7, 110, Finished, Available, Finished)"
      ]
     },
     "metadata": {},
     "output_type": "display_data"
    }
   ],
   "source": [
    "deploy_from_github = False\n",
    "driver = '{ODBC Driver 18 for SQL Server}'\n",
    "# target connections guid \n",
    "# add the correct id for every connections\n",
    "# change the capacity id\n",
    "# change the workspace roles\n",
    "\n",
    "FrameworkName= 'DEMO1' # max 6 characters for better visibility, no spaces and the end of the name\n",
    "#'560C908C-072A-478C-939C-CFC4398D2FDB\n",
    "capacity_id_dvlm = '560C908C-072A-478C-939C-CFC4398D2FDB'       # Which capacity will be used for these workspaces in development\n",
    "capacity_id_prod = '560C908C-072A-478C-939C-CFC4398D2FDB'       # Which capacity will be used for these workspaces in production\n",
    "capacity_id_config = '2BDC6A16-1EE7-4BAD-9127-5EF6BEB00E84'     #'Which capacity will be used for this workspace for the FMD Database\n",
    "capacity_id_log = '560C908C-072A-478C-939C-CFC4398D2FDB'        #'Which capacity will be used for this workspace for the LOG Warehouse\n",
    "\n",
    "workspace_roles = [ # Keep emtpy [] if you only want to assign this to your personal account\n",
    "                    {\n",
    "                        \"principal\": {\n",
    "                            \"id\": \"ba4a392b-9596-46d8-9486-53eb2c2b22bf\",\n",
    "                            \"displayName\": \"sg-fabric-contributor\",\n",
    "                            \"type\": \"Group\"\n",
    "                        },\n",
    "                        \"role\": \"Contributor\"  # Admin, Member, Contributor, Viewer\n",
    "                        },\n",
    "                        {\n",
    "                        \"principal\": {\n",
    "                            \"id\": \"39b98289-1540-4866-b9f0-3935f9eeebd6\",\n",
    "                            \"displayName\": \"sg-fabric-admin\",\n",
    "                            \"type\": \"Group\"\n",
    "                        },\n",
    "                        \"role\": \"Admin\"\n",
    "                        }\n",
    "                    ]\n",
    "\n",
    "logging = {\n",
    "                    'workspace': {\n",
    "                        'name' : FrameworkName + ' LOG FMD', # Name of target workspace\n",
    "                        'roles' : workspace_roles,\n",
    "                        'capacity_id' : capacity_id_log\n",
    "                    },\n",
    "                    'WarehouseName' : 'WH_LOG' # Name of target logging warehouse\n",
    "}\n",
    "\n",
    "configuration = {\n",
    "                    'workspace': {\n",
    "                        'name' : FrameworkName + ' CONFIG FMD', # Name of target workspace\n",
    "                        'roles' : workspace_roles,\n",
    "                        'capacity_id' : capacity_id_config\n",
    "                    },\n",
    "                    'DatabaseName' : 'SQL_FMD_FRAMEWORK' # Name of target configuration SQL Database\n",
    "}\n",
    "\n",
    "environments = [\n",
    "                    {\n",
    "                        'environment_name' : 'development', # Name of target environment\n",
    "                        'workspaces': {\n",
    "                            'data' : {\n",
    "                                'name' : FrameworkName + ' DATA (D) FMD', # Name of target code workspace for development\n",
    "                                'roles' : workspace_roles,\n",
    "                                'capacity_id' : capacity_id_dvlm\n",
    "                            },\n",
    "                            'code' : {\n",
    "                                'name' : FrameworkName + ' CODE (D) FMD', # Name of target data workspace for development\n",
    "                                'roles' : workspace_roles,\n",
    "                                'capacity_id' : capacity_id_dvlm\n",
    "                            }\n",
    "                        },\n",
    "                        'connections' : {\n",
    "                            'CON_FMD_FABRIC_SQL' : '372237f9-709a-48f8-8fb2-ce06940c990e', # Required Guid to the Fabric SQL connection\n",
    "                            'CON_FMD_FABRIC_PIPELINES' : '6d8146c6-a438-47df-94e2-540c552eb6d7', # Required Guid to the Fabric datapipelines connection\n",
    "                            'CON_FMD_ASQL_01' : 'cf673e6a-13f6-4ebb-9cbb-4ba4ab390818', # Optional Guid to an Azure SQL database connection\n",
    "                            'CON_FMD_ASQL_02' : '11a8e5fe-fbca-4822-9ba4-9162cf56e6dd', # Optional Guid to an second Azure SQL database connection\n",
    "                            'CON_FMD_ADLS_01' : 'a0581b6e-5e38-46eb-bab2-7f08e9a35c30', # Optional Guid to an Azure SQL Datalake storage connection\n",
    "                            'CON_FMD_ADF_PIPELINES' : 'e93f565a-e2bc-4b60-900e-1907e825e37c' # Optional Guid to an Azure Datafactory connection\n",
    "                        }\n",
    "                    },\n",
    "                    {\n",
    "                        'environment_name' : 'production', # Name of target environment\n",
    "                        'workspaces': {\n",
    "                            'data' : {\n",
    "                                'name' : FrameworkName + ' DATA (P) FMD',\n",
    "                                'roles' : workspace_roles,\n",
    "                                'capacity_id' : capacity_id_prod\n",
    "                            },\n",
    "                            'code' : {\n",
    "                                'name' : FrameworkName + ' CODE (P) FMD',\n",
    "                                'roles' : workspace_roles,\n",
    "                                'capacity_id' : capacity_id_prod\n",
    "                            }\n",
    "                        },\n",
    "                        'connections' : {\n",
    "                            'CON_FMD_FABRIC_SQL' : '372237f9-709a-48f8-8fb2-ce06940c990e',\n",
    "                            'CON_FMD_FABRIC_PIPELINES' : '6d8146c6-a438-47df-94e2-540c552eb6d7',\n",
    "                            'CON_FMD_ASQL_01' : 'cf673e6a-13f6-4ebb-9cbb-4ba4ab390818',\n",
    "                            'CON_FMD_ASQL_02' : '11a8e5fe-fbca-4822-9ba4-9162cf56e6dd',\n",
    "                            'CON_FMD_ADLS_01' : 'a0581b6e-5e38-46eb-bab2-7f08e9a35c30',\n",
    "                            'CON_FMD_ADF_PIPELINES' : 'e93f565a-e2bc-4b60-900e-1907e825e37c'\n",
    "                        }\n",
    "                    }\n",
    "                ]\n",
    "\n"
   ]
  },
  {
   "cell_type": "markdown",
   "id": "bf68a409-68e4-4a24-9355-f41876ef24e2",
   "metadata": {
    "microsoft": {
     "language": "python",
     "language_group": "synapse_pyspark"
    },
    "nteract": {
     "transient": {
      "deleting": false
     }
    }
   },
   "source": [
    "## Import Libraries"
   ]
  },
  {
   "cell_type": "code",
   "execution_count": 415,
   "id": "e8f62905-b62e-47cf-9fad-cdcf7c49d8a2",
   "metadata": {
    "microsoft": {
     "language": "python",
     "language_group": "synapse_pyspark"
    }
   },
   "outputs": [
    {
     "data": {
      "application/vnd.livy.statement-meta+json": {
       "execution_finish_time": "2025-03-12T22:01:55.3611583Z",
       "execution_start_time": "2025-03-12T22:01:54.9654418Z",
       "livy_statement_state": "available",
       "normalized_state": "finished",
       "parent_msg_id": "e405e53d-4d7a-4d8a-8eb7-5b6b53744fbf",
       "queued_time": "2025-03-12T22:01:54.8459147Z",
       "session_id": "95e50a05-94ce-4a80-b142-46099c8476e7",
       "session_start_time": null,
       "spark_pool": null,
       "state": "finished",
       "statement_id": 111,
       "statement_ids": [
        111
       ]
      },
      "text/plain": [
       "StatementMeta(, 95e50a05-94ce-4a80-b142-46099c8476e7, 111, Finished, Available, Finished)"
      ]
     },
     "metadata": {},
     "output_type": "display_data"
    }
   ],
   "source": [
    "from json import loads, dumps\n",
    "import json\n",
    "import requests\n",
    "import base64\n",
    "import time\n",
    "import uuid\n",
    "import struct\n",
    "import pyodbc\n",
    "\n",
    "from typing import Callable, List, Dict, Optional, Any\n",
    "from datetime import datetime\n",
    "from time import sleep, time\n",
    "from dataclasses import dataclass, field"
   ]
  },
  {
   "cell_type": "markdown",
   "id": "f941e470-f4eb-4291-ad87-af33e80d963e",
   "metadata": {
    "microsoft": {
     "language": "python",
     "language_group": "synapse_pyspark"
    },
    "nteract": {
     "transient": {
      "deleting": false
     }
    }
   },
   "source": [
    "## Download Configuration File from Github or upload the file manually \n",
    "\n",
    "**Manually**: upload to Files/deployment/FMD_deployment.json"
   ]
  },
  {
   "cell_type": "code",
   "execution_count": 416,
   "id": "c32b87d2-d650-4535-b911-e6a44656f2d6",
   "metadata": {
    "microsoft": {
     "language": "python",
     "language_group": "synapse_pyspark"
    }
   },
   "outputs": [
    {
     "data": {
      "application/vnd.livy.statement-meta+json": {
       "execution_finish_time": "2025-03-12T22:01:55.7096292Z",
       "execution_start_time": "2025-03-12T22:01:55.3842856Z",
       "livy_statement_state": "available",
       "normalized_state": "finished",
       "parent_msg_id": "1052d7af-8af1-4345-9870-299854bced9a",
       "queued_time": "2025-03-12T22:01:55.3827628Z",
       "session_id": "95e50a05-94ce-4a80-b142-46099c8476e7",
       "session_start_time": null,
       "spark_pool": null,
       "state": "finished",
       "statement_id": 112,
       "statement_ids": [
        112
       ]
      },
      "text/plain": [
       "StatementMeta(, 95e50a05-94ce-4a80-b142-46099c8476e7, 112, Finished, Available, Finished)"
      ]
     },
     "metadata": {},
     "output_type": "display_data"
    },
    {
     "name": "stdout",
     "output_type": "stream",
     "text": [
      "Read from FMD_FRAMEWORK LOCAL\n"
     ]
    }
   ],
   "source": [
    "# Open deployment json file\n",
    "deployment_manifest = {}\n",
    "if deploy_from_github:\n",
    "    print(\"Downloading from Github to FMD_FRAMEWORK\")\n",
    "    url = 'https://raw.githubusercontent.com/edkreuk/FMD_FRAMEWORK/main/FMD_deployment.json'\n",
    "    github_download = requests.get(url)\n",
    "    folder_path = notebookutils.fs.getMountPath('/default') + \"/Files/deployment/\"\n",
    "    notebookutils.fs.mkdirs(f\"file://\" +folder_path)\n",
    "    with open(folder_path + \"FMD_deployment.json\", \"w\") as f:\n",
    "        f.write(json.dumps(github_download.json()))\n",
    "    \n",
    "\n",
    "    print(\"Read from FMD_FRAMEWORK Github\")\n",
    "\n",
    "\n",
    "# Read deployment manifest\n",
    "\n",
    "with open(f\"{notebookutils.fs.getMountPath('/default')}/Files/deployment/FMD_deployment.json\") as f:\n",
    "    deployment_manifest = json.load(f)\n",
    "    print(\"Read from FMD_FRAMEWORK LOCAL\")\n"
   ]
  },
  {
   "cell_type": "markdown",
   "id": "8e3a6a94-f6cf-47a7-861e-899c37fbaaa1",
   "metadata": {
    "microsoft": {
     "language": "python",
     "language_group": "synapse_pyspark"
    },
    "nteract": {
     "transient": {
      "deleting": false
     }
    }
   },
   "source": [
    "## Load deployment functions"
   ]
  },
  {
   "cell_type": "code",
   "execution_count": 417,
   "id": "4d77bb62-d0e3-4601-8742-f37f7cc2195f",
   "metadata": {
    "jupyter": {
     "outputs_hidden": false,
     "source_hidden": false
    },
    "microsoft": {
     "language": "python",
     "language_group": "synapse_pyspark"
    },
    "nteract": {
     "transient": {
      "deleting": false
     }
    }
   },
   "outputs": [
    {
     "data": {
      "application/vnd.livy.statement-meta+json": {
       "execution_finish_time": "2025-03-12T22:01:58.1453864Z",
       "execution_start_time": "2025-03-12T22:01:58.0879024Z",
       "livy_statement_state": "available",
       "normalized_state": "finished",
       "parent_msg_id": "52b6ec7a-1af4-4555-a6e5-ec30d557d419",
       "queued_time": "2025-03-12T22:01:56.4854297Z",
       "session_id": "95e50a05-94ce-4a80-b142-46099c8476e7",
       "session_start_time": null,
       "spark_pool": null,
       "state": "finished",
       "statement_id": 116,
       "statement_ids": [
        113,
        114,
        115,
        116
       ]
      },
      "text/plain": [
       "StatementMeta(, 95e50a05-94ce-4a80-b142-46099c8476e7, 116, Finished, Available, Finished)"
      ]
     },
     "metadata": {},
     "output_type": "display_data"
    }
   ],
   "source": [
    "%run NB_FMD_DEPLOYMENT_UTILS"
   ]
  },
  {
   "cell_type": "code",
   "execution_count": 418,
   "id": "31372683-48cc-427e-abea-8defcfaf8b27",
   "metadata": {
    "jupyter": {
     "outputs_hidden": false,
     "source_hidden": false
    },
    "microsoft": {
     "language": "python",
     "language_group": "synapse_pyspark"
    },
    "nteract": {
     "transient": {
      "deleting": false
     }
    }
   },
   "outputs": [
    {
     "data": {
      "application/vnd.livy.statement-meta+json": {
       "execution_finish_time": "2025-03-12T22:01:58.5798679Z",
       "execution_start_time": "2025-03-12T22:01:58.1478082Z",
       "livy_statement_state": "available",
       "normalized_state": "finished",
       "parent_msg_id": "013b3a7d-862e-4570-8844-c95d920a2822",
       "queued_time": "2025-03-12T22:01:57.441979Z",
       "session_id": "95e50a05-94ce-4a80-b142-46099c8476e7",
       "session_start_time": null,
       "spark_pool": null,
       "state": "finished",
       "statement_id": 117,
       "statement_ids": [
        117
       ]
      },
      "text/plain": [
       "StatementMeta(, 95e50a05-94ce-4a80-b142-46099c8476e7, 117, Finished, Available, Finished)"
      ]
     },
     "metadata": {},
     "output_type": "display_data"
    }
   ],
   "source": [
    "tasks=[]"
   ]
  },
  {
   "cell_type": "code",
   "execution_count": 419,
   "id": "4f177a49-b384-4d07-9895-423060188b64",
   "metadata": {
    "jupyter": {
     "outputs_hidden": false,
     "source_hidden": false
    },
    "microsoft": {
     "language": "python",
     "language_group": "synapse_pyspark"
    },
    "nteract": {
     "transient": {
      "deleting": false
     }
    }
   },
   "outputs": [
    {
     "data": {
      "application/vnd.livy.statement-meta+json": {
       "execution_finish_time": "2025-03-12T22:01:58.941688Z",
       "execution_start_time": "2025-03-12T22:01:58.582413Z",
       "livy_statement_state": "available",
       "normalized_state": "finished",
       "parent_msg_id": "8b726d83-863f-4538-9e18-7d9320b46712",
       "queued_time": "2025-03-12T22:01:58.1683122Z",
       "session_id": "95e50a05-94ce-4a80-b142-46099c8476e7",
       "session_start_time": null,
       "spark_pool": null,
       "state": "finished",
       "statement_id": 118,
       "statement_ids": [
        118
       ]
      },
      "text/plain": [
       "StatementMeta(, 95e50a05-94ce-4a80-b142-46099c8476e7, 118, Finished, Available, Finished)"
      ]
     },
     "metadata": {},
     "output_type": "display_data"
    }
   ],
   "source": [
    "fmd_api_access_token =  notebookutils.credentials.getToken('https://analysis.windows.net/powerbi/api')\n",
    "fabric_session = create_fabric_session(fabric_token = fmd_api_access_token)"
   ]
  },
  {
   "cell_type": "code",
   "execution_count": 420,
   "id": "15902111-9dbf-4c18-bb00-496f36e98f82",
   "metadata": {
    "microsoft": {
     "language": "python",
     "language_group": "synapse_pyspark"
    }
   },
   "outputs": [
    {
     "data": {
      "application/vnd.livy.statement-meta+json": {
       "execution_finish_time": "2025-03-12T22:01:59.2724575Z",
       "execution_start_time": "2025-03-12T22:01:58.9440333Z",
       "livy_statement_state": "available",
       "normalized_state": "finished",
       "parent_msg_id": "eb038535-4a0b-40bb-9efb-2cfd12fcdda9",
       "queued_time": "2025-03-12T22:01:58.3699578Z",
       "session_id": "95e50a05-94ce-4a80-b142-46099c8476e7",
       "session_start_time": null,
       "spark_pool": null,
       "state": "finished",
       "statement_id": 119,
       "statement_ids": [
        119
       ]
      },
      "text/plain": [
       "StatementMeta(, 95e50a05-94ce-4a80-b142-46099c8476e7, 119, Finished, Available, Finished)"
      ]
     },
     "metadata": {},
     "output_type": "display_data"
    },
    {
     "name": "stdout",
     "output_type": "stream",
     "text": [
      "token c183ff6a-8ca1-4185-9378-af980978377c will expire in 24.0 minutes at\t2025-03-12 22:26:43 UTC\n",
      "Current time:\t\t\t\t\t\t\t\t\t2025-03-12 22:01:59 UTC\n"
     ]
    }
   ],
   "source": [
    "# check if token is valid\n",
    "for token in [fmd_api_access_token]:\n",
    "    if not token:\n",
    "        continue\n",
    "    header, payload, signature = token.split('.')\n",
    "    payload += '=' * (-len(payload) % 4)  # Add padding\n",
    "    token_dict = loads(base64.urlsafe_b64decode(payload))\n",
    "    directory_id = token_dict.get(\"tid\")\n",
    "    timest = token_dict.get(\"exp\")\n",
    "    expiry = (datetime.fromtimestamp(timest) - datetime.now()).total_seconds() // 60\n",
    "    expiry_str = str(expiry) if expiry < 5 else str(expiry)\n",
    "    print(F\"token {directory_id} will expire in {expiry_str} minutes at\\t{datetime.fromtimestamp(timest)} UTC\")\n",
    "print(F\"Current time:\\t\\t\\t\\t\\t\\t\\t\\t\\t{datetime.now().replace(microsecond=0)} UTC\")"
   ]
  },
  {
   "cell_type": "markdown",
   "id": "14d6b18c-24af-4aea-91e4-eda1ca69dadd",
   "metadata": {
    "microsoft": {
     "language": "python",
     "language_group": "synapse_pyspark"
    },
    "nteract": {
     "transient": {
      "deleting": false
     }
    }
   },
   "source": [
    "## Start Deployment"
   ]
  },
  {
   "cell_type": "code",
   "execution_count": 421,
   "id": "5d0a2af2-bfd3-4f3a-80e1-6f7e36bd23b3",
   "metadata": {
    "microsoft": {
     "language": "python",
     "language_group": "synapse_pyspark"
    }
   },
   "outputs": [
    {
     "data": {
      "application/vnd.livy.statement-meta+json": {
       "execution_finish_time": "2025-03-12T22:02:24.4039285Z",
       "execution_start_time": "2025-03-12T22:01:59.2751801Z",
       "livy_statement_state": "available",
       "normalized_state": "finished",
       "parent_msg_id": "32098d96-a9cf-4173-a6ca-4e04e3fb76c4",
       "queued_time": "2025-03-12T22:01:59.1050488Z",
       "session_id": "95e50a05-94ce-4a80-b142-46099c8476e7",
       "session_start_time": null,
       "spark_pool": null,
       "state": "finished",
       "statement_id": 120,
       "statement_ids": [
        120
       ]
      },
      "text/plain": [
       "StatementMeta(, 95e50a05-94ce-4a80-b142-46099c8476e7, 120, Finished, Available, Finished)"
      ]
     },
     "metadata": {},
     "output_type": "display_data"
    },
    {
     "name": "stdout",
     "output_type": "stream",
     "text": [
      "--------------------------\n",
      "Processing: development\n",
      " -----\n",
      " - Processing: data workspace development\n",
      " - Workspace 'DEMO1 DATA (D) FMD' found. Workspace ID: 556754dc-f7eb-4ddf-9bf8-a2c4fa252c94\n",
      "Capacity found (560C908C-072A-478C-939C-CFC4398D2FDB)\n",
      "Capacity (560C908C-072A-478C-939C-CFC4398D2FDB) assigning to workspace (556754dc-f7eb-4ddf-9bf8-a2c4fa252c94)\n",
      "Request accepted: Dont Wait for result\n",
      " - Workspace 'DEMO1 DATA (D) FMD' created with ID: 556754dc-f7eb-4ddf-9bf8-a2c4fa252c94 and capacity_id: 560C908C-072A-478C-939C-CFC4398D2FDB\n",
      " - Assiging Workspace roles\n",
      "Skipping: sg-fabric-contributor for 556754dc-f7eb-4ddf-9bf8-a2c4fa252c94\n",
      "Skipping: sg-fabric-admin for 556754dc-f7eb-4ddf-9bf8-a2c4fa252c94\n",
      " -----\n",
      " - Processing: data workspace development\n",
      " - Workspace 'DEMO1 CODE (D) FMD' found. Workspace ID: 208c0835-9575-4b05-b170-5640973088e7\n",
      "Capacity found (560C908C-072A-478C-939C-CFC4398D2FDB)\n",
      "Capacity (560C908C-072A-478C-939C-CFC4398D2FDB) assigning to workspace (208c0835-9575-4b05-b170-5640973088e7)\n",
      "Request accepted: Dont Wait for result\n",
      " - Workspace 'DEMO1 CODE (D) FMD' created with ID: 208c0835-9575-4b05-b170-5640973088e7 and capacity_id: 560C908C-072A-478C-939C-CFC4398D2FDB\n",
      " - Assiging Workspace roles\n",
      "Skipping: sg-fabric-contributor for 208c0835-9575-4b05-b170-5640973088e7\n",
      "Skipping: sg-fabric-admin for 208c0835-9575-4b05-b170-5640973088e7\n",
      " -----\n",
      " - Processing: data workspace development\n",
      " - Workspace 'DEMO1 CONFIG FMD' found. Workspace ID: 75c9bcc7-e074-4ca7-9a7e-76eacc2c94ea\n",
      "Capacity found (2BDC6A16-1EE7-4BAD-9127-5EF6BEB00E84)\n",
      "Capacity (2BDC6A16-1EE7-4BAD-9127-5EF6BEB00E84) assigning to workspace (75c9bcc7-e074-4ca7-9a7e-76eacc2c94ea)\n",
      "Request accepted: Dont Wait for result\n",
      " - Workspace 'DEMO1 CONFIG FMD' created with ID: 75c9bcc7-e074-4ca7-9a7e-76eacc2c94ea and capacity_id: 2BDC6A16-1EE7-4BAD-9127-5EF6BEB00E84\n",
      " - Assiging Workspace roles\n",
      "Skipping: sg-fabric-contributor for 75c9bcc7-e074-4ca7-9a7e-76eacc2c94ea\n",
      "Skipping: sg-fabric-admin for 75c9bcc7-e074-4ca7-9a7e-76eacc2c94ea\n",
      " -----\n",
      " - Processing: data workspace development\n",
      " - Workspace 'DEMO1 LOG FMD' found. Workspace ID: 6f4b7a28-18c6-4b18-988f-ad7cd273a9d0\n",
      "Capacity found (560C908C-072A-478C-939C-CFC4398D2FDB)\n",
      "Capacity (560C908C-072A-478C-939C-CFC4398D2FDB) assigning to workspace (6f4b7a28-18c6-4b18-988f-ad7cd273a9d0)\n",
      "Request accepted: Dont Wait for result\n",
      " - Workspace 'DEMO1 LOG FMD' created with ID: 6f4b7a28-18c6-4b18-988f-ad7cd273a9d0 and capacity_id: 560C908C-072A-478C-939C-CFC4398D2FDB\n",
      " - Assiging Workspace roles\n",
      "Skipping: sg-fabric-contributor for 6f4b7a28-18c6-4b18-988f-ad7cd273a9d0\n",
      "Skipping: sg-fabric-admin for 6f4b7a28-18c6-4b18-988f-ad7cd273a9d0\n",
      "--------------------------\n",
      "Workspace ID for data workspace development: 556754dc-f7eb-4ddf-9bf8-a2c4fa252c94\n",
      "Workspace ID for code workspace development: 208c0835-9575-4b05-b170-5640973088e7\n",
      "Workspace ID for config workspace: 75c9bcc7-e074-4ca7-9a7e-76eacc2c94ea\n",
      "Workspace ID for logging workspace: 6f4b7a28-18c6-4b18-988f-ad7cd273a9d0\n",
      "--------------------------\n",
      "Processing: production\n",
      " -----\n",
      " - Processing: data workspace production\n",
      " - Workspace 'DEMO1 DATA (P) FMD' found. Workspace ID: 254a1222-703f-46e2-adb3-ac40a67421ec\n",
      "Capacity found (560C908C-072A-478C-939C-CFC4398D2FDB)\n",
      "Capacity (560C908C-072A-478C-939C-CFC4398D2FDB) assigning to workspace (254a1222-703f-46e2-adb3-ac40a67421ec)\n",
      "Request accepted: Dont Wait for result\n",
      " - Workspace 'DEMO1 DATA (P) FMD' created with ID: 254a1222-703f-46e2-adb3-ac40a67421ec and capacity_id: 560C908C-072A-478C-939C-CFC4398D2FDB\n",
      " - Assiging Workspace roles\n",
      "Skipping: sg-fabric-contributor for 254a1222-703f-46e2-adb3-ac40a67421ec\n",
      "Skipping: sg-fabric-admin for 254a1222-703f-46e2-adb3-ac40a67421ec\n",
      " -----\n",
      " - Processing: data workspace production\n",
      " - Workspace 'DEMO1 CODE (P) FMD' found. Workspace ID: e71cb5df-b718-4cb3-8cb6-07abddb65f38\n",
      "Capacity found (560C908C-072A-478C-939C-CFC4398D2FDB)\n",
      "Capacity (560C908C-072A-478C-939C-CFC4398D2FDB) assigning to workspace (e71cb5df-b718-4cb3-8cb6-07abddb65f38)\n",
      "Request accepted: Dont Wait for result\n",
      " - Workspace 'DEMO1 CODE (P) FMD' created with ID: e71cb5df-b718-4cb3-8cb6-07abddb65f38 and capacity_id: 560C908C-072A-478C-939C-CFC4398D2FDB\n",
      " - Assiging Workspace roles\n",
      "Skipping: sg-fabric-contributor for e71cb5df-b718-4cb3-8cb6-07abddb65f38\n",
      "Skipping: sg-fabric-admin for e71cb5df-b718-4cb3-8cb6-07abddb65f38\n",
      " -----\n",
      " - Processing: data workspace production\n",
      " - Workspace 'DEMO1 CONFIG FMD' found. Workspace ID: 75c9bcc7-e074-4ca7-9a7e-76eacc2c94ea\n",
      "Capacity found (2BDC6A16-1EE7-4BAD-9127-5EF6BEB00E84)\n",
      "Capacity (2BDC6A16-1EE7-4BAD-9127-5EF6BEB00E84) assigning to workspace (75c9bcc7-e074-4ca7-9a7e-76eacc2c94ea)\n",
      "Request accepted: Dont Wait for result\n",
      " - Workspace 'DEMO1 CONFIG FMD' created with ID: 75c9bcc7-e074-4ca7-9a7e-76eacc2c94ea and capacity_id: 2BDC6A16-1EE7-4BAD-9127-5EF6BEB00E84\n",
      " - Assiging Workspace roles\n",
      "Skipping: sg-fabric-contributor for 75c9bcc7-e074-4ca7-9a7e-76eacc2c94ea\n",
      "Skipping: sg-fabric-admin for 75c9bcc7-e074-4ca7-9a7e-76eacc2c94ea\n",
      " -----\n",
      " - Processing: data workspace production\n",
      " - Workspace 'DEMO1 LOG FMD' found. Workspace ID: 6f4b7a28-18c6-4b18-988f-ad7cd273a9d0\n",
      "Capacity found (560C908C-072A-478C-939C-CFC4398D2FDB)\n",
      "Capacity (560C908C-072A-478C-939C-CFC4398D2FDB) assigning to workspace (6f4b7a28-18c6-4b18-988f-ad7cd273a9d0)\n",
      "Request accepted: Dont Wait for result\n",
      " - Workspace 'DEMO1 LOG FMD' created with ID: 6f4b7a28-18c6-4b18-988f-ad7cd273a9d0 and capacity_id: 560C908C-072A-478C-939C-CFC4398D2FDB\n",
      " - Assiging Workspace roles\n",
      "Skipping: sg-fabric-contributor for 6f4b7a28-18c6-4b18-988f-ad7cd273a9d0\n",
      "Skipping: sg-fabric-admin for 6f4b7a28-18c6-4b18-988f-ad7cd273a9d0\n",
      "--------------------------\n",
      "Workspace ID for data workspace production: 254a1222-703f-46e2-adb3-ac40a67421ec\n",
      "Workspace ID for code workspace production: e71cb5df-b718-4cb3-8cb6-07abddb65f38\n",
      "Workspace ID for config workspace: 75c9bcc7-e074-4ca7-9a7e-76eacc2c94ea\n",
      "Workspace ID for logging workspace: 6f4b7a28-18c6-4b18-988f-ad7cd273a9d0\n"
     ]
    }
   ],
   "source": [
    "# Create necessary workspaces \n",
    "start = time()\n",
    "\n",
    "for environment in environments:\n",
    "\n",
    "    print(f\"--------------------------\")\n",
    "    print(f\"Processing: {environment['environment_name']}\")\n",
    "    \n",
    "    # Loop through the workspace names and get their IDs\n",
    "    \n",
    "    for workspace in [environment['workspaces']['data'], environment['workspaces']['code'], configuration['workspace'], logging['workspace']]:\n",
    "        \n",
    "        print(f\" -----\")\n",
    "        print(f\" - Processing: data workspace {environment['environment_name']}\")\n",
    "        \n",
    "        # List all workspaces\n",
    "        workspaces_current = get_fabric_workspaces(fabric_session)        \n",
    "        \n",
    "        # Check if the displayName exists in the workspaces\n",
    "        matching_workspaces = [workspace_current for workspace_current in workspaces_current.get('value') if workspace_current['displayName'] == workspace['name']]\n",
    "        \n",
    "        if matching_workspaces:\n",
    "            print(f\" - Workspace '{workspace['name']}' found. Workspace ID: {matching_workspaces[0]['id']}\")\n",
    "            workspace['id'] = matching_workspaces[0]['id']\n",
    "        else:\n",
    "            print(f\" - Workspace '{workspace['name']}' not found. Creating new workspace...\")\n",
    "            workspace_created = fabric_request(fabric_session, F\"workspaces/\", 'POST', payload={\"displayName\": workspace['name']}, payloadtype='json')\n",
    "            workspace['id'] = workspace_created['id']\n",
    "            tasks.append({\"task_name\":f\"create item {workspace['name']} initially\", \"task_duration\": int(time() - start), \"status\": \"success\"})\n",
    "        \n",
    "        assign_fabric_workspace_capacity(fabric_session, workspace['id'], workspace['capacity_id'])\n",
    "        tasks.append({\"task_name\":f\"Workspace '{workspace['name']}' connected to capacity ID: {workspace['capacity_id']}\", \"task_duration\": int(time() - start), \"status\": \"success\"})\n",
    "        print(f\" - Workspace '{workspace['name']}' created with ID: {workspace['id']} and capacity_id: {workspace['capacity_id']}\")\n",
    "\n",
    "        # Check if roles exists or create them\n",
    "        print(f\" - Assiging Workspace roles\")\n",
    "        assign_fabric_workspace_roles(fabric_session, workspace['id'], workspace['roles'])\n",
    "\n",
    "    # Print the workspace IDs\n",
    "    print(f\"--------------------------\")\n",
    "    print(f\"Workspace ID for data workspace {environment['environment_name']}: {environment['workspaces']['data']['id']}\")\n",
    "    print(f\"Workspace ID for code workspace {environment['environment_name']}: {environment['workspaces']['code']['id']}\")\n",
    "    print(f\"Workspace ID for config workspace: {configuration['workspace']['id']}\")\n",
    "    print(f\"Workspace ID for logging workspace: {logging['workspace']['id']}\")\n"
   ]
  },
  {
   "cell_type": "code",
   "execution_count": 422,
   "id": "01a07a3d-9c14-4731-bd17-6022aaa9451c",
   "metadata": {
    "microsoft": {
     "language": "python",
     "language_group": "synapse_pyspark"
    }
   },
   "outputs": [
    {
     "data": {
      "application/vnd.livy.statement-meta+json": {
       "execution_finish_time": "2025-03-12T22:02:24.7391655Z",
       "execution_start_time": "2025-03-12T22:02:24.4067353Z",
       "livy_statement_state": "available",
       "normalized_state": "finished",
       "parent_msg_id": "1889dde3-d521-4af2-b371-1fb5167ecfe2",
       "queued_time": "2025-03-12T22:02:00.5385226Z",
       "session_id": "95e50a05-94ce-4a80-b142-46099c8476e7",
       "session_start_time": null,
       "spark_pool": null,
       "state": "finished",
       "statement_id": 121,
       "statement_ids": [
        121
       ]
      },
      "text/plain": [
       "StatementMeta(, 95e50a05-94ce-4a80-b142-46099c8476e7, 121, Finished, Available, Finished)"
      ]
     },
     "metadata": {},
     "output_type": "display_data"
    }
   ],
   "source": [
    "# re-map databases\n",
    "\n",
    "for target_item in deployment_manifest['logging']['items']:\n",
    "    if target_item['type'] in ('Warehouse', 'SQLEndpoint'):\n",
    "        target_item['displayName'] = logging['WarehouseName']\n",
    "\n",
    "for target_item in deployment_manifest['configuration']['items']:\n",
    "    if target_item['type'] in ('SQLDatabase','SQLEndpoint'):\n",
    "        target_item['displayName'] = configuration['DatabaseName']\n"
   ]
  },
  {
   "cell_type": "code",
   "execution_count": 423,
   "id": "d9c1089c-80b1-4e49-90ae-2e7cfe4b116d",
   "metadata": {
    "microsoft": {
     "language": "python",
     "language_group": "synapse_pyspark"
    }
   },
   "outputs": [
    {
     "data": {
      "application/vnd.livy.statement-meta+json": {
       "execution_finish_time": "2025-03-12T22:02:25.1054811Z",
       "execution_start_time": "2025-03-12T22:02:24.7419081Z",
       "livy_statement_state": "available",
       "normalized_state": "finished",
       "parent_msg_id": "51a26605-3643-4d02-a875-6ea65e03f78d",
       "queued_time": "2025-03-12T22:02:01.3456822Z",
       "session_id": "95e50a05-94ce-4a80-b142-46099c8476e7",
       "session_start_time": null,
       "spark_pool": null,
       "state": "finished",
       "statement_id": 122,
       "statement_ids": [
        122
       ]
      },
      "text/plain": [
       "StatementMeta(, 95e50a05-94ce-4a80-b142-46099c8476e7, 122, Finished, Available, Finished)"
      ]
     },
     "metadata": {},
     "output_type": "display_data"
    }
   ],
   "source": [
    "def workspace_deployment(workspace_deployment_config, workspace_deployment_items, replace_collection, empty = True):\n",
    "    print(f\" --------------------------\")\n",
    "    print(f\" Processing code workspace {workspace_deployment_config['name']}\")\n",
    "    \n",
    "    target_items = get_fabric_items(fabric_session, workspace_deployment_config['id'])\n",
    "\n",
    "    for deployment_item in workspace_deployment_items:\n",
    "        for target_item in target_items['value']:\n",
    "            if target_item['displayName'] == deployment_item['displayName'] \\\n",
    "                    and target_item['type'] == deployment_item['type']:\n",
    "                print(f\" - Skip existing: {deployment_item['displayName']}, {deployment_item['type']}, {target_item['id']}\")\n",
    "                break\n",
    "        else:\n",
    "            #if deployment_item['type'] == 'SQLDatabase':\n",
    "            #    raise Exception(f\"Please create manually the SQL database {deployment_item['displayName']} in the configuration workspace {configuration['workspace']['name']} and re-run this code.\")  \n",
    "                # skip because sqldatabase isn't supported yet\n",
    "            \n",
    "            print(f\" - Creating: {deployment_item['displayName']} {deployment_item['type']}\")\n",
    "            item = deployment_item.copy()\n",
    "            \n",
    "            if empty:\n",
    "                if item.get('definition'):\n",
    "                    print(f\" - Dropping definition\")\n",
    "                    item.pop('definition')\n",
    "\n",
    "            target_item = fabric_request(fabric_session, url=f\"workspaces/{workspace_deployment_config['id']}/items/\", method=\"POST\", payload=item, payloadtype='json')\n",
    "\n",
    "        deployment_item[\"new_id\"] = target_item['id']\n",
    "\n",
    "        if deployment_item['type'] in ('Warehouse', 'SQLDatabase'):\n",
    "            if deployment_item.get('org_endpoint', '') != '':\n",
    "                return_item = fabric_request(fabric_session, url=f\"workspaces/{workspace_deployment_config['id']}/{deployment_item['type']}s/{target_item['id']}\", method=\"GET\")\n",
    "                if deployment_item['type'] in ('Warehouse'):\n",
    "                    if return_item.get(\"properties\", {}).get(\"connectionString\", \"\") != '':\n",
    "                        deployment_item[\"connectionString\"] = return_item[\"properties\"][\"connectionString\"]\n",
    "                        replace_collection.append({\"old_id\": deployment_item[\"org_endpoint\"], \"new_id\": deployment_item[\"connectionString\"]})\n",
    "                \n",
    "                if deployment_item['type'] in ('SQLDatabase'):\n",
    "                    if return_item.get(\"properties\", {}).get(\"serverFqdn\", \"\") != '':\n",
    "                        deployment_item[\"connectionString\"] = return_item[\"properties\"][\"serverFqdn\"].replace(',1433', '')\n",
    "                        replace_collection.append({\"old_id\": deployment_item[\"org_endpoint\"], \"new_id\": deployment_item[\"connectionString\"]})\n",
    "                    if return_item.get(\"properties\", {}).get(\"databaseName\", \"\") != '':\n",
    "                        deployment_item[\"databaseName\"] = return_item[\"properties\"][\"databaseName\"]\n",
    "\n",
    "        replace_collection.append({\"old_id\": deployment_item[\"org_id\"], \"new_id\": deployment_item[\"new_id\"]})"
   ]
  },
  {
   "cell_type": "code",
   "execution_count": 424,
   "id": "2b4a984e-a9da-4adb-b2de-1dc9feb5172e",
   "metadata": {
    "microsoft": {
     "language": "python",
     "language_group": "synapse_pyspark"
    }
   },
   "outputs": [
    {
     "data": {
      "application/vnd.livy.statement-meta+json": {
       "execution_finish_time": "2025-03-12T22:02:25.9831487Z",
       "execution_start_time": "2025-03-12T22:02:25.1078564Z",
       "livy_statement_state": "available",
       "normalized_state": "finished",
       "parent_msg_id": "d6f6d612-b2b6-4ebb-81bc-3e5b8c8e2b97",
       "queued_time": "2025-03-12T22:02:01.6973509Z",
       "session_id": "95e50a05-94ce-4a80-b142-46099c8476e7",
       "session_start_time": null,
       "spark_pool": null,
       "state": "finished",
       "statement_id": 123,
       "statement_ids": [
        123
       ]
      },
      "text/plain": [
       "StatementMeta(, 95e50a05-94ce-4a80-b142-46099c8476e7, 123, Finished, Available, Finished)"
      ]
     },
     "metadata": {},
     "output_type": "display_data"
    },
    {
     "name": "stdout",
     "output_type": "stream",
     "text": [
      "--------------------------\n",
      "Processing: development\n",
      " --------------------------\n",
      " Processing code workspace DEMO1 CODE (D) FMD\n",
      " - Skip existing: ENV_FMD, Environment, de1751e0-043c-4a2e-9fdc-6e62df0003d8\n",
      " - Skip existing: NB_FMD_LOAD_BRONZE_SILVER, Notebook, 5f4f6dd8-cf3a-4e9b-bb38-b75f38e75a8c\n",
      " - Skip existing: NB_FMD_LOAD_LANDING_BRONZE, Notebook, 2c4155da-aab8-45ee-b2ca-c3927f2d63d6\n",
      " - Skip existing: PL_FMD_LOAD_LANDINGZONE, DataPipeline, e2249af1-0605-4db6-835c-5fc304d515f7\n",
      " - Skip existing: PL_FMD_LOAD_ALL, DataPipeline, 61d79c1f-5ca6-419d-94de-1b88519e1aee\n",
      " - Skip existing: PL_FMD_LOAD_BRONZE, DataPipeline, c58ef9f9-5ef6-4644-a274-d9b39bb678bc\n",
      " - Skip existing: PL_FMD_LOAD_SILVER, DataPipeline, 7cbe6476-c470-42bd-b34a-191745fb21d4\n",
      " - Skip existing: PL_FMD_LDZ_COPY_FROM_ASQL_01, DataPipeline, bab73525-86ad-40a8-be73-762c38e8f618\n",
      " - Skip existing: PL_FMD_LDZ_COPY_FROM_ONELAKE_TABLES_01, DataPipeline, 712c38ca-e1c9-4c14-a1ba-844459697490\n",
      " - Skip existing: PL_FMD_LDZ_COPY_FROM_ADLS_01, DataPipeline, b449d9b6-295a-4552-9542-a67ebd1859f5\n",
      " - Skip existing: PL_FMD_LDZ_COPY_FROM_ASQL_02, DataPipeline, 9f33b2f7-431c-4bbb-9a4d-f61443168d72\n",
      " - Skip existing: PL_FMD_LDZ_COMMAND_ASQL, DataPipeline, 7adb0642-d4c6-4bec-b46c-14ffdc51acf9\n",
      " - Skip existing: PL_FMD_LDZ_COMMAND_ADLS, DataPipeline, 42369dee-6207-46b0-a7f3-b4811682f17a\n",
      " - Skip existing: PL_FMD_LDZ_COMMAND_ONELAKE, DataPipeline, 010fb69d-df95-49a1-b433-2cb38e5d0ba2\n",
      " - Skip existing: PL_FMD_LDZ_COPY_FROM_ADF, DataPipeline, 58d3ad7d-57e2-4ed1-b7a4-7f21043e6aa3\n",
      " - Skip existing: PL_FMD_LDZ_COMMAND_ADF, DataPipeline, 8a65abf2-de83-491f-bd25-89cf2ba4fa73\n",
      " - Skip existing: NB_FMD_DQ_CLEANSING, Notebook, 3721c8c8-681b-4743-817d-b3d29cb0aaef\n",
      " - Skip existing: PL_TOOLING_POST_ASQL_TO_FMD, DataPipeline, cb12d2e2-7809-45d8-84a9-5b28065b5e48\n",
      " --------------------------\n",
      " Processing code workspace DEMO1 DATA (D) FMD\n",
      " - Skip existing: LH_DATA_LANDINGZONE, Lakehouse, daf9b505-61a8-4fa0-ab16-ae3ee5db0bd8\n",
      " - Skip existing: LH_BRONZE_LAYER, Lakehouse, 367b1765-b0ac-4f08-9d6c-cf72522ed14f\n",
      " - Skip existing: LH_SILVER_LAYER, Lakehouse, 972b0750-d1e5-4d59-b1c0-9bffdc6dd789\n",
      "--------------------------\n",
      "Processing: production\n",
      " --------------------------\n",
      " Processing code workspace DEMO1 CODE (P) FMD\n",
      " - Skip existing: ENV_FMD, Environment, c397beb7-c421-40cb-8cf6-8ae32c77396d\n",
      " - Skip existing: NB_FMD_LOAD_BRONZE_SILVER, Notebook, 3e40ece6-c690-4f65-b094-21400e8a46b7\n",
      " - Skip existing: NB_FMD_LOAD_LANDING_BRONZE, Notebook, b7a88fee-06d5-463c-852c-1bd5e88d7b3e\n",
      " - Skip existing: PL_FMD_LOAD_LANDINGZONE, DataPipeline, 47526a81-2cd4-4075-a831-d195ba301190\n",
      " - Skip existing: PL_FMD_LOAD_ALL, DataPipeline, a62d6d19-3036-465f-ad0b-232b389e0d9d\n",
      " - Skip existing: PL_FMD_LOAD_BRONZE, DataPipeline, 22586fc4-1eab-482b-8fa9-1004de54e53d\n",
      " - Skip existing: PL_FMD_LOAD_SILVER, DataPipeline, e568ccbd-8820-48e7-9c09-89f3f805ffa3\n",
      " - Skip existing: PL_FMD_LDZ_COPY_FROM_ASQL_01, DataPipeline, e59a3a53-2402-42a4-a60e-0d4d19405d8f\n",
      " - Skip existing: PL_FMD_LDZ_COPY_FROM_ONELAKE_TABLES_01, DataPipeline, 63ff9120-7d16-4f37-b7d2-7c9a264007f0\n",
      " - Skip existing: PL_FMD_LDZ_COPY_FROM_ADLS_01, DataPipeline, 6ca1ee79-322b-440c-b5b4-598f8c01a969\n",
      " - Skip existing: PL_FMD_LDZ_COPY_FROM_ASQL_02, DataPipeline, 935b4fab-5b23-46fe-9a99-5db5beb47e83\n",
      " - Skip existing: PL_FMD_LDZ_COMMAND_ASQL, DataPipeline, a6c103f5-f5f3-49b6-85ee-b7ef0332a518\n",
      " - Skip existing: PL_FMD_LDZ_COMMAND_ADLS, DataPipeline, ab996df4-3c2f-451d-81b8-b4e991835bee\n",
      " - Skip existing: PL_FMD_LDZ_COMMAND_ONELAKE, DataPipeline, 4dcd8af2-b050-4616-8fca-f4f96a9099b7\n",
      " - Skip existing: PL_FMD_LDZ_COPY_FROM_ADF, DataPipeline, 703f6bac-4e4c-462b-99d9-f3b9c3d527fb\n",
      " - Skip existing: PL_FMD_LDZ_COMMAND_ADF, DataPipeline, 7a0ad13e-bb1e-47e8-85d2-2a6146a54363\n",
      " - Skip existing: NB_FMD_DQ_CLEANSING, Notebook, 442b98b0-4675-49ff-9dc4-56789f61e96d\n",
      " - Skip existing: PL_TOOLING_POST_ASQL_TO_FMD, DataPipeline, f928896f-ac0b-4b61-a2b3-b45de878f9af\n",
      " --------------------------\n",
      " Processing code workspace DEMO1 DATA (P) FMD\n",
      " - Skip existing: LH_DATA_LANDINGZONE, Lakehouse, b06c6404-9533-44af-8571-f92c3925ac91\n",
      " - Skip existing: LH_BRONZE_LAYER, Lakehouse, 037d2f80-e858-4c5b-ae0e-e4419052876d\n",
      " - Skip existing: LH_SILVER_LAYER, Lakehouse, 997f1ceb-d4e9-4b03-8138-349f69f9e647\n"
     ]
    }
   ],
   "source": [
    "# create empty items if not exists\n",
    "    \n",
    "for environment in environments:\n",
    "\n",
    "    print(f\"--------------------------\")\n",
    "    print(f\"Processing: {environment['environment_name']}\")\n",
    "    environment['guids_to_replace'] = []\n",
    "    workspace_deployment(environment['workspaces']['code'], deployment_manifest['items'], environment['guids_to_replace'], True)\n",
    "    environment['guids_to_replace'].append({\"old_id\": deployment_manifest[\"workspaces\"][\"workspace_code\"], \"new_id\": environment['workspaces']['code']['id']})\n",
    "    workspace_deployment(environment['workspaces']['data'], deployment_manifest['data'], environment['guids_to_replace'], True)\n",
    "    environment['guids_to_replace'].append({\"old_id\": deployment_manifest[\"workspaces\"][\"workspace_data\"], \"new_id\": environment['workspaces']['data']['id']})\n",
    "\n"
   ]
  },
  {
   "cell_type": "code",
   "execution_count": 425,
   "id": "8d1e0fcc-2fac-4f98-aeda-067e4538b12a",
   "metadata": {
    "microsoft": {
     "language": "python",
     "language_group": "synapse_pyspark"
    }
   },
   "outputs": [
    {
     "data": {
      "application/vnd.livy.statement-meta+json": {
       "execution_finish_time": "2025-03-12T22:02:26.8642711Z",
       "execution_start_time": "2025-03-12T22:02:25.9857447Z",
       "livy_statement_state": "available",
       "normalized_state": "finished",
       "parent_msg_id": "c3580ebc-1326-4eea-b32b-ffee2856a71a",
       "queued_time": "2025-03-12T22:02:02.1135764Z",
       "session_id": "95e50a05-94ce-4a80-b142-46099c8476e7",
       "session_start_time": null,
       "spark_pool": null,
       "state": "finished",
       "statement_id": 124,
       "statement_ids": [
        124
       ]
      },
      "text/plain": [
       "StatementMeta(, 95e50a05-94ce-4a80-b142-46099c8476e7, 124, Finished, Available, Finished)"
      ]
     },
     "metadata": {},
     "output_type": "display_data"
    },
    {
     "name": "stdout",
     "output_type": "stream",
     "text": [
      " --------------------------\n",
      " Processing code workspace DEMO1 CONFIG FMD\n",
      " - Skip existing: SQL_FMD_FRAMEWORK, SQLDatabase, ab948fad-1fdf-444c-9625-ff76a45ac222\n",
      " - Skip existing: SQL_FMD_FRAMEWORK, SQLEndpoint, ce2b9a35-35b4-42b1-8e05-d9b234e4e492\n"
     ]
    }
   ],
   "source": [
    "def create_fabric_database():\n",
    "    try:\n",
    "        workspace_deployment(configuration['workspace'], deployment_manifest['configuration']['items'], environment['guids_to_replace'], True)\n",
    "        environment['guids_to_replace'].append({\"old_id\": deployment_manifest[\"workspaces\"][\"workspace_config\"], \"new_id\": configuration['workspace']['id']})\n",
    "    except Exception as e:\n",
    "        print(f\"Error: {e}. Retrying in 60 seconds...\")\n",
    "        sleep(60)\n",
    "        create_fabric_database()\n",
    "\n",
    "create_fabric_database()\n",
    "\n",
    "\n"
   ]
  },
  {
   "cell_type": "code",
   "execution_count": 426,
   "id": "edae7d58-c047-4027-b869-051fd3f02d2c",
   "metadata": {
    "microsoft": {
     "language": "python",
     "language_group": "synapse_pyspark"
    }
   },
   "outputs": [
    {
     "data": {
      "application/vnd.livy.statement-meta+json": {
       "execution_finish_time": "2025-03-12T22:02:27.7518611Z",
       "execution_start_time": "2025-03-12T22:02:26.8668255Z",
       "livy_statement_state": "available",
       "normalized_state": "finished",
       "parent_msg_id": "28bb17ff-3546-4c3e-a50a-de46b4ec85ce",
       "queued_time": "2025-03-12T22:02:02.4161017Z",
       "session_id": "95e50a05-94ce-4a80-b142-46099c8476e7",
       "session_start_time": null,
       "spark_pool": null,
       "state": "finished",
       "statement_id": 125,
       "statement_ids": [
        125
       ]
      },
      "text/plain": [
       "StatementMeta(, 95e50a05-94ce-4a80-b142-46099c8476e7, 125, Finished, Available, Finished)"
      ]
     },
     "metadata": {},
     "output_type": "display_data"
    },
    {
     "name": "stdout",
     "output_type": "stream",
     "text": [
      " --------------------------\n",
      " Processing code workspace DEMO1 LOG FMD\n",
      " - Skip existing: WH_LOG, Warehouse, 0b10abba-ba1e-4eb7-b9e6-124fdca49562\n"
     ]
    }
   ],
   "source": [
    "def create_fabric_warehouse():\n",
    "    try:\n",
    "        workspace_deployment(logging['workspace'], deployment_manifest['logging']['items'], environment['guids_to_replace'], True)\n",
    "        environment['guids_to_replace'].append({\"old_id\": deployment_manifest[\"workspaces\"][\"workspace_logging\"], \"new_id\": logging['workspace']['id']})\n",
    "    except Exception as e:\n",
    "        print(f\"Error: {e}. Retrying in 60 seconds...\")\n",
    "        time.sleep(60)\n",
    "        create_fabric_warehouse()\n",
    "\n",
    "create_fabric_warehouse()"
   ]
  },
  {
   "cell_type": "code",
   "execution_count": 427,
   "id": "e81c2ef3-b92f-40fd-8f58-e7baa5a61ab5",
   "metadata": {
    "microsoft": {
     "language": "python",
     "language_group": "synapse_pyspark"
    }
   },
   "outputs": [
    {
     "data": {
      "application/vnd.livy.statement-meta+json": {
       "execution_finish_time": "2025-03-12T22:02:28.1005387Z",
       "execution_start_time": "2025-03-12T22:02:27.7545532Z",
       "livy_statement_state": "available",
       "normalized_state": "finished",
       "parent_msg_id": "87e352d2-71f9-4585-ac31-346a4ef8183e",
       "queued_time": "2025-03-12T22:02:02.6966881Z",
       "session_id": "95e50a05-94ce-4a80-b142-46099c8476e7",
       "session_start_time": null,
       "spark_pool": null,
       "state": "finished",
       "statement_id": 126,
       "statement_ids": [
        126
       ]
      },
      "text/plain": [
       "StatementMeta(, 95e50a05-94ce-4a80-b142-46099c8476e7, 126, Finished, Available, Finished)"
      ]
     },
     "metadata": {},
     "output_type": "display_data"
    }
   ],
   "source": [
    "#print(environment['guids_to_replace'])"
   ]
  },
  {
   "cell_type": "code",
   "execution_count": 428,
   "id": "2a8cf383-606a-4c88-a052-6972e040b898",
   "metadata": {
    "jupyter": {
     "outputs_hidden": false,
     "source_hidden": false
    },
    "microsoft": {
     "language": "python",
     "language_group": "synapse_pyspark"
    },
    "nteract": {
     "transient": {
      "deleting": false
     }
    }
   },
   "outputs": [
    {
     "data": {
      "application/vnd.livy.statement-meta+json": {
       "execution_finish_time": "2025-03-12T22:03:20.443564Z",
       "execution_start_time": "2025-03-12T22:02:28.1031157Z",
       "livy_statement_state": "available",
       "normalized_state": "finished",
       "parent_msg_id": "609c6b14-9c10-444d-81d7-e12965a4c5ff",
       "queued_time": "2025-03-12T22:02:02.9934442Z",
       "session_id": "95e50a05-94ce-4a80-b142-46099c8476e7",
       "session_start_time": null,
       "spark_pool": null,
       "state": "finished",
       "statement_id": 127,
       "statement_ids": [
        127
       ]
      },
      "text/plain": [
       "StatementMeta(, 95e50a05-94ce-4a80-b142-46099c8476e7, 127, Finished, Available, Finished)"
      ]
     },
     "metadata": {},
     "output_type": "display_data"
    },
    {
     "name": "stdout",
     "output_type": "stream",
     "text": [
      "--------------------------\n",
      "Processing: development\n",
      "Deploy ENV_FMD (Environment)\n",
      "Update de1751e0-043c-4a2e-9fdc-6e62df0003d8\n",
      "Deploy NB_FMD_LOAD_BRONZE_SILVER (Notebook)\n",
      "Update 5f4f6dd8-cf3a-4e9b-bb38-b75f38e75a8c\n",
      "Deploy NB_FMD_LOAD_LANDING_BRONZE (Notebook)\n",
      "Update 2c4155da-aab8-45ee-b2ca-c3927f2d63d6\n",
      "Deploy PL_FMD_LOAD_LANDINGZONE (DataPipeline)\n",
      "Update e2249af1-0605-4db6-835c-5fc304d515f7\n",
      "Deploy PL_FMD_LOAD_ALL (DataPipeline)\n",
      "Update 61d79c1f-5ca6-419d-94de-1b88519e1aee\n",
      "Deploy PL_FMD_LOAD_BRONZE (DataPipeline)\n",
      "Update c58ef9f9-5ef6-4644-a274-d9b39bb678bc\n",
      "Deploy PL_FMD_LOAD_SILVER (DataPipeline)\n",
      "Update 7cbe6476-c470-42bd-b34a-191745fb21d4\n",
      "Deploy PL_FMD_LDZ_COPY_FROM_ASQL_01 (DataPipeline)\n",
      "Update bab73525-86ad-40a8-be73-762c38e8f618\n",
      "Deploy PL_FMD_LDZ_COPY_FROM_ONELAKE_TABLES_01 (DataPipeline)\n",
      "Update 712c38ca-e1c9-4c14-a1ba-844459697490\n",
      "Deploy PL_FMD_LDZ_COPY_FROM_ADLS_01 (DataPipeline)\n",
      "Update b449d9b6-295a-4552-9542-a67ebd1859f5\n",
      "Deploy PL_FMD_LDZ_COPY_FROM_ASQL_02 (DataPipeline)\n",
      "Update 9f33b2f7-431c-4bbb-9a4d-f61443168d72\n",
      "Deploy PL_FMD_LDZ_COMMAND_ASQL (DataPipeline)\n",
      "Update 7adb0642-d4c6-4bec-b46c-14ffdc51acf9\n",
      "Deploy PL_FMD_LDZ_COMMAND_ADLS (DataPipeline)\n",
      "Update 42369dee-6207-46b0-a7f3-b4811682f17a\n",
      "Deploy PL_FMD_LDZ_COMMAND_ONELAKE (DataPipeline)\n",
      "Update 010fb69d-df95-49a1-b433-2cb38e5d0ba2\n",
      "Deploy PL_FMD_LDZ_COPY_FROM_ADF (DataPipeline)\n",
      "Update 58d3ad7d-57e2-4ed1-b7a4-7f21043e6aa3\n",
      "Deploy PL_FMD_LDZ_COMMAND_ADF (DataPipeline)\n",
      "Update 8a65abf2-de83-491f-bd25-89cf2ba4fa73\n",
      "Deploy NB_FMD_DQ_CLEANSING (Notebook)\n",
      "Update 3721c8c8-681b-4743-817d-b3d29cb0aaef\n",
      "Deploy PL_TOOLING_POST_ASQL_TO_FMD (DataPipeline)\n",
      "Update cb12d2e2-7809-45d8-84a9-5b28065b5e48\n",
      "--------------------------\n",
      "Processing: production\n",
      "Deploy ENV_FMD (Environment)\n",
      "Update c397beb7-c421-40cb-8cf6-8ae32c77396d\n",
      "Deploy NB_FMD_LOAD_BRONZE_SILVER (Notebook)\n",
      "Update 3e40ece6-c690-4f65-b094-21400e8a46b7\n",
      "Deploy NB_FMD_LOAD_LANDING_BRONZE (Notebook)\n",
      "Update b7a88fee-06d5-463c-852c-1bd5e88d7b3e\n",
      "Deploy PL_FMD_LOAD_LANDINGZONE (DataPipeline)\n",
      "Update 47526a81-2cd4-4075-a831-d195ba301190\n",
      "Deploy PL_FMD_LOAD_ALL (DataPipeline)\n",
      "Update a62d6d19-3036-465f-ad0b-232b389e0d9d\n",
      "Deploy PL_FMD_LOAD_BRONZE (DataPipeline)\n",
      "Update 22586fc4-1eab-482b-8fa9-1004de54e53d\n",
      "Deploy PL_FMD_LOAD_SILVER (DataPipeline)\n",
      "Update e568ccbd-8820-48e7-9c09-89f3f805ffa3\n",
      "Deploy PL_FMD_LDZ_COPY_FROM_ASQL_01 (DataPipeline)\n",
      "Update e59a3a53-2402-42a4-a60e-0d4d19405d8f\n",
      "Deploy PL_FMD_LDZ_COPY_FROM_ONELAKE_TABLES_01 (DataPipeline)\n",
      "Update 63ff9120-7d16-4f37-b7d2-7c9a264007f0\n",
      "Deploy PL_FMD_LDZ_COPY_FROM_ADLS_01 (DataPipeline)\n",
      "Update 6ca1ee79-322b-440c-b5b4-598f8c01a969\n",
      "Deploy PL_FMD_LDZ_COPY_FROM_ASQL_02 (DataPipeline)\n",
      "Update 935b4fab-5b23-46fe-9a99-5db5beb47e83\n",
      "Deploy PL_FMD_LDZ_COMMAND_ASQL (DataPipeline)\n",
      "Update a6c103f5-f5f3-49b6-85ee-b7ef0332a518\n",
      "Deploy PL_FMD_LDZ_COMMAND_ADLS (DataPipeline)\n",
      "Update ab996df4-3c2f-451d-81b8-b4e991835bee\n",
      "Deploy PL_FMD_LDZ_COMMAND_ONELAKE (DataPipeline)\n",
      "Update 4dcd8af2-b050-4616-8fca-f4f96a9099b7\n",
      "Deploy PL_FMD_LDZ_COPY_FROM_ADF (DataPipeline)\n",
      "Update 703f6bac-4e4c-462b-99d9-f3b9c3d527fb\n",
      "Deploy PL_FMD_LDZ_COMMAND_ADF (DataPipeline)\n",
      "Update 7a0ad13e-bb1e-47e8-85d2-2a6146a54363\n",
      "Deploy NB_FMD_DQ_CLEANSING (Notebook)\n",
      "Update 442b98b0-4675-49ff-9dc4-56789f61e96d\n",
      "Deploy PL_TOOLING_POST_ASQL_TO_FMD (DataPipeline)\n",
      "Update f928896f-ac0b-4b61-a2b3-b45de878f9af\n"
     ]
    }
   ],
   "source": [
    "items_to_deploy = deployment_manifest[\"items\"]\n",
    "\n",
    "for environment in environments:\n",
    "    print(f\"--------------------------\")\n",
    "    print(f\"Processing: {environment['environment_name']}\")\n",
    "    \n",
    "    # Append the remaining pairs\n",
    "    environment['guids_to_replace'].append({\"old_id\": deployment_manifest[\"connections\"][\"CON_FMD_FABRIC_SQL\"], \"new_id\": environment['connections']['CON_FMD_FABRIC_SQL']})\n",
    "    environment['guids_to_replace'].append({\"old_id\": deployment_manifest[\"connections\"][\"CON_FMD_FABRIC_PIPELINES\"], \"new_id\": environment['connections']['CON_FMD_FABRIC_PIPELINES']})\n",
    "    environment['guids_to_replace'].append({\"old_id\": deployment_manifest[\"connections\"][\"CON_FMD_ASQL_01\"], \"new_id\": environment['connections']['CON_FMD_ASQL_01']})\n",
    "    environment['guids_to_replace'].append({\"old_id\": deployment_manifest[\"connections\"][\"CON_FMD_ASQL_02\"], \"new_id\": environment['connections']['CON_FMD_ASQL_02']})\n",
    "    environment['guids_to_replace'].append({\"old_id\": deployment_manifest[\"connections\"][\"CON_FMD_ADLS_01\"], \"new_id\": environment['connections']['CON_FMD_ADLS_01']})\n",
    "    environment['guids_to_replace'].append({\"old_id\": deployment_manifest[\"connections\"][\"CON_FMD_ADF_PIPELINES\"], \"new_id\": environment['connections']['CON_FMD_ADF_PIPELINES']})\n",
    "    \n",
    "    # Deploy items to workspace\n",
    "    existing_items = fabric_request(fabric_session, url=f\"workspaces/{environment['workspaces']['code']['id']}/items/\", method=\"GET\")\n",
    "    deploy_items(items_to_deploy, environment['guids_to_replace'], fmd_api_access_token, environment['workspaces']['code']['id'], existing_items[\"value\"])"
   ]
  },
  {
   "cell_type": "code",
   "execution_count": 429,
   "id": "db772de2-d86a-41a7-b19a-e0ef9dc57fdb",
   "metadata": {
    "microsoft": {
     "language": "python",
     "language_group": "synapse_pyspark"
    }
   },
   "outputs": [
    {
     "data": {
      "application/vnd.livy.statement-meta+json": {
       "execution_finish_time": "2025-03-12T22:03:21.3861726Z",
       "execution_start_time": "2025-03-12T22:03:20.4466959Z",
       "livy_statement_state": "available",
       "normalized_state": "finished",
       "parent_msg_id": "811951a2-d3a1-4087-bb32-8443653ceec3",
       "queued_time": "2025-03-12T22:02:03.3583942Z",
       "session_id": "95e50a05-94ce-4a80-b142-46099c8476e7",
       "session_start_time": null,
       "spark_pool": null,
       "state": "finished",
       "statement_id": 128,
       "statement_ids": [
        128
       ]
      },
      "text/plain": [
       "StatementMeta(, 95e50a05-94ce-4a80-b142-46099c8476e7, 128, Finished, Available, Finished)"
      ]
     },
     "metadata": {},
     "output_type": "display_data"
    },
    {
     "name": "stdout",
     "output_type": "stream",
     "text": [
      "DRIVER={ODBC Driver 18 for SQL Server};SERVER=nl7yhqnbrscude3yv6mas6bxpq-fb5ew36gdamexgepvv6ne45j2a.datawarehouse.fabric.microsoft.com;PORT=1433;DATABASE=WH_LOG;\n",
      " - execute \"\n",
      "    IF NOT EXISTS (SELECT * FROM sys.schemas WHERE name = 'logging')\n",
      "    BEGIN\n",
      "        EXEC('CREATE SCHEMA [logging];');\n",
      "    END\n",
      "    \"\n",
      " - execute \"\n",
      "    IF NOT EXISTS (SELECT * FROM sys.tables WHERE name = 'PipelineExecution' AND schema_id = SCHEMA_ID('logging'))\n",
      "    BEGIN\n",
      "        CREATE TABLE [logging].[PipelineExecution]\n",
      "        (\n",
      "            [WorkspaceGuid] [uniqueidentifier]  NULL,\n",
      "            [PipelineRunGuid] [uniqueidentifier]  NULL,\n",
      "            [PipelineParentRunGuid] [uniqueidentifier]  NULL,\n",
      "            [PipelineGuid] [uniqueidentifier]  NULL,\n",
      "            [PipelineName] [varchar](100)  NULL,\n",
      "            [PipelineParameters] [varchar](8000)  NULL,\n",
      "            [TriggerType] [varchar](50)  NULL,\n",
      "            [TriggerGuid] [uniqueidentifier]  NULL,\n",
      "            [TriggerTime] [datetime2](6)  NULL,\n",
      "            [LogType] [varchar](50)  NULL,\n",
      "            [LogDateTime] [datetime2](6)  NULL,\n",
      "            [LogData] [varchar](8000)  NULL\n",
      "        )\n",
      "    END\n",
      "    \"\n",
      " - execute \"\n",
      "    CREATE OR ALTER PROCEDURE [logging].[sp_AuditPipeline]\n",
      "        @PipelineGuid UNIQUEIDENTIFIER\t\t\t\t= NULL\n",
      "        ,@PipelineName VARCHAR(100)\t\t\t\t    = NULL\n",
      "        ,@PipelineRunGuid UNIQUEIDENTIFIER\t\t\t= NULL\n",
      "        ,@PipelineParentRunGuid UNIQUEIDENTIFIER\t= NULL\n",
      "        ,@PipelineParameters VARCHAR(8000)  \t    = NULL\n",
      "        ,@TriggerType VARCHAR(50)\t\t\t\t\t= NULL\n",
      "        ,@TriggerGuid UNIQUEIDENTIFIER\t\t\t\t= NULL\n",
      "        ,@TriggerTime datetime\t\t\t\t\t\t= NULL\n",
      "        ,@LogData VARCHAR(8000)                     = NULL\n",
      "        ,@LogType\tvarchar(50)\t\t\t\t\t\t--Choice between Start/End/Fail, based on this Type the correct execution will be done\n",
      "        ,@WorkspaceGuid UNIQUEIDENTIFIER\t\t    = NULL\n",
      "\n",
      "    AS\n",
      "        INSERT INTO [logging].[PipelineExecution]\n",
      "            ([PipelineRunGuid]\n",
      "            ,[PipelineParentRunGuid]\n",
      "            ,[PipelineGuid]\n",
      "            ,[PipelineName]\n",
      "            ,[PipelineParameters]\n",
      "            ,[TriggerType]\n",
      "            ,[TriggerGuid]\n",
      "            ,[TriggerTime]\n",
      "            ,[LogDateTime]\n",
      "            ,[LogType]\n",
      "            ,[LogData]\n",
      "            ,[WorkspaceGuid]\n",
      "        )VALUES (\n",
      "            @PipelineRunGuid,\n",
      "            @PipelineParentRunGuid,\n",
      "            @PipelineGuid,\n",
      "            @PipelineName,\n",
      "            @PipelineParameters,\n",
      "            @TriggerType,\n",
      "            @TriggerGuid,\n",
      "            @TriggerTime,\n",
      "            getdate(),\n",
      "            @LogType,\n",
      "            @LogData,\n",
      "            @WorkspaceGuid\n",
      "            )\n",
      "    \"\n"
     ]
    }
   ],
   "source": [
    "# by timeout re-run\n",
    "\n",
    "for target_item in deployment_manifest['logging']['items']:\n",
    "    if target_item['type'] == 'Warehouse':\n",
    "        connstring = target_item[\"connectionString\"]\n",
    "        database = target_item['displayName']\n",
    "\n",
    "try:\n",
    "    i = 0\n",
    "    token = notebookutils.credentials.getToken('https://analysis.windows.net/powerbi/api').encode(\"UTF-16-LE\")\n",
    "    token_struct = struct.pack(f'<I{len(token)}s', len(token), token)\n",
    "    print(f\"DRIVER={driver};SERVER={connstring};PORT=1433;DATABASE={database};\")\n",
    "    connection = pyodbc.connect(f\"DRIVER={driver};SERVER={connstring};PORT=1433;DATABASE={database};\", attrs_before={1256:token_struct}, timeout=12)\n",
    "\n",
    "    with connection.cursor() as cursor:\n",
    "        cursor.execute(\"SELECT 1\")  # Execute the warm-up query (a simple query like 'SELECT 1' can be used)\n",
    "        cursor.fetchone()\n",
    "        connection.timeout = 5  # Setting a lower timeout for subsequent queries\n",
    "        for i, query in enumerate(deployment_manifest[\"logging\"][\"queries\"]):\n",
    "            print(f' - execute \"{query}\"')\n",
    "            cursor.execute(query)\n",
    "            cursor.commit()\n",
    "\n",
    "            tasks.append({\"task_name\": f\"{target_item.get('displayName')} {database} query {i}\", \"task_duration\": 1, \"status\": \"success\"})\n",
    "except pyodbc.OperationalError as e:\n",
    "    print(e)\n",
    "    tasks.append({\"task_name\": f\"{target_item.get('displayName')} {database} query {i}\", \"task_duration\": 1, \"status\": f\"pyodbc failed: {e}\"})\n",
    "except Exception as e:\n",
    "    print(e)\n",
    "    tasks.append({\"task_name\": f\"{target_item.get('displayName')} {database} query {i}\", \"task_duration\": 1, \"status\": f\"failed: {e}\"})"
   ]
  },
  {
   "cell_type": "code",
   "execution_count": 430,
   "id": "471f7792-b72b-4aad-bc4c-1a8748facf52",
   "metadata": {
    "microsoft": {
     "language": "python",
     "language_group": "synapse_pyspark"
    }
   },
   "outputs": [
    {
     "data": {
      "application/vnd.livy.statement-meta+json": {
       "execution_finish_time": "2025-03-12T22:03:21.725876Z",
       "execution_start_time": "2025-03-12T22:03:21.388731Z",
       "livy_statement_state": "available",
       "normalized_state": "finished",
       "parent_msg_id": "07103ed8-1311-41c9-bb6a-38ccdf9d5bdd",
       "queued_time": "2025-03-12T22:02:03.6384981Z",
       "session_id": "95e50a05-94ce-4a80-b142-46099c8476e7",
       "session_start_time": null,
       "spark_pool": null,
       "state": "finished",
       "statement_id": 129,
       "statement_ids": [
        129
       ]
      },
      "text/plain": [
       "StatementMeta(, 95e50a05-94ce-4a80-b142-46099c8476e7, 129, Finished, Available, Finished)"
      ]
     },
     "metadata": {},
     "output_type": "display_data"
    }
   ],
   "source": [
    "deployment_manifest[\"configuration\"][\"queries_stored_procedures\"].append(f'EXEC [integration].[sp_UpsertConnection] @ConnectionGuid = \"00000000-0000-0000-0000-000000000000\", @Name = \"CON_FMD_ONELAKE\", @Type = \"ONELAKE\", @IsActive = 1')\n",
    "deployment_manifest[\"configuration\"][\"queries_stored_procedures\"].append(f'EXEC [integration].[sp_UpsertConnection] @ConnectionGuid = \"{(environments[0][\"connections\"][\"CON_FMD_ASQL_01\"])}\", @Name = \"CON_FMD_ASQL_01\", @Type = \"SQL\", @IsActive = 1')\n",
    "deployment_manifest[\"configuration\"][\"queries_stored_procedures\"].append(f'EXEC [integration].[sp_UpsertConnection] @ConnectionGuid = \"{(environments[0][\"connections\"][\"CON_FMD_ASQL_02\"])}\", @Name = \"CON_FMD_ASQL_02\", @Type = \"SQL\", @IsActive = 1')\n",
    "deployment_manifest[\"configuration\"][\"queries_stored_procedures\"].append(f'EXEC [integration].[sp_UpsertConnection] @ConnectionGuid = \"{(environments[0][\"connections\"][\"CON_FMD_ADLS_01\"])}\", @Name = \"CON_FMD_ADLS_01\", @Type = \"ADLS\", @IsActive = 1')\n",
    "deployment_manifest[\"configuration\"][\"queries_stored_procedures\"].append(f'EXEC [integration].[sp_UpsertConnection] @ConnectionGuid = \"{(environments[0][\"connections\"][\"CON_FMD_ADF_PIPELINES\"])}\", @Name = \"CON_FMD_ADF_PIPELINES\", @Type = \"ADF\", @IsActive = 1')"
   ]
  },
  {
   "cell_type": "code",
   "execution_count": 431,
   "id": "1fab2dbf-1444-49c8-9006-539024d5e997",
   "metadata": {
    "microsoft": {
     "language": "python",
     "language_group": "synapse_pyspark"
    }
   },
   "outputs": [
    {
     "data": {
      "application/vnd.livy.statement-meta+json": {
       "execution_finish_time": "2025-03-12T22:03:22.0973389Z",
       "execution_start_time": "2025-03-12T22:03:21.7281808Z",
       "livy_statement_state": "available",
       "normalized_state": "finished",
       "parent_msg_id": "af1c8f31-6ff9-4f42-9d0d-22d94a4d7e24",
       "queued_time": "2025-03-12T22:02:03.9974811Z",
       "session_id": "95e50a05-94ce-4a80-b142-46099c8476e7",
       "session_start_time": null,
       "spark_pool": null,
       "state": "finished",
       "statement_id": 130,
       "statement_ids": [
        130
       ]
      },
      "text/plain": [
       "StatementMeta(, 95e50a05-94ce-4a80-b142-46099c8476e7, 130, Finished, Available, Finished)"
      ]
     },
     "metadata": {},
     "output_type": "display_data"
    }
   ],
   "source": [
    "deployment_manifest[\"configuration\"][\"queries_stored_procedures\"].append(\"\"\"\n",
    "    DECLARE @DataSourceIdInternal INT = (SELECT DataSourceId FROM integration.DataSource WHERE Name = 'LH_DATA_LANDINGZONE')\n",
    "    DECLARE @ConnectionIdInternal INT = (SELECT ConnectionId FROM integration.Connection WHERE ConnectionGuid = '00000000-0000-0000-0000-000000000000')\n",
    "    EXECUTE [integration].[sp_UpsertDataSource] \n",
    "        @ConnectionId = @ConnectionIdInternal\n",
    "        ,@DataSourceId = @DataSourceIdInternal\n",
    "        ,@Name = 'LH_DATA_LANDINGZONE'\n",
    "        ,@Namespace = 'ONELAKE'\n",
    "        ,@Type = 'ONELAKE_TABLES_01'\n",
    "        ,@Description = 'ONELAKE_TABLES'\n",
    "        ,@IsActive = 1\n",
    "\"\"\")"
   ]
  },
  {
   "cell_type": "code",
   "execution_count": 432,
   "id": "0cb672c5-4a52-410d-b16f-2bfac3b49a80",
   "metadata": {
    "microsoft": {
     "language": "python",
     "language_group": "synapse_pyspark"
    }
   },
   "outputs": [
    {
     "data": {
      "application/vnd.livy.statement-meta+json": {
       "execution_finish_time": "2025-03-12T22:03:22.4255578Z",
       "execution_start_time": "2025-03-12T22:03:22.100009Z",
       "livy_statement_state": "available",
       "normalized_state": "finished",
       "parent_msg_id": "ac196f77-c462-48ca-b47e-7d5631cadce9",
       "queued_time": "2025-03-12T22:02:04.3472914Z",
       "session_id": "95e50a05-94ce-4a80-b142-46099c8476e7",
       "session_start_time": null,
       "spark_pool": null,
       "state": "finished",
       "statement_id": 131,
       "statement_ids": [
        131
       ]
      },
      "text/plain": [
       "StatementMeta(, 95e50a05-94ce-4a80-b142-46099c8476e7, 131, Finished, Available, Finished)"
      ]
     },
     "metadata": {},
     "output_type": "display_data"
    },
    {
     "name": "stdout",
     "output_type": "stream",
     "text": [
      "EXEC [integration].[sp_UpsertWorkspace](@WorkspaceId = \"6f4b7a28-18c6-4b18-988f-ad7cd273a9d0\" ,@Name = \"DEMO1 LOG FMD\")\n",
      "EXEC [integration].[sp_UpsertWorkspace](@WorkspaceId = \"75c9bcc7-e074-4ca7-9a7e-76eacc2c94ea\" ,@Name = \"DEMO1 CONFIG FMD\")\n",
      "EXEC [integration].[sp_UpsertWorkspace](@WorkspaceId = \"208c0835-9575-4b05-b170-5640973088e7\" ,@Name = \"DEMO1 CODE (D) FMD\")\n",
      "EXEC [integration].[sp_UpsertWorkspace](@WorkspaceId = \"556754dc-f7eb-4ddf-9bf8-a2c4fa252c94\" ,@Name = \"DEMO1 DATA (D) FMD\")\n",
      "EXEC [integration].[sp_UpsertWorkspace](@WorkspaceId = \"e71cb5df-b718-4cb3-8cb6-07abddb65f38\" ,@Name = \"DEMO1 CODE (P) FMD\")\n",
      "EXEC [integration].[sp_UpsertWorkspace](@WorkspaceId = \"254a1222-703f-46e2-adb3-ac40a67421ec\" ,@Name = \"DEMO1 DATA (P) FMD\")\n"
     ]
    }
   ],
   "source": [
    "workspaces = []\n",
    "workspaces.append(logging['workspace'])\n",
    "workspaces.append(configuration['workspace'])\n",
    "\n",
    "for environment in environments:\n",
    "    workspaces.append(environment['workspaces']['code'])\n",
    "    workspaces.append(environment['workspaces']['data'])\n",
    "    \n",
    "for workspace in workspaces:\n",
    "    print(f'EXEC [integration].[sp_UpsertWorkspace](@WorkspaceId = \"{workspace[\"id\"]}\" ,@Name = \"{workspace[\"name\"]}\")')\n",
    "    deployment_manifest[\"configuration\"][\"queries_stored_procedures\"].append(f'EXEC [integration].[sp_UpsertWorkspace] @WorkspaceId = \"{workspace[\"id\"]}\", @Name = \"{workspace[\"name\"]}\"')"
   ]
  },
  {
   "cell_type": "code",
   "execution_count": 433,
   "id": "3c90ef67-295b-4a98-a273-28f8873af045",
   "metadata": {
    "microsoft": {
     "language": "python",
     "language_group": "synapse_pyspark"
    }
   },
   "outputs": [
    {
     "data": {
      "application/vnd.livy.statement-meta+json": {
       "execution_finish_time": "2025-03-12T22:03:23.2660808Z",
       "execution_start_time": "2025-03-12T22:03:22.4279076Z",
       "livy_statement_state": "available",
       "normalized_state": "finished",
       "parent_msg_id": "6c99703c-39a9-48d6-92d9-667dbe14287d",
       "queued_time": "2025-03-12T22:02:04.6015307Z",
       "session_id": "95e50a05-94ce-4a80-b142-46099c8476e7",
       "session_start_time": null,
       "spark_pool": null,
       "state": "finished",
       "statement_id": 132,
       "statement_ids": [
        132
       ]
      },
      "text/plain": [
       "StatementMeta(, 95e50a05-94ce-4a80-b142-46099c8476e7, 132, Finished, Available, Finished)"
      ]
     },
     "metadata": {},
     "output_type": "display_data"
    },
    {
     "name": "stdout",
     "output_type": "stream",
     "text": [
      "EXEC [integration].[sp_UpsertPipeline] @PipelineId = \"e2249af1-0605-4db6-835c-5fc304d515f7\", @WorkspaceId = \"556754dc-f7eb-4ddf-9bf8-a2c4fa252c94\" ,@Name = \"PL_FMD_LOAD_LANDINGZONE\"\n",
      "EXEC [integration].[sp_UpsertPipeline] @PipelineId = \"61d79c1f-5ca6-419d-94de-1b88519e1aee\", @WorkspaceId = \"556754dc-f7eb-4ddf-9bf8-a2c4fa252c94\" ,@Name = \"PL_FMD_LOAD_ALL\"\n",
      "EXEC [integration].[sp_UpsertPipeline] @PipelineId = \"c58ef9f9-5ef6-4644-a274-d9b39bb678bc\", @WorkspaceId = \"556754dc-f7eb-4ddf-9bf8-a2c4fa252c94\" ,@Name = \"PL_FMD_LOAD_BRONZE\"\n",
      "EXEC [integration].[sp_UpsertPipeline] @PipelineId = \"7cbe6476-c470-42bd-b34a-191745fb21d4\", @WorkspaceId = \"556754dc-f7eb-4ddf-9bf8-a2c4fa252c94\" ,@Name = \"PL_FMD_LOAD_SILVER\"\n",
      "EXEC [integration].[sp_UpsertPipeline] @PipelineId = \"bab73525-86ad-40a8-be73-762c38e8f618\", @WorkspaceId = \"556754dc-f7eb-4ddf-9bf8-a2c4fa252c94\" ,@Name = \"PL_FMD_LDZ_COPY_FROM_ASQL_01\"\n",
      "EXEC [integration].[sp_UpsertPipeline] @PipelineId = \"712c38ca-e1c9-4c14-a1ba-844459697490\", @WorkspaceId = \"556754dc-f7eb-4ddf-9bf8-a2c4fa252c94\" ,@Name = \"PL_FMD_LDZ_COPY_FROM_ONELAKE_TABLES_01\"\n",
      "EXEC [integration].[sp_UpsertPipeline] @PipelineId = \"b449d9b6-295a-4552-9542-a67ebd1859f5\", @WorkspaceId = \"556754dc-f7eb-4ddf-9bf8-a2c4fa252c94\" ,@Name = \"PL_FMD_LDZ_COPY_FROM_ADLS_01\"\n",
      "EXEC [integration].[sp_UpsertPipeline] @PipelineId = \"9f33b2f7-431c-4bbb-9a4d-f61443168d72\", @WorkspaceId = \"556754dc-f7eb-4ddf-9bf8-a2c4fa252c94\" ,@Name = \"PL_FMD_LDZ_COPY_FROM_ASQL_02\"\n",
      "EXEC [integration].[sp_UpsertPipeline] @PipelineId = \"7adb0642-d4c6-4bec-b46c-14ffdc51acf9\", @WorkspaceId = \"556754dc-f7eb-4ddf-9bf8-a2c4fa252c94\" ,@Name = \"PL_FMD_LDZ_COMMAND_ASQL\"\n",
      "EXEC [integration].[sp_UpsertPipeline] @PipelineId = \"42369dee-6207-46b0-a7f3-b4811682f17a\", @WorkspaceId = \"556754dc-f7eb-4ddf-9bf8-a2c4fa252c94\" ,@Name = \"PL_FMD_LDZ_COMMAND_ADLS\"\n",
      "EXEC [integration].[sp_UpsertPipeline] @PipelineId = \"010fb69d-df95-49a1-b433-2cb38e5d0ba2\", @WorkspaceId = \"556754dc-f7eb-4ddf-9bf8-a2c4fa252c94\" ,@Name = \"PL_FMD_LDZ_COMMAND_ONELAKE\"\n",
      "EXEC [integration].[sp_UpsertPipeline] @PipelineId = \"58d3ad7d-57e2-4ed1-b7a4-7f21043e6aa3\", @WorkspaceId = \"556754dc-f7eb-4ddf-9bf8-a2c4fa252c94\" ,@Name = \"PL_FMD_LDZ_COPY_FROM_ADF\"\n",
      "EXEC [integration].[sp_UpsertPipeline] @PipelineId = \"8a65abf2-de83-491f-bd25-89cf2ba4fa73\", @WorkspaceId = \"556754dc-f7eb-4ddf-9bf8-a2c4fa252c94\" ,@Name = \"PL_FMD_LDZ_COMMAND_ADF\"\n",
      "EXEC [integration].[sp_UpsertPipeline] @PipelineId = \"cb12d2e2-7809-45d8-84a9-5b28065b5e48\", @WorkspaceId = \"556754dc-f7eb-4ddf-9bf8-a2c4fa252c94\" ,@Name = \"PL_TOOLING_POST_ASQL_TO_FMD\"\n",
      "EXEC [integration].[sp_UpsertPipeline] @PipelineId = \"47526a81-2cd4-4075-a831-d195ba301190\", @WorkspaceId = \"254a1222-703f-46e2-adb3-ac40a67421ec\" ,@Name = \"PL_FMD_LOAD_LANDINGZONE\"\n",
      "EXEC [integration].[sp_UpsertPipeline] @PipelineId = \"a62d6d19-3036-465f-ad0b-232b389e0d9d\", @WorkspaceId = \"254a1222-703f-46e2-adb3-ac40a67421ec\" ,@Name = \"PL_FMD_LOAD_ALL\"\n",
      "EXEC [integration].[sp_UpsertPipeline] @PipelineId = \"22586fc4-1eab-482b-8fa9-1004de54e53d\", @WorkspaceId = \"254a1222-703f-46e2-adb3-ac40a67421ec\" ,@Name = \"PL_FMD_LOAD_BRONZE\"\n",
      "EXEC [integration].[sp_UpsertPipeline] @PipelineId = \"e568ccbd-8820-48e7-9c09-89f3f805ffa3\", @WorkspaceId = \"254a1222-703f-46e2-adb3-ac40a67421ec\" ,@Name = \"PL_FMD_LOAD_SILVER\"\n",
      "EXEC [integration].[sp_UpsertPipeline] @PipelineId = \"e59a3a53-2402-42a4-a60e-0d4d19405d8f\", @WorkspaceId = \"254a1222-703f-46e2-adb3-ac40a67421ec\" ,@Name = \"PL_FMD_LDZ_COPY_FROM_ASQL_01\"\n",
      "EXEC [integration].[sp_UpsertPipeline] @PipelineId = \"63ff9120-7d16-4f37-b7d2-7c9a264007f0\", @WorkspaceId = \"254a1222-703f-46e2-adb3-ac40a67421ec\" ,@Name = \"PL_FMD_LDZ_COPY_FROM_ONELAKE_TABLES_01\"\n",
      "EXEC [integration].[sp_UpsertPipeline] @PipelineId = \"6ca1ee79-322b-440c-b5b4-598f8c01a969\", @WorkspaceId = \"254a1222-703f-46e2-adb3-ac40a67421ec\" ,@Name = \"PL_FMD_LDZ_COPY_FROM_ADLS_01\"\n",
      "EXEC [integration].[sp_UpsertPipeline] @PipelineId = \"935b4fab-5b23-46fe-9a99-5db5beb47e83\", @WorkspaceId = \"254a1222-703f-46e2-adb3-ac40a67421ec\" ,@Name = \"PL_FMD_LDZ_COPY_FROM_ASQL_02\"\n",
      "EXEC [integration].[sp_UpsertPipeline] @PipelineId = \"a6c103f5-f5f3-49b6-85ee-b7ef0332a518\", @WorkspaceId = \"254a1222-703f-46e2-adb3-ac40a67421ec\" ,@Name = \"PL_FMD_LDZ_COMMAND_ASQL\"\n",
      "EXEC [integration].[sp_UpsertPipeline] @PipelineId = \"ab996df4-3c2f-451d-81b8-b4e991835bee\", @WorkspaceId = \"254a1222-703f-46e2-adb3-ac40a67421ec\" ,@Name = \"PL_FMD_LDZ_COMMAND_ADLS\"\n",
      "EXEC [integration].[sp_UpsertPipeline] @PipelineId = \"4dcd8af2-b050-4616-8fca-f4f96a9099b7\", @WorkspaceId = \"254a1222-703f-46e2-adb3-ac40a67421ec\" ,@Name = \"PL_FMD_LDZ_COMMAND_ONELAKE\"\n",
      "EXEC [integration].[sp_UpsertPipeline] @PipelineId = \"703f6bac-4e4c-462b-99d9-f3b9c3d527fb\", @WorkspaceId = \"254a1222-703f-46e2-adb3-ac40a67421ec\" ,@Name = \"PL_FMD_LDZ_COPY_FROM_ADF\"\n",
      "EXEC [integration].[sp_UpsertPipeline] @PipelineId = \"7a0ad13e-bb1e-47e8-85d2-2a6146a54363\", @WorkspaceId = \"254a1222-703f-46e2-adb3-ac40a67421ec\" ,@Name = \"PL_FMD_LDZ_COMMAND_ADF\"\n",
      "EXEC [integration].[sp_UpsertPipeline] @PipelineId = \"f928896f-ac0b-4b61-a2b3-b45de878f9af\", @WorkspaceId = \"254a1222-703f-46e2-adb3-ac40a67421ec\" ,@Name = \"PL_TOOLING_POST_ASQL_TO_FMD\"\n"
     ]
    }
   ],
   "source": [
    "for environment in environments:\n",
    "    existing_items = fabric_request(fabric_session, url=f\"workspaces/{environment['workspaces']['code']['id']}/items/\", method=\"GET\")\n",
    "    for item in existing_items.get('value', []):\n",
    "        if item['type'] == 'DataPipeline':\n",
    "            print(f'EXEC [integration].[sp_UpsertPipeline] @PipelineId = \"{item[\"id\"]}\", @WorkspaceId = \"{environment[\"workspaces\"][\"data\"][\"id\"]}\" ,@Name = \"{item[\"displayName\"]}\"')\n",
    "            deployment_manifest[\"configuration\"][\"queries_stored_procedures\"].append(f'EXEC [integration].[sp_UpsertPipeline] @PipelineId = \"{item[\"id\"]}\", @WorkspaceId = \"{environment[\"workspaces\"][\"data\"][\"id\"]}\" ,@Name = \"{item[\"displayName\"]}\"')"
   ]
  },
  {
   "cell_type": "code",
   "execution_count": 434,
   "id": "932a14c4-9d6f-4566-9d8f-d567ea27b809",
   "metadata": {
    "microsoft": {
     "language": "python",
     "language_group": "synapse_pyspark"
    }
   },
   "outputs": [
    {
     "data": {
      "application/vnd.livy.statement-meta+json": {
       "execution_finish_time": "2025-03-12T22:03:23.6445099Z",
       "execution_start_time": "2025-03-12T22:03:23.2687995Z",
       "livy_statement_state": "available",
       "normalized_state": "finished",
       "parent_msg_id": "721bc22c-d4db-4659-be35-a20b2ac79c13",
       "queued_time": "2025-03-12T22:02:05.0051692Z",
       "session_id": "95e50a05-94ce-4a80-b142-46099c8476e7",
       "session_start_time": null,
       "spark_pool": null,
       "state": "finished",
       "statement_id": 133,
       "statement_ids": [
        133
       ]
      },
      "text/plain": [
       "StatementMeta(, 95e50a05-94ce-4a80-b142-46099c8476e7, 133, Finished, Available, Finished)"
      ]
     },
     "metadata": {},
     "output_type": "display_data"
    },
    {
     "name": "stdout",
     "output_type": "stream",
     "text": [
      "EXEC [integration].[sp_UpsertLakehouse] @LakehouseId = \"daf9b505-61a8-4fa0-ab16-ae3ee5db0bd8\", @WorkspaceId = \"556754dc-f7eb-4ddf-9bf8-a2c4fa252c94\" ,@Name = \"LH_DATA_LANDINGZONE\"\n",
      "EXEC [integration].[sp_UpsertLakehouse] @LakehouseId = \"367b1765-b0ac-4f08-9d6c-cf72522ed14f\", @WorkspaceId = \"556754dc-f7eb-4ddf-9bf8-a2c4fa252c94\" ,@Name = \"LH_BRONZE_LAYER\"\n",
      "EXEC [integration].[sp_UpsertLakehouse] @LakehouseId = \"972b0750-d1e5-4d59-b1c0-9bffdc6dd789\", @WorkspaceId = \"556754dc-f7eb-4ddf-9bf8-a2c4fa252c94\" ,@Name = \"LH_SILVER_LAYER\"\n",
      "EXEC [integration].[sp_UpsertLakehouse] @LakehouseId = \"b06c6404-9533-44af-8571-f92c3925ac91\", @WorkspaceId = \"254a1222-703f-46e2-adb3-ac40a67421ec\" ,@Name = \"LH_DATA_LANDINGZONE\"\n",
      "EXEC [integration].[sp_UpsertLakehouse] @LakehouseId = \"037d2f80-e858-4c5b-ae0e-e4419052876d\", @WorkspaceId = \"254a1222-703f-46e2-adb3-ac40a67421ec\" ,@Name = \"LH_BRONZE_LAYER\"\n",
      "EXEC [integration].[sp_UpsertLakehouse] @LakehouseId = \"997f1ceb-d4e9-4b03-8138-349f69f9e647\", @WorkspaceId = \"254a1222-703f-46e2-adb3-ac40a67421ec\" ,@Name = \"LH_SILVER_LAYER\"\n"
     ]
    }
   ],
   "source": [
    "for environment in environments:\n",
    "    existing_items = fabric_request(fabric_session, url=f\"workspaces/{environment['workspaces']['data']['id']}/items/\", method=\"GET\")\n",
    "    for item in existing_items.get('value', []):\n",
    "        if item['type'] == 'Lakehouse':\n",
    "            print(f'EXEC [integration].[sp_UpsertLakehouse] @LakehouseId = \"{item[\"id\"]}\", @WorkspaceId = \"{environment[\"workspaces\"][\"data\"][\"id\"]}\" ,@Name = \"{item[\"displayName\"]}\"')\n",
    "            deployment_manifest[\"configuration\"][\"queries_stored_procedures\"].append(f'EXEC [integration].[sp_UpsertLakehouse] @LakehouseId = \"{item[\"id\"]}\", @WorkspaceId = \"{environment[\"workspaces\"][\"data\"][\"id\"]}\" ,@Name = \"{item[\"displayName\"]}\"')"
   ]
  },
  {
   "cell_type": "code",
   "execution_count": 435,
   "id": "7ebbd0e8-b82b-455d-93ab-54f99a02d699",
   "metadata": {
    "microsoft": {
     "language": "python",
     "language_group": "synapse_pyspark"
    }
   },
   "outputs": [
    {
     "data": {
      "application/vnd.livy.statement-meta+json": {
       "execution_finish_time": "2025-03-12T22:03:23.9926952Z",
       "execution_start_time": "2025-03-12T22:03:23.6473264Z",
       "livy_statement_state": "available",
       "normalized_state": "finished",
       "parent_msg_id": "0f57ab02-e7a2-4aae-9bc3-2e28670a07e5",
       "queued_time": "2025-03-12T22:02:05.3088676Z",
       "session_id": "95e50a05-94ce-4a80-b142-46099c8476e7",
       "session_start_time": null,
       "spark_pool": null,
       "state": "finished",
       "statement_id": 134,
       "statement_ids": [
        134
       ]
      },
      "text/plain": [
       "StatementMeta(, 95e50a05-94ce-4a80-b142-46099c8476e7, 134, Finished, Available, Finished)"
      ]
     },
     "metadata": {},
     "output_type": "display_data"
    }
   ],
   "source": [
    "deployment_manifest[\"configuration\"][\"queries_stored_procedures\"].append(\"\"\"\n",
    "    DECLARE @LandingzoneEntityIdInternal INT = (SELECT LandingzoneEntityId FROM integration.LandingzoneEntity WHERE SourceSchema = 'in' and SourceName = 'customer')\n",
    "    DECLARE @DataSourceIdInternal INT = (SELECT DataSourceId FROM integration.DataSource WHERE Name = 'LH_DATA_LANDINGZONE')\n",
    "    DECLARE @LakehouseIdInternal INT = (SELECT top 1 LakehouseId FROM integration.Lakehouse WHERE Name = 'LH_DATA_LANDINGZONE')\n",
    "    EXECUTE [integration].[sp_UpsertLandingzoneEntity] \n",
    "        @LandingzoneEntityId = @LandingzoneEntityIdInternal\n",
    "        ,@DataSourceId = @DataSourceIdInternal\n",
    "        ,@LakehouseId = @LakehouseIdInternal\n",
    "        ,@SourceSchema = 'in'\n",
    "        ,@SourceName = 'customer'\n",
    "        ,@FileName = 'customer'\n",
    "        ,@FilePath = 'in'\n",
    "        ,@FileType = 'parquet'\n",
    "        ,@IsIncremental = 0\n",
    "        ,@IsIncrementalColumn = ''\n",
    "        ,@IsActive = 1\n",
    "\"\"\")"
   ]
  },
  {
   "cell_type": "code",
   "execution_count": 436,
   "id": "480adf45-7385-47fa-b669-a1f394252d38",
   "metadata": {
    "microsoft": {
     "language": "python",
     "language_group": "synapse_pyspark"
    }
   },
   "outputs": [
    {
     "data": {
      "application/vnd.livy.statement-meta+json": {
       "execution_finish_time": "2025-03-12T22:03:24.3283347Z",
       "execution_start_time": "2025-03-12T22:03:23.9952426Z",
       "livy_statement_state": "available",
       "normalized_state": "finished",
       "parent_msg_id": "f1be9a5f-75bb-45cd-91f1-31d570096c6d",
       "queued_time": "2025-03-12T22:02:05.6466407Z",
       "session_id": "95e50a05-94ce-4a80-b142-46099c8476e7",
       "session_start_time": null,
       "spark_pool": null,
       "state": "finished",
       "statement_id": 135,
       "statement_ids": [
        135
       ]
      },
      "text/plain": [
       "StatementMeta(, 95e50a05-94ce-4a80-b142-46099c8476e7, 135, Finished, Available, Finished)"
      ]
     },
     "metadata": {},
     "output_type": "display_data"
    }
   ],
   "source": [
    "deployment_manifest[\"configuration\"][\"queries_stored_procedures\"].append(\"\"\"\n",
    "    DECLARE @LandingzoneEntityIdInternal INT = (SELECT LandingzoneEntityId FROM integration.LandingzoneEntity WHERE SourceSchema = 'in' and SourceName = 'customer')\n",
    "    DECLARE @BronzeLayerEntityIdInternal INT = (SELECT BronzeLayerEntityId FROM integration.BronzeLayerEntity WHERE [Schema] = 'in' and [Name] = 'customer')\n",
    "    DECLARE @LakehouseIdInternal INT = (SELECT top 1 LakehouseId FROM integration.Lakehouse WHERE Name = 'LH_BRONZE_LAYER')\n",
    "    EXECUTE [integration].[sp_UpsertBronzeLayerEntity] \n",
    "        @BronzeLayerEntityId = @BronzeLayerEntityIdInternal\n",
    "        ,@LandingzoneEntityId = @LandingzoneEntityIdInternal\n",
    "        ,@Schema = 'in'\n",
    "        ,@Name = 'customer'\n",
    "        ,@FileType = 'Delta'\n",
    "        ,@LakehouseId = @LakehouseIdInternal\n",
    "        ,@PrimaryKeys = 'CustomerId'\n",
    "        ,@IsActive = 1\n",
    "\"\"\")"
   ]
  },
  {
   "cell_type": "code",
   "execution_count": 437,
   "id": "ba6c1c95-806d-4f37-bddb-344c9fe58d32",
   "metadata": {
    "microsoft": {
     "language": "python",
     "language_group": "synapse_pyspark"
    }
   },
   "outputs": [
    {
     "data": {
      "application/vnd.livy.statement-meta+json": {
       "execution_finish_time": "2025-03-12T22:03:24.6718809Z",
       "execution_start_time": "2025-03-12T22:03:24.3305915Z",
       "livy_statement_state": "available",
       "normalized_state": "finished",
       "parent_msg_id": "dbc4117a-88f2-44af-9a95-2a3703bedf15",
       "queued_time": "2025-03-12T22:02:05.9879555Z",
       "session_id": "95e50a05-94ce-4a80-b142-46099c8476e7",
       "session_start_time": null,
       "spark_pool": null,
       "state": "finished",
       "statement_id": 136,
       "statement_ids": [
        136
       ]
      },
      "text/plain": [
       "StatementMeta(, 95e50a05-94ce-4a80-b142-46099c8476e7, 136, Finished, Available, Finished)"
      ]
     },
     "metadata": {},
     "output_type": "display_data"
    }
   ],
   "source": [
    "deployment_manifest[\"configuration\"][\"queries_stored_procedures\"].append(\"\"\"\n",
    "    DECLARE @BronzeLayerEntityIdInternal INT = (SELECT BronzeLayerEntityId FROM integration.BronzeLayerEntity WHERE [Schema] = 'in' and [Name] = 'customer')\n",
    "    DECLARE @SilverLayerEntityIdInternal INT = (SELECT SilverLayerEntityId FROM integration.SilverLayerEntity WHERE [Schema] = 'in' and [Name] = 'customer')\n",
    "    DECLARE @LakehouseIdInternal INT = (SELECT top 1 LakehouseId FROM integration.Lakehouse WHERE Name = 'LH_SILVER_LAYER')\n",
    "    EXECUTE [integration].[sp_UpsertSilverLayerEntity] \n",
    "        @SilverLayerEntityId = @SilverLayerEntityIdInternal\n",
    "        ,@BronzeLayerEntityId = @BronzeLayerEntityIdInternal\n",
    "        ,@LakehouseId = @LakehouseIdInternal\n",
    "        ,@Name = 'customer'\n",
    "        ,@Schema = 'in'\n",
    "        ,@FileType = 'delta'\n",
    "        ,@IsActive = 1\n",
    "\"\"\")"
   ]
  },
  {
   "cell_type": "code",
   "execution_count": 438,
   "id": "657493f0-7d03-4fd3-81bc-ca2e7be3ed24",
   "metadata": {
    "microsoft": {
     "language": "python",
     "language_group": "synapse_pyspark"
    }
   },
   "outputs": [
    {
     "data": {
      "application/vnd.livy.statement-meta+json": {
       "execution_finish_time": "2025-03-12T22:03:27.2586428Z",
       "execution_start_time": "2025-03-12T22:03:24.6744073Z",
       "livy_statement_state": "available",
       "normalized_state": "finished",
       "parent_msg_id": "367108dc-51fa-40e0-bf38-40682b9123c6",
       "queued_time": "2025-03-12T22:02:06.3474903Z",
       "session_id": "95e50a05-94ce-4a80-b142-46099c8476e7",
       "session_start_time": null,
       "spark_pool": null,
       "state": "finished",
       "statement_id": 137,
       "statement_ids": [
        137
       ]
      },
      "text/plain": [
       "StatementMeta(, 95e50a05-94ce-4a80-b142-46099c8476e7, 137, Finished, Available, Finished)"
      ]
     },
     "metadata": {},
     "output_type": "display_data"
    },
    {
     "name": "stdout",
     "output_type": "stream",
     "text": [
      "DRIVER={ODBC Driver 18 for SQL Server};SERVER=nl7yhqnbrscude3yv6mas6bxpq-y66ms5lu4ctuzgt6o3vmyleu5i.database.fabric.microsoft.com;PORT=1433;DATABASE=SQL_FMD_FRAMEWORK-ab948fad-1fdf-444c-9625-ff76a45ac222;\n",
      " - execute \"\n",
      "    IF NOT EXISTS (SELECT * FROM sys.schemas WHERE name = 'integration')\n",
      "    BEGIN\n",
      "        EXEC('CREATE SCHEMA [integration];');\n",
      "    END\n",
      "    \"\n",
      " - execute \"\n",
      "    IF NOT EXISTS (SELECT * FROM sys.schemas WHERE name = 'execution')\n",
      "    BEGIN\n",
      "        EXEC('CREATE SCHEMA [execution];');\n",
      "    END\n",
      "    \"\n",
      " - execute \"\n",
      "    DECLARE @SQL NVARCHAR(MAX) = '';\n",
      "\n",
      "    SELECT @SQL = @SQL + 'ALTER TABLE ' + QUOTENAME(s.name) + '.' + QUOTENAME(t.name) + \n",
      "    ' DROP CONSTRAINT ' + QUOTENAME(dc.name) + ';' + CHAR(13)\n",
      "    FROM sys.default_constraints dc\n",
      "    INNER JOIN sys.tables t ON dc.parent_object_id = t.object_id\n",
      "    INNER JOIN sys.schemas s ON t.schema_id = s.schema_id\n",
      "    WHERE s.name IN ('integration', 'execution');\n",
      "\n",
      "    EXEC sp_executesql @SQL\n",
      "    \"\n",
      " - execute \"\n",
      "    IF NOT EXISTS (SELECT * FROM sys.tables WHERE name = 'Connection' AND schema_id = SCHEMA_ID('integration'))\n",
      "    BEGIN\n",
      "        CREATE TABLE [integration].[Connection](\n",
      "            [ConnectionId] [int] IDENTITY(1,1) NOT NULL,\n",
      "            [ConnectionGuid] [uniqueidentifier] NOT NULL,\n",
      "            [Name] [varchar](200) NOT NULL,\n",
      "            [Type] [varchar](50) NOT NULL,\n",
      "            [GatewayType] [varchar](50) NULL,\n",
      "            [DatasourceReference] [varchar](max) NULL,\n",
      "            [IsActive] [bit] NOT NULL\n",
      "        ) ON [PRIMARY] TEXTIMAGE_ON [PRIMARY]\n",
      "    END\n",
      "    \"\n",
      " - execute \"\n",
      "    IF NOT EXISTS (SELECT * FROM sys.objects WHERE type = 'PK' AND name = 'PK_integration_ConnectionId')\n",
      "    BEGIN\n",
      "        ALTER TABLE [integration].[Connection] ADD  CONSTRAINT [PK_integration_ConnectionId] PRIMARY KEY CLUSTERED \n",
      "        (\n",
      "            [ConnectionId] ASC\n",
      "        )WITH (PAD_INDEX = OFF, STATISTICS_NORECOMPUTE = OFF, SORT_IN_TEMPDB = OFF, IGNORE_DUP_KEY = OFF, ONLINE = OFF, ALLOW_ROW_LOCKS = ON, ALLOW_PAGE_LOCKS = ON) ON [PRIMARY]\n",
      "    END\n",
      "    \"\n",
      " - execute \"\n",
      "    IF NOT EXISTS (SELECT * FROM sys.objects WHERE type = 'UQ' AND name = 'UC_integration_Connection')\n",
      "    BEGIN\n",
      "        ALTER TABLE [integration].[Connection] ADD  CONSTRAINT [UC_integration_Connection] UNIQUE NONCLUSTERED \n",
      "        (\n",
      "            [ConnectionGuid] ASC\n",
      "        )WITH (PAD_INDEX = OFF, STATISTICS_NORECOMPUTE = OFF, SORT_IN_TEMPDB = OFF, IGNORE_DUP_KEY = OFF, ONLINE = OFF, ALLOW_ROW_LOCKS = ON, ALLOW_PAGE_LOCKS = ON) ON [PRIMARY]\n",
      "    END\n",
      "    \"\n",
      " - execute \"\n",
      "    ALTER TABLE [integration].[Connection] ADD  DEFAULT ((1)) FOR [IsActive] \n",
      "    \"\n",
      " - execute \"\n",
      "    IF NOT EXISTS (SELECT * FROM sys.tables WHERE name = 'DataSource' AND schema_id = SCHEMA_ID('integration'))\n",
      "    BEGIN\n",
      "        CREATE TABLE [integration].[DataSource](\n",
      "            [DataSourceId] [int] IDENTITY(1,1) NOT NULL,\n",
      "            [ConnectionId] [int] NOT NULL,\n",
      "            [Name] [varchar](100) NOT NULL,\n",
      "            [Namespace] [varchar](100) NOT NULL,\n",
      "            [Type] [varchar](30) NULL,\n",
      "            [Description] [nvarchar](200) NULL,\n",
      "            [IsActive] [bit] NOT NULL\n",
      "        ) ON [PRIMARY]\n",
      "    END\n",
      "    \"\n",
      " - execute \"\n",
      "    IF NOT EXISTS (SELECT * FROM sys.objects WHERE type = 'PK' AND name = 'PK_integration_DataSource')\n",
      "    BEGIN\n",
      "        ALTER TABLE [integration].[DataSource] ADD  CONSTRAINT [PK_integration_DataSource] PRIMARY KEY CLUSTERED \n",
      "        (\n",
      "            [DataSourceId] ASC\n",
      "        )WITH (PAD_INDEX = OFF, STATISTICS_NORECOMPUTE = OFF, SORT_IN_TEMPDB = OFF, IGNORE_DUP_KEY = OFF, ONLINE = OFF, ALLOW_ROW_LOCKS = ON, ALLOW_PAGE_LOCKS = ON) ON [PRIMARY]\n",
      "    END\n",
      "    \"\n",
      " - execute \"\n",
      "    IF NOT EXISTS (SELECT * FROM sys.objects WHERE type = 'UQ' AND name = 'UC_integration_DataSource')\n",
      "    BEGIN\n",
      "        ALTER TABLE [integration].[DataSource] ADD  CONSTRAINT [UC_integration_DataSource] UNIQUE NONCLUSTERED \n",
      "        (\n",
      "            [ConnectionId] ASC,\n",
      "            [Name] ASC,\n",
      "            [Type] ASC\n",
      "        )WITH (PAD_INDEX = OFF, STATISTICS_NORECOMPUTE = OFF, SORT_IN_TEMPDB = OFF, IGNORE_DUP_KEY = OFF, ONLINE = OFF, ALLOW_ROW_LOCKS = ON, ALLOW_PAGE_LOCKS = ON) ON [PRIMARY]\n",
      "    END\n",
      "    \"\n",
      " - execute \"\n",
      "        ALTER TABLE [integration].[DataSource] ADD  DEFAULT ((1)) FOR [IsActive]\n",
      "    \"\n",
      " - execute \"\n",
      "    IF NOT EXISTS (SELECT * FROM sys.tables WHERE name = 'Workspace' AND schema_id = SCHEMA_ID('integration'))\n",
      "    BEGIN\n",
      "        CREATE TABLE [integration].[Workspace](\n",
      "            [WorkspaceId] [int] IDENTITY(1,1) NOT NULL,\n",
      "            [WorkspaceGuid] [uniqueidentifier] NOT NULL,\n",
      "            [Name] [varchar](100) NOT NULL\n",
      "        ) ON [PRIMARY]\n",
      "    END\n",
      "    \"\n",
      " - execute \"\n",
      "    IF NOT EXISTS (SELECT * FROM sys.objects WHERE type = 'PK' AND name = 'PK_integration_Workspace')\n",
      "    BEGIN\n",
      "        ALTER TABLE [integration].[Workspace] ADD  CONSTRAINT [PK_integration_Workspace] PRIMARY KEY CLUSTERED \n",
      "        (\n",
      "            [WorkspaceId] ASC\n",
      "        )WITH (PAD_INDEX = OFF, STATISTICS_NORECOMPUTE = OFF, SORT_IN_TEMPDB = OFF, IGNORE_DUP_KEY = OFF, ONLINE = OFF, ALLOW_ROW_LOCKS = ON, ALLOW_PAGE_LOCKS = ON) ON [PRIMARY]\n",
      "    END\n",
      "    \"\n",
      " - execute \"\n",
      "    IF NOT EXISTS (SELECT * FROM sys.objects WHERE type = 'UQ' AND name = 'UC_integration_Workspace_WorkspaceGuid')\n",
      "    BEGIN\n",
      "        ALTER TABLE [integration].[Workspace] ADD  CONSTRAINT [UC_integration_Workspace_WorkspaceGuid] UNIQUE NONCLUSTERED \n",
      "        (\n",
      "            [WorkspaceGuid] ASC\n",
      "        )WITH (PAD_INDEX = OFF, STATISTICS_NORECOMPUTE = OFF, SORT_IN_TEMPDB = OFF, IGNORE_DUP_KEY = OFF, ONLINE = OFF, ALLOW_ROW_LOCKS = ON, ALLOW_PAGE_LOCKS = ON) ON [PRIMARY]\n",
      "    END\n",
      "    \"\n",
      " - execute \"\n",
      "    IF NOT EXISTS (SELECT * FROM sys.tables WHERE name = 'Pipeline' AND schema_id = SCHEMA_ID('integration'))\n",
      "    BEGIN\n",
      "        CREATE TABLE [integration].[Pipeline](\n",
      "            [PipelineId] [int] IDENTITY(1,1) NOT NULL,\n",
      "            [PipelineGuid] [uniqueidentifier] NOT NULL,\n",
      "            [WorkspaceGuid] [uniqueidentifier] NOT NULL,\n",
      "            [Name] [varchar](200) NOT NULL,\n",
      "            [IsActive] [bit] NOT NULL\n",
      "        ) ON [PRIMARY]\n",
      "    END\n",
      "    \"\n",
      " - execute \"\n",
      "    IF NOT EXISTS (SELECT * FROM sys.objects WHERE type = 'PK' AND name = 'PK_integration_PipelineId')\n",
      "    BEGIN\n",
      "        ALTER TABLE [integration].[Pipeline] ADD  CONSTRAINT [PK_integration_PipelineId] PRIMARY KEY CLUSTERED \n",
      "        (\n",
      "            [PipelineId] ASC\n",
      "        )WITH (PAD_INDEX = OFF, STATISTICS_NORECOMPUTE = OFF, SORT_IN_TEMPDB = OFF, IGNORE_DUP_KEY = OFF, ONLINE = OFF, ALLOW_ROW_LOCKS = ON, ALLOW_PAGE_LOCKS = ON) ON [PRIMARY]\n",
      "    END\n",
      "    \"\n",
      " - execute \"\n",
      "    IF NOT EXISTS (SELECT * FROM sys.objects WHERE type = 'UQ' AND name = 'UC_integration_Pipeline')\n",
      "    BEGIN\n",
      "        ALTER TABLE [integration].[Pipeline] ADD  CONSTRAINT [UC_integration_Pipeline] UNIQUE NONCLUSTERED \n",
      "        (\n",
      "            [PipelineGuid] ASC\n",
      "        )WITH (PAD_INDEX = OFF, STATISTICS_NORECOMPUTE = OFF, SORT_IN_TEMPDB = OFF, IGNORE_DUP_KEY = OFF, ONLINE = OFF, ALLOW_ROW_LOCKS = ON, ALLOW_PAGE_LOCKS = ON) ON [PRIMARY]\n",
      "    END\n",
      "    \"\n",
      " - execute \"\n",
      "        ALTER TABLE [integration].[Pipeline] ADD  DEFAULT ((1)) FOR [IsActive]\n",
      "    \"\n",
      " - execute \"\n",
      "    IF NOT EXISTS (SELECT * FROM sys.tables WHERE name = 'Lakehouse' AND schema_id = SCHEMA_ID('integration'))\n",
      "    BEGIN\n",
      "        CREATE TABLE [integration].[Lakehouse](\n",
      "            [LakehouseId] [int] IDENTITY(1,1) NOT NULL,\n",
      "            [LakehouseGuid] [uniqueidentifier] NOT NULL,\n",
      "            [WorkspaceGuid] [uniqueidentifier] NOT NULL,\n",
      "            [Name] [varchar](100) NOT NULL,\n",
      "            [IsActive] [bit] NOT NULL\n",
      "        ) ON [PRIMARY]\n",
      "    END \n",
      "    \"\n",
      " - execute \"\n",
      "    IF NOT EXISTS (SELECT * FROM sys.objects WHERE type = 'PK' AND name = 'PK_integration_Lakehouse')\n",
      "    BEGIN\n",
      "        ALTER TABLE [integration].[Lakehouse] ADD  CONSTRAINT [PK_integration_Lakehouse] PRIMARY KEY CLUSTERED \n",
      "        (\n",
      "            [LakehouseId] ASC\n",
      "        )WITH (PAD_INDEX = OFF, STATISTICS_NORECOMPUTE = OFF, SORT_IN_TEMPDB = OFF, IGNORE_DUP_KEY = OFF, ONLINE = OFF, ALLOW_ROW_LOCKS = ON, ALLOW_PAGE_LOCKS = ON) ON [PRIMARY]\n",
      "    END\n",
      "    \"\n",
      " - execute \"\n",
      "    IF NOT EXISTS (SELECT * FROM sys.objects WHERE type = 'UQ' AND name = 'UC_integration_Lakehouse')\n",
      "    BEGIN\n",
      "        ALTER TABLE [integration].[Lakehouse] ADD  CONSTRAINT [UC_integration_Lakehouse] UNIQUE NONCLUSTERED \n",
      "        (\n",
      "            [LakehouseGuid] ASC\n",
      "        )WITH (PAD_INDEX = OFF, STATISTICS_NORECOMPUTE = OFF, SORT_IN_TEMPDB = OFF, IGNORE_DUP_KEY = OFF, ONLINE = OFF, ALLOW_ROW_LOCKS = ON, ALLOW_PAGE_LOCKS = ON) ON [PRIMARY]\n",
      "    END\n",
      "    \"\n",
      " - execute \"\n",
      "        ALTER TABLE [integration].[Lakehouse] ADD  DEFAULT ((1)) FOR [IsActive]\n",
      "    \"\n",
      " - execute \"\n",
      "    IF NOT EXISTS (SELECT * FROM sys.objects WHERE type = 'F' AND name = 'FK_Lakehouse_Workspace')\n",
      "    BEGIN\n",
      "        ALTER TABLE [integration].[Lakehouse]  WITH CHECK ADD  CONSTRAINT [FK_Lakehouse_Workspace] FOREIGN KEY([WorkspaceGuid])\n",
      "        REFERENCES [integration].[Workspace] ([WorkspaceGuid])\n",
      "    END\n",
      "    \"\n",
      " - execute \"\n",
      "        ALTER TABLE [integration].[Lakehouse] CHECK CONSTRAINT [FK_Lakehouse_Workspace]\n",
      "    \"\n",
      " - execute \"\n",
      "    IF NOT EXISTS (SELECT * FROM sys.tables WHERE name = 'LandingzoneEntity' AND schema_id = SCHEMA_ID('integration'))\n",
      "    BEGIN\n",
      "        CREATE TABLE [integration].[LandingzoneEntity](\n",
      "            [LandingzoneEntityId] [bigint] IDENTITY(1,1) NOT NULL,\n",
      "            [DataSourceId] [int] NOT NULL,\n",
      "            [LakehouseId] [int] NOT NULL,\n",
      "            [SourceSchema] [nvarchar](100) NULL,\n",
      "            [SourceName] [nvarchar](200) NOT NULL,\n",
      "            [FileName] [nvarchar](200) NOT NULL,\n",
      "            [FileType] [nvarchar](20) NOT NULL,\n",
      "            [FilePath] [nvarchar](500) NOT NULL,\n",
      "            [IsIncremental] [bit] NOT NULL,\n",
      "            [IsIncrementalColumn] [nvarchar](50) NULL,\n",
      "            [IsActive] [bit] NOT NULL\n",
      "        ) ON [PRIMARY]\n",
      "    END \n",
      "    \"\n",
      " - execute \"\n",
      "    IF NOT EXISTS (SELECT * FROM sys.objects WHERE type = 'PK' AND name = 'PK_integration_LandingzoneEntity')\n",
      "    BEGIN\n",
      "        ALTER TABLE [integration].[LandingzoneEntity] ADD  CONSTRAINT [PK_integration_LandingzoneEntity] PRIMARY KEY CLUSTERED \n",
      "        (\n",
      "            [LandingzoneEntityId] ASC\n",
      "        )WITH (PAD_INDEX = OFF, STATISTICS_NORECOMPUTE = OFF, SORT_IN_TEMPDB = OFF, IGNORE_DUP_KEY = OFF, ONLINE = OFF, ALLOW_ROW_LOCKS = ON, ALLOW_PAGE_LOCKS = ON) ON [PRIMARY]\n",
      "    END\n",
      "    \"\n",
      " - execute \"\n",
      "    IF NOT EXISTS (SELECT * FROM sys.objects WHERE type = 'UQ' AND name = 'UC_integration_LandingzoneEntity')\n",
      "    BEGIN\n",
      "        ALTER TABLE [integration].[LandingzoneEntity] ADD  CONSTRAINT [UC_integration_LandingzoneEntity] UNIQUE NONCLUSTERED \n",
      "        (\n",
      "            [SourceSchema] ASC,\n",
      "            [SourceName] ASC,\n",
      "            [DataSourceId] ASC\n",
      "        )WITH (PAD_INDEX = OFF, STATISTICS_NORECOMPUTE = OFF, SORT_IN_TEMPDB = OFF, IGNORE_DUP_KEY = OFF, ONLINE = OFF, ALLOW_ROW_LOCKS = ON, ALLOW_PAGE_LOCKS = ON) ON [PRIMARY]\n",
      "    END\n",
      "    \"\n",
      " - execute \"\n",
      "        ALTER TABLE [integration].[LandingzoneEntity] ADD  DEFAULT ((0)) FOR [IsIncremental]\n",
      "    \"\n",
      " - execute \"\n",
      "        ALTER TABLE [integration].[LandingzoneEntity] ADD  DEFAULT ((1)) FOR [IsActive]\n",
      "    \"\n",
      " - execute \"\n",
      "    IF NOT EXISTS (SELECT * FROM sys.tables WHERE name = 'BronzeLayerEntity' AND schema_id = SCHEMA_ID('integration'))\n",
      "    BEGIN\n",
      "        CREATE TABLE [integration].[BronzeLayerEntity](\n",
      "            [BronzeLayerEntityId] [bigint] IDENTITY(1,1) NOT NULL,\n",
      "            [LandingzoneEntityId] [bigint] NOT NULL,\n",
      "            [LakehouseId] [int] NOT NULL,\n",
      "            [Schema] [nvarchar](100) NOT NULL,\n",
      "            [Name] [nvarchar](200) NOT NULL,\n",
      "            [PrimaryKeys] [nvarchar](200) NOT NULL,\n",
      "            [FileType] [nvarchar](20) NOT NULL,\n",
      "            [CleansingRules] [nvarchar](max) NULL,\n",
      "            [IsActive] [bit] NOT NULL\n",
      "        ) ON [PRIMARY] TEXTIMAGE_ON [PRIMARY]\n",
      "    END \n",
      "    \"\n",
      " - execute \"\n",
      "    IF NOT EXISTS (SELECT * FROM sys.objects WHERE type = 'PK' AND name = 'PK_integration_BronzeLayerEntity')\n",
      "    BEGIN\n",
      "        ALTER TABLE [integration].[BronzeLayerEntity] ADD  CONSTRAINT [PK_integration_BronzeLayerEntity] PRIMARY KEY CLUSTERED \n",
      "        (\n",
      "            [BronzeLayerEntityId] ASC\n",
      "        )WITH (PAD_INDEX = OFF, STATISTICS_NORECOMPUTE = OFF, SORT_IN_TEMPDB = OFF, IGNORE_DUP_KEY = OFF, ONLINE = OFF, ALLOW_ROW_LOCKS = ON, ALLOW_PAGE_LOCKS = ON) ON [PRIMARY]\n",
      "    END\n",
      "    \"\n",
      " - execute \"\n",
      "    IF NOT EXISTS (SELECT * FROM sys.objects WHERE type = 'UQ' AND name = 'UC_integration_BronzeLayerEntity')\n",
      "    BEGIN\n",
      "        ALTER TABLE [integration].[BronzeLayerEntity] ADD  CONSTRAINT [UC_integration_BronzeLayerEntity] UNIQUE NONCLUSTERED \n",
      "        (\n",
      "            [LakehouseId] ASC,\n",
      "            [Schema] ASC,\n",
      "            [Name] ASC\n",
      "        )WITH (PAD_INDEX = OFF, STATISTICS_NORECOMPUTE = OFF, SORT_IN_TEMPDB = OFF, IGNORE_DUP_KEY = OFF, ONLINE = OFF, ALLOW_ROW_LOCKS = ON, ALLOW_PAGE_LOCKS = ON) ON [PRIMARY]\n",
      "    END\n",
      "    \"\n",
      " - execute \"\n",
      "        ALTER TABLE [integration].[BronzeLayerEntity] ADD  DEFAULT ('Delta') FOR [FileType]\n",
      "    \"\n",
      " - execute \"\n",
      "        ALTER TABLE [integration].[BronzeLayerEntity] ADD  DEFAULT ((1)) FOR [IsActive]\n",
      "    \"\n",
      " - execute \"\n",
      "    IF NOT EXISTS (SELECT * FROM sys.objects WHERE type = 'F' AND name = 'FK_BronzeLayerEntity_LandingzoneEntity')\n",
      "    BEGIN\n",
      "        ALTER TABLE [integration].[BronzeLayerEntity]  WITH CHECK ADD  CONSTRAINT [FK_BronzeLayerEntity_LandingzoneEntity] FOREIGN KEY([LandingzoneEntityId])\n",
      "        REFERENCES [integration].[LandingzoneEntity] ([LandingzoneEntityId])\n",
      "    END\n",
      "    \"\n",
      " - execute \"\n",
      "        ALTER TABLE [integration].[BronzeLayerEntity] CHECK CONSTRAINT [FK_BronzeLayerEntity_LandingzoneEntity]\n",
      "    \"\n",
      " - execute \"\n",
      "    IF NOT EXISTS (SELECT * FROM sys.tables WHERE name = 'SilverLayerEntity' AND schema_id = SCHEMA_ID('integration'))\n",
      "    BEGIN\n",
      "        CREATE TABLE [integration].[SilverLayerEntity](\n",
      "            [SilverLayerEntityId] [bigint] IDENTITY(1,1) NOT NULL,\n",
      "            [BronzeLayerEntityId] [bigint] NOT NULL,\n",
      "            [LakehouseId] [int] NOT NULL,\n",
      "            [Schema] [nvarchar](100) NULL,\n",
      "            [Name] [nvarchar](200) NULL,\n",
      "            [FileType] [nvarchar](20) NOT NULL,\n",
      "            [CleansingRules] [nvarchar](max) NULL,\n",
      "            [IsActive] [bit] NOT NULL\n",
      "        ) ON [PRIMARY]\n",
      "    END\n",
      "    \"\n",
      " - execute \"\n",
      "    IF NOT EXISTS (SELECT * FROM sys.objects WHERE type = 'PK' AND name = 'PK_integration_SilverLayerEntity')\n",
      "    BEGIN\n",
      "        ALTER TABLE [integration].[SilverLayerEntity] ADD  CONSTRAINT [PK_integration_SilverLayerEntity] PRIMARY KEY CLUSTERED \n",
      "        (\n",
      "            [SilverLayerEntityId] ASC\n",
      "        )WITH (PAD_INDEX = OFF, STATISTICS_NORECOMPUTE = OFF, SORT_IN_TEMPDB = OFF, IGNORE_DUP_KEY = OFF, ONLINE = OFF, ALLOW_ROW_LOCKS = ON, ALLOW_PAGE_LOCKS = ON) ON [PRIMARY]\n",
      "    END\n",
      "    \"\n",
      " - execute \"\n",
      "    IF NOT EXISTS (SELECT * FROM sys.objects WHERE type = 'UQ' AND name = 'UC_integration_BSilverLayerEntity')\n",
      "    BEGIN\n",
      "        ALTER TABLE [integration].[SilverLayerEntity] ADD  CONSTRAINT [UC_integration_BSilverLayerEntity] UNIQUE NONCLUSTERED \n",
      "        (\n",
      "            [LakehouseId] ASC,\n",
      "            [Schema] ASC,\n",
      "            [Name] ASC\n",
      "        )WITH (PAD_INDEX = OFF, STATISTICS_NORECOMPUTE = OFF, SORT_IN_TEMPDB = OFF, IGNORE_DUP_KEY = OFF, ONLINE = OFF, ALLOW_ROW_LOCKS = ON, ALLOW_PAGE_LOCKS = ON) ON [PRIMARY]\n",
      "    END\n",
      "    \"\n",
      " - execute \"\n",
      "        ALTER TABLE [integration].[SilverLayerEntity] ADD  DEFAULT ('Delta') FOR [FileType]\n",
      "    \"\n",
      " - execute \"\n",
      "        ALTER TABLE [integration].[SilverLayerEntity] ADD  DEFAULT ((1)) FOR [IsActive]\n",
      "    \"\n",
      " - execute \"\n",
      "    IF NOT EXISTS (SELECT * FROM sys.objects WHERE type = 'F' AND name = 'FK_SilverLayerEntity_BronzeLayerEntityId')\n",
      "    BEGIN\n",
      "        ALTER TABLE [integration].[SilverLayerEntity]  WITH CHECK ADD  CONSTRAINT [FK_SilverLayerEntity_BronzeLayerEntityId] FOREIGN KEY([BronzeLayerEntityId])\n",
      "        REFERENCES [integration].[BronzeLayerEntity] ([BronzeLayerEntityId])\n",
      "    END\n",
      "    \"\n",
      " - execute \"\n",
      "        ALTER TABLE [integration].[SilverLayerEntity] CHECK CONSTRAINT [FK_SilverLayerEntity_BronzeLayerEntityId]\n",
      "    \"\n",
      " - execute \"\n",
      "    IF NOT EXISTS (SELECT * FROM sys.tables WHERE name = 'LandingzoneEntityLastLoadValue' AND schema_id = SCHEMA_ID('execution'))\n",
      "    BEGIN\n",
      "        CREATE TABLE [execution].[LandingzoneEntityLastLoadValue](\n",
      "            [LandingzoneEntityValueId] [bigint] IDENTITY(1,1) NOT NULL,\n",
      "            [LandingzoneEntityId] [bigint] NULL,\n",
      "            [LoadValue] [varchar](50) NULL,\n",
      "            [LastLoadDatetime] [datetime2](7) NULL\n",
      "        ) ON [PRIMARY]\n",
      "    END\n",
      "    \"\n",
      " - execute \"\n",
      "    IF NOT EXISTS (SELECT * FROM sys.objects WHERE type = 'PK' AND name = 'PK_execution_Source_LastLoadValue')\n",
      "    BEGIN\n",
      "        ALTER TABLE [execution].[LandingzoneEntityLastLoadValue] ADD  CONSTRAINT [PK_execution_Source_LastLoadValue] PRIMARY KEY CLUSTERED \n",
      "        (\n",
      "            [LandingzoneEntityValueId] ASC\n",
      "        )WITH (PAD_INDEX = OFF, STATISTICS_NORECOMPUTE = OFF, SORT_IN_TEMPDB = OFF, IGNORE_DUP_KEY = OFF, ONLINE = OFF, ALLOW_ROW_LOCKS = ON, ALLOW_PAGE_LOCKS = ON) ON [PRIMARY]\n",
      "    END\n",
      "    \"\n",
      " - execute \"\n",
      "    IF NOT EXISTS (SELECT * FROM sys.objects WHERE type = 'UQ' AND name = 'UC_execution_LandingzoneEntityLastLoadValue_Guid')\n",
      "    BEGIN\n",
      "        ALTER TABLE [execution].[LandingzoneEntityLastLoadValue] ADD  CONSTRAINT [UC_execution_LandingzoneEntityLastLoadValue_Guid] UNIQUE NONCLUSTERED \n",
      "        (\n",
      "            [LandingzoneEntityId] ASC\n",
      "        )WITH (PAD_INDEX = OFF, STATISTICS_NORECOMPUTE = OFF, SORT_IN_TEMPDB = OFF, IGNORE_DUP_KEY = OFF, ONLINE = OFF, ALLOW_ROW_LOCKS = ON, ALLOW_PAGE_LOCKS = ON) ON [PRIMARY]\n",
      "    END\n",
      "    \"\n",
      " - execute \"\n",
      "    IF NOT EXISTS (SELECT * FROM sys.tables WHERE name = 'PipelineLandingzoneEntity' AND schema_id = SCHEMA_ID('execution'))\n",
      "    BEGIN\n",
      "        CREATE TABLE [execution].[PipelineLandingzoneEntity](\n",
      "            [PipelineLandingzoneEntityId] [bigint] IDENTITY(1,1) NOT NULL,\n",
      "            [LandingzoneEntityId] [bigint] NOT NULL,\n",
      "            [FilePath] [nvarchar](300) NOT NULL,\n",
      "            [FileName] [nvarchar](max) NOT NULL,\n",
      "            [InsertDateTime] [datetime] NULL,\n",
      "            [IsProcessed] [bit] NOT NULL,\n",
      "            [LoadEndDateTime] [datetime] NULL\n",
      "        ) ON [PRIMARY] TEXTIMAGE_ON [PRIMARY]\n",
      "    END\n",
      "    \"\n",
      " - execute \"\n",
      "    IF NOT EXISTS (SELECT * FROM sys.objects WHERE type = 'PK' AND name = 'PK_execution_PipelineLandingzoneEntity')\n",
      "    BEGIN\n",
      "        ALTER TABLE [execution].[PipelineLandingzoneEntity] ADD  CONSTRAINT [PK_execution_PipelineLandingzoneEntity] PRIMARY KEY CLUSTERED \n",
      "        (\n",
      "            [PipelineLandingzoneEntityId] ASC\n",
      "        )WITH (PAD_INDEX = OFF, STATISTICS_NORECOMPUTE = OFF, SORT_IN_TEMPDB = OFF, IGNORE_DUP_KEY = OFF, ONLINE = OFF, ALLOW_ROW_LOCKS = ON, ALLOW_PAGE_LOCKS = ON) ON [PRIMARY]\n",
      "    END\n",
      "    \"\n",
      " - execute \"\n",
      "    CREATE or ALTER   VIEW [execution].[vw_LoadSourceToLandingzone]\n",
      "    AS\n",
      "\n",
      "    SELECT \n",
      "    LZE.[LandingzoneEntityId] AS [EntityId],\n",
      "    DS.[DataSourceId] AS [DataSourceId],\n",
      "    DS.[Name] AS [DataSourceName],\n",
      "    DS.[Namespace] AS [DataSourceNamespace],\n",
      "    DS.[Type] AS [DataSourceType],\n",
      "    C.[Type] AS [ConnectionType],\n",
      "    [SourceSchema],\n",
      "    [SourceName],\n",
      "    [FilePath] + '/' + DS.[Namespace] + FORMAT(GETUTCDATE(), '/yyyy/MM/dd') AS [TargetFilePath],\n",
      "    LZE.[FileName] + '_' + FORMAT(GETUTCDATE(), 'yyyyMMddHHmm') + '.' + [FileType] AS [TargetFileName],\n",
      "    LZE.[FileType] AS [TargetFileType],\n",
      "    LH.[LakehouseGuid] AS [TargetLakehouseGuid],\n",
      "    W.[WorkspaceGuid] AS [WorkspaceGuid],\n",
      "    [IsIncremental],\n",
      "    [IsIncrementalColumn],\n",
      "    [LastLoadValue] = CASE\n",
      "        WHEN C.[Type] IN ('SQL') THEN\n",
      "            'SELECT CASE WHEN ' + CONVERT(NVARCHAR(1), CASE WHEN LZE.[IsIncremental] = '' OR ISNULL(LZE.[IsIncrementalColumn], '') = '' THEN 0 ELSE LZE.[IsIncremental] END) + ' = 1 \n",
      "            THEN CONVERT(VARCHAR, MAX(' + (\n",
      "                CASE WHEN ISNULL(LZE.[IsIncrementalColumn], '') = '' THEN '1'\n",
      "                ELSE LZE.[IsIncrementalColumn]\n",
      "            END) + '), 120) \n",
      "            ELSE CONVERT(VARCHAR, GETDATE(), 120) \n",
      "            END AS [LastLoadValue] \n",
      "            FROM ' + QUOTENAME(ISNULL(\n",
      "                CASE WHEN LZE.[SourceSchema] != '' THEN LZE.[SourceSchema]\n",
      "                END, 'Unknown')) + '.' + QUOTENAME(LZE.[SourceName])\n",
      "        ELSE \n",
      "            LZELV.[LoadValue]\n",
      "    END,\n",
      "    [SourceDataRetrieval] = CASE \n",
      "        WHEN LZE.[IsIncremental] = 1 THEN \n",
      "            'SELECT * FROM ' + QUOTENAME(ISNULL(CASE WHEN LZE.[SourceSchema] != '' THEN LZE.[SourceSchema] END, 'Unknown')) + '.' + QUOTENAME(LZE.[SourceName]) + \n",
      "            CASE WHEN ISNULL(LZE.[IsIncrementalColumn], '') <> '' AND TRY_CONVERT(VARCHAR, [LoadValue]) IS NOT NULL THEN \n",
      "                ' WHERE ' + LZE.[IsIncrementalColumn] + ' >= ''' + TRY_CONVERT(VARCHAR, ISNULL([LoadValue], '1900-01-01')) + '''' \n",
      "            ELSE ''\n",
      "            END\n",
      "        WHEN ISNULL(LZE.[IsIncremental], 0) = 0 THEN \n",
      "            'SELECT * FROM ' + QUOTENAME(ISNULL(CASE WHEN LZE.[SourceSchema] != '' THEN LZE.[SourceSchema] END, 'Unknown')) + '.' + QUOTENAME(LZE.[SourceName]) \n",
      "        ELSE ''\n",
      "    END\n",
      "FROM [integration].[LandingzoneEntity] LZE\n",
      "INNER JOIN [integration].[Lakehouse] LH\n",
      "    ON LZE.[LakehouseId] = LH.[LakehouseId]\n",
      "INNER JOIN [integration].[Workspace] W\n",
      "    ON W.[WorkspaceGuid] = LH.[WorkspaceGuid]\n",
      "INNER JOIN [integration].[DataSource] DS\n",
      "    ON DS.[DataSourceId] = LZE.[DataSourceId]\n",
      "INNER JOIN [integration].[Connection] C\n",
      "    ON DS.[ConnectionId] = C.[ConnectionId]\n",
      "LEFT JOIN [execution].[LandingzoneEntityLastLoadValue] LZELV\n",
      "    ON LZELV.[LandingzoneEntityId] = LZE.[LandingzoneEntityId]\n",
      "WHERE 1 = 1\n",
      "    AND LZE.[IsActive] = 1\n",
      "    \n",
      "\"\n",
      " - execute \"\n",
      "\n",
      "    CREATE or ALTER   VIEW [execution].[vw_LoadToBronzeLayer]\n",
      "    AS\n",
      "    SELECT \n",
      "    BLE.[BronzeLayerEntityId], \n",
      "    PLZE.[FilePath] AS SourceFilePath,\n",
      "    PLZE.[FileName] AS SourceFileName,\n",
      "    LZE.[LandingzoneEntityId] AS [EntityId],\n",
      "    LZE.[FileType] AS SourceFileType,\n",
      "    BLE.[Schema] AS [TargetSchema],\n",
      "    BLE.[Name] AS [TargetName],\n",
      "    WT.[WorkspaceGuid] AS [TargetWorkspaceId],\n",
      "    WS.[WorkspaceGuid] AS [SourceWorkspaceId],\n",
      "    BLH.[LakehouseGuid] AS [TargetLakehouseId],\n",
      "    LZH.[LakehouseGuid] AS [SourceLakehouseId],\n",
      "    BLH.[Name] AS [TargetLakehouseName],\n",
      "    LZH.[Name] AS [SourceLakehouseName],\n",
      "    LZE.[IsIncremental],\n",
      "    BLE.[PrimaryKeys],\n",
      "    BLE.[CleansingRules],\n",
      "    DS.[Namespace] AS [DataSourceNamespace]\n",
      "FROM [integration].[BronzeLayerEntity] BLE\n",
      "INNER JOIN [integration].[LandingzoneEntity] LZE\n",
      "    ON LZE.[LandingzoneEntityId] = BLE.[LandingzoneEntityId]\n",
      "INNER JOIN [execution].[PipelineLandingzoneEntity] PLZE\n",
      "    ON LZE.[LandingzoneEntityId] = PLZE.[LandingzoneEntityId]\n",
      "INNER JOIN [execution].[LandingzoneEntityLastLoadValue] LZELV\n",
      "    ON LZE.[LandingzoneEntityId] = LZELV.[LandingzoneEntityId]\n",
      "INNER JOIN [integration].[DataSource] DS\n",
      "    ON DS.[DataSourceId] = LZE.[DataSourceId]\n",
      "INNER JOIN [integration].[Lakehouse] BLH\n",
      "    ON BLE.[LakehouseId] = BLH.[LakehouseId]\n",
      "INNER JOIN [integration].[Lakehouse] LZH\n",
      "    ON LZE.[LakehouseId] = LZH.[LakehouseId]\n",
      "INNER JOIN [integration].[Workspace] WT\n",
      "    ON WT.[WorkspaceGuid] = BLH.[WorkspaceGuid]\n",
      "INNER JOIN [integration].[Workspace] WS\n",
      "    ON WS.[WorkspaceGuid] = LZH.[WorkspaceGuid]\n",
      "WHERE 1 = 1\n",
      "    AND LZE.[IsActive] = 1\n",
      "    AND BLE.[IsActive] = 1\n",
      "    AND PLZE.[IsProcessed] = 0\n",
      "    \n",
      "\"\n",
      " - execute \"\n",
      "\n",
      "    CREATE or ALTER   VIEW [execution].[vw_LoadToSilverLayer]\n",
      "    AS\n",
      "    SELECT \n",
      "    LZE.[LandingzoneEntityId],\n",
      "    BLE.[BronzeLayerEntityId],\n",
      "    SLE.[SilverLayerEntityId] AS [EntityId],\n",
      "    SLE.[Schema] AS [SourceSchema],\n",
      "    SLE.[Name] AS [SourceName],\n",
      "    BLE.[FileType] AS [SourceFileType],\n",
      "    SLE.[Schema] AS [TargetSchema],\n",
      "    SLE.[Name] AS [TargetName],\n",
      "    SLE.[FileType] AS [TargetFileType],\n",
      "    WT.[WorkspaceGuid] AS [TargetWorkspaceId],\n",
      "    WS.[WorkspaceGuid] AS [SourceWorkspaceId],\n",
      "    SLH.[LakehouseGuid] AS [TargetLakehouseId],\n",
      "    BLH.[LakehouseGuid] AS [SourceLakehouseId],\n",
      "    SLH.[Name] AS [TargetLakehouseName],\n",
      "    BLH.[Name] AS [SourceLakehouseName],\n",
      "    SLE.[CleansingRules],\n",
      "    DS.[Namespace] AS [DataSourceNamespace]\n",
      "FROM [integration].[SilverLayerEntity] SLE\n",
      "INNER JOIN [integration].[BronzeLayerEntity] BLE\n",
      "    ON SLE.BronzeLayerEntityId = BLE.BronzeLayerEntityId\n",
      "INNER JOIN [integration].[LandingzoneEntity] LZE\n",
      "    ON LZE.LandingzoneEntityId = BLE.LandingzoneEntityId\n",
      "INNER JOIN [execution].[LandingzoneEntityLastLoadValue] LZELV\n",
      "    ON LZE.LandingzoneEntityId = LZELV.LandingzoneEntityId\n",
      "INNER JOIN [integration].[DataSource] DS\n",
      "    ON DS.[DataSourceId] = LZE.[DataSourceId]\n",
      "INNER JOIN [integration].[Lakehouse] BLH\n",
      "    ON BLE.LakehouseId = BLH.LakehouseId\n",
      "INNER JOIN [integration].[Lakehouse] SLH\n",
      "    ON SLE.LakehouseId = SLH.LakehouseId\n",
      "INNER JOIN [integration].[Workspace] WT\n",
      "    ON WT.[WorkspaceGuid] = SLH.[WorkspaceGuid]\n",
      "INNER JOIN [integration].[Workspace] WS\n",
      "    ON WS.[WorkspaceGuid] = BLH.[WorkspaceGuid]\n",
      "WHERE 1 = 1\n",
      "    AND LZE.IsActive = 1\n",
      "    AND BLE.IsActive = 1\n",
      "    AND SLE.IsActive = 1\n",
      "    \n",
      "\"\n",
      " - execute \"\n",
      "\n",
      "    CREATE or ALTER  PROCEDURE [execution].[sp_UpsertLandingZoneEntityLastLoadValue] (\n",
      "        @LandingzoneEntityId BIGINT,\n",
      "        @LastLoadValue VARCHAR(50)\n",
      "        )\n",
      "        WITH EXECUTE AS CALLER\n",
      "    AS\n",
      "    BEGIN\n",
      "        SET NOCOUNT ON\n",
      "                                                                            \n",
      "        IF EXISTS (\n",
      "                SELECT 1\n",
      "                FROM [execution].[LandingzoneEntityLastLoadValue]\n",
      "                WHERE [LandingzoneEntityId] = @LandingzoneEntityId\n",
      "                )\n",
      "        BEGIN\n",
      "            UPDATE x\n",
      "            SET [LoadValue] = @LastLoadValue,\n",
      "                LastLoadDatetime = CONVERT(DATETIME2(7), GETDATE())\n",
      "            FROM [execution].[LandingzoneEntityLastLoadValue] x\n",
      "            WHERE [LandingzoneEntityId] = @LandingzoneEntityId\n",
      "        END                                     \n",
      "        ELSE\n",
      "        BEGIN\n",
      "            INSERT INTO [execution].[LandingzoneEntityLastLoadValue] (\n",
      "                [LandingzoneEntityId],\n",
      "                [LoadValue],\n",
      "                LastLoadDatetime\n",
      "                )\n",
      "            VALUES (                             \n",
      "                @LandingzoneEntityId,\n",
      "                @LastLoadValue,\n",
      "                getdate()\n",
      "                )\n",
      "        END\n",
      "    --Output for Fabric Pipeline\n",
      "    SELECT @LandingzoneEntityId AS LandingzoneEntityId, \n",
      "            @LastLoadValue as LastLoadValue;\n",
      "        SET NOCOUNT OFF;\n",
      "    END\n",
      "    \n",
      "\"\n",
      " - execute \"\n",
      "\n",
      "    CREATE or ALTER  PROCEDURE [execution].[sp_UpsertPipelineLandingzoneEntity] (\n",
      "        @LandingzoneEntityId BIGINT,\n",
      "        @Filename NVARCHAR(300),\n",
      "        @FilePath NVARCHAR(300),\n",
      "        @IsProcessed BIT\n",
      "    )\n",
      "    WITH EXECUTE AS CALLER\n",
      "    AS\n",
      "    BEGIN\n",
      "        SET NOCOUNT ON;\n",
      "\n",
      "        IF NOT EXISTS (\n",
      "            SELECT 1\n",
      "            FROM [execution].[PipelineLandingzoneEntity] PLE\n",
      "            WHERE PLE.[LandingzoneEntityId] = @LandingzoneEntityId\n",
      "                AND PLE.[Filename] = @Filename\n",
      "                AND PLE.[FilePath] = @FilePath\n",
      "        )\n",
      "        BEGIN\n",
      "            INSERT INTO [execution].[PipelineLandingzoneEntity] (\n",
      "                [LandingzoneEntityId],\n",
      "                [FilePath],\n",
      "                [FileName],\n",
      "                [InsertDateTime],\n",
      "                [IsProcessed]\n",
      "            )\n",
      "            SELECT @LandingzoneEntityId,\n",
      "                @FilePath,\n",
      "                @Filename,\n",
      "                GETDATE(),\n",
      "                @IsProcessed;\n",
      "        END\n",
      "        ELSE IF @IsProcessed = 1\n",
      "        BEGIN\n",
      "            UPDATE [execution].[PipelineLandingzoneEntity]\n",
      "            SET [IsProcessed] = @IsProcessed,\n",
      "                [LoadEndDateTime] = GETDATE()\n",
      "            WHERE [LandingzoneEntityId] = @LandingzoneEntityId\n",
      "                AND [Filename] = @Filename\n",
      "                AND [FilePath] = @FilePath;\n",
      "        END\n",
      "\n",
      "        -- Output for Fabric Pipeline\n",
      "        SELECT @LandingzoneEntityId AS LandingzoneEntityId, \n",
      "            @IsProcessed as IsProcessed,\n",
      "            @FilePath as FilePath,\n",
      "            @Filename as [Filename];\n",
      "\n",
      "        SET NOCOUNT OFF;\n",
      "    END\n",
      "    \n",
      "\"\n",
      " - execute \"\n",
      "    CREATE or ALTER   PROCEDURE [integration].[sp_GetBronzeLayerEntity](\n",
      "         @LandingzoneEntityId int\n",
      "       \n",
      "    \n",
      "    )\n",
      "    WITH EXECUTE AS CALLER\n",
      "    AS \n",
      "\n",
      "    SET NOCOUNT ON; \n",
      "\n",
      "    declare @BronzeLayerEntityId int\n",
      "    BEGIN\n",
      "     set @BronzeLayerEntityId = ( select isnull(BronzeLayerEntityId,0) as BronzeLayerEntityId from   [integration].[BronzeLayerEntity] where LandingzoneEntityId= @LandingzoneEntityId)\n",
      "    END\n",
      "\n",
      "            SELECT @BronzeLayerEntityId AS BronzeLayerEntityId\n",
      "\n",
      "\n",
      "\"\n",
      " - execute \"\n",
      "    CREATE or ALTER   PROCEDURE [integration].[sp_GetDataSource](\n",
      "       @Name NVARCHAR(100)\n",
      "    \n",
      "    )\n",
      "    WITH EXECUTE AS CALLER\n",
      "    AS \n",
      "\n",
      "    SET NOCOUNT ON; \n",
      "\n",
      "    declare @DataSourceId int\n",
      "    BEGIN\n",
      "            set @DataSourceId= ( select isnull(DataSourceId,0) as DataSourceId  from   [integration].[DataSource] where  [Name] = @Name)\n",
      "    END\n",
      "\n",
      "            SELECT @DataSourceId AS DataSourceId\n",
      "\n",
      "\n",
      "\"\n",
      " - execute \"\n",
      "    CREATE or ALTER   PROCEDURE [integration].[sp_GetLakehouse](\n",
      "         @WorkspaceGuid UNIQUEIDENTIFIER\n",
      "        ,@Name NVARCHAR(100)\n",
      "    \n",
      "    )\n",
      "    WITH EXECUTE AS CALLER\n",
      "    AS \n",
      "\n",
      "    SET NOCOUNT ON; \n",
      "\n",
      "    declare @LakehouseId int\n",
      "    BEGIN\n",
      "        set @LakehouseId= ( select LakehouseId from   [integration].[Lakehouse] where  [Name] = @Name and  [WorkspaceGuid] = @WorkspaceGuid)\n",
      "    END\n",
      "\n",
      "            SELECT @LakehouseId AS LakehouseId\n",
      "\n",
      "\"\n",
      " - execute \"\n",
      "    CREATE or ALTER   PROCEDURE [integration].[sp_GetLandingzoneEntity](\n",
      "         @LakehouseId int\n",
      "        ,@SourceSchema NVARCHAR(100)\n",
      "        ,@SourceName NVARCHAR(200)\n",
      "    \n",
      "    )\n",
      "    WITH EXECUTE AS CALLER\n",
      "    AS \n",
      "\n",
      "    SET NOCOUNT ON; \n",
      "\n",
      "    declare @LandingzoneEntityId int\n",
      "    BEGIN\n",
      "          set @LandingzoneEntityId = ( select isnull(LandingzoneEntityId,0) as LandingzoneEntityId  from   [integration].[LandingzoneEntity] where  [SourceName] = @SourceName and  [SourceSchema] = @SourceSchema and [LakehouseId] = @LakehouseId)\n",
      "    END\n",
      "\n",
      "            SELECT @LandingzoneEntityId AS LandingzoneEntityId\n",
      "\n",
      "\n",
      "\"\n",
      " - execute \"\n",
      "    CREATE or ALTER   PROCEDURE [integration].[sp_GetSilverLayerEntity](\n",
      "         @BronzeLayerEntityId int\n",
      "       \n",
      "    \n",
      "    )\n",
      "    WITH EXECUTE AS CALLER\n",
      "    AS \n",
      "\n",
      "    SET NOCOUNT ON; \n",
      "\n",
      "    declare @SilverLayerEntityId int\n",
      "    BEGIN\n",
      "        set @SilverLayerEntityId = ( select  isnull(SilverLayerEntityId,0) as SilverLayerEntityId from   [integration].[SilverLayerEntity] where BronzeLayerEntityId= @BronzeLayerEntityId)\n",
      "    END\n",
      "\n",
      "            SELECT @SilverLayerEntityId AS SilverLayerEntityId\n",
      "\n",
      "\"\n",
      " - execute \"\n",
      "    CREATE or ALTER  PROCEDURE [integration].[sp_UpsertBronzeLayerEntity](\n",
      "        @BronzeLayerEntityId INT = 0\n",
      "        ,@LandingzoneEntityId INT\n",
      "        ,@Schema NVARCHAR(100) \n",
      "        ,@Name NVARCHAR(200)\n",
      "        ,@FileType NVARCHAR(20) = 'Delta'\n",
      "        ,@LakehouseId INT\n",
      "        ,@PrimaryKeys NVARCHAR(200)\n",
      "        ,@IsActive BIT = 1)\n",
      "    WITH EXECUTE AS CALLER\n",
      "    AS \n",
      "\n",
      "    BEGIN\n",
      "    SET NOCOUNT ON;\n",
      "\n",
      "    DECLARE @OutputTable TABLE (BronzeLayerEntityId INT);\n",
      "\n",
      "    IF NOT EXISTS(SELECT 1\n",
      "                  FROM [integration].[BronzeLayerEntity]\n",
      "                  WHERE [BronzeLayerEntityId] = @BronzeLayerEntityId)\n",
      "    BEGIN\n",
      "        INSERT INTO [integration].[BronzeLayerEntity]\n",
      "            ([LandingzoneEntityId]\n",
      "            ,[IsActive]\n",
      "            ,[Schema]\n",
      "            ,[Name]\n",
      "            ,[FileType]\n",
      "            ,[LakehouseId]\n",
      "            ,[PrimaryKeys])\n",
      "        OUTPUT INSERTED.[BronzeLayerEntityId] INTO @OutputTable\n",
      "        VALUES (@LandingzoneEntityId\n",
      "            ,@IsActive\n",
      "            ,@Schema\n",
      "            ,@Name\n",
      "            ,@FileType\n",
      "            ,@LakehouseId\n",
      "            ,@PrimaryKeys);\n",
      "    END\n",
      "    ELSE\n",
      "    BEGIN\n",
      "        UPDATE [integration].[BronzeLayerEntity]\n",
      "        SET [LandingzoneEntityId] = @LandingzoneEntityId\n",
      "            ,[IsActive] = @IsActive\n",
      "            ,[Schema] = @Schema\n",
      "            ,[Name] = @Name\n",
      "            ,[FileType] = @FileType\n",
      "            ,[LakehouseId] = @LakehouseId\n",
      "            ,[PrimaryKeys] = @PrimaryKeys\n",
      "        OUTPUT INSERTED.[BronzeLayerEntityId] INTO @OutputTable\n",
      "        WHERE [BronzeLayerEntityId] = @BronzeLayerEntityId;\n",
      "    END\n",
      "\n",
      "    SELECT BronzeLayerEntityId FROM @OutputTable;\n",
      "END\n",
      "\n",
      "\"\n",
      " - execute \"\n",
      "    CREATE or ALTER  PROCEDURE [integration].[sp_UpsertConnection](\n",
      "        @ConnectionGuid UNIQUEIDENTIFIER\n",
      "        ,@Name nvarchar(200) \n",
      "        ,@Type nvarchar(50) \n",
      "        ,@IsActive bit \n",
      "\n",
      "    )\n",
      "    WITH EXECUTE AS CALLER\n",
      "    AS \n",
      "\n",
      "    SET NOCOUNT ON; \n",
      "\n",
      "    IF NOT EXISTS(SELECT  1\n",
      "                FROM [integration].[Connection]\n",
      "                WHERE [ConnectionGuid] = @ConnectionGuid)\n",
      "    BEGIN\n",
      "        INSERT INTO [integration].[Connection]\n",
      "            ([ConnectionGuid]\n",
      "            ,[Name]\n",
      "            ,[Type]\n",
      "            ,[IsActive]\n",
      "    )\n",
      "        VALUES (\n",
      "            @ConnectionGuid\n",
      "            ,@Name\n",
      "            ,@Type\n",
      "            ,@IsActive\n",
      "    );\n",
      "    END\n",
      "    ELSE\n",
      "    BEGIN\n",
      "        UPDATE [integration].[Connection]\n",
      "        SET [Name] = @Name\n",
      "            ,[Type] = @Type\n",
      "            ,[IsActive] = @IsActive\n",
      "            WHERE [ConnectionGuid] = @ConnectionGuid  \n",
      "    END\n",
      "    \n",
      "\"\n",
      " - execute \"\n",
      "    CREATE or ALTER PROCEDURE [integration].[sp_UpsertDataSource](\n",
      "        @ConnectionId INT \n",
      "        ,@DataSourceId INT = 0\n",
      "        ,@Name NVARCHAR(100)\n",
      "        ,@Namespace VARCHAR(10)\n",
      "        ,@Type VARCHAR(30)\n",
      "        ,@Description NVARCHAR(200)\n",
      "        ,@IsActive BIT = 1\n",
      "    )\n",
      "    WITH EXECUTE AS CALLER\n",
      "AS\n",
      "BEGIN\n",
      "    SET NOCOUNT ON;\n",
      "\n",
      "    DECLARE @InternalConnectionId BIGINT;\n",
      "    DECLARE @OutputTable TABLE (DataSourceId INT);\n",
      "\n",
      "    SET @InternalConnectionId = (SELECT [C].[ConnectionId]\n",
      "                                 FROM [integration].[Connection] [C]\n",
      "                                 WHERE [C].ConnectionId = @ConnectionId);\n",
      "\n",
      "    IF NOT EXISTS (SELECT 1\n",
      "                   FROM [integration].[DataSource]\n",
      "                   WHERE [DataSourceId] = @DataSourceId)\n",
      "    BEGIN\n",
      "        INSERT INTO [integration].[DataSource]\n",
      "            ([Name]\n",
      "            ,[Namespace]\n",
      "            ,[ConnectionId]\n",
      "            ,[Type]\n",
      "            ,[Description]\n",
      "            ,[IsActive])\n",
      "        OUTPUT INSERTED.[DataSourceId] INTO @OutputTable\n",
      "        VALUES (@Name\n",
      "            ,@Namespace\n",
      "            ,@InternalConnectionId\n",
      "            ,@Type\n",
      "            ,@Description\n",
      "            ,@IsActive);\n",
      "    END\n",
      "    ELSE\n",
      "    BEGIN\n",
      "        UPDATE [integration].[DataSource]\n",
      "        SET [Name] = @Name\n",
      "            ,[ConnectionId] = @InternalConnectionId\n",
      "            ,[Namespace] = @Namespace\n",
      "            ,[Type] = @Type\n",
      "            ,[Description] = @Description\n",
      "            ,[IsActive] = @IsActive\n",
      "        OUTPUT INSERTED.[DataSourceId] INTO @OutputTable\n",
      "        WHERE [DataSourceId] = @DataSourceId;\n",
      "    END\n",
      "\n",
      "    SELECT DataSourceId FROM @OutputTable;\n",
      "END\n",
      "\n",
      "\"\n",
      " - execute \"\n",
      "    CREATE or ALTER   PROCEDURE [integration].[sp_UpsertLakehouse](\n",
      "        @LakehouseId UNIQUEIDENTIFIER\n",
      "        ,@WorkspaceId UNIQUEIDENTIFIER\n",
      "        ,@Name NVARCHAR(100) \n",
      "    )\n",
      "    WITH EXECUTE AS CALLER\n",
      "    AS \n",
      "\n",
      "    SET NOCOUNT ON; \n",
      "\n",
      "    IF NOT EXISTS(SELECT  1\n",
      "                FROM [integration].[Lakehouse]\n",
      "                WHERE [LakehouseGuid] = @LakehouseId)\n",
      "    BEGIN\n",
      "        INSERT INTO [integration].[Lakehouse]\n",
      "            ([Name]\n",
      "            ,[LakehouseGuid]\n",
      "            ,[WorkspaceGuid])\n",
      "        VALUES (@Name\n",
      "            ,@LakehouseId\n",
      "            ,@WorkspaceId);\n",
      "\n",
      "    END\n",
      "    ELSE\n",
      "    BEGIN\n",
      "\n",
      "        UPDATE [integration].[Lakehouse]\n",
      "        SET [Name] = @Name,\n",
      "            [WorkspaceGuid] = @WorkspaceId\n",
      "        WHERE [LakehouseGuid] = @LakehouseId\n",
      "    END\n",
      "    \n",
      "\"\n",
      " - execute \"\n",
      "    CREATE or ALTER  PROCEDURE [integration].[sp_UpsertLandingzoneEntity](\n",
      "        @LandingzoneEntityId INT = 0\n",
      "        ,@DataSourceId INT\n",
      "        ,@LakehouseId INT\n",
      "        ,@SourceSchema NVARCHAR(100)\n",
      "        ,@SourceName NVARCHAR(200)\n",
      "        ,@FileName NVARCHAR(200)\n",
      "        ,@FilePath NVARCHAR(100)\n",
      "        ,@FileType NVARCHAR(20)\n",
      "        ,@IsIncremental bit\n",
      "        ,@IsIncrementalColumn NVARCHAR(50) = NULL\n",
      "        ,@IsActive BIT = 1\n",
      "    )\n",
      "WITH EXECUTE AS CALLER\n",
      "AS\n",
      "BEGIN\n",
      "    SET NOCOUNT ON;\n",
      "\n",
      "    DECLARE @OutputTable TABLE (LandingzoneEntityId INT);\n",
      "\n",
      "    IF NOT EXISTS(SELECT 1\n",
      "                  FROM [integration].[LandingzoneEntity]\n",
      "                  WHERE [LandingzoneEntityId] = @LandingzoneEntityId)\n",
      "    BEGIN\n",
      "        INSERT INTO [integration].[LandingzoneEntity]\n",
      "            ([DataSourceId]\n",
      "            ,[IsActive]\n",
      "            ,[SourceSchema]\n",
      "            ,[SourceName]\n",
      "            ,[FileName]\n",
      "            ,[FileType]\n",
      "            ,[FilePath]\n",
      "            ,[LakehouseId]\n",
      "            ,[IsIncremental]\n",
      "            ,[IsIncrementalColumn])\n",
      "        OUTPUT INSERTED.[LandingzoneEntityId] INTO @OutputTable\n",
      "        VALUES (@DataSourceId\n",
      "            ,@IsActive\n",
      "            ,@SourceSchema\n",
      "            ,@SourceName\n",
      "            ,@FileName\n",
      "            ,@FileType\n",
      "            ,@FilePath\n",
      "            ,@LakehouseId\n",
      "            ,@IsIncremental\n",
      "            ,@IsIncrementalColumn);\n",
      "    END\n",
      "    ELSE\n",
      "    BEGIN\n",
      "        UPDATE [integration].[LandingzoneEntity]\n",
      "        SET [DataSourceId] = @DataSourceId\n",
      "            ,[IsActive] = @IsActive\n",
      "            ,[SourceSchema] = @SourceSchema\n",
      "            ,[SourceName] = @SourceName\n",
      "            ,[FileName] = @FileName\n",
      "            ,[FileType] = @FileType\n",
      "            ,[FilePath] = @FilePath\n",
      "            ,[LakehouseId] = @LakehouseId\n",
      "            ,[IsIncremental] = @IsIncremental\n",
      "            ,[IsIncrementalColumn] = @IsIncrementalColumn\n",
      "        OUTPUT INSERTED.[LandingzoneEntityId] INTO @OutputTable\n",
      "        WHERE [LandingzoneEntityId] = @LandingzoneEntityId;\n",
      "    END\n",
      "\n",
      "    SELECT LandingzoneEntityId FROM @OutputTable;\n",
      "END\n",
      "\n",
      "\"\n",
      " - execute \"\n",
      "    CREATE or ALTER   PROCEDURE [integration].[sp_UpsertPipeline](\n",
      "        @PipelineId UNIQUEIDENTIFIER\n",
      "        ,@WorkspaceId UNIQUEIDENTIFIER\n",
      "        ,@Name NVARCHAR(100) \n",
      "    )\n",
      "    WITH EXECUTE AS CALLER\n",
      "    AS \n",
      "\n",
      "    SET NOCOUNT ON; \n",
      "\n",
      "    IF NOT EXISTS(SELECT  1\n",
      "                FROM [integration].[Pipeline]\n",
      "                WHERE [PipelineGuid] = @PipelineId)\n",
      "    BEGIN\n",
      "        INSERT INTO [integration].[Pipeline]\n",
      "            ([Name]\n",
      "            ,[PipelineGuid]\n",
      "            ,[WorkspaceGuid])\n",
      "        VALUES (@Name\n",
      "            ,@PipelineId\n",
      "            ,@WorkspaceId);\n",
      "\n",
      "    END\n",
      "    ELSE\n",
      "    BEGIN\n",
      "\n",
      "        UPDATE [integration].[Pipeline]\n",
      "        SET [Name] = @Name,\n",
      "            [WorkspaceGuid] = @WorkspaceId\n",
      "        WHERE [PipelineGuid] = @PipelineId\n",
      "    END\n",
      "    \n",
      "\"\n",
      " - execute \"\n",
      "    CREATE or ALTER PROCEDURE [integration].[sp_UpsertSilverLayerEntity](\n",
      "         @SilverLayerEntityId INT = 0 \n",
      "        ,@BronzeLayerEntityId INT\n",
      "        ,@LakehouseId INT\n",
      "        ,@Name NVARCHAR(200)\n",
      "        ,@Schema NVARCHAR(100)\n",
      "        ,@FileType NVARCHAR(20) = 'Delta'\n",
      "        ,@IsActive BIT = 1)\n",
      "\n",
      "WITH EXECUTE AS CALLER\n",
      "AS\n",
      "BEGIN\n",
      "    SET NOCOUNT ON;\n",
      "\n",
      "    DECLARE @OutputTable TABLE (SilverLayerEntityId INT);\n",
      "\n",
      "    IF NOT EXISTS(SELECT 1\n",
      "                  FROM [integration].[SilverLayerEntity]\n",
      "                  WHERE [SilverLayerEntityId] = @SilverLayerEntityId)\n",
      "    BEGIN\n",
      "        INSERT INTO [integration].[SilverLayerEntity]\n",
      "            ([BronzeLayerEntityId]\n",
      "            ,[IsActive]\n",
      "            ,[Schema]\n",
      "            ,[Name]\n",
      "            ,[FileType]\n",
      "            ,[LakehouseId])\n",
      "        OUTPUT INSERTED.[SilverLayerEntityId] INTO @OutputTable\n",
      "        VALUES (@BronzeLayerEntityId\n",
      "            ,@IsActive\n",
      "            ,@Schema\n",
      "            ,@Name\n",
      "            ,@FileType\n",
      "            ,@LakehouseId);\n",
      "    END\n",
      "    ELSE\n",
      "    BEGIN\n",
      "        UPDATE [integration].[SilverLayerEntity]\n",
      "        SET [BronzeLayerEntityId] = @BronzeLayerEntityId\n",
      "            ,[Schema] = @Schema\n",
      "            ,[Name] = @Name\n",
      "            ,[FileType] = @FileType\n",
      "            ,[LakehouseId] = @LakehouseId\n",
      "            ,[IsActive] = @IsActive\n",
      "        OUTPUT INSERTED.[SilverLayerEntityId] INTO @OutputTable\n",
      "        WHERE [SilverLayerEntityId] = @SilverLayerEntityId;\n",
      "    END\n",
      "\n",
      "    SELECT SilverLayerEntityId FROM @OutputTable;\n",
      "END\n",
      "\n",
      "\"\n",
      " - execute \"\n",
      "    CREATE or ALTER  PROCEDURE [integration].[sp_UpsertWorkspace](\n",
      "        @WorkspaceId UNIQUEIDENTIFIER\n",
      "        ,@Name NVARCHAR(100) \n",
      "    )\n",
      "    WITH EXECUTE AS CALLER\n",
      "    AS \n",
      "\n",
      "    SET NOCOUNT ON; \n",
      "\n",
      "    IF NOT EXISTS(SELECT  1\n",
      "                FROM [integration].[Workspace]\n",
      "                WHERE [WorkspaceGuid] = @WorkspaceId)\n",
      "    BEGIN\n",
      "        INSERT INTO [integration].[Workspace]\n",
      "            ([Name]\n",
      "            ,[WorkspaceGuid])\n",
      "        VALUES (@Name\n",
      "            ,@WorkspaceId);\n",
      "\n",
      "    END\n",
      "    ELSE\n",
      "    BEGIN\n",
      "\n",
      "        UPDATE [integration].[Workspace]\n",
      "        SET [Name] = @Name\n",
      "        WHERE [WorkspaceGuid] = @WorkspaceId\n",
      "    END\n",
      "    \n",
      "\"\n",
      " - execute \"EXEC [integration].[sp_UpsertConnection] @ConnectionGuid = \"00000000-0000-0000-0000-000000000000\", @Name = \"CON_FMD_ONELAKE\", @Type = \"ONELAKE\", @IsActive = 1\"\n",
      " - execute \"EXEC [integration].[sp_UpsertConnection] @ConnectionGuid = \"cf673e6a-13f6-4ebb-9cbb-4ba4ab390818\", @Name = \"CON_FMD_ASQL_01\", @Type = \"SQL\", @IsActive = 1\"\n",
      " - execute \"EXEC [integration].[sp_UpsertConnection] @ConnectionGuid = \"11a8e5fe-fbca-4822-9ba4-9162cf56e6dd\", @Name = \"CON_FMD_ASQL_02\", @Type = \"SQL\", @IsActive = 1\"\n",
      " - execute \"EXEC [integration].[sp_UpsertConnection] @ConnectionGuid = \"a0581b6e-5e38-46eb-bab2-7f08e9a35c30\", @Name = \"CON_FMD_ADLS_01\", @Type = \"ADLS\", @IsActive = 1\"\n",
      " - execute \"EXEC [integration].[sp_UpsertConnection] @ConnectionGuid = \"e93f565a-e2bc-4b60-900e-1907e825e37c\", @Name = \"CON_FMD_ADF_PIPELINES\", @Type = \"ADF\", @IsActive = 1\"\n",
      " - execute \"\n",
      "    DECLARE @DataSourceIdInternal INT = (SELECT DataSourceId FROM integration.DataSource WHERE Name = 'LH_DATA_LANDINGZONE')\n",
      "    DECLARE @ConnectionIdInternal INT = (SELECT ConnectionId FROM integration.Connection WHERE ConnectionGuid = '00000000-0000-0000-0000-000000000000')\n",
      "    EXECUTE [integration].[sp_UpsertDataSource] \n",
      "        @ConnectionId = @ConnectionIdInternal\n",
      "        ,@DataSourceId = @DataSourceIdInternal\n",
      "        ,@Name = 'LH_DATA_LANDINGZONE'\n",
      "        ,@Namespace = 'ONELAKE'\n",
      "        ,@Type = 'ONELAKE_TABLES_01'\n",
      "        ,@Description = 'ONELAKE_TABLES'\n",
      "        ,@IsActive = 1\n",
      "\"\n",
      " - execute \"EXEC [integration].[sp_UpsertWorkspace] @WorkspaceId = \"6f4b7a28-18c6-4b18-988f-ad7cd273a9d0\", @Name = \"DEMO1 LOG FMD\"\"\n",
      " - execute \"EXEC [integration].[sp_UpsertWorkspace] @WorkspaceId = \"75c9bcc7-e074-4ca7-9a7e-76eacc2c94ea\", @Name = \"DEMO1 CONFIG FMD\"\"\n",
      " - execute \"EXEC [integration].[sp_UpsertWorkspace] @WorkspaceId = \"208c0835-9575-4b05-b170-5640973088e7\", @Name = \"DEMO1 CODE (D) FMD\"\"\n",
      " - execute \"EXEC [integration].[sp_UpsertWorkspace] @WorkspaceId = \"556754dc-f7eb-4ddf-9bf8-a2c4fa252c94\", @Name = \"DEMO1 DATA (D) FMD\"\"\n",
      " - execute \"EXEC [integration].[sp_UpsertWorkspace] @WorkspaceId = \"e71cb5df-b718-4cb3-8cb6-07abddb65f38\", @Name = \"DEMO1 CODE (P) FMD\"\"\n",
      " - execute \"EXEC [integration].[sp_UpsertWorkspace] @WorkspaceId = \"254a1222-703f-46e2-adb3-ac40a67421ec\", @Name = \"DEMO1 DATA (P) FMD\"\"\n",
      " - execute \"EXEC [integration].[sp_UpsertPipeline] @PipelineId = \"e2249af1-0605-4db6-835c-5fc304d515f7\", @WorkspaceId = \"556754dc-f7eb-4ddf-9bf8-a2c4fa252c94\" ,@Name = \"PL_FMD_LOAD_LANDINGZONE\"\"\n",
      " - execute \"EXEC [integration].[sp_UpsertPipeline] @PipelineId = \"61d79c1f-5ca6-419d-94de-1b88519e1aee\", @WorkspaceId = \"556754dc-f7eb-4ddf-9bf8-a2c4fa252c94\" ,@Name = \"PL_FMD_LOAD_ALL\"\"\n",
      " - execute \"EXEC [integration].[sp_UpsertPipeline] @PipelineId = \"c58ef9f9-5ef6-4644-a274-d9b39bb678bc\", @WorkspaceId = \"556754dc-f7eb-4ddf-9bf8-a2c4fa252c94\" ,@Name = \"PL_FMD_LOAD_BRONZE\"\"\n",
      " - execute \"EXEC [integration].[sp_UpsertPipeline] @PipelineId = \"7cbe6476-c470-42bd-b34a-191745fb21d4\", @WorkspaceId = \"556754dc-f7eb-4ddf-9bf8-a2c4fa252c94\" ,@Name = \"PL_FMD_LOAD_SILVER\"\"\n",
      " - execute \"EXEC [integration].[sp_UpsertPipeline] @PipelineId = \"bab73525-86ad-40a8-be73-762c38e8f618\", @WorkspaceId = \"556754dc-f7eb-4ddf-9bf8-a2c4fa252c94\" ,@Name = \"PL_FMD_LDZ_COPY_FROM_ASQL_01\"\"\n",
      " - execute \"EXEC [integration].[sp_UpsertPipeline] @PipelineId = \"712c38ca-e1c9-4c14-a1ba-844459697490\", @WorkspaceId = \"556754dc-f7eb-4ddf-9bf8-a2c4fa252c94\" ,@Name = \"PL_FMD_LDZ_COPY_FROM_ONELAKE_TABLES_01\"\"\n",
      " - execute \"EXEC [integration].[sp_UpsertPipeline] @PipelineId = \"b449d9b6-295a-4552-9542-a67ebd1859f5\", @WorkspaceId = \"556754dc-f7eb-4ddf-9bf8-a2c4fa252c94\" ,@Name = \"PL_FMD_LDZ_COPY_FROM_ADLS_01\"\"\n",
      " - execute \"EXEC [integration].[sp_UpsertPipeline] @PipelineId = \"9f33b2f7-431c-4bbb-9a4d-f61443168d72\", @WorkspaceId = \"556754dc-f7eb-4ddf-9bf8-a2c4fa252c94\" ,@Name = \"PL_FMD_LDZ_COPY_FROM_ASQL_02\"\"\n",
      " - execute \"EXEC [integration].[sp_UpsertPipeline] @PipelineId = \"7adb0642-d4c6-4bec-b46c-14ffdc51acf9\", @WorkspaceId = \"556754dc-f7eb-4ddf-9bf8-a2c4fa252c94\" ,@Name = \"PL_FMD_LDZ_COMMAND_ASQL\"\"\n",
      " - execute \"EXEC [integration].[sp_UpsertPipeline] @PipelineId = \"42369dee-6207-46b0-a7f3-b4811682f17a\", @WorkspaceId = \"556754dc-f7eb-4ddf-9bf8-a2c4fa252c94\" ,@Name = \"PL_FMD_LDZ_COMMAND_ADLS\"\"\n",
      " - execute \"EXEC [integration].[sp_UpsertPipeline] @PipelineId = \"010fb69d-df95-49a1-b433-2cb38e5d0ba2\", @WorkspaceId = \"556754dc-f7eb-4ddf-9bf8-a2c4fa252c94\" ,@Name = \"PL_FMD_LDZ_COMMAND_ONELAKE\"\"\n",
      " - execute \"EXEC [integration].[sp_UpsertPipeline] @PipelineId = \"58d3ad7d-57e2-4ed1-b7a4-7f21043e6aa3\", @WorkspaceId = \"556754dc-f7eb-4ddf-9bf8-a2c4fa252c94\" ,@Name = \"PL_FMD_LDZ_COPY_FROM_ADF\"\"\n",
      " - execute \"EXEC [integration].[sp_UpsertPipeline] @PipelineId = \"8a65abf2-de83-491f-bd25-89cf2ba4fa73\", @WorkspaceId = \"556754dc-f7eb-4ddf-9bf8-a2c4fa252c94\" ,@Name = \"PL_FMD_LDZ_COMMAND_ADF\"\"\n",
      " - execute \"EXEC [integration].[sp_UpsertPipeline] @PipelineId = \"cb12d2e2-7809-45d8-84a9-5b28065b5e48\", @WorkspaceId = \"556754dc-f7eb-4ddf-9bf8-a2c4fa252c94\" ,@Name = \"PL_TOOLING_POST_ASQL_TO_FMD\"\"\n",
      " - execute \"EXEC [integration].[sp_UpsertPipeline] @PipelineId = \"47526a81-2cd4-4075-a831-d195ba301190\", @WorkspaceId = \"254a1222-703f-46e2-adb3-ac40a67421ec\" ,@Name = \"PL_FMD_LOAD_LANDINGZONE\"\"\n",
      " - execute \"EXEC [integration].[sp_UpsertPipeline] @PipelineId = \"a62d6d19-3036-465f-ad0b-232b389e0d9d\", @WorkspaceId = \"254a1222-703f-46e2-adb3-ac40a67421ec\" ,@Name = \"PL_FMD_LOAD_ALL\"\"\n",
      " - execute \"EXEC [integration].[sp_UpsertPipeline] @PipelineId = \"22586fc4-1eab-482b-8fa9-1004de54e53d\", @WorkspaceId = \"254a1222-703f-46e2-adb3-ac40a67421ec\" ,@Name = \"PL_FMD_LOAD_BRONZE\"\"\n",
      " - execute \"EXEC [integration].[sp_UpsertPipeline] @PipelineId = \"e568ccbd-8820-48e7-9c09-89f3f805ffa3\", @WorkspaceId = \"254a1222-703f-46e2-adb3-ac40a67421ec\" ,@Name = \"PL_FMD_LOAD_SILVER\"\"\n",
      " - execute \"EXEC [integration].[sp_UpsertPipeline] @PipelineId = \"e59a3a53-2402-42a4-a60e-0d4d19405d8f\", @WorkspaceId = \"254a1222-703f-46e2-adb3-ac40a67421ec\" ,@Name = \"PL_FMD_LDZ_COPY_FROM_ASQL_01\"\"\n",
      " - execute \"EXEC [integration].[sp_UpsertPipeline] @PipelineId = \"63ff9120-7d16-4f37-b7d2-7c9a264007f0\", @WorkspaceId = \"254a1222-703f-46e2-adb3-ac40a67421ec\" ,@Name = \"PL_FMD_LDZ_COPY_FROM_ONELAKE_TABLES_01\"\"\n",
      " - execute \"EXEC [integration].[sp_UpsertPipeline] @PipelineId = \"6ca1ee79-322b-440c-b5b4-598f8c01a969\", @WorkspaceId = \"254a1222-703f-46e2-adb3-ac40a67421ec\" ,@Name = \"PL_FMD_LDZ_COPY_FROM_ADLS_01\"\"\n",
      " - execute \"EXEC [integration].[sp_UpsertPipeline] @PipelineId = \"935b4fab-5b23-46fe-9a99-5db5beb47e83\", @WorkspaceId = \"254a1222-703f-46e2-adb3-ac40a67421ec\" ,@Name = \"PL_FMD_LDZ_COPY_FROM_ASQL_02\"\"\n",
      " - execute \"EXEC [integration].[sp_UpsertPipeline] @PipelineId = \"a6c103f5-f5f3-49b6-85ee-b7ef0332a518\", @WorkspaceId = \"254a1222-703f-46e2-adb3-ac40a67421ec\" ,@Name = \"PL_FMD_LDZ_COMMAND_ASQL\"\"\n",
      " - execute \"EXEC [integration].[sp_UpsertPipeline] @PipelineId = \"ab996df4-3c2f-451d-81b8-b4e991835bee\", @WorkspaceId = \"254a1222-703f-46e2-adb3-ac40a67421ec\" ,@Name = \"PL_FMD_LDZ_COMMAND_ADLS\"\"\n",
      " - execute \"EXEC [integration].[sp_UpsertPipeline] @PipelineId = \"4dcd8af2-b050-4616-8fca-f4f96a9099b7\", @WorkspaceId = \"254a1222-703f-46e2-adb3-ac40a67421ec\" ,@Name = \"PL_FMD_LDZ_COMMAND_ONELAKE\"\"\n",
      " - execute \"EXEC [integration].[sp_UpsertPipeline] @PipelineId = \"703f6bac-4e4c-462b-99d9-f3b9c3d527fb\", @WorkspaceId = \"254a1222-703f-46e2-adb3-ac40a67421ec\" ,@Name = \"PL_FMD_LDZ_COPY_FROM_ADF\"\"\n",
      " - execute \"EXEC [integration].[sp_UpsertPipeline] @PipelineId = \"7a0ad13e-bb1e-47e8-85d2-2a6146a54363\", @WorkspaceId = \"254a1222-703f-46e2-adb3-ac40a67421ec\" ,@Name = \"PL_FMD_LDZ_COMMAND_ADF\"\"\n",
      " - execute \"EXEC [integration].[sp_UpsertPipeline] @PipelineId = \"f928896f-ac0b-4b61-a2b3-b45de878f9af\", @WorkspaceId = \"254a1222-703f-46e2-adb3-ac40a67421ec\" ,@Name = \"PL_TOOLING_POST_ASQL_TO_FMD\"\"\n",
      " - execute \"EXEC [integration].[sp_UpsertLakehouse] @LakehouseId = \"daf9b505-61a8-4fa0-ab16-ae3ee5db0bd8\", @WorkspaceId = \"556754dc-f7eb-4ddf-9bf8-a2c4fa252c94\" ,@Name = \"LH_DATA_LANDINGZONE\"\"\n",
      " - execute \"EXEC [integration].[sp_UpsertLakehouse] @LakehouseId = \"367b1765-b0ac-4f08-9d6c-cf72522ed14f\", @WorkspaceId = \"556754dc-f7eb-4ddf-9bf8-a2c4fa252c94\" ,@Name = \"LH_BRONZE_LAYER\"\"\n",
      " - execute \"EXEC [integration].[sp_UpsertLakehouse] @LakehouseId = \"972b0750-d1e5-4d59-b1c0-9bffdc6dd789\", @WorkspaceId = \"556754dc-f7eb-4ddf-9bf8-a2c4fa252c94\" ,@Name = \"LH_SILVER_LAYER\"\"\n",
      " - execute \"EXEC [integration].[sp_UpsertLakehouse] @LakehouseId = \"b06c6404-9533-44af-8571-f92c3925ac91\", @WorkspaceId = \"254a1222-703f-46e2-adb3-ac40a67421ec\" ,@Name = \"LH_DATA_LANDINGZONE\"\"\n",
      " - execute \"EXEC [integration].[sp_UpsertLakehouse] @LakehouseId = \"037d2f80-e858-4c5b-ae0e-e4419052876d\", @WorkspaceId = \"254a1222-703f-46e2-adb3-ac40a67421ec\" ,@Name = \"LH_BRONZE_LAYER\"\"\n",
      " - execute \"EXEC [integration].[sp_UpsertLakehouse] @LakehouseId = \"997f1ceb-d4e9-4b03-8138-349f69f9e647\", @WorkspaceId = \"254a1222-703f-46e2-adb3-ac40a67421ec\" ,@Name = \"LH_SILVER_LAYER\"\"\n",
      " - execute \"\n",
      "    DECLARE @LandingzoneEntityIdInternal INT = (SELECT LandingzoneEntityId FROM integration.LandingzoneEntity WHERE SourceSchema = 'in' and SourceName = 'customer')\n",
      "    DECLARE @DataSourceIdInternal INT = (SELECT DataSourceId FROM integration.DataSource WHERE Name = 'LH_DATA_LANDINGZONE')\n",
      "    DECLARE @LakehouseIdInternal INT = (SELECT top 1 LakehouseId FROM integration.Lakehouse WHERE Name = 'LH_DATA_LANDINGZONE')\n",
      "    EXECUTE [integration].[sp_UpsertLandingzoneEntity] \n",
      "        @LandingzoneEntityId = @LandingzoneEntityIdInternal\n",
      "        ,@DataSourceId = @DataSourceIdInternal\n",
      "        ,@LakehouseId = @LakehouseIdInternal\n",
      "        ,@SourceSchema = 'in'\n",
      "        ,@SourceName = 'customer'\n",
      "        ,@FileName = 'customer'\n",
      "        ,@FilePath = 'in'\n",
      "        ,@FileType = 'parquet'\n",
      "        ,@IsIncremental = 0\n",
      "        ,@IsIncrementalColumn = ''\n",
      "        ,@IsActive = 1\n",
      "\"\n",
      " - execute \"\n",
      "    DECLARE @LandingzoneEntityIdInternal INT = (SELECT LandingzoneEntityId FROM integration.LandingzoneEntity WHERE SourceSchema = 'in' and SourceName = 'customer')\n",
      "    DECLARE @BronzeLayerEntityIdInternal INT = (SELECT BronzeLayerEntityId FROM integration.BronzeLayerEntity WHERE [Schema] = 'in' and [Name] = 'customer')\n",
      "    DECLARE @LakehouseIdInternal INT = (SELECT top 1 LakehouseId FROM integration.Lakehouse WHERE Name = 'LH_BRONZE_LAYER')\n",
      "    EXECUTE [integration].[sp_UpsertBronzeLayerEntity] \n",
      "        @BronzeLayerEntityId = @BronzeLayerEntityIdInternal\n",
      "        ,@LandingzoneEntityId = @LandingzoneEntityIdInternal\n",
      "        ,@Schema = 'in'\n",
      "        ,@Name = 'customer'\n",
      "        ,@FileType = 'Delta'\n",
      "        ,@LakehouseId = @LakehouseIdInternal\n",
      "        ,@PrimaryKeys = 'CustomerId'\n",
      "        ,@IsActive = 1\n",
      "\"\n",
      " - execute \"\n",
      "    DECLARE @BronzeLayerEntityIdInternal INT = (SELECT BronzeLayerEntityId FROM integration.BronzeLayerEntity WHERE [Schema] = 'in' and [Name] = 'customer')\n",
      "    DECLARE @SilverLayerEntityIdInternal INT = (SELECT SilverLayerEntityId FROM integration.SilverLayerEntity WHERE [Schema] = 'in' and [Name] = 'customer')\n",
      "    DECLARE @LakehouseIdInternal INT = (SELECT top 1 LakehouseId FROM integration.Lakehouse WHERE Name = 'LH_SILVER_LAYER')\n",
      "    EXECUTE [integration].[sp_UpsertSilverLayerEntity] \n",
      "        @SilverLayerEntityId = @SilverLayerEntityIdInternal\n",
      "        ,@BronzeLayerEntityId = @BronzeLayerEntityIdInternal\n",
      "        ,@LakehouseId = @LakehouseIdInternal\n",
      "        ,@Name = 'customer'\n",
      "        ,@Schema = 'in'\n",
      "        ,@FileType = 'delta'\n",
      "        ,@IsActive = 1\n",
      "\"\n"
     ]
    }
   ],
   "source": [
    "for target_item in deployment_manifest['configuration']['items']:\n",
    "    if target_item['type'] == 'SQLDatabase':\n",
    "        connstring = target_item[\"connectionString\"]\n",
    "        database = target_item['databaseName']\n",
    "\n",
    "try:\n",
    "    i = 0\n",
    "    token = mssparkutils.credentials.getToken('https://analysis.windows.net/powerbi/api').encode(\"UTF-16-LE\")\n",
    "    token_struct = struct.pack(f'<I{len(token)}s', len(token), token)\n",
    "    print(f\"DRIVER={driver};SERVER={connstring};PORT=1433;DATABASE={database};\")\n",
    "    connection = pyodbc.connect(f\"DRIVER={driver};SERVER={connstring};PORT=1433;DATABASE={database};\", attrs_before={1256:token_struct}, timeout=12)\n",
    "\n",
    "    with connection.cursor() as cursor:\n",
    "        cursor.execute(\"SELECT 1\")  # Execute the warm-up query (a simple query like 'SELECT 1' can be used)\n",
    "        cursor.fetchone()\n",
    "        connection.timeout = 5  # Setting a lower timeout for subsequent queries\n",
    "        for i, query in enumerate(deployment_manifest[\"configuration\"][\"queries_tables\"]):\n",
    "            print(f' - execute \"{query}\"')\n",
    "            cursor.execute(query)\n",
    "            cursor.commit()\n",
    "        for i, query in enumerate(deployment_manifest[\"configuration\"][\"queries_views\"]):\n",
    "            print(f' - execute \"{query}\"')\n",
    "            cursor.execute(query)\n",
    "            cursor.commit()\n",
    "        for i, query in enumerate(deployment_manifest[\"configuration\"][\"queries_stored_procedures\"]):\n",
    "            print(f' - execute \"{query}\"')\n",
    "            cursor.execute(query)\n",
    "            cursor.commit()\n",
    "    tasks.append({\"task_name\":f\"{workspace.get('displayName')} {database} query {i}\", \"task_duration\": 1, \"status\": f\"success\"})\n",
    "except pyodbc.OperationalError as e:\n",
    "    print(e) \n",
    "    tasks.append({\"task_name\":f\"{workspace.get('displayName')} {database} query {i}\", \"task_duration\": 1, \"status\": f\"pyodbc failed: {e}\"})\n",
    "except Exception as e:\n",
    "    print(e) \n",
    "    tasks.append({\"task_name\":f\"{workspace.get('displayName')} {database} query {i}\", \"task_duration\": 1, \"status\": f\"failed: {e}\"})"
   ]
  },
  {
   "cell_type": "code",
   "execution_count": 439,
   "id": "b3b7c873-295f-4e1d-ba84-b6689800f4c5",
   "metadata": {
    "collapsed": false,
    "microsoft": {
     "language": "python",
     "language_group": "synapse_pyspark"
    }
   },
   "outputs": [
    {
     "data": {
      "application/vnd.livy.statement-meta+json": {
       "execution_finish_time": "2025-03-12T22:03:28.7684056Z",
       "execution_start_time": "2025-03-12T22:03:27.2613685Z",
       "livy_statement_state": "available",
       "normalized_state": "finished",
       "parent_msg_id": "1a45edba-9a95-43b7-8477-3c6aef33cd8b",
       "queued_time": "2025-03-12T22:02:06.831426Z",
       "session_id": "95e50a05-94ce-4a80-b142-46099c8476e7",
       "session_start_time": null,
       "spark_pool": null,
       "state": "finished",
       "statement_id": 138,
       "statement_ids": [
        138
       ]
      },
      "text/plain": [
       "StatementMeta(, 95e50a05-94ce-4a80-b142-46099c8476e7, 138, Finished, Available, Finished)"
      ]
     },
     "metadata": {},
     "output_type": "display_data"
    },
    {
     "data": {
      "application/vnd.synapse.widget-view+json": {
       "widget_id": "c03c4840-c5f4-4e5f-a368-6e14c0aaea51",
       "widget_type": "Synapse.DataFrame"
      },
      "text/plain": [
       "SynapseWidget(Synapse.DataFrame, c03c4840-c5f4-4e5f-a368-6e14c0aaea51)"
      ]
     },
     "metadata": {},
     "output_type": "display_data"
    }
   ],
   "source": [
    "display(tasks)"
   ]
  }
 ],
 "metadata": {
  "a365ComputeOptions": null,
  "dependencies": {
   "lakehouse": {}
  },
  "kernel_info": {
   "name": "synapse_pyspark"
  },
  "kernelspec": {
   "display_name": "Synapse PySpark",
   "language": "Python",
   "name": "synapse_pyspark"
  },
  "language_info": {
   "name": "python"
  },
  "microsoft": {
   "language": "python",
   "language_group": "synapse_pyspark",
   "ms_spell_check": {
    "ms_spell_check_language": "en"
   }
  },
  "nteract": {
   "version": "nteract-front-end@1.0.0"
  },
  "sessionKeepAliveTimeout": 0,
  "spark_compute": {
   "compute_id": "/trident/default",
   "session_options": {
    "conf": {
     "spark.synapse.nbs.session.timeout": "1200000"
    }
   }
  },
  "synapse_widget": {
   "state": {
    "c03c4840-c5f4-4e5f-a368-6e14c0aaea51": {
     "persist_state": {
      "view": {
       "chartOptions": {
        "aggregationType": "count",
        "binsNumber": 10,
        "categoryFieldKeys": [
         "0"
        ],
        "chartType": "bar",
        "evaluatesOverAllRecords": false,
        "isStacked": false,
        "seriesFieldKeys": [
         "2"
        ],
        "wordFrequency": "-1"
       },
       "tableOptions": {},
       "type": "details",
       "viewOptionsGroup": [
        {
         "tabItems": [
          {
           "key": "0",
           "name": "Table",
           "options": {},
           "type": "table"
          }
         ]
        }
       ]
      }
     },
     "sync_state": {
      "isSummary": false,
      "language": "scala",
      "table": {
       "rows": [
        {
         "0": "success",
         "1": "3",
         "2": "Workspace 'DEMO1 DATA (D) FMD' connected to capacity ID: 560C908C-072A-478C-939C-CFC4398D2FDB"
        },
        {
         "0": "success",
         "1": "4",
         "2": "Skipping: sg-fabric-contributor for 556754dc-f7eb-4ddf-9bf8-a2c4fa252c94"
        },
        {
         "0": "success",
         "1": "4",
         "2": "Skipping: sg-fabric-admin for 556754dc-f7eb-4ddf-9bf8-a2c4fa252c94"
        },
        {
         "0": "success",
         "1": "6",
         "2": "Workspace 'DEMO1 CODE (D) FMD' connected to capacity ID: 560C908C-072A-478C-939C-CFC4398D2FDB"
        },
        {
         "0": "success",
         "1": "6",
         "2": "Skipping: sg-fabric-contributor for 208c0835-9575-4b05-b170-5640973088e7"
        },
        {
         "0": "success",
         "1": "6",
         "2": "Skipping: sg-fabric-admin for 208c0835-9575-4b05-b170-5640973088e7"
        },
        {
         "0": "success",
         "1": "8",
         "2": "Workspace 'DEMO1 CONFIG FMD' connected to capacity ID: 2BDC6A16-1EE7-4BAD-9127-5EF6BEB00E84"
        },
        {
         "0": "success",
         "1": "8",
         "2": "Skipping: sg-fabric-contributor for 75c9bcc7-e074-4ca7-9a7e-76eacc2c94ea"
        },
        {
         "0": "success",
         "1": "8",
         "2": "Skipping: sg-fabric-admin for 75c9bcc7-e074-4ca7-9a7e-76eacc2c94ea"
        },
        {
         "0": "success",
         "1": "11",
         "2": "Workspace 'DEMO1 LOG FMD' connected to capacity ID: 560C908C-072A-478C-939C-CFC4398D2FDB"
        },
        {
         "0": "success",
         "1": "11",
         "2": "Skipping: sg-fabric-contributor for 6f4b7a28-18c6-4b18-988f-ad7cd273a9d0"
        },
        {
         "0": "success",
         "1": "11",
         "2": "Skipping: sg-fabric-admin for 6f4b7a28-18c6-4b18-988f-ad7cd273a9d0"
        },
        {
         "0": "success",
         "1": "14",
         "2": "Workspace 'DEMO1 DATA (P) FMD' connected to capacity ID: 560C908C-072A-478C-939C-CFC4398D2FDB"
        },
        {
         "0": "success",
         "1": "14",
         "2": "Skipping: sg-fabric-contributor for 254a1222-703f-46e2-adb3-ac40a67421ec"
        },
        {
         "0": "success",
         "1": "14",
         "2": "Skipping: sg-fabric-admin for 254a1222-703f-46e2-adb3-ac40a67421ec"
        },
        {
         "0": "success",
         "1": "17",
         "2": "Workspace 'DEMO1 CODE (P) FMD' connected to capacity ID: 560C908C-072A-478C-939C-CFC4398D2FDB"
        },
        {
         "0": "success",
         "1": "17",
         "2": "Skipping: sg-fabric-contributor for e71cb5df-b718-4cb3-8cb6-07abddb65f38"
        },
        {
         "0": "success",
         "1": "17",
         "2": "Skipping: sg-fabric-admin for e71cb5df-b718-4cb3-8cb6-07abddb65f38"
        },
        {
         "0": "success",
         "1": "19",
         "2": "Workspace 'DEMO1 CONFIG FMD' connected to capacity ID: 2BDC6A16-1EE7-4BAD-9127-5EF6BEB00E84"
        },
        {
         "0": "success",
         "1": "19",
         "2": "Skipping: sg-fabric-contributor for 75c9bcc7-e074-4ca7-9a7e-76eacc2c94ea"
        },
        {
         "0": "success",
         "1": "19",
         "2": "Skipping: sg-fabric-admin for 75c9bcc7-e074-4ca7-9a7e-76eacc2c94ea"
        },
        {
         "0": "success",
         "1": "23",
         "2": "Workspace 'DEMO1 LOG FMD' connected to capacity ID: 560C908C-072A-478C-939C-CFC4398D2FDB"
        },
        {
         "0": "success",
         "1": "23",
         "2": "Skipping: sg-fabric-contributor for 6f4b7a28-18c6-4b18-988f-ad7cd273a9d0"
        },
        {
         "0": "success",
         "1": "23",
         "2": "Skipping: sg-fabric-admin for 6f4b7a28-18c6-4b18-988f-ad7cd273a9d0"
        },
        {
         "0": "success",
         "1": "0",
         "2": "Update item  Definition ENV_FMD"
        },
        {
         "0": "success",
         "1": "0",
         "2": "Update item  Definition NB_FMD_LOAD_BRONZE_SILVER"
        },
        {
         "0": "success",
         "1": "0",
         "2": "Update item  Definition NB_FMD_LOAD_LANDING_BRONZE"
        },
        {
         "0": "success",
         "1": "2",
         "2": "Update item  Definition PL_FMD_LOAD_LANDINGZONE"
        },
        {
         "0": "success",
         "1": "1",
         "2": "Update item  Definition PL_FMD_LOAD_ALL"
        },
        {
         "0": "success",
         "1": "1",
         "2": "Update item  Definition PL_FMD_LOAD_BRONZE"
        },
        {
         "0": "success",
         "1": "1",
         "2": "Update item  Definition PL_FMD_LOAD_SILVER"
        },
        {
         "0": "success",
         "1": "1",
         "2": "Update item  Definition PL_FMD_LDZ_COPY_FROM_ASQL_01"
        },
        {
         "0": "success",
         "1": "1",
         "2": "Update item  Definition PL_FMD_LDZ_COPY_FROM_ONELAKE_TABLES_01"
        },
        {
         "0": "success",
         "1": "1",
         "2": "Update item  Definition PL_FMD_LDZ_COPY_FROM_ADLS_01"
        },
        {
         "0": "success",
         "1": "1",
         "2": "Update item  Definition PL_FMD_LDZ_COPY_FROM_ASQL_02"
        },
        {
         "0": "success",
         "1": "1",
         "2": "Update item  Definition PL_FMD_LDZ_COMMAND_ASQL"
        },
        {
         "0": "success",
         "1": "1",
         "2": "Update item  Definition PL_FMD_LDZ_COMMAND_ADLS"
        },
        {
         "0": "success",
         "1": "1",
         "2": "Update item  Definition PL_FMD_LDZ_COMMAND_ONELAKE"
        },
        {
         "0": "success",
         "1": "1",
         "2": "Update item  Definition PL_FMD_LDZ_COPY_FROM_ADF"
        },
        {
         "0": "success",
         "1": "1",
         "2": "Update item  Definition PL_FMD_LDZ_COMMAND_ADF"
        },
        {
         "0": "success",
         "1": "0",
         "2": "Update item  Definition NB_FMD_DQ_CLEANSING"
        },
        {
         "0": "success",
         "1": "1",
         "2": "Update item  Definition PL_TOOLING_POST_ASQL_TO_FMD"
        },
        {
         "0": "success",
         "1": "1",
         "2": "Deploy PL_TOOLING_POST_ASQL_TO_FMD"
        },
        {
         "0": "success",
         "1": "0",
         "2": "Update item  Definition ENV_FMD"
        },
        {
         "0": "success",
         "1": "0",
         "2": "Update item  Definition NB_FMD_LOAD_BRONZE_SILVER"
        },
        {
         "0": "success",
         "1": "0",
         "2": "Update item  Definition NB_FMD_LOAD_LANDING_BRONZE"
        },
        {
         "0": "success",
         "1": "1",
         "2": "Update item  Definition PL_FMD_LOAD_LANDINGZONE"
        },
        {
         "0": "success",
         "1": "1",
         "2": "Update item  Definition PL_FMD_LOAD_ALL"
        },
        {
         "0": "success",
         "1": "1",
         "2": "Update item  Definition PL_FMD_LOAD_BRONZE"
        },
        {
         "0": "success",
         "1": "1",
         "2": "Update item  Definition PL_FMD_LOAD_SILVER"
        },
        {
         "0": "success",
         "1": "1",
         "2": "Update item  Definition PL_FMD_LDZ_COPY_FROM_ASQL_01"
        },
        {
         "0": "success",
         "1": "1",
         "2": "Update item  Definition PL_FMD_LDZ_COPY_FROM_ONELAKE_TABLES_01"
        },
        {
         "0": "success",
         "1": "1",
         "2": "Update item  Definition PL_FMD_LDZ_COPY_FROM_ADLS_01"
        },
        {
         "0": "success",
         "1": "3",
         "2": "Update item  Definition PL_FMD_LDZ_COPY_FROM_ASQL_02"
        },
        {
         "0": "success",
         "1": "1",
         "2": "Update item  Definition PL_FMD_LDZ_COMMAND_ASQL"
        },
        {
         "0": "success",
         "1": "1",
         "2": "Update item  Definition PL_FMD_LDZ_COMMAND_ADLS"
        },
        {
         "0": "success",
         "1": "1",
         "2": "Update item  Definition PL_FMD_LDZ_COMMAND_ONELAKE"
        },
        {
         "0": "success",
         "1": "1",
         "2": "Update item  Definition PL_FMD_LDZ_COPY_FROM_ADF"
        },
        {
         "0": "success",
         "1": "1",
         "2": "Update item  Definition PL_FMD_LDZ_COMMAND_ADF"
        },
        {
         "0": "success",
         "1": "0",
         "2": "Update item  Definition NB_FMD_DQ_CLEANSING"
        },
        {
         "0": "success",
         "1": "2",
         "2": "Update item  Definition PL_TOOLING_POST_ASQL_TO_FMD"
        },
        {
         "0": "success",
         "1": "2",
         "2": "Deploy PL_TOOLING_POST_ASQL_TO_FMD"
        },
        {
         "0": "success",
         "1": "1",
         "2": "WH_LOG WH_LOG query 0"
        },
        {
         "0": "success",
         "1": "1",
         "2": "WH_LOG WH_LOG query 1"
        },
        {
         "0": "success",
         "1": "1",
         "2": "WH_LOG WH_LOG query 2"
        },
        {
         "0": "success",
         "1": "1",
         "2": "None SQL_FMD_FRAMEWORK-ab948fad-1fdf-444c-9625-ff76a45ac222 query 63"
        }
       ],
       "schema": [
        {
         "key": "0",
         "name": "status",
         "type": "string"
        },
        {
         "key": "1",
         "name": "task_duration",
         "type": "bigint"
        },
        {
         "key": "2",
         "name": "task_name",
         "type": "string"
        }
       ],
       "truncated": false
      },
      "wranglerEntryContext": null
     },
     "type": "Synapse.DataFrame"
    }
   },
   "version": "0.1"
  }
 },
 "nbformat": 4,
 "nbformat_minor": 5
}
