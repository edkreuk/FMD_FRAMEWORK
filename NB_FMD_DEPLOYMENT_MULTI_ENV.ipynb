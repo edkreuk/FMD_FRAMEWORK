{
	"cells": [
		{
			"cell_type": "code",
			"source": [
				"%%configure -f\n",
				"{ \n",
				"    \"defaultLakehouse\": { \n",
				"        \"name\":  \"LH_CONFIGURATION\"\n",
				"    }\n",
				"}"
			],
			"outputs": [
				{
					"output_type": "display_data",
					"data": {
						"application/vnd.livy.statement-meta+json": {
							"spark_pool": null,
							"statement_id": -1,
							"statement_ids": [],
							"state": "finished",
							"livy_statement_state": "available",
							"session_id": "8a578f63-c2d3-4b11-8787-5249a648642f",
							"normalized_state": "finished",
							"queued_time": "2025-02-05T12:48:45.3926315Z",
							"session_start_time": "2025-02-05T12:48:45.6102855Z",
							"execution_start_time": "2025-02-05T12:50:53.2074248Z",
							"execution_finish_time": "2025-02-05T12:50:53.2276318Z",
							"parent_msg_id": "f78a582d-7089-41a0-96f5-eea73ac12ee1"
						},
						"text/plain": "StatementMeta(, 8a578f63-c2d3-4b11-8787-5249a648642f, -1, Finished, Available, Finished)"
					},
					"metadata": {}
				}
			],
			"execution_count": 1,
			"metadata": {
				"microsoft": {
					"language": "python",
					"language_group": "synapse_pyspark"
				}
			},
			"id": "3e4b1a66-8c9b-4be7-a7fa-cb5ba25d9fb6"
		},
		{
			"cell_type": "code",
			"source": [
				"# !!!!! create manually an sql database in the configuration workspace !!!!\n",
				"\n",
				"# target connections guid \n",
				"# vul de juiste ID in voor de betreffende connectie\n",
				"\n",
				"capacity_id = '560C908C-072A-478C-939C-CFC4398D2FDB' # Unique identifier for the capacity to be used.\n",
				"\n",
				"workspace_roles = [ # Keep emtpy [] if you only want to assign this to your personal account\n",
				"                    {\n",
				"                        \"principal\": {\n",
				"                            \"id\": \"ba4a392b-9596-46d8-9486-53eb2c2b22bf\",\n",
				"                            \"displayName\": \"sg-fabric-contributor\",\n",
				"                            \"type\": \"Group\"\n",
				"                        },\n",
				"                        \"role\": \"Member\"\n",
				"                        },\n",
				"                        {\n",
				"                        \"principal\": {\n",
				"                            \"id\": \"39b98289-1540-4866-b9f0-3935f9eeebd6\",\n",
				"                            \"displayName\": \"sg-fabric-admin\",\n",
				"                            \"type\": \"Group\"\n",
				"                        },\n",
				"                        \"role\": \"Admin\"\n",
				"                        }\n",
				"                    ]\n",
				"\n",
				"logging = {\n",
				"                    'workspace': {\n",
				"                        'name' : 'FMD_FRAMEWORK_LOG_MH', # Name of target workspace\n",
				"                        'roles' : workspace_roles,\n",
				"                        'capacity_id' : capacity_id\n",
				"                    },\n",
				"                    'WarehouseName' : 'WH_LOG' # Name of target logging warehouse\n",
				"}\n",
				"\n",
				"configuration = {\n",
				"                    'workspace': {\n",
				"                        'name' : 'FMD_FRAMEWORK_CONFIG_MH', # Name of target workspace\n",
				"                        'roles' : workspace_roles,\n",
				"                        'capacity_id' : capacity_id\n",
				"                    },\n",
				"                    'DatabaseName' : 'SQL_FMD_FRAMEWORK' # Name of target configuration SQL Database\n",
				"}\n",
				"\n",
				"environments = [\n",
				"                    {\n",
				"                        'environment_name' : 'development', # Name of target environment\n",
				"                        'workspaces': {\n",
				"                            'data' : {\n",
				"                                'name' : 'FMD_FRAMEWORK_DATA_MH3 (dvlm)', # Name of target code workspace for development\n",
				"                                'roles' : workspace_roles,\n",
				"                                'capacity_id' : capacity_id\n",
				"                            },\n",
				"                            'code' : {\n",
				"                                'name' : 'FMD_FRAMEWORK_CODE_MH3 (dvlm)', # Name of target data workspace for development\n",
				"                                'roles' : workspace_roles,\n",
				"                                'capacity_id' : capacity_id\n",
				"                            }\n",
				"                        },\n",
				"                        'connections' : {\n",
				"                            'CON_FMD_FABRIC_API' : '644f217a-8761-4f19-b1b7-a40bfe0ec2af', # Required Guid to the Fabric API (web v2) connection (https://api.fabric.microsoft.com/v1/)\n",
				"                            'CON_FMD_FABRIC_SQL' : '372237f9-709a-48f8-8fb2-ce06940c990e', # Required Guid to the Fabric SQL connection\n",
				"                            'CON_FMD_FABRIC_PIPELINES' : '6d8146c6-a438-47df-94e2-540c552eb6d7', # Required Guid to the Fabric datapipelines connection\n",
				"                            'CON_FMD_ASQL_01' : 'cf673e6a-13f6-4ebb-9cbb-4ba4ab390818', # Optional Guid to an Azure SQL database connection\n",
				"                            'CON_FMD_ASQL_02' : '11a8e5fe-fbca-4822-9ba4-9162cf56e6dd', # Optional Guid to an second Azure SQL database connection\n",
				"                            'CON_FMD_ADLS_01' : 'a0581b6e-5e38-46eb-bab2-7f08e9a35c30', # Optional Guid to an Azure SQL Datalake storage connection\n",
				"                            'CON_FMD_ADF_PIPELINES' : 'e93f565a-e2bc-4b60-900e-1907e825e37c' # Optional Guid to an Azure Datafactory connection\n",
				"                        }\n",
				"                    },\n",
				"                    {\n",
				"                        'environment_name' : 'production', # Name of target environment\n",
				"                        'workspaces': {\n",
				"                            'data' : {\n",
				"                                'name' : 'FMD_FRAMEWORK_DATA_MH (prod)',\n",
				"                                'roles' : workspace_roles,\n",
				"                                'capacity_id' : capacity_id\n",
				"                            },\n",
				"                            'code' : {\n",
				"                                'name' : 'FMD_FRAMEWORK_CODE_MH (prod)',\n",
				"                                'roles' : workspace_roles,\n",
				"                                'capacity_id' : capacity_id\n",
				"                            }\n",
				"                        },\n",
				"                        'connections' : {\n",
				"                            'CON_FMD_FABRIC_API' : '644f217a-8761-4f19-b1b7-a40bfe0ec2af',\n",
				"                            'CON_FMD_FABRIC_SQL' : '372237f9-709a-48f8-8fb2-ce06940c990e',\n",
				"                            'CON_FMD_FABRIC_PIPELINES' : '6d8146c6-a438-47df-94e2-540c552eb6d7',\n",
				"                            'CON_FMD_ASQL_01' : 'cf673e6a-13f6-4ebb-9cbb-4ba4ab390818',\n",
				"                            'CON_FMD_ASQL_02' : '11a8e5fe-fbca-4822-9ba4-9162cf56e6dd',\n",
				"                            'CON_FMD_ADLS_01' : 'a0581b6e-5e38-46eb-bab2-7f08e9a35c30',\n",
				"                            'CON_FMD_ADF_PIPELINES' : 'e93f565a-e2bc-4b60-900e-1907e825e37c'\n",
				"                        }\n",
				"                    }\n",
				"                ]\n",
				"\n",
				"# source file to read the deployment manifest from (LH_CONFIGURATION) \n",
				"deployment_file = 'deployment/FMD_deployment.json'"
			],
			"outputs": [
				{
					"output_type": "display_data",
					"data": {
						"application/vnd.livy.statement-meta+json": {
							"spark_pool": null,
							"statement_id": 3,
							"statement_ids": [
								3
							],
							"state": "finished",
							"livy_statement_state": "available",
							"session_id": "497e73d3-8af1-4695-9e28-32a07c3c6c03",
							"normalized_state": "finished",
							"queued_time": "2025-02-05T14:15:05.8190178Z",
							"session_start_time": "2025-02-05T14:15:05.8209412Z",
							"execution_start_time": "2025-02-05T14:18:14.1673874Z",
							"execution_finish_time": "2025-02-05T14:18:17.3183102Z",
							"parent_msg_id": "1f20b392-c9c5-45f5-95fe-abd132a6b747"
						},
						"text/plain": "StatementMeta(, 497e73d3-8af1-4695-9e28-32a07c3c6c03, 3, Finished, Available, Finished)"
					},
					"metadata": {}
				}
			],
			"execution_count": 38,
			"metadata": {
				"tags": [
					"parameters"
				],
				"microsoft": {
					"language": "python",
					"language_group": "synapse_pyspark"
				}
			},
			"id": "1954c1d5-24fb-40dd-8784-7faf4ab0e12d"
		},
		{
			"cell_type": "code",
			"source": [
				"from json import loads, dumps\n",
				"import json\n",
				"import requests\n",
				"import base64\n",
				"import time\n",
				"import uuid\n",
				"import struct\n",
				"import pyodbc\n",
				"\n",
				"from typing import Callable, List, Dict, Optional, Any\n",
				"from datetime import datetime\n",
				"from time import sleep, time\n",
				"from dataclasses import dataclass, field"
			],
			"outputs": [
				{
					"output_type": "display_data",
					"data": {
						"application/vnd.livy.statement-meta+json": {
							"spark_pool": null,
							"statement_id": 4,
							"statement_ids": [
								4
							],
							"state": "finished",
							"livy_statement_state": "available",
							"session_id": "497e73d3-8af1-4695-9e28-32a07c3c6c03",
							"normalized_state": "finished",
							"queued_time": "2025-02-05T14:15:05.8205384Z",
							"session_start_time": null,
							"execution_start_time": "2025-02-05T14:18:17.595015Z",
							"execution_finish_time": "2025-02-05T14:18:17.9801162Z",
							"parent_msg_id": "6885d6f7-31f0-4716-b48c-291aa0427447"
						},
						"text/plain": "StatementMeta(, 497e73d3-8af1-4695-9e28-32a07c3c6c03, 4, Finished, Available, Finished)"
					},
					"metadata": {}
				}
			],
			"execution_count": 39,
			"metadata": {
				"microsoft": {
					"language": "python",
					"language_group": "synapse_pyspark"
				}
			},
			"id": "762b85d2-c208-42a6-98cf-5bdfef91c4e9"
		},
		{
			"cell_type": "code",
			"source": [
				"%run NB_FMD_DEPLOYMENT_UTILS"
			],
			"outputs": [
				{
					"output_type": "display_data",
					"data": {
						"application/vnd.livy.statement-meta+json": {
							"spark_pool": null,
							"statement_id": 8,
							"statement_ids": [
								5,
								6,
								7,
								8
							],
							"state": "finished",
							"livy_statement_state": "available",
							"session_id": "497e73d3-8af1-4695-9e28-32a07c3c6c03",
							"normalized_state": "finished",
							"queued_time": "2025-02-05T14:15:05.8230442Z",
							"session_start_time": null,
							"execution_start_time": "2025-02-05T14:18:20.2343453Z",
							"execution_finish_time": "2025-02-05T14:18:20.234652Z",
							"parent_msg_id": "dd2fba05-11bf-421f-8b5a-40cb3851ce64"
						},
						"text/plain": "StatementMeta(, 497e73d3-8af1-4695-9e28-32a07c3c6c03, 8, Finished, Available, Finished)"
					},
					"metadata": {}
				}
			],
			"execution_count": 40,
			"metadata": {
				"jupyter": {
					"source_hidden": false,
					"outputs_hidden": false
				},
				"nteract": {
					"transient": {
						"deleting": false
					}
				},
				"microsoft": {
					"language": "python",
					"language_group": "synapse_pyspark"
				}
			},
			"id": "4d77bb62-d0e3-4601-8742-f37f7cc2195f"
		},
		{
			"cell_type": "code",
			"source": [
				"tasks=[]"
			],
			"outputs": [
				{
					"output_type": "display_data",
					"data": {
						"application/vnd.livy.statement-meta+json": {
							"spark_pool": null,
							"statement_id": 9,
							"statement_ids": [
								9
							],
							"state": "finished",
							"livy_statement_state": "available",
							"session_id": "497e73d3-8af1-4695-9e28-32a07c3c6c03",
							"normalized_state": "finished",
							"queued_time": "2025-02-05T14:15:05.8243702Z",
							"session_start_time": null,
							"execution_start_time": "2025-02-05T14:18:20.4430751Z",
							"execution_finish_time": "2025-02-05T14:18:20.7391668Z",
							"parent_msg_id": "946e19e9-b828-46ff-a651-94749f970e4c"
						},
						"text/plain": "StatementMeta(, 497e73d3-8af1-4695-9e28-32a07c3c6c03, 9, Finished, Available, Finished)"
					},
					"metadata": {}
				}
			],
			"execution_count": 41,
			"metadata": {
				"jupyter": {
					"source_hidden": false,
					"outputs_hidden": false
				},
				"nteract": {
					"transient": {
						"deleting": false
					}
				},
				"microsoft": {
					"language": "python",
					"language_group": "synapse_pyspark"
				}
			},
			"id": "31372683-48cc-427e-abea-8defcfaf8b27"
		},
		{
			"cell_type": "code",
			"source": [
				"fmd_api_access_token =  notebookutils.credentials.getToken('https://analysis.windows.net/powerbi/api')\n",
				"fabric_session = create_fabric_session(fabric_token = fmd_api_access_token)"
			],
			"outputs": [
				{
					"output_type": "display_data",
					"data": {
						"application/vnd.livy.statement-meta+json": {
							"spark_pool": null,
							"statement_id": 10,
							"statement_ids": [
								10
							],
							"state": "finished",
							"livy_statement_state": "available",
							"session_id": "497e73d3-8af1-4695-9e28-32a07c3c6c03",
							"normalized_state": "finished",
							"queued_time": "2025-02-05T14:15:05.8276993Z",
							"session_start_time": null,
							"execution_start_time": "2025-02-05T14:18:20.9019647Z",
							"execution_finish_time": "2025-02-05T14:18:21.2723767Z",
							"parent_msg_id": "bd413ccd-e7b8-4a59-9136-09923b66f959"
						},
						"text/plain": "StatementMeta(, 497e73d3-8af1-4695-9e28-32a07c3c6c03, 10, Finished, Available, Finished)"
					},
					"metadata": {}
				}
			],
			"execution_count": 42,
			"metadata": {
				"jupyter": {
					"source_hidden": false,
					"outputs_hidden": false
				},
				"nteract": {
					"transient": {
						"deleting": false
					}
				},
				"microsoft": {
					"language": "python",
					"language_group": "synapse_pyspark"
				}
			},
			"id": "4f177a49-b384-4d07-9895-423060188b64"
		},
		{
			"cell_type": "code",
			"source": [
				"# check if token is valid\n",
				"for token in [fmd_api_access_token]:\n",
				"    if not token:\n",
				"        continue\n",
				"    header, payload, signature = token.split('.')\n",
				"    payload += '=' * (-len(payload) % 4)  # Add padding\n",
				"    token_dict = loads(base64.urlsafe_b64decode(payload))\n",
				"    directory_id = token_dict.get(\"tid\")\n",
				"    timest = token_dict.get(\"exp\")\n",
				"    expiry = (datetime.fromtimestamp(timest) - datetime.now()).total_seconds() // 60\n",
				"    expiry_str = str(expiry) if expiry < 5 else str(expiry)\n",
				"    print(F\"token {directory_id} will expire in {expiry_str} minutes at\\t{datetime.fromtimestamp(timest)} UTC\")\n",
				"print(F\"Current time:\\t\\t\\t\\t\\t\\t\\t\\t\\t{datetime.now().replace(microsecond=0)} UTC\")"
			],
			"outputs": [
				{
					"output_type": "display_data",
					"data": {
						"application/vnd.livy.statement-meta+json": {
							"spark_pool": null,
							"statement_id": 11,
							"statement_ids": [
								11
							],
							"state": "finished",
							"livy_statement_state": "available",
							"session_id": "497e73d3-8af1-4695-9e28-32a07c3c6c03",
							"normalized_state": "finished",
							"queued_time": "2025-02-05T14:15:05.833024Z",
							"session_start_time": null,
							"execution_start_time": "2025-02-05T14:18:21.4578437Z",
							"execution_finish_time": "2025-02-05T14:18:21.792189Z",
							"parent_msg_id": "e4da0a68-6f57-409c-a43a-3120d9dae606"
						},
						"text/plain": "StatementMeta(, 497e73d3-8af1-4695-9e28-32a07c3c6c03, 11, Finished, Available, Finished)"
					},
					"metadata": {}
				},
				{
					"output_type": "stream",
					"name": "stdout",
					"text": [
						"token c183ff6a-8ca1-4185-9378-af980978377c will expire in 75.0 minutes at\t2025-02-05 15:34:13 UTC\nCurrent time:\t\t\t\t\t\t\t\t\t2025-02-05 14:18:21 UTC\n"
					]
				}
			],
			"execution_count": 43,
			"metadata": {
				"microsoft": {
					"language": "python",
					"language_group": "synapse_pyspark"
				}
			},
			"id": "15902111-9dbf-4c18-bb00-496f36e98f82"
		},
		{
			"cell_type": "code",
			"source": [
				"# Create necessary workspaces \n",
				"start = time()\n",
				"\n",
				"for environment in environments:\n",
				"\n",
				"    print(f\"--------------------------\")\n",
				"    print(f\"Processing: {environment['environment_name']}\")\n",
				"    \n",
				"    # Loop through the workspace names and get their IDs\n",
				"    \n",
				"    for workspace in [environment['workspaces']['data'], environment['workspaces']['code'], configuration['workspace'], logging['workspace']]:\n",
				"        \n",
				"        print(f\" -----\")\n",
				"        print(f\" - Processing: data workspace {environment['environment_name']}\")\n",
				"        \n",
				"        # List all workspaces\n",
				"        workspaces_current = get_fabric_workspaces(fabric_session)        \n",
				"        \n",
				"        # Check if the displayName exists in the workspaces\n",
				"        matching_workspaces = [workspace_current for workspace_current in workspaces_current.get('value') if workspace_current['displayName'] == workspace['name']]\n",
				"        \n",
				"        if matching_workspaces:\n",
				"            print(f\" - Workspace '{workspace['name']}' found. Workspace ID: {matching_workspaces[0]['id']}\")\n",
				"            workspace['id'] = matching_workspaces[0]['id']\n",
				"        else:\n",
				"            print(f\" - Workspace '{workspace['name']}' not found. Creating new workspace...\")\n",
				"            workspace_created = fabric_request(fabric_session, F\"workspaces/\", 'POST', payload={\"displayName\": workspace['name']}, payloadtype='json')\n",
				"            workspace['id'] = workspace_created['id']\n",
				"            tasks.append({\"task_name\":f\"create item {workspace['name']} initially\", \"task_duration\": int(time() - start), \"status\": \"success\"})\n",
				"        \n",
				"        assign_fabric_workspace_capacity(fabric_session, workspace['id'], workspace['capacity_id'])\n",
				"        tasks.append({\"task_name\":f\"Workspace '{workspace['name']}' connected to capacity ID: {workspace['capacity_id']}\", \"task_duration\": int(time() - start), \"status\": \"success\"})\n",
				"        print(f\" - Workspace '{workspace['name']}' created with ID: {workspace['id']} and capacity_id: {workspace['capacity_id']}\")\n",
				"\n",
				"        # Check if roles exists or create them\n",
				"        print(f\" - Assiging Workspace roles\")\n",
				"        assign_fabric_workspace_roles(fabric_session, workspace['id'], workspace['roles'])\n",
				"\n",
				"    # Print the workspace IDs\n",
				"    print(f\"--------------------------\")\n",
				"    print(f\"Workspace ID for data workspace {environment['environment_name']}: {environment['workspaces']['data']['id']}\")\n",
				"    print(f\"Workspace ID for code workspace {environment['environment_name']}: {environment['workspaces']['code']['id']}\")\n"
			],
			"outputs": [
				{
					"output_type": "display_data",
					"data": {
						"application/vnd.livy.statement-meta+json": {
							"spark_pool": null,
							"statement_id": 12,
							"statement_ids": [
								12
							],
							"state": "finished",
							"livy_statement_state": "available",
							"session_id": "497e73d3-8af1-4695-9e28-32a07c3c6c03",
							"normalized_state": "finished",
							"queued_time": "2025-02-05T14:15:05.8464384Z",
							"session_start_time": null,
							"execution_start_time": "2025-02-05T14:18:21.9494844Z",
							"execution_finish_time": "2025-02-05T14:19:08.9235064Z",
							"parent_msg_id": "50c261f4-0b0f-4346-aaaf-ef80b6104330"
						},
						"text/plain": "StatementMeta(, 497e73d3-8af1-4695-9e28-32a07c3c6c03, 12, Finished, Available, Finished)"
					},
					"metadata": {}
				},
				{
					"output_type": "stream",
					"name": "stdout",
					"text": [
						"--------------------------\nProcessing: development\n -----\n - Processing: data workspace development\n - Workspace 'FMD_FRAMEWORK_DATA_MH3 (dvlm)' found. Workspace ID: f898dfe0-f8c1-4fee-8e02-ddb81c19f2ac\n"
					]
				},
				{
					"output_type": "stream",
					"name": "stdout",
					"text": [
						"Capacity found (560C908C-072A-478C-939C-CFC4398D2FDB)\nCapacity (560C908C-072A-478C-939C-CFC4398D2FDB) assigning to workspace (f898dfe0-f8c1-4fee-8e02-ddb81c19f2ac)\nRequest accepted: Dont Wait for result\n - Workspace 'FMD_FRAMEWORK_DATA_MH3 (dvlm)' created with ID: f898dfe0-f8c1-4fee-8e02-ddb81c19f2ac and capacity_id: 560C908C-072A-478C-939C-CFC4398D2FDB\n - Assiging Workspace roles\nSkipping: sg-fabric-contributor for f898dfe0-f8c1-4fee-8e02-ddb81c19f2ac\nSkipping: sg-fabric-admin for f898dfe0-f8c1-4fee-8e02-ddb81c19f2ac\n -----\n - Processing: data workspace development\n - Workspace 'FMD_FRAMEWORK_CODE_MH3 (dvlm)' found. Workspace ID: 73eaa951-1faf-43d4-b800-79ddd94ea148\n"
					]
				},
				{
					"output_type": "stream",
					"name": "stdout",
					"text": [
						"Capacity found (560C908C-072A-478C-939C-CFC4398D2FDB)\nCapacity (560C908C-072A-478C-939C-CFC4398D2FDB) assigning to workspace (73eaa951-1faf-43d4-b800-79ddd94ea148)\nRequest accepted: Dont Wait for result\n - Workspace 'FMD_FRAMEWORK_CODE_MH3 (dvlm)' created with ID: 73eaa951-1faf-43d4-b800-79ddd94ea148 and capacity_id: 560C908C-072A-478C-939C-CFC4398D2FDB\n - Assiging Workspace roles\nSkipping: sg-fabric-contributor for 73eaa951-1faf-43d4-b800-79ddd94ea148\nSkipping: sg-fabric-admin for 73eaa951-1faf-43d4-b800-79ddd94ea148\n -----\n - Processing: data workspace development\n - Workspace 'FMD_FRAMEWORK_CONFIG_MH' found. Workspace ID: 5fed5713-5946-4c94-9906-1423da508c4e\n"
					]
				},
				{
					"output_type": "stream",
					"name": "stdout",
					"text": [
						"Capacity found (560C908C-072A-478C-939C-CFC4398D2FDB)\nCapacity (560C908C-072A-478C-939C-CFC4398D2FDB) assigning to workspace (5fed5713-5946-4c94-9906-1423da508c4e)\nRequest accepted: Dont Wait for result\n - Workspace 'FMD_FRAMEWORK_CONFIG_MH' created with ID: 5fed5713-5946-4c94-9906-1423da508c4e and capacity_id: 560C908C-072A-478C-939C-CFC4398D2FDB\n - Assiging Workspace roles\nSkipping: sg-fabric-contributor for 5fed5713-5946-4c94-9906-1423da508c4e\nSkipping: sg-fabric-admin for 5fed5713-5946-4c94-9906-1423da508c4e\n -----\n - Processing: data workspace development\n - Workspace 'FMD_FRAMEWORK_LOG_MH' found. Workspace ID: 56a439e6-c3b8-4fef-a92b-71a0a5bba22e\n"
					]
				},
				{
					"output_type": "stream",
					"name": "stdout",
					"text": [
						"Capacity found (560C908C-072A-478C-939C-CFC4398D2FDB)\nCapacity (560C908C-072A-478C-939C-CFC4398D2FDB) assigning to workspace (56a439e6-c3b8-4fef-a92b-71a0a5bba22e)\nRequest accepted: Dont Wait for result\n - Workspace 'FMD_FRAMEWORK_LOG_MH' created with ID: 56a439e6-c3b8-4fef-a92b-71a0a5bba22e and capacity_id: 560C908C-072A-478C-939C-CFC4398D2FDB\n - Assiging Workspace roles\nSkipping: sg-fabric-contributor for 56a439e6-c3b8-4fef-a92b-71a0a5bba22e\nSkipping: sg-fabric-admin for 56a439e6-c3b8-4fef-a92b-71a0a5bba22e\n--------------------------\nWorkspace ID for data workspace development: f898dfe0-f8c1-4fee-8e02-ddb81c19f2ac\nWorkspace ID for code workspace development: 73eaa951-1faf-43d4-b800-79ddd94ea148\n--------------------------\nProcessing: production\n -----\n - Processing: data workspace production\n - Workspace 'FMD_FRAMEWORK_DATA_MH (prod)' found. Workspace ID: 3695dee4-d689-43f8-a6cd-e92cfb0cdf8b\n"
					]
				},
				{
					"output_type": "stream",
					"name": "stdout",
					"text": [
						"Capacity found (560C908C-072A-478C-939C-CFC4398D2FDB)\nCapacity (560C908C-072A-478C-939C-CFC4398D2FDB) assigning to workspace (3695dee4-d689-43f8-a6cd-e92cfb0cdf8b)\nRequest accepted: Dont Wait for result\n - Workspace 'FMD_FRAMEWORK_DATA_MH (prod)' created with ID: 3695dee4-d689-43f8-a6cd-e92cfb0cdf8b and capacity_id: 560C908C-072A-478C-939C-CFC4398D2FDB\n - Assiging Workspace roles\nSkipping: sg-fabric-contributor for 3695dee4-d689-43f8-a6cd-e92cfb0cdf8b\nSkipping: sg-fabric-admin for 3695dee4-d689-43f8-a6cd-e92cfb0cdf8b\n -----\n - Processing: data workspace production\n - Workspace 'FMD_FRAMEWORK_CODE_MH (prod)' found. Workspace ID: 17194530-c51f-45b2-a745-88122009dcce\n"
					]
				},
				{
					"output_type": "stream",
					"name": "stdout",
					"text": [
						"Capacity found (560C908C-072A-478C-939C-CFC4398D2FDB)\nCapacity (560C908C-072A-478C-939C-CFC4398D2FDB) assigning to workspace (17194530-c51f-45b2-a745-88122009dcce)\nRequest accepted: Dont Wait for result\n - Workspace 'FMD_FRAMEWORK_CODE_MH (prod)' created with ID: 17194530-c51f-45b2-a745-88122009dcce and capacity_id: 560C908C-072A-478C-939C-CFC4398D2FDB\n - Assiging Workspace roles\nSkipping: sg-fabric-contributor for 17194530-c51f-45b2-a745-88122009dcce\nSkipping: sg-fabric-admin for 17194530-c51f-45b2-a745-88122009dcce\n -----\n - Processing: data workspace production\n - Workspace 'FMD_FRAMEWORK_CONFIG_MH' found. Workspace ID: 5fed5713-5946-4c94-9906-1423da508c4e\n"
					]
				},
				{
					"output_type": "stream",
					"name": "stdout",
					"text": [
						"Capacity found (560C908C-072A-478C-939C-CFC4398D2FDB)\nCapacity (560C908C-072A-478C-939C-CFC4398D2FDB) assigning to workspace (5fed5713-5946-4c94-9906-1423da508c4e)\nRequest accepted: Dont Wait for result\n - Workspace 'FMD_FRAMEWORK_CONFIG_MH' created with ID: 5fed5713-5946-4c94-9906-1423da508c4e and capacity_id: 560C908C-072A-478C-939C-CFC4398D2FDB\n - Assiging Workspace roles\nSkipping: sg-fabric-contributor for 5fed5713-5946-4c94-9906-1423da508c4e\nSkipping: sg-fabric-admin for 5fed5713-5946-4c94-9906-1423da508c4e\n -----\n - Processing: data workspace production\n - Workspace 'FMD_FRAMEWORK_LOG_MH' found. Workspace ID: 56a439e6-c3b8-4fef-a92b-71a0a5bba22e\n"
					]
				},
				{
					"output_type": "stream",
					"name": "stdout",
					"text": [
						"Capacity found (560C908C-072A-478C-939C-CFC4398D2FDB)\nCapacity (560C908C-072A-478C-939C-CFC4398D2FDB) assigning to workspace (56a439e6-c3b8-4fef-a92b-71a0a5bba22e)\nRequest accepted: Dont Wait for result\n - Workspace 'FMD_FRAMEWORK_LOG_MH' created with ID: 56a439e6-c3b8-4fef-a92b-71a0a5bba22e and capacity_id: 560C908C-072A-478C-939C-CFC4398D2FDB\n - Assiging Workspace roles\nSkipping: sg-fabric-contributor for 56a439e6-c3b8-4fef-a92b-71a0a5bba22e\nSkipping: sg-fabric-admin for 56a439e6-c3b8-4fef-a92b-71a0a5bba22e\n--------------------------\nWorkspace ID for data workspace production: 3695dee4-d689-43f8-a6cd-e92cfb0cdf8b\nWorkspace ID for code workspace production: 17194530-c51f-45b2-a745-88122009dcce\n"
					]
				}
			],
			"execution_count": 44,
			"metadata": {
				"microsoft": {
					"language": "python",
					"language_group": "synapse_pyspark"
				}
			},
			"id": "5d0a2af2-bfd3-4f3a-80e1-6f7e36bd23b3"
		},
		{
			"cell_type": "code",
			"source": [
				"# Read deployment manifest\n",
				"deployment_manifest = {}\n",
				"with open(f\"{notebookutils.fs.getMountPath('/default')}/Files/{deployment_file}\") as f:\n",
				"    deployment_manifest = json.load(f)"
			],
			"outputs": [
				{
					"output_type": "display_data",
					"data": {
						"application/vnd.livy.statement-meta+json": {
							"spark_pool": null,
							"statement_id": 13,
							"statement_ids": [
								13
							],
							"state": "finished",
							"livy_statement_state": "available",
							"session_id": "497e73d3-8af1-4695-9e28-32a07c3c6c03",
							"normalized_state": "finished",
							"queued_time": "2025-02-05T14:15:05.8471716Z",
							"session_start_time": null,
							"execution_start_time": "2025-02-05T14:19:09.1084327Z",
							"execution_finish_time": "2025-02-05T14:19:09.9607839Z",
							"parent_msg_id": "173c9c4e-0b04-4675-aeed-31fd924dc9ce"
						},
						"text/plain": "StatementMeta(, 497e73d3-8af1-4695-9e28-32a07c3c6c03, 13, Finished, Available, Finished)"
					},
					"metadata": {}
				}
			],
			"execution_count": 45,
			"metadata": {
				"microsoft": {
					"language": "python",
					"language_group": "synapse_pyspark"
				}
			},
			"id": "d2187040-28df-48bc-931c-f0612c64078d"
		},
		{
			"cell_type": "code",
			"source": [
				"# re-map databases\n",
				"\n",
				"for target_item in deployment_manifest['logging']['items']:\n",
				"    if target_item['type'] in ('Warehouse', 'SQLEndpoint'):\n",
				"        target_item['displayName'] = logging['WarehouseName']\n",
				"\n",
				"for target_item in deployment_manifest['configuration']['items']:\n",
				"    if target_item['type'] in ('SQLDatabase', 'SQLEndpoint'):\n",
				"        target_item['displayName'] = configuration['DatabaseName']"
			],
			"outputs": [
				{
					"output_type": "display_data",
					"data": {
						"application/vnd.livy.statement-meta+json": {
							"spark_pool": null,
							"statement_id": 14,
							"statement_ids": [
								14
							],
							"state": "finished",
							"livy_statement_state": "available",
							"session_id": "497e73d3-8af1-4695-9e28-32a07c3c6c03",
							"normalized_state": "finished",
							"queued_time": "2025-02-05T14:15:05.8478153Z",
							"session_start_time": null,
							"execution_start_time": "2025-02-05T14:19:10.2233303Z",
							"execution_finish_time": "2025-02-05T14:19:10.5673975Z",
							"parent_msg_id": "a34b0856-7da2-423e-838f-5bcdf151ccaa"
						},
						"text/plain": "StatementMeta(, 497e73d3-8af1-4695-9e28-32a07c3c6c03, 14, Finished, Available, Finished)"
					},
					"metadata": {}
				}
			],
			"execution_count": null,
			"metadata": {
				"microsoft": {
					"language": "python",
					"language_group": "synapse_pyspark"
				}
			},
			"id": "01a07a3d-9c14-4731-bd17-6022aaa9451c"
		},
		{
			"cell_type": "code",
			"source": [
				"def workspace_deployment(workspace_deployment_config, workspace_deployment_items, replace_collection, empty = True):\n",
				"    print(f\" --------------------------\")\n",
				"    print(f\" Processing code workspace {workspace_deployment_config['name']}\")\n",
				"    \n",
				"    target_items = get_fabric_items(fabric_session, workspace_deployment_config['id'])\n",
				"\n",
				"    for deployment_item in workspace_deployment_items:\n",
				"        for target_item in target_items['value']:\n",
				"            if target_item['displayName'] == deployment_item['displayName'] \\\n",
				"                    and target_item['type'] == deployment_item['type']:\n",
				"                print(f\" - Skip existing: {deployment_item['displayName']}, {deployment_item['type']}, {target_item['id']}\")\n",
				"                break\n",
				"        else:\n",
				"            if deployment_item['type'] == 'SQLDatabase':\n",
				"                raise Exception(f\"Please create manually the SQL database {deployment_item['displayName']} in the configuration workspace {configuration['workspace']['name']} and re-run this code.\")  \n",
				"                # skip because sqldatabase isn't supported yet\n",
				"            \n",
				"            print(f\" - Creating: {deployment_item['displayName']} {deployment_item['type']}\")\n",
				"            item = deployment_item.copy()\n",
				"            \n",
				"            if empty:\n",
				"                if item.get('definition'):\n",
				"                    print(f\" - Dropping definition\")\n",
				"                    item.pop('definition')\n",
				"\n",
				"            target_item = fabric_request(fabric_session, url=f\"workspaces/{workspace_deployment_config['id']}/items/\", method=\"POST\", payload=item, payloadtype='json')\n",
				"\n",
				"        deployment_item[\"new_id\"] = target_item['id']\n",
				"\n",
				"        if deployment_item['type'] in ('Warehouse', 'SQLDatabase'):\n",
				"            if deployment_item.get('org_endpoint', '') != '':\n",
				"                return_item = fabric_request(fabric_session, url=f\"workspaces/{workspace_deployment_config['id']}/{deployment_item['type']}s/{target_item['id']}\", method=\"GET\")\n",
				"                if deployment_item['type'] in ('Warehouse'):\n",
				"                    if return_item.get(\"properties\", {}).get(\"connectionString\", \"\") != '':\n",
				"                        deployment_item[\"connectionString\"] = return_item[\"properties\"][\"connectionString\"]\n",
				"                        replace_collection.append({\"old_id\": deployment_item[\"org_endpoint\"], \"new_id\": deployment_item[\"connectionString\"]})\n",
				"                \n",
				"                if deployment_item['type'] in ('SQLDatabase'):\n",
				"                    if return_item.get(\"properties\", {}).get(\"serverFqdn\", \"\") != '':\n",
				"                        deployment_item[\"connectionString\"] = return_item[\"properties\"][\"serverFqdn\"].replace(',1433', '')\n",
				"                        replace_collection.append({\"old_id\": deployment_item[\"org_endpoint\"], \"new_id\": deployment_item[\"connectionString\"]})\n",
				"                    if return_item.get(\"properties\", {}).get(\"databaseName\", \"\") != '':\n",
				"                        deployment_item[\"databaseName\"] = return_item[\"properties\"][\"databaseName\"]\n",
				"\n",
				"        replace_collection.append({\"old_id\": deployment_item[\"org_id\"], \"new_id\": deployment_item[\"new_id\"]})"
			],
			"outputs": [
				{
					"output_type": "display_data",
					"data": {
						"application/vnd.livy.statement-meta+json": {
							"spark_pool": null,
							"statement_id": 15,
							"statement_ids": [
								15
							],
							"state": "finished",
							"livy_statement_state": "available",
							"session_id": "497e73d3-8af1-4695-9e28-32a07c3c6c03",
							"normalized_state": "finished",
							"queued_time": "2025-02-05T14:15:05.8484681Z",
							"session_start_time": null,
							"execution_start_time": "2025-02-05T14:19:10.7390199Z",
							"execution_finish_time": "2025-02-05T14:19:11.0822489Z",
							"parent_msg_id": "af450e43-d236-4d4c-bfae-0a5e43ef8efa"
						},
						"text/plain": "StatementMeta(, 497e73d3-8af1-4695-9e28-32a07c3c6c03, 15, Finished, Available, Finished)"
					},
					"metadata": {}
				}
			],
			"execution_count": 64,
			"metadata": {
				"microsoft": {
					"language": "python",
					"language_group": "synapse_pyspark"
				}
			},
			"id": "b9687873-253c-41a5-978c-5a7e08b70a03"
		},
		{
			"cell_type": "code",
			"source": [
				"# create empty items if not exists\n",
				"\n",
				"for environment in environments:\n",
				"\n",
				"    print(f\"--------------------------\")\n",
				"    print(f\"Processing: {environment['environment_name']}\")\n",
				"\n",
				"    environment['guids_to_replace'] = []\n",
				"    workspace_deployment(environment['workspaces']['code'], deployment_manifest['items'], environment['guids_to_replace'], True)\n",
				"    environment['guids_to_replace'].append({\"old_id\": deployment_manifest[\"workspaces\"][\"workspace_code\"], \"new_id\": environment['workspaces']['code']['id']})\n",
				"    workspace_deployment(environment['workspaces']['data'], deployment_manifest['data'], environment['guids_to_replace'], True)\n",
				"    environment['guids_to_replace'].append({\"old_id\": deployment_manifest[\"workspaces\"][\"workspace_data\"], \"new_id\": environment['workspaces']['data']['id']})\n",
				"    workspace_deployment(logging['workspace'], deployment_manifest['logging']['items'], environment['guids_to_replace'], True)\n",
				"    environment['guids_to_replace'].append({\"old_id\": deployment_manifest[\"workspaces\"][\"workspace_logging\"], \"new_id\": logging['workspace']['id']})\n",
				"    workspace_deployment(configuration['workspace'], deployment_manifest['configuration']['items'], environment['guids_to_replace'], True)\n",
				"    environment['guids_to_replace'].append({\"old_id\": deployment_manifest[\"workspaces\"][\"workspace_config\"], \"new_id\": configuration['workspace']['id']})"
			],
			"outputs": [
				{
					"output_type": "display_data",
					"data": {
						"application/vnd.livy.statement-meta+json": {
							"spark_pool": null,
							"statement_id": 16,
							"statement_ids": [
								16
							],
							"state": "finished",
							"livy_statement_state": "available",
							"session_id": "497e73d3-8af1-4695-9e28-32a07c3c6c03",
							"normalized_state": "finished",
							"queued_time": "2025-02-05T14:15:05.849079Z",
							"session_start_time": null,
							"execution_start_time": "2025-02-05T14:19:11.2798548Z",
							"execution_finish_time": "2025-02-05T14:19:12.940244Z",
							"parent_msg_id": "236dc026-dcc7-414a-a5ab-c9e2086a6873"
						},
						"text/plain": "StatementMeta(, 497e73d3-8af1-4695-9e28-32a07c3c6c03, 16, Finished, Available, Finished)"
					},
					"metadata": {}
				},
				{
					"output_type": "stream",
					"name": "stdout",
					"text": [
						"--------------------------\nProcessing: development\n --------------------------\n Processing code workspace FMD_FRAMEWORK_CODE_MH3 (dvlm)\n - Skip existing: NB_FMD_LOAD_BRONZE_SILVER, Notebook, 1979757d-aa3e-423d-b491-91e0e881afeb\n - Skip existing: NB_FMD_LOAD_LANDING_BRONZE, Notebook, 93fedcab-37d5-4209-9252-4bc157e9899f\n - Skip existing: PL_FMD_LOAD_LANDINGZONE, DataPipeline, 3c6c5ddd-94af-4654-b59f-83872da0fee1\n - Skip existing: PL_FMD_LOAD_ALL, DataPipeline, c7813256-23e6-420d-9207-6da274afb0c6\n - Skip existing: PL_FMD_LOAD_BRONZE, DataPipeline, 087c609e-025f-4ac0-9b30-20a3376a2825\n - Skip existing: PL_FMD_LOAD_SILVER, DataPipeline, 25f59916-1095-4bbb-a5dc-648a0f798453\n - Skip existing: PL_FMD_LDZ_COPY_FROM_ASQL_01, DataPipeline, 324613db-976f-4f48-9b5e-5aa337fea879\n - Skip existing: PL_FMD_LDZ_COPY_FROM_ONELAKE_TABLES_01, DataPipeline, 979c1302-2d51-4c14-96bc-3023fc4d39b6\n - Skip existing: PL_FMD_LDZ_COPY_FROM_ADLS_01, DataPipeline, 4cb5d1f9-7bbe-4312-9c04-8916b0e629c7\n - Skip existing: PL_FMD_LDZ_COPY_FROM_ASQL_02, DataPipeline, 4250fb69-d318-44d8-acb7-c0f1dde80ff3\n - Skip existing: PL_FMD_LDZ_COMMAND_ASQL, DataPipeline, feb5f3ac-cff9-4ca0-9429-a921d1ebfb80\n - Skip existing: PL_FMD_LDZ_COMMAND_ADLS, DataPipeline, f42ba9af-07f0-4c14-bdb9-df6d4567255e\n - Skip existing: PL_FMD_LDZ_COMMAND_ONELAKE, DataPipeline, 951e3bcd-c30e-4c38-a1bf-731650179fdc\n - Skip existing: PL_FMD_LDZ_COPY_FROM_ADF, DataPipeline, 0e3ba6f2-7f0f-4bca-9468-3d5c9709d8be\n - Skip existing: PL_FMD_LDZ_COMMAND_ADF, DataPipeline, 289c5f01-ee66-440e-8a5e-5c0403509824\n - Skip existing: NB_FMD_DQ_CLEANSING, Notebook, a6e8b855-2753-4d9d-a810-7201ebf4843e\n --------------------------\n Processing code workspace FMD_FRAMEWORK_DATA_MH3 (dvlm)\n - Skip existing: LH_LANDINGZONE, Lakehouse, 8df295d1-1118-4dc6-be91-9315d2d33ba8\n - Skip existing: LH_BRONZE_LAYER, Lakehouse, ec8170ff-062f-4832-8152-013e175efc47\n - Skip existing: LH_SILVER_LAYER, Lakehouse, d36183a7-cc56-416c-afd7-9153c8e519dc\n --------------------------\n Processing code workspace FMD_FRAMEWORK_LOG_MH\n - Skip existing: WH_LOG, Warehouse, c9f5882e-3dae-4922-bb08-1eb9fefa8254\n --------------------------\n Processing code workspace FMD_FRAMEWORK_CONFIG_MH\n - Skip existing: DB_CONFIG_MH2, SQLDatabase, c4f8f1f7-9f09-44a3-a8fd-ed5c000d435e\n - Skip existing: DB_CONFIG_MH2, SQLEndpoint, ea308b50-ce28-4225-8380-023374bd3da6\n"
					]
				},
				{
					"output_type": "error",
					"ename": "KeyError",
					"evalue": "'configuration'",
					"traceback": [
						"\u001B[0;31m---------------------------------------------------------------------------\u001B[0m",
						"\u001B[0;31mKeyError\u001B[0m                                  Traceback (most recent call last)",
						"Cell \u001B[0;32mIn[47], line 16\u001B[0m\n\u001B[1;32m     14\u001B[0m environment[\u001B[38;5;124m'\u001B[39m\u001B[38;5;124mguids_to_replace\u001B[39m\u001B[38;5;124m'\u001B[39m]\u001B[38;5;241m.\u001B[39mappend({\u001B[38;5;124m\"\u001B[39m\u001B[38;5;124mold_id\u001B[39m\u001B[38;5;124m\"\u001B[39m: deployment_manifest[\u001B[38;5;124m\"\u001B[39m\u001B[38;5;124mworkspaces\u001B[39m\u001B[38;5;124m\"\u001B[39m][\u001B[38;5;124m\"\u001B[39m\u001B[38;5;124mworkspace_logging\u001B[39m\u001B[38;5;124m\"\u001B[39m], \u001B[38;5;124m\"\u001B[39m\u001B[38;5;124mnew_id\u001B[39m\u001B[38;5;124m\"\u001B[39m: logging[\u001B[38;5;124m'\u001B[39m\u001B[38;5;124mworkspace\u001B[39m\u001B[38;5;124m'\u001B[39m][\u001B[38;5;124m'\u001B[39m\u001B[38;5;124mid\u001B[39m\u001B[38;5;124m'\u001B[39m]})\n\u001B[1;32m     15\u001B[0m workspace_deployment(configuration[\u001B[38;5;124m'\u001B[39m\u001B[38;5;124mworkspace\u001B[39m\u001B[38;5;124m'\u001B[39m], deployment_manifest[\u001B[38;5;124m'\u001B[39m\u001B[38;5;124mconfiguration\u001B[39m\u001B[38;5;124m'\u001B[39m][\u001B[38;5;124m'\u001B[39m\u001B[38;5;124mitems\u001B[39m\u001B[38;5;124m'\u001B[39m], environment[\u001B[38;5;124m'\u001B[39m\u001B[38;5;124mguids_to_replace\u001B[39m\u001B[38;5;124m'\u001B[39m], \u001B[38;5;28;01mTrue\u001B[39;00m)\n\u001B[0;32m---> 16\u001B[0m environment[\u001B[38;5;124m'\u001B[39m\u001B[38;5;124mguids_to_replace\u001B[39m\u001B[38;5;124m'\u001B[39m]\u001B[38;5;241m.\u001B[39mappend({\u001B[38;5;124m\"\u001B[39m\u001B[38;5;124mold_id\u001B[39m\u001B[38;5;124m\"\u001B[39m: deployment_manifest[\u001B[38;5;124m\"\u001B[39m\u001B[38;5;124mworkspaces\u001B[39m\u001B[38;5;124m\"\u001B[39m][\u001B[38;5;124m\"\u001B[39m\u001B[38;5;124mworkspace_config\u001B[39m\u001B[38;5;124m\"\u001B[39m], \u001B[38;5;124m\"\u001B[39m\u001B[38;5;124mnew_id\u001B[39m\u001B[38;5;124m\"\u001B[39m: logging[\u001B[38;5;124m'\u001B[39m\u001B[38;5;124mconfiguration\u001B[39m\u001B[38;5;124m'\u001B[39m][\u001B[38;5;124m'\u001B[39m\u001B[38;5;124mid\u001B[39m\u001B[38;5;124m'\u001B[39m]})\n",
						"\u001B[0;31mKeyError\u001B[0m: 'configuration'"
					]
				}
			],
			"execution_count": 65,
			"metadata": {
				"microsoft": {
					"language": "python",
					"language_group": "synapse_pyspark"
				}
			},
			"id": "2b4a984e-a9da-4adb-b2de-1dc9feb5172e"
		},
		{
			"cell_type": "code",
			"source": [
				"items_to_deploy = deployment_manifest[\"items\"]\n",
				"\n",
				"for environment in environments:\n",
				"    print(f\"--------------------------\")\n",
				"    print(f\"Processing: {environment['environment_name']}\")\n",
				"    \n",
				"    # Append the remaining pairs\n",
				"    environment['guids_to_replace'].append({\"old_id\": deployment_manifest[\"connections\"][\"CON_FMD_FABRIC_API\"], \"new_id\": environment['connections']['CON_FMD_FABRIC_API']})\n",
				"    environment['guids_to_replace'].append({\"old_id\": deployment_manifest[\"connections\"][\"CON_FMD_FABRIC_SQL\"], \"new_id\": environment['connections']['CON_FMD_FABRIC_SQL']})\n",
				"    environment['guids_to_replace'].append({\"old_id\": deployment_manifest[\"connections\"][\"CON_FMD_FABRIC_PIPELINES\"], \"new_id\": environment['connections']['CON_FMD_FABRIC_PIPELINES']})\n",
				"    environment['guids_to_replace'].append({\"old_id\": deployment_manifest[\"connections\"][\"CON_FMD_ASQL_01\"], \"new_id\": environment['connections']['CON_FMD_ASQL_01']})\n",
				"    environment['guids_to_replace'].append({\"old_id\": deployment_manifest[\"connections\"][\"CON_FMD_ASQL_02\"], \"new_id\": environment['connections']['CON_FMD_ASQL_02']})\n",
				"    environment['guids_to_replace'].append({\"old_id\": deployment_manifest[\"connections\"][\"CON_FMD_ADLS_01\"], \"new_id\": environment['connections']['CON_FMD_ADLS_01']})\n",
				"    environment['guids_to_replace'].append({\"old_id\": deployment_manifest[\"connections\"][\"CON_FMD_ADF_PIPELINES\"], \"new_id\": environment['connections']['CON_FMD_ADF_PIPELINES']})\n",
				"    \n",
				"    # Deploy items to workspace\n",
				"    existing_items = fabric_request(fabric_session, url=f\"workspaces/{environment['workspaces']['code']['id']}/items/\", method=\"GET\")\n",
				"    deploy_items(items_to_deploy, environment['guids_to_replace'], fmd_api_access_token, environment['workspaces']['code']['id'], existing_items[\"value\"])"
			],
			"outputs": [
				{
					"output_type": "display_data",
					"data": {
						"application/vnd.livy.statement-meta+json": {
							"spark_pool": null,
							"statement_id": -1,
							"statement_ids": null,
							"state": "cancelled",
							"livy_statement_state": null,
							"session_id": "497e73d3-8af1-4695-9e28-32a07c3c6c03",
							"normalized_state": "cancelled",
							"queued_time": "2025-02-05T14:15:05.8497203Z",
							"session_start_time": null,
							"execution_start_time": null,
							"execution_finish_time": "2025-02-05T14:19:12.9419569Z",
							"parent_msg_id": "0214679e-e37f-46f7-b68d-da775dac1176"
						},
						"text/plain": "StatementMeta(, 497e73d3-8af1-4695-9e28-32a07c3c6c03, -1, Cancelled, , Cancelled)"
					},
					"metadata": {}
				}
			],
			"execution_count": 48,
			"metadata": {
				"jupyter": {
					"source_hidden": false,
					"outputs_hidden": false
				},
				"nteract": {
					"transient": {
						"deleting": false
					}
				},
				"microsoft": {
					"language": "python",
					"language_group": "synapse_pyspark"
				}
			},
			"id": "2a8cf383-606a-4c88-a052-6972e040b898"
		},
		{
			"cell_type": "code",
			"source": [
				"driver = '{ODBC Driver 18 for SQL Server}'"
			],
			"outputs": [
				{
					"output_type": "display_data",
					"data": {
						"application/vnd.livy.statement-meta+json": {
							"spark_pool": null,
							"statement_id": -1,
							"statement_ids": null,
							"state": "cancelled",
							"livy_statement_state": null,
							"session_id": "497e73d3-8af1-4695-9e28-32a07c3c6c03",
							"normalized_state": "cancelled",
							"queued_time": "2025-02-05T14:15:05.8503261Z",
							"session_start_time": null,
							"execution_start_time": null,
							"execution_finish_time": "2025-02-05T14:19:12.9423489Z",
							"parent_msg_id": "69c02d0e-d0e6-4f5e-842d-5a0eef52ec67"
						},
						"text/plain": "StatementMeta(, 497e73d3-8af1-4695-9e28-32a07c3c6c03, -1, Cancelled, , Cancelled)"
					},
					"metadata": {}
				}
			],
			"execution_count": null,
			"metadata": {
				"microsoft": {
					"language": "python",
					"language_group": "synapse_pyspark"
				}
			},
			"id": "13ce68b5-3a38-499e-8e48-cc635b19c1c4"
		},
		{
			"cell_type": "code",
			"source": [
				"# by timeout re-run\n",
				"\n",
				"for target_item in deployment_manifest['logging']['items']:\n",
				"    if target_item['type'] == 'Warehouse':\n",
				"        connstring = target_item[\"connectionString\"]\n",
				"        database = target_item['displayName']\n",
				"\n",
				"try:\n",
				"    i = 0\n",
				"    token = mssparkutils.credentials.getToken('https://analysis.windows.net/powerbi/api').encode(\"UTF-16-LE\")\n",
				"    token_struct = struct.pack(f'<I{len(token)}s', len(token), token)\n",
				"    print(f\"DRIVER={driver};SERVER={connstring};PORT=1433;DATABASE={database};\")\n",
				"    connection = pyodbc.connect(f\"DRIVER={driver};SERVER={connstring};PORT=1433;DATABASE={database};\", attrs_before={1256:token_struct}, timeout=12)\n",
				"\n",
				"    with connection.cursor() as cursor:\n",
				"        cursor.execute(\"SELECT 1\")  # Execute the warm-up query (a simple query like 'SELECT 1' can be used)\n",
				"        cursor.fetchone()\n",
				"        connection.timeout = 5  # Setting a lower timeout for subsequent queries\n",
				"        for i, query in enumerate(deployment_manifest[\"logging\"][\"queries\"]):\n",
				"            print(f' - execute \"{query}\"')\n",
				"            cursor.execute(query)\n",
				"            cursor.commit()\n",
				"    tasks.append({\"task_name\":f\"{workspace.get('displayName')} {database} query {i}\", \"task_duration\": 1, \"status\": f\"success\"})\n",
				"except pyodbc.OperationalError as e:\n",
				"    print(e) \n",
				"    tasks.append({\"task_name\":f\"{workspace.get('displayName')} {database} query {i}\", \"task_duration\": 1, \"status\": f\"pyodbc failed: {e}\"})\n",
				"except Exception as e:\n",
				"    print(e) \n",
				"    tasks.append({\"task_name\":f\"{workspace.get('displayName')} {database} query {i}\", \"task_duration\": 1, \"status\": f\"failed: {e}\"})"
			],
			"outputs": [
				{
					"output_type": "display_data",
					"data": {
						"application/vnd.livy.statement-meta+json": {
							"spark_pool": null,
							"statement_id": -1,
							"statement_ids": null,
							"state": "cancelled",
							"livy_statement_state": null,
							"session_id": "497e73d3-8af1-4695-9e28-32a07c3c6c03",
							"normalized_state": "cancelled",
							"queued_time": "2025-02-05T14:15:05.8509281Z",
							"session_start_time": null,
							"execution_start_time": null,
							"execution_finish_time": "2025-02-05T14:19:12.9426999Z",
							"parent_msg_id": "ada315f7-147b-4064-93c1-7ae4f147ecb2"
						},
						"text/plain": "StatementMeta(, 497e73d3-8af1-4695-9e28-32a07c3c6c03, -1, Cancelled, , Cancelled)"
					},
					"metadata": {}
				}
			],
			"execution_count": 68,
			"metadata": {
				"microsoft": {
					"language": "python",
					"language_group": "synapse_pyspark"
				}
			},
			"id": "db772de2-d86a-41a7-b19a-e0ef9dc57fdb"
		},
		{
			"cell_type": "code",
			"source": [
				"deployment_manifest[\"configuration\"][\"queries\"].append(f'EXEC [integration].[sp_UpsertConnection] @ConnectionGuid = \"00000000-0000-0000-0000-000000000000\", @Name = \"CON_FMD_ONELAKE\", @Type = \"ONELAKE\", @IsActive = 1')\n",
				"deployment_manifest[\"configuration\"][\"queries\"].append(f'EXEC [integration].[sp_UpsertConnection] @ConnectionGuid = \"{(environments[0][\"connections\"][\"CON_FMD_ASQL_01\"])}\", @Name = \"CON_FMD_ASQL_01\", @Type = \"SQL\", @IsActive = 1')\n",
				"deployment_manifest[\"configuration\"][\"queries\"].append(f'EXEC [integration].[sp_UpsertConnection] @ConnectionGuid = \"{(environments[0][\"connections\"][\"CON_FMD_ASQL_02\"])}\", @Name = \"CON_FMD_ASQL_02\", @Type = \"SQL\", @IsActive = 1')\n",
				"deployment_manifest[\"configuration\"][\"queries\"].append(f'EXEC [integration].[sp_UpsertConnection] @ConnectionGuid = \"{(environments[0][\"connections\"][\"CON_FMD_ADLS_01\"])}\", @Name = \"CON_FMD_ADLS_01\", @Type = \"ADLS\", @IsActive = 1')\n",
				"deployment_manifest[\"configuration\"][\"queries\"].append(f'EXEC [integration].[sp_UpsertConnection] @ConnectionGuid = \"{(environments[0][\"connections\"][\"CON_FMD_ADF_PIPELINES\"])}\", @Name = \"CON_FMD_ADF_PIPELINES\", @Type = \"ADF\", @IsActive = 1')"
			],
			"outputs": [
				{
					"output_type": "display_data",
					"data": {
						"application/vnd.livy.statement-meta+json": {
							"spark_pool": null,
							"statement_id": -1,
							"statement_ids": null,
							"state": "cancelled",
							"livy_statement_state": null,
							"session_id": "497e73d3-8af1-4695-9e28-32a07c3c6c03",
							"normalized_state": "cancelled",
							"queued_time": "2025-02-05T14:15:05.8515136Z",
							"session_start_time": null,
							"execution_start_time": null,
							"execution_finish_time": "2025-02-05T14:19:12.9430263Z",
							"parent_msg_id": "61a33c92-c435-4245-81a6-a17d7eaeb747"
						},
						"text/plain": "StatementMeta(, 497e73d3-8af1-4695-9e28-32a07c3c6c03, -1, Cancelled, , Cancelled)"
					},
					"metadata": {}
				}
			],
			"execution_count": null,
			"metadata": {
				"microsoft": {
					"language": "python",
					"language_group": "synapse_pyspark"
				}
			},
			"id": "471f7792-b72b-4aad-bc4c-1a8748facf52"
		},
		{
			"cell_type": "code",
			"source": [
				"deployment_manifest[\"configuration\"][\"queries\"].append(\"\"\"\n",
				"    DECLARE @DataSourceIdInternal INT = (SELECT DataSourceId FROM integration.DataSource WHERE Name = 'LH_DATA_LANDINGZONE')\n",
				"    DECLARE @ConnectionIdInternal INT = (SELECT ConnectionId FROM integration.Connection WHERE ConnectionGuid = '00000000-0000-0000-0000-000000000000')\n",
				"    EXECUTE [integration].[sp_UpsertDataSource] \n",
				"        @ConnectionId = @ConnectionIdInternal\n",
				"        ,@DataSourceId = @DataSourceIdInternal\n",
				"        ,@Name = 'LH_DATA_LANDINGZONE'\n",
				"        ,@Abbreviation = 'ONELAKE'\n",
				"        ,@Type = 'ONELAKE_TABLES_01'\n",
				"        ,@Description = 'ONELAKE_TABLES'\n",
				"        ,@IsActive = 1\n",
				"\"\"\")"
			],
			"outputs": [
				{
					"output_type": "display_data",
					"data": {
						"application/vnd.livy.statement-meta+json": {
							"spark_pool": null,
							"statement_id": -1,
							"statement_ids": null,
							"state": "cancelled",
							"livy_statement_state": null,
							"session_id": "497e73d3-8af1-4695-9e28-32a07c3c6c03",
							"normalized_state": "cancelled",
							"queued_time": "2025-02-05T14:15:05.8520982Z",
							"session_start_time": null,
							"execution_start_time": null,
							"execution_finish_time": "2025-02-05T14:19:12.9436542Z",
							"parent_msg_id": "e38faa9b-b25f-4df0-96bf-9e20a0b3fde7"
						},
						"text/plain": "StatementMeta(, 497e73d3-8af1-4695-9e28-32a07c3c6c03, -1, Cancelled, , Cancelled)"
					},
					"metadata": {}
				}
			],
			"execution_count": null,
			"metadata": {
				"microsoft": {
					"language": "python",
					"language_group": "synapse_pyspark"
				}
			},
			"id": "1fab2dbf-1444-49c8-9006-539024d5e997"
		},
		{
			"cell_type": "code",
			"source": [
				"workspaces = []\n",
				"workspaces.append(logging['workspace'])\n",
				"workspaces.append(configuration['workspace'])\n",
				"\n",
				"for environment in environments:\n",
				"    workspaces.append(environment['workspaces']['code'])\n",
				"    workspaces.append(environment['workspaces']['data'])\n",
				"    \n",
				"for workspace in workspaces:\n",
				"    print(f'EXEC [integration].[sp_UpsertWorkspace](@WorkspaceId = \"{workspace[\"id\"]}\" ,@Name = \"{workspace[\"name\"]}\")')\n",
				"    deployment_manifest[\"configuration\"][\"queries\"].append(f'EXEC [integration].[sp_UpsertWorkspace] @WorkspaceId = \"{workspace[\"id\"]}\", @Name = \"{workspace[\"name\"]}\"')"
			],
			"outputs": [
				{
					"output_type": "display_data",
					"data": {
						"application/vnd.livy.statement-meta+json": {
							"spark_pool": null,
							"statement_id": -1,
							"statement_ids": null,
							"state": "cancelled",
							"livy_statement_state": null,
							"session_id": "497e73d3-8af1-4695-9e28-32a07c3c6c03",
							"normalized_state": "cancelled",
							"queued_time": "2025-02-05T14:15:05.8526657Z",
							"session_start_time": null,
							"execution_start_time": null,
							"execution_finish_time": "2025-02-05T14:19:12.9439311Z",
							"parent_msg_id": "f55fa073-f267-4e0f-8278-59a86b830406"
						},
						"text/plain": "StatementMeta(, 497e73d3-8af1-4695-9e28-32a07c3c6c03, -1, Cancelled, , Cancelled)"
					},
					"metadata": {}
				}
			],
			"execution_count": null,
			"metadata": {
				"microsoft": {
					"language": "python",
					"language_group": "synapse_pyspark"
				}
			},
			"id": "0cb672c5-4a52-410d-b16f-2bfac3b49a80"
		},
		{
			"cell_type": "code",
			"source": [
				"for environment in environments:\n",
				"    existing_items = fabric_request(fabric_session, url=f\"workspaces/{environment['workspaces']['code']['id']}/items/\", method=\"GET\")\n",
				"    for item in existing_items.get('value', []):\n",
				"        if item['type'] == 'DataPipeline':\n",
				"            print(f'EXEC [integration].[sp_UpsertPipeline] @PipelineId = \"{item[\"id\"]}\", @WorkspaceId = \"{environment[\"workspaces\"][\"data\"][\"id\"]}\" ,@Name = \"{item[\"displayName\"]}\"')\n",
				"            deployment_manifest[\"configuration\"][\"queries\"].append(f'EXEC [integration].[sp_UpsertPipeline] @PipelineId = \"{item[\"id\"]}\", @WorkspaceId = \"{environment[\"workspaces\"][\"data\"][\"id\"]}\" ,@Name = \"{item[\"displayName\"]}\"')"
			],
			"outputs": [
				{
					"output_type": "display_data",
					"data": {
						"application/vnd.livy.statement-meta+json": {
							"spark_pool": null,
							"statement_id": -1,
							"statement_ids": null,
							"state": "cancelled",
							"livy_statement_state": null,
							"session_id": "497e73d3-8af1-4695-9e28-32a07c3c6c03",
							"normalized_state": "cancelled",
							"queued_time": "2025-02-05T14:15:05.8532482Z",
							"session_start_time": null,
							"execution_start_time": null,
							"execution_finish_time": "2025-02-05T14:19:12.9442437Z",
							"parent_msg_id": "adc54b28-572b-47de-8e8b-0d8d5ec2f184"
						},
						"text/plain": "StatementMeta(, 497e73d3-8af1-4695-9e28-32a07c3c6c03, -1, Cancelled, , Cancelled)"
					},
					"metadata": {}
				}
			],
			"execution_count": null,
			"metadata": {
				"microsoft": {
					"language": "python",
					"language_group": "synapse_pyspark"
				}
			},
			"id": "3c90ef67-295b-4a98-a273-28f8873af045"
		},
		{
			"cell_type": "code",
			"source": [
				"for environment in environments:\n",
				"    existing_items = fabric_request(fabric_session, url=f\"workspaces/{environment['workspaces']['data']['id']}/items/\", method=\"GET\")\n",
				"    for item in existing_items.get('value', []):\n",
				"        if item['type'] == 'Lakehouse':\n",
				"            print(f'EXEC [integration].[sp_UpsertLakehouse] @LakehouseId = \"{item[\"id\"]}\", @WorkspaceId = \"{environment[\"workspaces\"][\"data\"][\"id\"]}\" ,@Name = \"{item[\"displayName\"]}\"')\n",
				"            deployment_manifest[\"configuration\"][\"queries\"].append(f'EXEC [integration].[sp_UpsertLakehouse] @LakehouseId = \"{item[\"id\"]}\", @WorkspaceId = \"{environment[\"workspaces\"][\"data\"][\"id\"]}\" ,@Name = \"{item[\"displayName\"]}\"')"
			],
			"outputs": [
				{
					"output_type": "display_data",
					"data": {
						"application/vnd.livy.statement-meta+json": {
							"spark_pool": null,
							"statement_id": -1,
							"statement_ids": null,
							"state": "cancelled",
							"livy_statement_state": null,
							"session_id": "497e73d3-8af1-4695-9e28-32a07c3c6c03",
							"normalized_state": "cancelled",
							"queued_time": "2025-02-05T14:15:05.8538317Z",
							"session_start_time": null,
							"execution_start_time": null,
							"execution_finish_time": "2025-02-05T14:19:12.9445577Z",
							"parent_msg_id": "487ebb3e-1a39-4879-bbd7-6e474383c7c4"
						},
						"text/plain": "StatementMeta(, 497e73d3-8af1-4695-9e28-32a07c3c6c03, -1, Cancelled, , Cancelled)"
					},
					"metadata": {}
				}
			],
			"execution_count": null,
			"metadata": {
				"microsoft": {
					"language": "python",
					"language_group": "synapse_pyspark"
				}
			},
			"id": "932a14c4-9d6f-4566-9d8f-d567ea27b809"
		},
		{
			"cell_type": "code",
			"source": [
				"deployment_manifest[\"configuration\"][\"queries\"].append(\"\"\"\n",
				"    DECLARE @LandingzoneEntityIdInternal INT = (SELECT LandingzoneEntityId FROM integration.LandingzoneEntity WHERE SourceSchema = 'in' and SourceName = 'customer')\n",
				"    DECLARE @DataSourceIdInternal INT = (SELECT DataSourceId FROM integration.DataSource WHERE Name = 'LH_DATA_LANDINGZONE')\n",
				"    DECLARE @LakehouseIdInternal INT = (SELECT top 1 LakehouseId FROM integration.Lakehouse WHERE Name = 'LH_LANDINGZONE')\n",
				"    EXECUTE [integration].[sp_UpsertLandingzoneEntity] \n",
				"        @LandingzoneEntityId = @LandingzoneEntityIdInternal\n",
				"        ,@DataSourceId = @DataSourceIdInternal\n",
				"        ,@LakehouseId = @LakehouseIdInternal\n",
				"        ,@SourceSchema = 'in'\n",
				"        ,@SourceName = 'customer'\n",
				"        ,@FileName = 'customer'\n",
				"        ,@FilePath = 'in'\n",
				"        ,@FileType = 'parquet'\n",
				"        ,@IsIncremental = 0\n",
				"        ,@IsIncrementalColumn = ''\n",
				"        ,@IsActive = 1\n",
				"\"\"\")"
			],
			"outputs": [],
			"execution_count": null,
			"metadata": {
				"microsoft": {
					"language": "python",
					"language_group": "synapse_pyspark"
				}
			},
			"id": "7ebbd0e8-b82b-455d-93ab-54f99a02d699"
		},
		{
			"cell_type": "code",
			"source": [
				"deployment_manifest[\"configuration\"][\"queries\"].append(\"\"\"\n",
				"    DECLARE @LandingzoneEntityIdInternal INT = (SELECT LandingzoneEntityId FROM integration.LandingzoneEntity WHERE SourceSchema = 'in' and SourceName = 'customer')\n",
				"    DECLARE @BronzeLayerEntityIdInternal INT = (SELECT BronzeLayerEntityId FROM integration.BronzeLayerEntity WHERE [Schema] = 'in' and [Name] = 'customer')\n",
				"    DECLARE @LakehouseIdInternal INT = (SELECT top 1 LakehouseId FROM integration.Lakehouse WHERE Name = 'LH_BRONZE_LAYER')\n",
				"    EXECUTE [integration].[sp_UpsertBronzeLayerEntity] \n",
				"        @BronzeLayerEntityId = @BronzeLayerEntityIdInternal\n",
				"        ,@LandingzoneEntityId = @LandingzoneEntityIdInternal\n",
				"        ,@Schema = 'in'\n",
				"        ,@Name = 'customer'\n",
				"        ,@FileType = 'Delta'\n",
				"        ,@LakehouseId = @LakehouseIdInternal\n",
				"        ,@PrimaryKeys = 'CustomerId'\n",
				"        ,@IsActive = 1\n",
				"\"\"\")"
			],
			"outputs": [],
			"execution_count": null,
			"metadata": {
				"microsoft": {
					"language": "python",
					"language_group": "synapse_pyspark"
				}
			},
			"id": "480adf45-7385-47fa-b669-a1f394252d38"
		},
		{
			"cell_type": "code",
			"source": [
				"deployment_manifest[\"configuration\"][\"queries\"].append(\"\"\"\n",
				"    DECLARE @BronzeLayerEntityIdInternal INT = (SELECT BronzeLayerEntityId FROM integration.BronzeLayerEntity WHERE [Schema] = 'in' and [Name] = 'customer')\n",
				"    DECLARE @SilverLayerEntityIdInternal INT = (SELECT SilverLayerEntityId FROM integration.SilverLayerEntity WHERE [Schema] = 'in' and [Name] = 'customer')\n",
				"    DECLARE @LakehouseIdInternal INT = (SELECT top 1 LakehouseId FROM integration.Lakehouse WHERE Name = 'LH_SILVER_LAYER')\n",
				"    EXECUTE [integration].[sp_UpsertSilverLayerEntity] \n",
				"        @SilverLayerEntityId = @SilverLayerEntityIdInternal\n",
				"        ,@BronzeLayerEntityId = @BronzeLayerEntityIdInternal\n",
				"        ,@LakehouseId = @LakehouseIdInternal\n",
				"        ,@Name = 'customer'\n",
				"        ,@Schema = 'in'\n",
				"        ,@FileType = 'delta'\n",
				"        ,@IsActive = 1\n",
				"\"\"\")"
			],
			"outputs": [],
			"execution_count": null,
			"metadata": {
				"microsoft": {
					"language": "python",
					"language_group": "synapse_pyspark"
				}
			},
			"id": "ba6c1c95-806d-4f37-bddb-344c9fe58d32"
		},
		{
			"cell_type": "code",
			"source": [
				"for target_item in deployment_manifest['configuration']['items']:\n",
				"    if target_item['type'] == 'SQLDatabase':\n",
				"        connstring = target_item[\"connectionString\"]\n",
				"        database = target_item['databaseName']\n",
				"\n",
				"try:\n",
				"    i = 0\n",
				"    token = mssparkutils.credentials.getToken('https://analysis.windows.net/powerbi/api').encode(\"UTF-16-LE\")\n",
				"    token_struct = struct.pack(f'<I{len(token)}s', len(token), token)\n",
				"    print(f\"DRIVER={driver};SERVER={connstring};PORT=1433;DATABASE={database};\")\n",
				"    connection = pyodbc.connect(f\"DRIVER={driver};SERVER={connstring};PORT=1433;DATABASE={database};\", attrs_before={1256:token_struct}, timeout=12)\n",
				"\n",
				"    with connection.cursor() as cursor:\n",
				"        cursor.execute(\"SELECT 1\")  # Execute the warm-up query (a simple query like 'SELECT 1' can be used)\n",
				"        cursor.fetchone()\n",
				"        connection.timeout = 5  # Setting a lower timeout for subsequent queries\n",
				"        for i, query in enumerate(deployment_manifest[\"configuration\"][\"queries\"]):\n",
				"            print(f' - execute \"{query}\"')\n",
				"            cursor.execute(query)\n",
				"            cursor.commit()\n",
				"    tasks.append({\"task_name\":f\"{workspace.get('displayName')} {database} query {i}\", \"task_duration\": 1, \"status\": f\"success\"})\n",
				"except pyodbc.OperationalError as e:\n",
				"    print(e) \n",
				"    tasks.append({\"task_name\":f\"{workspace.get('displayName')} {database} query {i}\", \"task_duration\": 1, \"status\": f\"pyodbc failed: {e}\"})\n",
				"except Exception as e:\n",
				"    print(e) \n",
				"    tasks.append({\"task_name\":f\"{workspace.get('displayName')} {database} query {i}\", \"task_duration\": 1, \"status\": f\"failed: {e}\"})"
			],
			"outputs": [
				{
					"output_type": "display_data",
					"data": {
						"application/vnd.livy.statement-meta+json": {
							"spark_pool": null,
							"statement_id": -1,
							"statement_ids": null,
							"state": "cancelled",
							"livy_statement_state": null,
							"session_id": "497e73d3-8af1-4695-9e28-32a07c3c6c03",
							"normalized_state": "cancelled",
							"queued_time": "2025-02-05T14:15:05.8544146Z",
							"session_start_time": null,
							"execution_start_time": null,
							"execution_finish_time": "2025-02-05T14:19:12.9448672Z",
							"parent_msg_id": "b2f48c4f-eade-4c74-b2cc-d37b069051a8"
						},
						"text/plain": "StatementMeta(, 497e73d3-8af1-4695-9e28-32a07c3c6c03, -1, Cancelled, , Cancelled)"
					},
					"metadata": {}
				}
			],
			"execution_count": 70,
			"metadata": {
				"microsoft": {
					"language": "python",
					"language_group": "synapse_pyspark"
				}
			},
			"id": "657493f0-7d03-4fd3-81bc-ca2e7be3ed24"
		},
		{
			"cell_type": "code",
			"source": [
				"display(tasks)"
			],
			"outputs": [
				{
					"output_type": "display_data",
					"data": {
						"application/vnd.livy.statement-meta+json": {
							"spark_pool": null,
							"statement_id": -1,
							"statement_ids": null,
							"state": "cancelled",
							"livy_statement_state": null,
							"session_id": "497e73d3-8af1-4695-9e28-32a07c3c6c03",
							"normalized_state": "cancelled",
							"queued_time": "2025-02-05T14:15:05.8549828Z",
							"session_start_time": null,
							"execution_start_time": null,
							"execution_finish_time": "2025-02-05T14:19:12.9451307Z",
							"parent_msg_id": "cd286e0c-017e-44ad-ac33-458ea7f30096"
						},
						"text/plain": "StatementMeta(, 497e73d3-8af1-4695-9e28-32a07c3c6c03, -1, Cancelled, , Cancelled)"
					},
					"metadata": {}
				}
			],
			"execution_count": null,
			"metadata": {
				"microsoft": {
					"language": "python",
					"language_group": "synapse_pyspark"
				},
				"collapsed": false
			},
			"id": "b3b7c873-295f-4e1d-ba84-b6689800f4c5"
		}
	],
	"metadata": {
		"language_info": {
			"name": "python"
		},
		"kernel_info": {
			"name": "synapse_pyspark"
		},
		"a365ComputeOptions": null,
		"sessionKeepAliveTimeout": 0,
		"microsoft": {
			"language": "python",
			"language_group": "synapse_pyspark",
			"ms_spell_check": {
				"ms_spell_check_language": "en"
			}
		},
		"nteract": {
			"version": "nteract-front-end@1.0.0"
		},
		"kernelspec": {
			"name": "synapse_pyspark",
			"language": "Python",
			"display_name": "Synapse PySpark"
		},
		"synapse_widget": {
			"version": "0.1",
			"state": {}
		},
		"spark_compute": {
			"compute_id": "/trident/default",
			"session_options": {
				"conf": {
					"spark.synapse.nbs.session.timeout": "1200000"
				}
			}
		},
		"dependencies": {
			"lakehouse": {}
		}
	},
	"nbformat": 4,
	"nbformat_minor": 5
}
