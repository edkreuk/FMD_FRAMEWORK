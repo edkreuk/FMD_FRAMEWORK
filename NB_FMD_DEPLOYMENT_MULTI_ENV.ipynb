{
 "cells": [
  {
   "cell_type": "markdown",
   "id": "d3c6b110-b18e-4f89-9a8c-29e8c30bf171",
   "metadata": {
    "microsoft": {
     "language": "python",
     "language_group": "synapse_pyspark"
    },
    "nteract": {
     "transient": {
      "deleting": false
     }
    }
   },
   "source": [
    "\n",
    "\n",
    "   \"![FMD_Overview](https://github.com/edkreuk/FMD_FRAMEWORK/blob/main/Images/FMD_Overview.png?raw=true)\""
   ]
  },
  {
   "cell_type": "markdown",
   "id": "2a5ff914-bf2c-47a1-90fa-489b16e653c0",
   "metadata": {
    "microsoft": {
     "language": "python",
     "language_group": "synapse_pyspark"
    },
    "nteract": {
     "transient": {
      "deleting": false
     }
    }
   },
   "source": [
    "Create Lakehouse if not exists and Attach Lakehouse "
   ]
  },
  {
   "cell_type": "code",
   "execution_count": 1,
   "id": "49e36a04-9423-4d9d-84c9-ab4ac0edf4dd",
   "metadata": {
    "microsoft": {
     "language": "python",
     "language_group": "synapse_pyspark"
    }
   },
   "outputs": [
    {
     "data": {
      "application/vnd.livy.statement-meta+json": {
       "execution_finish_time": "2025-03-15T16:02:17.5479362Z",
       "execution_start_time": "2025-03-15T16:02:16.9402998Z",
       "livy_statement_state": "available",
       "normalized_state": "finished",
       "parent_msg_id": "443e2a13-d0ed-4818-9f46-fc1c2631bf7e",
       "queued_time": "2025-03-15T15:59:50.262631Z",
       "session_id": "574d191d-4682-4b26-8886-1bfc24a324db",
       "session_start_time": "2025-03-15T15:59:50.264035Z",
       "spark_pool": null,
       "state": "finished",
       "statement_id": 3,
       "statement_ids": [
        3
       ]
      },
      "text/plain": [
       "StatementMeta(, 574d191d-4682-4b26-8886-1bfc24a324db, 3, Finished, Available, Finished)"
      ]
     },
     "metadata": {},
     "output_type": "display_data"
    },
    {
     "name": "stdout",
     "output_type": "stream",
     "text": [
      "Lakehouse already exists\n"
     ]
    }
   ],
   "source": [
    "try:\n",
    "    notebookutils.lakehouse.create(name = \"LH_FMD_CONFIGURATION\")\n",
    "except Exception as ex:\n",
    "    print('Lakehouse already exists')"
   ]
  },
  {
   "cell_type": "code",
   "execution_count": null,
   "id": "3e4b1a66-8c9b-4be7-a7fa-cb5ba25d9fb6",
   "metadata": {
    "microsoft": {
     "language": "python",
     "language_group": "synapse_pyspark"
    }
   },
   "outputs": [
    {
     "data": {
      "application/vnd.livy.statement-meta+json": {
       "execution_finish_time": "2025-03-15T16:04:25.2480915Z",
       "execution_start_time": "2025-03-15T16:04:25.1704719Z",
       "livy_statement_state": "available",
       "normalized_state": "finished",
       "parent_msg_id": "2594cfff-92b1-4f07-b7e2-8a7de0d71314",
       "queued_time": "2025-03-15T15:59:50.2650831Z",
       "session_id": "a14fac42-c7c2-4df5-9e9e-682110c92894",
       "session_start_time": "2025-03-15T16:02:17.63522Z",
       "spark_pool": null,
       "state": "finished",
       "statement_id": -1,
       "statement_ids": []
      },
      "text/plain": [
       "StatementMeta(, a14fac42-c7c2-4df5-9e9e-682110c92894, -1, Finished, Available, Finished)"
      ]
     },
     "metadata": {},
     "output_type": "display_data"
    }
   ],
   "source": [
    "%%configure -f\n",
    "{ \n",
    "    \"defaultLakehouse\": { \n",
    "        \"name\":  \"LH_FMD_CONFIGURATION\"\n",
    "    }\n",
    "}"
   ]
  },
  {
   "cell_type": "code",
   "execution_count": null,
   "id": "1954c1d5-24fb-40dd-8784-7faf4ab0e12d",
   "metadata": {
    "microsoft": {
     "language": "python",
     "language_group": "synapse_pyspark"
    },
    "tags": [
     "parameters"
    ]
   },
   "outputs": [
    {
     "data": {
      "application/vnd.livy.statement-meta+json": {
       "execution_finish_time": "2025-03-15T16:35:59.405109Z",
       "execution_start_time": "2025-03-15T16:35:58.9781796Z",
       "livy_statement_state": "available",
       "normalized_state": "finished",
       "parent_msg_id": "17f5f04d-4698-4803-b5f9-cba03709265b",
       "queued_time": "2025-03-15T16:35:58.9758819Z",
       "session_id": "a14fac42-c7c2-4df5-9e9e-682110c92894",
       "session_start_time": null,
       "spark_pool": null,
       "state": "finished",
       "statement_id": 172,
       "statement_ids": [
        172
       ]
      },
      "text/plain": [
       "StatementMeta(, a14fac42-c7c2-4df5-9e9e-682110c92894, 172, Finished, Available, Finished)"
      ]
     },
     "metadata": {},
     "output_type": "display_data"
    }
   ],
   "source": [
    "deploy_from_github = True\n",
    "driver = '{ODBC Driver 18 for SQL Server}'\n",
    "# target connections guid \n",
    "# add the correct id for every connections\n",
    "# change the capacity id\n",
    "# change the workspace roles\n",
    "\n",
    "FrameworkName= 'TEST' # max 6 characters for better visibility, no spaces and the end of the name\n",
    "#'560C908C-072A-478C-939C-CFC4398D2FDB\n",
    "capacity_id_dvlm = '560C908C-072A-478C-939C-CFC4398D2FDB'       # Which capacity will be used for these workspaces in development\n",
    "capacity_id_prod = '560C908C-072A-478C-939C-CFC4398D2FDB'       # Which capacity will be used for these workspaces in production\n",
    "capacity_id_config = '2BDC6A16-1EE7-4BAD-9127-5EF6BEB00E84'     #'Which capacity will be used for this workspace for the FMD Database\n",
    "capacity_id_log = '560C908C-072A-478C-939C-CFC4398D2FDB'        #'Which capacity will be used for this workspace for the LOG Warehouse\n",
    "\n",
    "workspace_roles = [ # Keep emtpy [] if you only want to assign this to your personal account\n",
    "                    {\n",
    "                        \"principal\": {\n",
    "                            \"id\": \"ba4a392b-9596-46d8-9486-53eb2c2b22bf\",\n",
    "                            \"displayName\": \"sg-fabric-contributor\",\n",
    "                            \"type\": \"Group\"\n",
    "                        },\n",
    "                        \"role\": \"Contributor\"  # Admin, Member, Contributor, Viewer\n",
    "                        },\n",
    "                        {\n",
    "                        \"principal\": {\n",
    "                            \"id\": \"39b98289-1540-4866-b9f0-3935f9eeebd6\",\n",
    "                            \"displayName\": \"sg-fabric-admin\",\n",
    "                            \"type\": \"Group\"\n",
    "                        },\n",
    "                        \"role\": \"Admin\"\n",
    "                        }\n",
    "                    ]\n",
    "\n",
    "logging = {\n",
    "                    'workspace': {\n",
    "                        'name' : FrameworkName + ' LOG FMD', # Name of target workspace\n",
    "                        'roles' : workspace_roles,\n",
    "                        'capacity_id' : capacity_id_log\n",
    "                    },\n",
    "                    'WarehouseName' : 'WH_LOG' # Name of target logging warehouse\n",
    "}\n",
    "\n",
    "configuration = {\n",
    "                    'workspace': {\n",
    "                        'name' : FrameworkName + ' CONFIG FMD', # Name of target workspace\n",
    "                        'roles' : workspace_roles,\n",
    "                        'capacity_id' : capacity_id_config\n",
    "                    },\n",
    "                        'DatabaseName' : 'SQL_FMD_FRAMEWORK' # Name of target configuration SQL Database, don't change will the name is currently not updated correctly in the pipelines. You can change this after the deployment\n",
    "                        #'DatabaseName' : 'SQL_'+FrameworkName+'_FRAMEWORK' # Name of target configuration SQL Database\n",
    "}\n",
    "environments = [\n",
    "                    {\n",
    "                        'environment_name' : 'development', # Name of target environment\n",
    "                        'workspaces': {\n",
    "                            'data' : {\n",
    "                                'name' : FrameworkName + ' DATA (D) FMD', # Name of target code workspace for development\n",
    "                                'roles' : workspace_roles,\n",
    "                                'capacity_id' : capacity_id_dvlm\n",
    "                            },\n",
    "                            'code' : {\n",
    "                                'name' : FrameworkName + ' CODE (D) FMD', # Name of target data workspace for development\n",
    "                                'roles' : workspace_roles,\n",
    "                                'capacity_id' : capacity_id_dvlm\n",
    "                            }\n",
    "                        },\n",
    "                        'connections' : {\n",
    "                            'CON_FMD_FABRIC_SQL' : '372237f9-709a-48f8-8fb2-ce06940c990e', # Required Guid to the Fabric SQL connection\n",
    "                            'CON_FMD_FABRIC_PIPELINES' : '6d8146c6-a438-47df-94e2-540c552eb6d7', # Required Guid to the Fabric datapipelines connection\n",
    "                            'CON_FMD_ASQL_01' : 'cf673e6a-13f6-4ebb-9cbb-4ba4ab390818', # Optional Guid to an Azure SQL database connection\n",
    "                            'CON_FMD_ASQL_02' : '11a8e5fe-fbca-4822-9ba4-9162cf56e6dd', # Optional Guid to an second Azure SQL database connection\n",
    "                            'CON_FMD_ADLS_01' : 'a0581b6e-5e38-46eb-bab2-7f08e9a35c30', # Optional Guid to an Azure SQL Datalake storage connection\n",
    "                            'CON_FMD_ADF_PIPELINES' : 'e93f565a-e2bc-4b60-900e-1907e825e37c' # Optional Guid to an Azure Datafactory connection\n",
    "                        }\n",
    "                    },\n",
    "                    {\n",
    "                        'environment_name' : 'production', # Name of target environment\n",
    "                        'workspaces': {\n",
    "                            'data' : {\n",
    "                                'name' : FrameworkName + ' DATA (P) FMD',\n",
    "                                'roles' : workspace_roles,\n",
    "                                'capacity_id' : capacity_id_prod\n",
    "                            },\n",
    "                            'code' : {\n",
    "                                'name' : FrameworkName + ' CODE (P) FMD',\n",
    "                                'roles' : workspace_roles,\n",
    "                                'capacity_id' : capacity_id_prod\n",
    "                            }\n",
    "                        },\n",
    "                        'connections' : {\n",
    "                            'CON_FMD_FABRIC_SQL' : '372237f9-709a-48f8-8fb2-ce06940c990e',\n",
    "                            'CON_FMD_FABRIC_PIPELINES' : '6d8146c6-a438-47df-94e2-540c552eb6d7',\n",
    "                            'CON_FMD_ASQL_01' : '4a2004ed-7a3d-4e78-b0d2-6958e2badc9c',\n",
    "                            'CON_FMD_ASQL_02' : '11a8e5fe-fbca-4822-9ba4-9162cf56e6dd',\n",
    "                            'CON_FMD_ADLS_01' : 'a0581b6e-5e38-46eb-bab2-7f08e9a35c30',\n",
    "                            'CON_FMD_ADF_PIPELINES' : 'e93f565a-e2bc-4b60-900e-1907e825e37c'\n",
    "                        }\n",
    "                    }\n",
    "                ]\n",
    "\n"
   ]
  },
  {
   "cell_type": "markdown",
   "id": "bf68a409-68e4-4a24-9355-f41876ef24e2",
   "metadata": {
    "microsoft": {
     "language": "python",
     "language_group": "synapse_pyspark"
    },
    "nteract": {
     "transient": {
      "deleting": false
     }
    }
   },
   "source": [
    "## Import Libraries"
   ]
  },
  {
   "cell_type": "code",
   "execution_count": 155,
   "id": "e8f62905-b62e-47cf-9fad-cdcf7c49d8a2",
   "metadata": {
    "microsoft": {
     "language": "python",
     "language_group": "synapse_pyspark"
    }
   },
   "outputs": [
    {
     "data": {
      "application/vnd.livy.statement-meta+json": {
       "execution_finish_time": "2025-03-15T16:35:59.726099Z",
       "execution_start_time": "2025-03-15T16:35:59.407727Z",
       "livy_statement_state": "available",
       "normalized_state": "finished",
       "parent_msg_id": "abb5ef05-80e8-4065-a59e-ea2d18b8e019",
       "queued_time": "2025-03-15T16:35:59.1704425Z",
       "session_id": "a14fac42-c7c2-4df5-9e9e-682110c92894",
       "session_start_time": null,
       "spark_pool": null,
       "state": "finished",
       "statement_id": 173,
       "statement_ids": [
        173
       ]
      },
      "text/plain": [
       "StatementMeta(, a14fac42-c7c2-4df5-9e9e-682110c92894, 173, Finished, Available, Finished)"
      ]
     },
     "metadata": {},
     "output_type": "display_data"
    }
   ],
   "source": [
    "from json import loads, dumps\n",
    "import json\n",
    "import requests\n",
    "import base64\n",
    "import time\n",
    "import uuid\n",
    "import struct\n",
    "import pyodbc\n",
    "\n",
    "from typing import Callable, List, Dict, Optional, Any\n",
    "from datetime import datetime\n",
    "from time import sleep, time\n",
    "from dataclasses import dataclass, field"
   ]
  },
  {
   "cell_type": "markdown",
   "id": "f941e470-f4eb-4291-ad87-af33e80d963e",
   "metadata": {
    "microsoft": {
     "language": "python",
     "language_group": "synapse_pyspark"
    },
    "nteract": {
     "transient": {
      "deleting": false
     }
    }
   },
   "source": [
    "## Download Configuration File from Github or upload the file manually \n",
    "\n",
    "**Manually**: upload to Files/deployment/FMD_deployment.json"
   ]
  },
  {
   "cell_type": "code",
   "execution_count": 156,
   "id": "c32b87d2-d650-4535-b911-e6a44656f2d6",
   "metadata": {
    "microsoft": {
     "language": "python",
     "language_group": "synapse_pyspark"
    }
   },
   "outputs": [
    {
     "data": {
      "application/vnd.livy.statement-meta+json": {
       "execution_finish_time": "2025-03-15T16:36:00.1094077Z",
       "execution_start_time": "2025-03-15T16:35:59.7286247Z",
       "livy_statement_state": "available",
       "normalized_state": "finished",
       "parent_msg_id": "fd349a59-e370-4859-a3e3-26677c8a9caa",
       "queued_time": "2025-03-15T16:35:59.6262861Z",
       "session_id": "a14fac42-c7c2-4df5-9e9e-682110c92894",
       "session_start_time": null,
       "spark_pool": null,
       "state": "finished",
       "statement_id": 174,
       "statement_ids": [
        174
       ]
      },
      "text/plain": [
       "StatementMeta(, a14fac42-c7c2-4df5-9e9e-682110c92894, 174, Finished, Available, Finished)"
      ]
     },
     "metadata": {},
     "output_type": "display_data"
    },
    {
     "name": "stdout",
     "output_type": "stream",
     "text": [
      "Read from FMD_FRAMEWORK LOCAL\n"
     ]
    }
   ],
   "source": [
    "# Open deployment json file\n",
    "deployment_manifest = {}\n",
    "if deploy_from_github:\n",
    "    print(\"Downloading from Github to FMD_FRAMEWORK\")\n",
    "    url = 'https://raw.githubusercontent.com/edkreuk/FMD_FRAMEWORK/main/FMD_deployment.json'\n",
    "    github_download = requests.get(url)\n",
    "    folder_path = notebookutils.fs.getMountPath('/default') + \"/Files/deployment/\"\n",
    "    notebookutils.fs.mkdirs(f\"file://\" +folder_path)\n",
    "    with open(folder_path + \"FMD_deployment.json\", \"w\") as f:\n",
    "        f.write(json.dumps(github_download.json()))\n",
    "    \n",
    "\n",
    "    print(\"Read from FMD_FRAMEWORK Github\")\n",
    "\n",
    "\n",
    "# Read deployment manifest\n",
    "\n",
    "with open(f\"{notebookutils.fs.getMountPath('/default')}/Files/deployment/FMD_deployment.json\") as f:\n",
    "    deployment_manifest = json.load(f)\n",
    "    print(\"Read from FMD_FRAMEWORK LOCAL\")\n"
   ]
  },
  {
   "cell_type": "markdown",
   "id": "8e3a6a94-f6cf-47a7-861e-899c37fbaaa1",
   "metadata": {
    "microsoft": {
     "language": "python",
     "language_group": "synapse_pyspark"
    },
    "nteract": {
     "transient": {
      "deleting": false
     }
    }
   },
   "source": [
    "## Load deployment functions"
   ]
  },
  {
   "cell_type": "code",
   "execution_count": 157,
   "id": "4d77bb62-d0e3-4601-8742-f37f7cc2195f",
   "metadata": {
    "jupyter": {
     "outputs_hidden": false,
     "source_hidden": false
    },
    "microsoft": {
     "language": "python",
     "language_group": "synapse_pyspark"
    },
    "nteract": {
     "transient": {
      "deleting": false
     }
    }
   },
   "outputs": [
    {
     "data": {
      "application/vnd.livy.statement-meta+json": {
       "execution_finish_time": "2025-03-15T16:36:02.1519301Z",
       "execution_start_time": "2025-03-15T16:36:02.0819594Z",
       "livy_statement_state": "available",
       "normalized_state": "finished",
       "parent_msg_id": "8475d6f4-2a86-4cee-8fda-68c6a76a0cfa",
       "queued_time": "2025-03-15T16:36:00.4841808Z",
       "session_id": "a14fac42-c7c2-4df5-9e9e-682110c92894",
       "session_start_time": null,
       "spark_pool": null,
       "state": "finished",
       "statement_id": 178,
       "statement_ids": [
        175,
        176,
        177,
        178
       ]
      },
      "text/plain": [
       "StatementMeta(, a14fac42-c7c2-4df5-9e9e-682110c92894, 178, Finished, Available, Finished)"
      ]
     },
     "metadata": {},
     "output_type": "display_data"
    }
   ],
   "source": [
    "%run NB_FMD_DEPLOYMENT_UTILS"
   ]
  },
  {
   "cell_type": "code",
   "execution_count": 158,
   "id": "31372683-48cc-427e-abea-8defcfaf8b27",
   "metadata": {
    "jupyter": {
     "outputs_hidden": false,
     "source_hidden": false
    },
    "microsoft": {
     "language": "python",
     "language_group": "synapse_pyspark"
    },
    "nteract": {
     "transient": {
      "deleting": false
     }
    }
   },
   "outputs": [
    {
     "data": {
      "application/vnd.livy.statement-meta+json": {
       "execution_finish_time": "2025-03-15T16:36:02.4975364Z",
       "execution_start_time": "2025-03-15T16:36:02.1544226Z",
       "livy_statement_state": "available",
       "normalized_state": "finished",
       "parent_msg_id": "372dd246-d8b6-4c74-b1a5-e14f321a42fc",
       "queued_time": "2025-03-15T16:36:01.1828294Z",
       "session_id": "a14fac42-c7c2-4df5-9e9e-682110c92894",
       "session_start_time": null,
       "spark_pool": null,
       "state": "finished",
       "statement_id": 179,
       "statement_ids": [
        179
       ]
      },
      "text/plain": [
       "StatementMeta(, a14fac42-c7c2-4df5-9e9e-682110c92894, 179, Finished, Available, Finished)"
      ]
     },
     "metadata": {},
     "output_type": "display_data"
    }
   ],
   "source": [
    "tasks=[]"
   ]
  },
  {
   "cell_type": "code",
   "execution_count": 159,
   "id": "4f177a49-b384-4d07-9895-423060188b64",
   "metadata": {
    "jupyter": {
     "outputs_hidden": false,
     "source_hidden": false
    },
    "microsoft": {
     "language": "python",
     "language_group": "synapse_pyspark"
    },
    "nteract": {
     "transient": {
      "deleting": false
     }
    }
   },
   "outputs": [
    {
     "data": {
      "application/vnd.livy.statement-meta+json": {
       "execution_finish_time": "2025-03-15T16:36:02.8398972Z",
       "execution_start_time": "2025-03-15T16:36:02.5001674Z",
       "livy_statement_state": "available",
       "normalized_state": "finished",
       "parent_msg_id": "0b114f0e-5a02-4689-9ece-53a07acc5094",
       "queued_time": "2025-03-15T16:36:01.5836295Z",
       "session_id": "a14fac42-c7c2-4df5-9e9e-682110c92894",
       "session_start_time": null,
       "spark_pool": null,
       "state": "finished",
       "statement_id": 180,
       "statement_ids": [
        180
       ]
      },
      "text/plain": [
       "StatementMeta(, a14fac42-c7c2-4df5-9e9e-682110c92894, 180, Finished, Available, Finished)"
      ]
     },
     "metadata": {},
     "output_type": "display_data"
    }
   ],
   "source": [
    "fmd_api_access_token =  notebookutils.credentials.getToken('https://analysis.windows.net/powerbi/api')\n",
    "fabric_session = create_fabric_session(fabric_token = fmd_api_access_token)"
   ]
  },
  {
   "cell_type": "code",
   "execution_count": 160,
   "id": "15902111-9dbf-4c18-bb00-496f36e98f82",
   "metadata": {
    "microsoft": {
     "language": "python",
     "language_group": "synapse_pyspark"
    }
   },
   "outputs": [
    {
     "data": {
      "application/vnd.livy.statement-meta+json": {
       "execution_finish_time": "2025-03-15T16:36:03.1714452Z",
       "execution_start_time": "2025-03-15T16:36:02.8425854Z",
       "livy_statement_state": "available",
       "normalized_state": "finished",
       "parent_msg_id": "4e0e4801-3381-41af-9b31-dcf0c134e407",
       "queued_time": "2025-03-15T16:36:01.7967896Z",
       "session_id": "a14fac42-c7c2-4df5-9e9e-682110c92894",
       "session_start_time": null,
       "spark_pool": null,
       "state": "finished",
       "statement_id": 181,
       "statement_ids": [
        181
       ]
      },
      "text/plain": [
       "StatementMeta(, a14fac42-c7c2-4df5-9e9e-682110c92894, 181, Finished, Available, Finished)"
      ]
     },
     "metadata": {},
     "output_type": "display_data"
    },
    {
     "name": "stdout",
     "output_type": "stream",
     "text": [
      "token c183ff6a-8ca1-4185-9378-af980978377c will expire in 29.0 minutes at\t2025-03-15 17:06:00 UTC\n",
      "Current time:\t\t\t\t\t\t\t\t\t2025-03-15 16:36:02 UTC\n"
     ]
    }
   ],
   "source": [
    "# check if token is valid\n",
    "for token in [fmd_api_access_token]:\n",
    "    if not token:\n",
    "        continue\n",
    "    header, payload, signature = token.split('.')\n",
    "    payload += '=' * (-len(payload) % 4)  # Add padding\n",
    "    token_dict = loads(base64.urlsafe_b64decode(payload))\n",
    "    directory_id = token_dict.get(\"tid\")\n",
    "    timest = token_dict.get(\"exp\")\n",
    "    expiry = (datetime.fromtimestamp(timest) - datetime.now()).total_seconds() // 60\n",
    "    expiry_str = str(expiry) if expiry < 5 else str(expiry)\n",
    "    print(F\"token {directory_id} will expire in {expiry_str} minutes at\\t{datetime.fromtimestamp(timest)} UTC\")\n",
    "print(F\"Current time:\\t\\t\\t\\t\\t\\t\\t\\t\\t{datetime.now().replace(microsecond=0)} UTC\")"
   ]
  },
  {
   "cell_type": "markdown",
   "id": "14d6b18c-24af-4aea-91e4-eda1ca69dadd",
   "metadata": {
    "microsoft": {
     "language": "python",
     "language_group": "synapse_pyspark"
    },
    "nteract": {
     "transient": {
      "deleting": false
     }
    }
   },
   "source": [
    "## Start Deployment"
   ]
  },
  {
   "cell_type": "code",
   "execution_count": 161,
   "id": "5d0a2af2-bfd3-4f3a-80e1-6f7e36bd23b3",
   "metadata": {
    "microsoft": {
     "language": "python",
     "language_group": "synapse_pyspark"
    }
   },
   "outputs": [
    {
     "data": {
      "application/vnd.livy.statement-meta+json": {
       "execution_finish_time": "2025-03-15T16:36:30.6483087Z",
       "execution_start_time": "2025-03-15T16:36:03.1740379Z",
       "livy_statement_state": "available",
       "normalized_state": "finished",
       "parent_msg_id": "4fdca8fa-8f0b-43d4-8af8-d2c34087e636",
       "queued_time": "2025-03-15T16:36:02.0262602Z",
       "session_id": "a14fac42-c7c2-4df5-9e9e-682110c92894",
       "session_start_time": null,
       "spark_pool": null,
       "state": "finished",
       "statement_id": 182,
       "statement_ids": [
        182
       ]
      },
      "text/plain": [
       "StatementMeta(, a14fac42-c7c2-4df5-9e9e-682110c92894, 182, Finished, Available, Finished)"
      ]
     },
     "metadata": {},
     "output_type": "display_data"
    },
    {
     "name": "stdout",
     "output_type": "stream",
     "text": [
      "--------------------------\n",
      "Processing: development\n",
      " -----\n",
      " - Processing: data workspace development\n",
      " - Workspace 'TEST DATA (D) FMD' found. Workspace ID: 6a2547f5-12c4-4fc9-9430-de5588ae7096\n",
      "Capacity found (560C908C-072A-478C-939C-CFC4398D2FDB)\n",
      "Capacity (560C908C-072A-478C-939C-CFC4398D2FDB) assigning to workspace (6a2547f5-12c4-4fc9-9430-de5588ae7096)\n",
      "Request accepted: Dont Wait for result\n",
      " - Workspace 'TEST DATA (D) FMD' created with ID: 6a2547f5-12c4-4fc9-9430-de5588ae7096 and capacity_id: 560C908C-072A-478C-939C-CFC4398D2FDB\n",
      " - Assiging Workspace roles\n",
      "Skipping: sg-fabric-contributor for 6a2547f5-12c4-4fc9-9430-de5588ae7096\n",
      "Skipping: sg-fabric-admin for 6a2547f5-12c4-4fc9-9430-de5588ae7096\n",
      " -----\n",
      " - Processing: data workspace development\n",
      " - Workspace 'TEST CODE (D) FMD' found. Workspace ID: 36894866-6515-4081-9260-2ab3646f13bc\n",
      "Capacity found (560C908C-072A-478C-939C-CFC4398D2FDB)\n",
      "Capacity (560C908C-072A-478C-939C-CFC4398D2FDB) assigning to workspace (36894866-6515-4081-9260-2ab3646f13bc)\n",
      "Request accepted: Dont Wait for result\n",
      " - Workspace 'TEST CODE (D) FMD' created with ID: 36894866-6515-4081-9260-2ab3646f13bc and capacity_id: 560C908C-072A-478C-939C-CFC4398D2FDB\n",
      " - Assiging Workspace roles\n",
      "Skipping: sg-fabric-contributor for 36894866-6515-4081-9260-2ab3646f13bc\n",
      "Skipping: sg-fabric-admin for 36894866-6515-4081-9260-2ab3646f13bc\n",
      " -----\n",
      " - Processing: data workspace development\n",
      " - Workspace 'TEST CONFIG FMD' found. Workspace ID: 47c5b2a1-71db-4c5a-b097-587a50c1770c\n",
      "Capacity found (2BDC6A16-1EE7-4BAD-9127-5EF6BEB00E84)\n",
      "Capacity (2BDC6A16-1EE7-4BAD-9127-5EF6BEB00E84) assigning to workspace (47c5b2a1-71db-4c5a-b097-587a50c1770c)\n",
      "Request accepted: Dont Wait for result\n",
      " - Workspace 'TEST CONFIG FMD' created with ID: 47c5b2a1-71db-4c5a-b097-587a50c1770c and capacity_id: 2BDC6A16-1EE7-4BAD-9127-5EF6BEB00E84\n",
      " - Assiging Workspace roles\n",
      "Skipping: sg-fabric-contributor for 47c5b2a1-71db-4c5a-b097-587a50c1770c\n",
      "Skipping: sg-fabric-admin for 47c5b2a1-71db-4c5a-b097-587a50c1770c\n",
      " -----\n",
      " - Processing: data workspace development\n",
      " - Workspace 'TEST LOG FMD' found. Workspace ID: 196c62dc-b39e-480c-b48d-2fa198291f22\n",
      "Capacity found (560C908C-072A-478C-939C-CFC4398D2FDB)\n",
      "Capacity (560C908C-072A-478C-939C-CFC4398D2FDB) assigning to workspace (196c62dc-b39e-480c-b48d-2fa198291f22)\n",
      "Request accepted: Dont Wait for result\n",
      " - Workspace 'TEST LOG FMD' created with ID: 196c62dc-b39e-480c-b48d-2fa198291f22 and capacity_id: 560C908C-072A-478C-939C-CFC4398D2FDB\n",
      " - Assiging Workspace roles\n",
      "Skipping: sg-fabric-contributor for 196c62dc-b39e-480c-b48d-2fa198291f22\n",
      "Skipping: sg-fabric-admin for 196c62dc-b39e-480c-b48d-2fa198291f22\n",
      "--------------------------\n",
      "Workspace ID for data workspace development: 6a2547f5-12c4-4fc9-9430-de5588ae7096\n",
      "Workspace ID for code workspace development: 36894866-6515-4081-9260-2ab3646f13bc\n",
      "Workspace ID for config workspace: 47c5b2a1-71db-4c5a-b097-587a50c1770c\n",
      "Workspace ID for logging workspace: 196c62dc-b39e-480c-b48d-2fa198291f22\n",
      "--------------------------\n",
      "Processing: production\n",
      " -----\n",
      " - Processing: data workspace production\n",
      " - Workspace 'TEST DATA (P) FMD' found. Workspace ID: 20d15aa1-1996-4977-ba44-1ae47348c235\n",
      "Capacity found (560C908C-072A-478C-939C-CFC4398D2FDB)\n",
      "Capacity (560C908C-072A-478C-939C-CFC4398D2FDB) assigning to workspace (20d15aa1-1996-4977-ba44-1ae47348c235)\n",
      "Request accepted: Dont Wait for result\n",
      " - Workspace 'TEST DATA (P) FMD' created with ID: 20d15aa1-1996-4977-ba44-1ae47348c235 and capacity_id: 560C908C-072A-478C-939C-CFC4398D2FDB\n",
      " - Assiging Workspace roles\n",
      "Skipping: sg-fabric-contributor for 20d15aa1-1996-4977-ba44-1ae47348c235\n",
      "Skipping: sg-fabric-admin for 20d15aa1-1996-4977-ba44-1ae47348c235\n",
      " -----\n",
      " - Processing: data workspace production\n",
      " - Workspace 'TEST CODE (P) FMD' found. Workspace ID: ca3b23d7-9da3-4993-a7ca-96b8d718af9f\n",
      "Capacity found (560C908C-072A-478C-939C-CFC4398D2FDB)\n",
      "Capacity (560C908C-072A-478C-939C-CFC4398D2FDB) assigning to workspace (ca3b23d7-9da3-4993-a7ca-96b8d718af9f)\n",
      "Request accepted: Dont Wait for result\n",
      " - Workspace 'TEST CODE (P) FMD' created with ID: ca3b23d7-9da3-4993-a7ca-96b8d718af9f and capacity_id: 560C908C-072A-478C-939C-CFC4398D2FDB\n",
      " - Assiging Workspace roles\n",
      "Skipping: sg-fabric-contributor for ca3b23d7-9da3-4993-a7ca-96b8d718af9f\n",
      "Skipping: sg-fabric-admin for ca3b23d7-9da3-4993-a7ca-96b8d718af9f\n",
      " -----\n",
      " - Processing: data workspace production\n",
      " - Workspace 'TEST CONFIG FMD' found. Workspace ID: 47c5b2a1-71db-4c5a-b097-587a50c1770c\n",
      "Capacity found (2BDC6A16-1EE7-4BAD-9127-5EF6BEB00E84)\n",
      "Capacity (2BDC6A16-1EE7-4BAD-9127-5EF6BEB00E84) assigning to workspace (47c5b2a1-71db-4c5a-b097-587a50c1770c)\n",
      "Request accepted: Dont Wait for result\n",
      " - Workspace 'TEST CONFIG FMD' created with ID: 47c5b2a1-71db-4c5a-b097-587a50c1770c and capacity_id: 2BDC6A16-1EE7-4BAD-9127-5EF6BEB00E84\n",
      " - Assiging Workspace roles\n",
      "Skipping: sg-fabric-contributor for 47c5b2a1-71db-4c5a-b097-587a50c1770c\n",
      "Skipping: sg-fabric-admin for 47c5b2a1-71db-4c5a-b097-587a50c1770c\n",
      " -----\n",
      " - Processing: data workspace production\n",
      " - Workspace 'TEST LOG FMD' found. Workspace ID: 196c62dc-b39e-480c-b48d-2fa198291f22\n",
      "Capacity found (560C908C-072A-478C-939C-CFC4398D2FDB)\n",
      "Capacity (560C908C-072A-478C-939C-CFC4398D2FDB) assigning to workspace (196c62dc-b39e-480c-b48d-2fa198291f22)\n",
      "Request accepted: Dont Wait for result\n",
      " - Workspace 'TEST LOG FMD' created with ID: 196c62dc-b39e-480c-b48d-2fa198291f22 and capacity_id: 560C908C-072A-478C-939C-CFC4398D2FDB\n",
      " - Assiging Workspace roles\n",
      "Skipping: sg-fabric-contributor for 196c62dc-b39e-480c-b48d-2fa198291f22\n",
      "Skipping: sg-fabric-admin for 196c62dc-b39e-480c-b48d-2fa198291f22\n",
      "--------------------------\n",
      "Workspace ID for data workspace production: 20d15aa1-1996-4977-ba44-1ae47348c235\n",
      "Workspace ID for code workspace production: ca3b23d7-9da3-4993-a7ca-96b8d718af9f\n",
      "Workspace ID for config workspace: 47c5b2a1-71db-4c5a-b097-587a50c1770c\n",
      "Workspace ID for logging workspace: 196c62dc-b39e-480c-b48d-2fa198291f22\n"
     ]
    }
   ],
   "source": [
    "# Create necessary workspaces \n",
    "start = time()\n",
    "\n",
    "for environment in environments:\n",
    "\n",
    "    print(f\"--------------------------\")\n",
    "    print(f\"Processing: {environment['environment_name']}\")\n",
    "    \n",
    "    # Loop through the workspace names and get their IDs\n",
    "    \n",
    "    for workspace in [environment['workspaces']['data'], environment['workspaces']['code'], configuration['workspace'], logging['workspace']]:\n",
    "        \n",
    "        print(f\" -----\")\n",
    "        print(f\" - Processing: data workspace {environment['environment_name']}\")\n",
    "        \n",
    "        # List all workspaces\n",
    "        workspaces_current = get_fabric_workspaces(fabric_session)        \n",
    "        \n",
    "        # Check if the displayName exists in the workspaces\n",
    "        matching_workspaces = [workspace_current for workspace_current in workspaces_current.get('value') if workspace_current['displayName'] == workspace['name']]\n",
    "        \n",
    "        if matching_workspaces:\n",
    "            print(f\" - Workspace '{workspace['name']}' found. Workspace ID: {matching_workspaces[0]['id']}\")\n",
    "            workspace['id'] = matching_workspaces[0]['id']\n",
    "        else:\n",
    "            print(f\" - Workspace '{workspace['name']}' not found. Creating new workspace...\")\n",
    "            workspace_created = fabric_request(fabric_session, F\"workspaces/\", 'POST', payload={\"displayName\": workspace['name']}, payloadtype='json')\n",
    "            workspace['id'] = workspace_created['id']\n",
    "            tasks.append({\"task_name\":f\"create item {workspace['name']} initially\", \"task_duration\": int(time() - start), \"status\": \"success\"})\n",
    "        \n",
    "        assign_fabric_workspace_capacity(fabric_session, workspace['id'], workspace['capacity_id'])\n",
    "        tasks.append({\"task_name\":f\"Workspace '{workspace['name']}' connected to capacity ID: {workspace['capacity_id']}\", \"task_duration\": int(time() - start), \"status\": \"success\"})\n",
    "        print(f\" - Workspace '{workspace['name']}' created with ID: {workspace['id']} and capacity_id: {workspace['capacity_id']}\")\n",
    "\n",
    "        # Check if roles exists or create them\n",
    "        print(f\" - Assiging Workspace roles\")\n",
    "        assign_fabric_workspace_roles(fabric_session, workspace['id'], workspace['roles'])\n",
    "\n",
    "    # Print the workspace IDs\n",
    "    print(f\"--------------------------\")\n",
    "    print(f\"Workspace ID for data workspace {environment['environment_name']}: {environment['workspaces']['data']['id']}\")\n",
    "    print(f\"Workspace ID for code workspace {environment['environment_name']}: {environment['workspaces']['code']['id']}\")\n",
    "    print(f\"Workspace ID for config workspace: {configuration['workspace']['id']}\")\n",
    "    print(f\"Workspace ID for logging workspace: {logging['workspace']['id']}\")\n"
   ]
  },
  {
   "cell_type": "code",
   "execution_count": 162,
   "id": "01a07a3d-9c14-4731-bd17-6022aaa9451c",
   "metadata": {
    "microsoft": {
     "language": "python",
     "language_group": "synapse_pyspark"
    }
   },
   "outputs": [
    {
     "data": {
      "application/vnd.livy.statement-meta+json": {
       "execution_finish_time": "2025-03-15T16:36:30.9859521Z",
       "execution_start_time": "2025-03-15T16:36:30.6512517Z",
       "livy_statement_state": "available",
       "normalized_state": "finished",
       "parent_msg_id": "5508cb3e-450d-4b95-8e13-37de8b63b3bb",
       "queued_time": "2025-03-15T16:36:02.3077327Z",
       "session_id": "a14fac42-c7c2-4df5-9e9e-682110c92894",
       "session_start_time": null,
       "spark_pool": null,
       "state": "finished",
       "statement_id": 183,
       "statement_ids": [
        183
       ]
      },
      "text/plain": [
       "StatementMeta(, a14fac42-c7c2-4df5-9e9e-682110c92894, 183, Finished, Available, Finished)"
      ]
     },
     "metadata": {},
     "output_type": "display_data"
    }
   ],
   "source": [
    "# re-map databases\n",
    "\n",
    "for target_item in deployment_manifest['logging']['items']:\n",
    "    if target_item['type'] in ('Warehouse', 'SQLEndpoint'):\n",
    "        target_item['displayName'] = logging['WarehouseName']\n",
    "\n",
    "for target_item in deployment_manifest['configuration']['items']:\n",
    "    if target_item['type'] in ('SQLDatabase','SQLEndpoint'):\n",
    "        target_item['displayName'] = configuration['DatabaseName']\n"
   ]
  },
  {
   "cell_type": "code",
   "execution_count": 163,
   "id": "d9c1089c-80b1-4e49-90ae-2e7cfe4b116d",
   "metadata": {
    "microsoft": {
     "language": "python",
     "language_group": "synapse_pyspark"
    }
   },
   "outputs": [
    {
     "data": {
      "application/vnd.livy.statement-meta+json": {
       "execution_finish_time": "2025-03-15T16:36:31.3292385Z",
       "execution_start_time": "2025-03-15T16:36:30.98854Z",
       "livy_statement_state": "available",
       "normalized_state": "finished",
       "parent_msg_id": "f40148f1-12e6-4717-8d85-e27ac68be506",
       "queued_time": "2025-03-15T16:36:02.9461534Z",
       "session_id": "a14fac42-c7c2-4df5-9e9e-682110c92894",
       "session_start_time": null,
       "spark_pool": null,
       "state": "finished",
       "statement_id": 184,
       "statement_ids": [
        184
       ]
      },
      "text/plain": [
       "StatementMeta(, a14fac42-c7c2-4df5-9e9e-682110c92894, 184, Finished, Available, Finished)"
      ]
     },
     "metadata": {},
     "output_type": "display_data"
    }
   ],
   "source": [
    "def workspace_deployment(workspace_deployment_config, workspace_deployment_items, replace_collection, empty = True):\n",
    "    print(f\" --------------------------\")\n",
    "    print(f\" Processing code workspace {workspace_deployment_config['name']}\")\n",
    "    \n",
    "    target_items = get_fabric_items(fabric_session, workspace_deployment_config['id'])\n",
    "\n",
    "    for deployment_item in workspace_deployment_items:\n",
    "        for target_item in target_items['value']:\n",
    "            if target_item['displayName'] == deployment_item['displayName'] \\\n",
    "                    and target_item['type'] == deployment_item['type']:\n",
    "                print(f\" - Skip existing: {deployment_item['displayName']}, {deployment_item['type']}, {target_item['id']}\")\n",
    "                break\n",
    "        else:\n",
    "            #if deployment_item['type'] == 'SQLDatabase':\n",
    "            #    raise Exception(f\"Please create manually the SQL database {deployment_item['displayName']} in the configuration workspace {configuration['workspace']['name']} and re-run this code.\")  \n",
    "                # skip because sqldatabase isn't supported yet\n",
    "            \n",
    "            print(f\" - Creating: {deployment_item['displayName']} {deployment_item['type']}\")\n",
    "            item = deployment_item.copy()\n",
    "            \n",
    "            if empty:\n",
    "                if item.get('definition'):\n",
    "                    print(f\" - Dropping definition\")\n",
    "                    item.pop('definition')\n",
    "\n",
    "            target_item = fabric_request(fabric_session, url=f\"workspaces/{workspace_deployment_config['id']}/items/\", method=\"POST\", payload=item, payloadtype='json')\n",
    "\n",
    "        deployment_item[\"new_id\"] = target_item['id']\n",
    "\n",
    "        if deployment_item['type'] in ('Warehouse', 'SQLDatabase'):\n",
    "            if deployment_item.get('org_endpoint', '') != '':\n",
    "                return_item = fabric_request(fabric_session, url=f\"workspaces/{workspace_deployment_config['id']}/{deployment_item['type']}s/{target_item['id']}\", method=\"GET\")\n",
    "                if deployment_item['type'] in ('Warehouse'):\n",
    "                    if return_item.get(\"properties\", {}).get(\"connectionString\", \"\") != '':\n",
    "                        deployment_item[\"connectionString\"] = return_item[\"properties\"][\"connectionString\"]\n",
    "                        replace_collection.append({\"old_id\": deployment_item[\"org_endpoint\"], \"new_id\": deployment_item[\"connectionString\"]})\n",
    "                \n",
    "                if deployment_item['type'] in ('SQLDatabase'):\n",
    "                    if return_item.get(\"properties\", {}).get(\"serverFqdn\", \"\") != '':\n",
    "                        deployment_item[\"connectionString\"] = return_item[\"properties\"][\"serverFqdn\"].replace(',1433', '')\n",
    "                        replace_collection.append({\"old_id\": deployment_item[\"org_endpoint\"], \"new_id\": deployment_item[\"connectionString\"]})\n",
    "                    if return_item.get(\"properties\", {}).get(\"databaseName\", \"\") != '':\n",
    "                        deployment_item[\"databaseName\"] = return_item[\"properties\"][\"databaseName\"]\n",
    "\n",
    "\n",
    "        replace_collection.append({\"old_id\": deployment_item[\"org_id\"], \"new_id\": deployment_item[\"new_id\"]})"
   ]
  },
  {
   "cell_type": "code",
   "execution_count": null,
   "id": "24c6fff5-580d-4520-b57c-1447be51f6ba",
   "metadata": {
    "microsoft": {
     "language": "python",
     "language_group": "synapse_pyspark"
    }
   },
   "outputs": [
    {
     "data": {
      "application/vnd.livy.statement-meta+json": {
       "execution_finish_time": "2025-03-15T16:36:31.6469615Z",
       "execution_start_time": "2025-03-15T16:36:31.3319658Z",
       "livy_statement_state": "available",
       "normalized_state": "finished",
       "parent_msg_id": "bc29f7e4-32b8-4b4f-9f3a-ee5915eecf6e",
       "queued_time": "2025-03-15T16:36:03.8717393Z",
       "session_id": "a14fac42-c7c2-4df5-9e9e-682110c92894",
       "session_start_time": null,
       "spark_pool": null,
       "state": "finished",
       "statement_id": 185,
       "statement_ids": [
        185
       ]
      },
      "text/plain": [
       "StatementMeta(, a14fac42-c7c2-4df5-9e9e-682110c92894, 185, Finished, Available, Finished)"
      ]
     },
     "metadata": {},
     "output_type": "display_data"
    }
   ],
   "source": [
    "def create_fabric_database():\n",
    "    try:\n",
    "        workspace_deployment(configuration['workspace'], deployment_manifest['configuration']['items'], environment['guids_to_replace'], True)\n",
    "        environment['guids_to_replace'].append({\"old_id\": deployment_manifest[\"workspaces\"][\"workspace_config\"], \"new_id\": configuration['workspace']['id']})\n",
    "    except Exception as e:\n",
    "        print(f\"Error: {e}. Retrying in 60 seconds...\")\n",
    "        sleep(60)\n",
    "        create_fabric_database()\n",
    "\n",
    "def create_fabric_warehouse():\n",
    "    try:\n",
    "        workspace_deployment(logging['workspace'], deployment_manifest['logging']['items'], environment['guids_to_replace'], True)\n",
    "        environment['guids_to_replace'].append({\"old_id\": deployment_manifest[\"workspaces\"][\"workspace_logging\"], \"new_id\": logging['workspace']['id']})\n",
    "    except Exception as e:\n",
    "        print(f\"Error: {e}. Retrying in 60 seconds...\")\n",
    "        sleep(60)\n",
    "        create_fabric_warehouse()"
   ]
  },
  {
   "cell_type": "code",
   "execution_count": 165,
   "id": "2b4a984e-a9da-4adb-b2de-1dc9feb5172e",
   "metadata": {
    "microsoft": {
     "language": "python",
     "language_group": "synapse_pyspark"
    }
   },
   "outputs": [
    {
     "data": {
      "application/vnd.livy.statement-meta+json": {
       "execution_finish_time": "2025-03-15T16:36:33.2191744Z",
       "execution_start_time": "2025-03-15T16:36:31.6496195Z",
       "livy_statement_state": "available",
       "normalized_state": "finished",
       "parent_msg_id": "f074e097-1f45-4181-907f-73e9890c00fa",
       "queued_time": "2025-03-15T16:36:04.6042104Z",
       "session_id": "a14fac42-c7c2-4df5-9e9e-682110c92894",
       "session_start_time": null,
       "spark_pool": null,
       "state": "finished",
       "statement_id": 186,
       "statement_ids": [
        186
       ]
      },
      "text/plain": [
       "StatementMeta(, a14fac42-c7c2-4df5-9e9e-682110c92894, 186, Finished, Available, Finished)"
      ]
     },
     "metadata": {},
     "output_type": "display_data"
    },
    {
     "name": "stdout",
     "output_type": "stream",
     "text": [
      "--------------------------\n",
      "Processing: development\n",
      " --------------------------\n",
      " Processing code workspace TEST CODE (D) FMD\n",
      " - Skip existing: ENV_FMD, Environment, d31d9b4b-7805-49c8-8f8c-bafda8862e55\n",
      " - Skip existing: NB_FMD_LOAD_BRONZE_SILVER, Notebook, b662497c-e7ac-4a3e-a5a7-1465995ffabf\n",
      " - Skip existing: NB_FMD_LOAD_LANDING_BRONZE, Notebook, 4ed409f3-d5cb-4b82-aa92-34908ea490f4\n",
      " - Skip existing: PL_FMD_LOAD_LANDINGZONE, DataPipeline, fb1751a8-71f8-4c5f-a5ed-0783bc0762a7\n",
      " - Skip existing: PL_FMD_LOAD_ALL, DataPipeline, 2b13086a-d81c-410d-b447-ecbacc34b9a5\n",
      " - Skip existing: PL_FMD_LOAD_BRONZE, DataPipeline, 3858d8e2-2253-4372-94e3-40b0358dfb9b\n",
      " - Skip existing: PL_FMD_LOAD_SILVER, DataPipeline, de78ee0b-67ba-4e8a-b05e-acff4d278b7a\n",
      " - Skip existing: PL_FMD_LDZ_COPY_FROM_ASQL_01, DataPipeline, 3f351ada-b42f-43c6-9a9d-4abc93f9c330\n",
      " - Skip existing: PL_FMD_LDZ_COPY_FROM_ONELAKE_TABLES_01, DataPipeline, ea486543-c956-4f98-8b73-cc3db8850bab\n",
      " - Skip existing: PL_FMD_LDZ_COPY_FROM_ADLS_01, DataPipeline, dbe18ef6-b471-46f4-b4fc-e814c6879129\n",
      " - Skip existing: PL_FMD_LDZ_COPY_FROM_ASQL_02, DataPipeline, 5452d802-d3a2-4464-8de8-67a6966584ed\n",
      " - Skip existing: PL_FMD_LDZ_COMMAND_ASQL, DataPipeline, 0d4de7a1-50f1-4c68-b06b-2daff7d91d40\n",
      " - Skip existing: PL_FMD_LDZ_COMMAND_ADLS, DataPipeline, 96f4adc3-42ed-4798-8d8b-8c799c184f46\n",
      " - Skip existing: PL_FMD_LDZ_COMMAND_ONELAKE, DataPipeline, e4808615-136e-4943-961d-3c8acd920cdd\n",
      " - Skip existing: PL_FMD_LDZ_COPY_FROM_ADF, DataPipeline, 4d91bfea-004f-4113-ae1e-b1ce5e9da040\n",
      " - Skip existing: PL_FMD_LDZ_COMMAND_ADF, DataPipeline, b1576023-499a-4de8-bd56-1cf4a84799ad\n",
      " - Skip existing: NB_FMD_DQ_CLEANSING, Notebook, 452d72b8-1134-4178-a498-c1ea249bb46d\n",
      " - Skip existing: PL_TOOLING_POST_ASQL_TO_FMD, DataPipeline, c7e4b019-dee8-4a98-a8c7-5ed3842747db\n",
      " --------------------------\n",
      " Processing code workspace TEST DATA (D) FMD\n",
      " - Skip existing: LH_DATA_LANDINGZONE, Lakehouse, 3b3bc849-28ef-414d-a836-99473b1a78b3\n",
      " - Skip existing: LH_BRONZE_LAYER, Lakehouse, a8384867-d4a6-43cd-b196-aa54f1da37e7\n",
      " - Skip existing: LH_SILVER_LAYER, Lakehouse, d2a86922-16ec-4dd0-82f4-6fc836333efa\n",
      " --------------------------\n",
      " Processing code workspace TEST CONFIG FMD\n",
      " - Skip existing: SQL_TEST_FRAMEWORK, SQLDatabase, 20c23e66-ae56-41b3-b9bb-a19065b8055f\n",
      " - Skip existing: SQL_TEST_FRAMEWORK, SQLEndpoint, 713ac056-5a54-4d51-91aa-49dc510d25b6\n",
      " --------------------------\n",
      " Processing code workspace TEST LOG FMD\n",
      " - Skip existing: WH_LOG, Warehouse, af9c376d-1dd4-4cfa-8c91-ce42cb72ec82\n",
      "--------------------------\n",
      "Processing: production\n",
      " --------------------------\n",
      " Processing code workspace TEST CODE (P) FMD\n",
      " - Skip existing: ENV_FMD, Environment, af2c8107-a551-4f7e-88c1-190bac4fccc9\n",
      " - Skip existing: NB_FMD_LOAD_BRONZE_SILVER, Notebook, 71b87fe8-73d9-4599-a603-f8aacf8148a7\n",
      " - Skip existing: NB_FMD_LOAD_LANDING_BRONZE, Notebook, 6b8a2410-2cef-4c97-8aff-89c8e27f8fd2\n",
      " - Skip existing: PL_FMD_LOAD_LANDINGZONE, DataPipeline, 14deee00-e7b0-4b57-9ae8-f3ccb716f7a7\n",
      " - Skip existing: PL_FMD_LOAD_ALL, DataPipeline, c7b2b2f7-8fa6-40be-813c-d47a613346fa\n",
      " - Skip existing: PL_FMD_LOAD_BRONZE, DataPipeline, c6dacb62-2d3c-402f-a4f2-471d97ccbfec\n",
      " - Skip existing: PL_FMD_LOAD_SILVER, DataPipeline, f1f6713b-164a-4f30-9975-542f77b41820\n",
      " - Skip existing: PL_FMD_LDZ_COPY_FROM_ASQL_01, DataPipeline, 7bf16bb0-c4f9-4db4-86d2-cc99f162ccd5\n",
      " - Skip existing: PL_FMD_LDZ_COPY_FROM_ONELAKE_TABLES_01, DataPipeline, 63764974-e30e-4016-a7de-30dd555c0aa4\n",
      " - Skip existing: PL_FMD_LDZ_COPY_FROM_ADLS_01, DataPipeline, 69f7d5f8-56a2-4275-82ff-07cba5053823\n",
      " - Skip existing: PL_FMD_LDZ_COPY_FROM_ASQL_02, DataPipeline, 70831223-4a20-4014-9515-76673857c3fc\n",
      " - Skip existing: PL_FMD_LDZ_COMMAND_ASQL, DataPipeline, e75413d2-7b8d-4fad-bc7b-b462f937cbce\n",
      " - Skip existing: PL_FMD_LDZ_COMMAND_ADLS, DataPipeline, 60b486a5-b67a-49bf-a0b9-e5b95c08cf3c\n",
      " - Skip existing: PL_FMD_LDZ_COMMAND_ONELAKE, DataPipeline, 1ecd7e11-00d1-4d37-a8d2-7b5fa641460a\n",
      " - Skip existing: PL_FMD_LDZ_COPY_FROM_ADF, DataPipeline, 29ed8872-20d4-4591-80f9-c74b4c1ab17e\n",
      " - Skip existing: PL_FMD_LDZ_COMMAND_ADF, DataPipeline, 0c39aece-662a-4791-95f9-25db0272bd37\n",
      " - Skip existing: NB_FMD_DQ_CLEANSING, Notebook, 62484e1e-f910-4d87-b527-d8748c0d5d25\n",
      " - Skip existing: PL_TOOLING_POST_ASQL_TO_FMD, DataPipeline, b59fa217-9bfa-4393-8965-ce31f337d4dc\n",
      " --------------------------\n",
      " Processing code workspace TEST DATA (P) FMD\n",
      " - Skip existing: LH_DATA_LANDINGZONE, Lakehouse, 62756342-15bf-429e-97dd-3a2bcd89c855\n",
      " - Skip existing: LH_BRONZE_LAYER, Lakehouse, 0436622a-c639-4922-8262-c0cf2660d905\n",
      " - Skip existing: LH_SILVER_LAYER, Lakehouse, 358fdc38-e2da-4b9f-9e7d-896a4c02b9b2\n",
      " --------------------------\n",
      " Processing code workspace TEST CONFIG FMD\n",
      " - Skip existing: SQL_TEST_FRAMEWORK, SQLDatabase, 20c23e66-ae56-41b3-b9bb-a19065b8055f\n",
      " - Skip existing: SQL_TEST_FRAMEWORK, SQLEndpoint, 713ac056-5a54-4d51-91aa-49dc510d25b6\n",
      " --------------------------\n",
      " Processing code workspace TEST LOG FMD\n",
      " - Skip existing: WH_LOG, Warehouse, af9c376d-1dd4-4cfa-8c91-ce42cb72ec82\n"
     ]
    }
   ],
   "source": [
    "# create empty items if not exists\n",
    "    \n",
    "for environment in environments:\n",
    "\n",
    "    print(f\"--------------------------\")\n",
    "    print(f\"Processing: {environment['environment_name']}\")\n",
    "    environment['guids_to_replace'] = []\n",
    "    workspace_deployment(environment['workspaces']['code'], deployment_manifest['items'], environment['guids_to_replace'], True)\n",
    "    environment['guids_to_replace'].append({\"old_id\": deployment_manifest[\"workspaces\"][\"workspace_code\"], \"new_id\": environment['workspaces']['code']['id']})\n",
    "    workspace_deployment(environment['workspaces']['data'], deployment_manifest['data'], environment['guids_to_replace'], True)\n",
    "    environment['guids_to_replace'].append({\"old_id\": deployment_manifest[\"workspaces\"][\"workspace_data\"], \"new_id\": environment['workspaces']['data']['id']})\n",
    "    create_fabric_database()\n",
    "    create_fabric_warehouse()\n",
    "    \n",
    "\n",
    "    "
   ]
  },
  {
   "cell_type": "code",
   "execution_count": null,
   "id": "2a8cf383-606a-4c88-a052-6972e040b898",
   "metadata": {
    "jupyter": {
     "outputs_hidden": false,
     "source_hidden": false
    },
    "microsoft": {
     "language": "python",
     "language_group": "synapse_pyspark"
    },
    "nteract": {
     "transient": {
      "deleting": false
     }
    }
   },
   "outputs": [
    {
     "data": {
      "application/vnd.livy.statement-meta+json": {
       "execution_finish_time": "2025-03-15T16:37:17.0175523Z",
       "execution_start_time": "2025-03-15T16:36:33.2218641Z",
       "livy_statement_state": "available",
       "normalized_state": "finished",
       "parent_msg_id": "1f5c9f09-c766-4a3a-a842-f9e96ea5b3ff",
       "queued_time": "2025-03-15T16:36:04.8990372Z",
       "session_id": "a14fac42-c7c2-4df5-9e9e-682110c92894",
       "session_start_time": null,
       "spark_pool": null,
       "state": "finished",
       "statement_id": 187,
       "statement_ids": [
        187
       ]
      },
      "text/plain": [
       "StatementMeta(, a14fac42-c7c2-4df5-9e9e-682110c92894, 187, Finished, Available, Finished)"
      ]
     },
     "metadata": {},
     "output_type": "display_data"
    },
    {
     "name": "stdout",
     "output_type": "stream",
     "text": [
      "--------------------------\n",
      "Processing: development\n",
      "Deploy ENV_FMD (Environment)\n",
      "Update d31d9b4b-7805-49c8-8f8c-bafda8862e55\n",
      "Deploy NB_FMD_LOAD_BRONZE_SILVER (Notebook)\n",
      "Update b662497c-e7ac-4a3e-a5a7-1465995ffabf\n",
      "Deploy NB_FMD_LOAD_LANDING_BRONZE (Notebook)\n",
      "Update 4ed409f3-d5cb-4b82-aa92-34908ea490f4\n",
      "Deploy PL_FMD_LOAD_LANDINGZONE (DataPipeline)\n",
      "Update fb1751a8-71f8-4c5f-a5ed-0783bc0762a7\n",
      "Deploy PL_FMD_LOAD_ALL (DataPipeline)\n",
      "Update 2b13086a-d81c-410d-b447-ecbacc34b9a5\n",
      "Deploy PL_FMD_LOAD_BRONZE (DataPipeline)\n",
      "Update 3858d8e2-2253-4372-94e3-40b0358dfb9b\n",
      "Deploy PL_FMD_LOAD_SILVER (DataPipeline)\n",
      "Update de78ee0b-67ba-4e8a-b05e-acff4d278b7a\n",
      "Deploy PL_FMD_LDZ_COPY_FROM_ASQL_01 (DataPipeline)\n",
      "Update 3f351ada-b42f-43c6-9a9d-4abc93f9c330\n",
      "Deploy PL_FMD_LDZ_COPY_FROM_ONELAKE_TABLES_01 (DataPipeline)\n",
      "Update ea486543-c956-4f98-8b73-cc3db8850bab\n",
      "Deploy PL_FMD_LDZ_COPY_FROM_ADLS_01 (DataPipeline)\n",
      "Update dbe18ef6-b471-46f4-b4fc-e814c6879129\n",
      "Deploy PL_FMD_LDZ_COPY_FROM_ASQL_02 (DataPipeline)\n",
      "Update 5452d802-d3a2-4464-8de8-67a6966584ed\n",
      "Deploy PL_FMD_LDZ_COMMAND_ASQL (DataPipeline)\n",
      "Update 0d4de7a1-50f1-4c68-b06b-2daff7d91d40\n",
      "Deploy PL_FMD_LDZ_COMMAND_ADLS (DataPipeline)\n",
      "Update 96f4adc3-42ed-4798-8d8b-8c799c184f46\n",
      "Deploy PL_FMD_LDZ_COMMAND_ONELAKE (DataPipeline)\n",
      "Update e4808615-136e-4943-961d-3c8acd920cdd\n",
      "Deploy PL_FMD_LDZ_COPY_FROM_ADF (DataPipeline)\n",
      "Update 4d91bfea-004f-4113-ae1e-b1ce5e9da040\n",
      "Deploy PL_FMD_LDZ_COMMAND_ADF (DataPipeline)\n",
      "Update b1576023-499a-4de8-bd56-1cf4a84799ad\n",
      "Deploy NB_FMD_DQ_CLEANSING (Notebook)\n",
      "Update 452d72b8-1134-4178-a498-c1ea249bb46d\n",
      "Deploy PL_TOOLING_POST_ASQL_TO_FMD (DataPipeline)\n",
      "Update c7e4b019-dee8-4a98-a8c7-5ed3842747db\n",
      "--------------------------\n",
      "Processing: production\n",
      "Deploy ENV_FMD (Environment)\n",
      "Update af2c8107-a551-4f7e-88c1-190bac4fccc9\n",
      "Deploy NB_FMD_LOAD_BRONZE_SILVER (Notebook)\n",
      "Update 71b87fe8-73d9-4599-a603-f8aacf8148a7\n",
      "Deploy NB_FMD_LOAD_LANDING_BRONZE (Notebook)\n",
      "Update 6b8a2410-2cef-4c97-8aff-89c8e27f8fd2\n",
      "Deploy PL_FMD_LOAD_LANDINGZONE (DataPipeline)\n",
      "Update 14deee00-e7b0-4b57-9ae8-f3ccb716f7a7\n",
      "Deploy PL_FMD_LOAD_ALL (DataPipeline)\n",
      "Update c7b2b2f7-8fa6-40be-813c-d47a613346fa\n",
      "Deploy PL_FMD_LOAD_BRONZE (DataPipeline)\n",
      "Update c6dacb62-2d3c-402f-a4f2-471d97ccbfec\n",
      "Deploy PL_FMD_LOAD_SILVER (DataPipeline)\n",
      "Update f1f6713b-164a-4f30-9975-542f77b41820\n",
      "Deploy PL_FMD_LDZ_COPY_FROM_ASQL_01 (DataPipeline)\n",
      "Update 7bf16bb0-c4f9-4db4-86d2-cc99f162ccd5\n",
      "Deploy PL_FMD_LDZ_COPY_FROM_ONELAKE_TABLES_01 (DataPipeline)\n",
      "Update 63764974-e30e-4016-a7de-30dd555c0aa4\n",
      "Deploy PL_FMD_LDZ_COPY_FROM_ADLS_01 (DataPipeline)\n",
      "Update 69f7d5f8-56a2-4275-82ff-07cba5053823\n",
      "Deploy PL_FMD_LDZ_COPY_FROM_ASQL_02 (DataPipeline)\n",
      "Update 70831223-4a20-4014-9515-76673857c3fc\n",
      "Deploy PL_FMD_LDZ_COMMAND_ASQL (DataPipeline)\n",
      "Update e75413d2-7b8d-4fad-bc7b-b462f937cbce\n",
      "Deploy PL_FMD_LDZ_COMMAND_ADLS (DataPipeline)\n",
      "Update 60b486a5-b67a-49bf-a0b9-e5b95c08cf3c\n",
      "Deploy PL_FMD_LDZ_COMMAND_ONELAKE (DataPipeline)\n",
      "Update 1ecd7e11-00d1-4d37-a8d2-7b5fa641460a\n",
      "Deploy PL_FMD_LDZ_COPY_FROM_ADF (DataPipeline)\n",
      "Update 29ed8872-20d4-4591-80f9-c74b4c1ab17e\n",
      "Deploy PL_FMD_LDZ_COMMAND_ADF (DataPipeline)\n",
      "Update 0c39aece-662a-4791-95f9-25db0272bd37\n",
      "Deploy NB_FMD_DQ_CLEANSING (Notebook)\n",
      "Update 62484e1e-f910-4d87-b527-d8748c0d5d25\n",
      "Deploy PL_TOOLING_POST_ASQL_TO_FMD (DataPipeline)\n",
      "Update b59fa217-9bfa-4393-8965-ce31f337d4dc\n"
     ]
    }
   ],
   "source": [
    "items_to_deploy = deployment_manifest[\"items\"]\n",
    "\n",
    "for environment in environments:\n",
    "    print(f\"--------------------------\")\n",
    "    print(f\"Processing: {environment['environment_name']}\")\n",
    "    # Deploy items to workspace\n",
    "    # Append the remaining pairs\n",
    "    environment['guids_to_replace'].append({\"old_id\": deployment_manifest[\"connections\"][\"CON_FMD_FABRIC_SQL\"], \"new_id\": environment['connections']['CON_FMD_FABRIC_SQL']})\n",
    "    environment['guids_to_replace'].append({\"old_id\": deployment_manifest[\"connections\"][\"CON_FMD_FABRIC_PIPELINES\"], \"new_id\": environment['connections']['CON_FMD_FABRIC_PIPELINES']})\n",
    "    environment['guids_to_replace'].append({\"old_id\": deployment_manifest[\"connections\"][\"CON_FMD_ASQL_01\"], \"new_id\": environment['connections']['CON_FMD_ASQL_01']})\n",
    "    environment['guids_to_replace'].append({\"old_id\": deployment_manifest[\"connections\"][\"CON_FMD_ASQL_02\"], \"new_id\": environment['connections']['CON_FMD_ASQL_02']})\n",
    "    environment['guids_to_replace'].append({\"old_id\": deployment_manifest[\"connections\"][\"CON_FMD_ADLS_01\"], \"new_id\": environment['connections']['CON_FMD_ADLS_01']})\n",
    "    environment['guids_to_replace'].append({\"old_id\": deployment_manifest[\"connections\"][\"CON_FMD_ADF_PIPELINES\"], \"new_id\": environment['connections']['CON_FMD_ADF_PIPELINES']})\n",
    "    \n",
    "    existing_items = fabric_request(fabric_session, url=f\"workspaces/{environment['workspaces']['code']['id']}/items/\", method=\"GET\")\n",
    "    deploy_items(items_to_deploy, environment['guids_to_replace'], fmd_api_access_token, environment['workspaces']['code']['id'], existing_items[\"value\"])"
   ]
  },
  {
   "cell_type": "code",
   "execution_count": 167,
   "id": "9dfdd0e6-4952-4222-a707-4d7dbb56cb71",
   "metadata": {
    "microsoft": {
     "language": "python",
     "language_group": "synapse_pyspark"
    }
   },
   "outputs": [
    {
     "data": {
      "application/vnd.livy.statement-meta+json": {
       "execution_finish_time": "2025-03-15T16:37:17.3840549Z",
       "execution_start_time": "2025-03-15T16:37:17.0203069Z",
       "livy_statement_state": "available",
       "normalized_state": "finished",
       "parent_msg_id": "e465f135-e2f2-4d04-86b5-e342eab76b26",
       "queued_time": "2025-03-15T16:36:05.1888529Z",
       "session_id": "a14fac42-c7c2-4df5-9e9e-682110c92894",
       "session_start_time": null,
       "spark_pool": null,
       "state": "finished",
       "statement_id": 188,
       "statement_ids": [
        188
       ]
      },
      "text/plain": [
       "StatementMeta(, a14fac42-c7c2-4df5-9e9e-682110c92894, 188, Finished, Available, Finished)"
      ]
     },
     "metadata": {},
     "output_type": "display_data"
    }
   ],
   "source": [
    "#print(environment['guids_to_replace'])"
   ]
  },
  {
   "cell_type": "code",
   "execution_count": 168,
   "id": "db772de2-d86a-41a7-b19a-e0ef9dc57fdb",
   "metadata": {
    "microsoft": {
     "language": "python",
     "language_group": "synapse_pyspark"
    }
   },
   "outputs": [
    {
     "data": {
      "application/vnd.livy.statement-meta+json": {
       "execution_finish_time": "2025-03-15T16:37:18.2372475Z",
       "execution_start_time": "2025-03-15T16:37:17.3867391Z",
       "livy_statement_state": "available",
       "normalized_state": "finished",
       "parent_msg_id": "4ad619b3-3c22-4ef0-912a-9b4b373a444c",
       "queued_time": "2025-03-15T16:36:05.413253Z",
       "session_id": "a14fac42-c7c2-4df5-9e9e-682110c92894",
       "session_start_time": null,
       "spark_pool": null,
       "state": "finished",
       "statement_id": 189,
       "statement_ids": [
        189
       ]
      },
      "text/plain": [
       "StatementMeta(, a14fac42-c7c2-4df5-9e9e-682110c92894, 189, Finished, Available, Finished)"
      ]
     },
     "metadata": {},
     "output_type": "display_data"
    },
    {
     "name": "stdout",
     "output_type": "stream",
     "text": [
      "DRIVER={ODBC Driver 18 for SQL Server};SERVER=nl7yhqnbrscude3yv6mas6bxpq-3rrgygm6wmgernenf6qzqki7ei.datawarehouse.fabric.microsoft.com;PORT=1433;DATABASE=WH_LOG;\n",
      " - execute \"\n",
      "    IF NOT EXISTS (SELECT * FROM sys.schemas WHERE name = 'logging')\n",
      "    BEGIN\n",
      "        EXEC('CREATE SCHEMA [logging];');\n",
      "    END\n",
      "    \"\n",
      " - execute \"\n",
      "    IF NOT EXISTS (SELECT * FROM sys.tables WHERE name = 'PipelineExecution' AND schema_id = SCHEMA_ID('logging'))\n",
      "    BEGIN\n",
      "        CREATE TABLE [logging].[PipelineExecution]\n",
      "        (\n",
      "            [WorkspaceGuid] [uniqueidentifier]  NULL,\n",
      "            [PipelineRunGuid] [uniqueidentifier]  NULL,\n",
      "            [PipelineParentRunGuid] [uniqueidentifier]  NULL,\n",
      "            [PipelineGuid] [uniqueidentifier]  NULL,\n",
      "            [PipelineName] [varchar](100)  NULL,\n",
      "            [PipelineParameters] [varchar](8000)  NULL,\n",
      "            [TriggerType] [varchar](50)  NULL,\n",
      "            [TriggerGuid] [uniqueidentifier]  NULL,\n",
      "            [TriggerTime] [datetime2](6)  NULL,\n",
      "            [LogType] [varchar](50)  NULL,\n",
      "            [LogDateTime] [datetime2](6)  NULL,\n",
      "            [LogData] [varchar](8000)  NULL\n",
      "        )\n",
      "    END\n",
      "    \"\n",
      " - execute \"\n",
      "    CREATE OR ALTER PROCEDURE [logging].[sp_AuditPipeline]\n",
      "        @PipelineGuid UNIQUEIDENTIFIER\t\t\t\t= NULL\n",
      "        ,@PipelineName VARCHAR(100)\t\t\t\t    = NULL\n",
      "        ,@PipelineRunGuid UNIQUEIDENTIFIER\t\t\t= NULL\n",
      "        ,@PipelineParentRunGuid UNIQUEIDENTIFIER\t= NULL\n",
      "        ,@PipelineParameters VARCHAR(8000)  \t    = NULL\n",
      "        ,@TriggerType VARCHAR(50)\t\t\t\t\t= NULL\n",
      "        ,@TriggerGuid UNIQUEIDENTIFIER\t\t\t\t= NULL\n",
      "        ,@TriggerTime datetime\t\t\t\t\t\t= NULL\n",
      "        ,@LogData VARCHAR(8000)                     = NULL\n",
      "        ,@LogType\tvarchar(50)\t\t\t\t\t\t--Choice between Start/End/Fail, based on this Type the correct execution will be done\n",
      "        ,@WorkspaceGuid UNIQUEIDENTIFIER\t\t    = NULL\n",
      "\n",
      "    AS\n",
      "        INSERT INTO [logging].[PipelineExecution]\n",
      "            ([PipelineRunGuid]\n",
      "            ,[PipelineParentRunGuid]\n",
      "            ,[PipelineGuid]\n",
      "            ,[PipelineName]\n",
      "            ,[PipelineParameters]\n",
      "            ,[TriggerType]\n",
      "            ,[TriggerGuid]\n",
      "            ,[TriggerTime]\n",
      "            ,[LogDateTime]\n",
      "            ,[LogType]\n",
      "            ,[LogData]\n",
      "            ,[WorkspaceGuid]\n",
      "        )VALUES (\n",
      "            @PipelineRunGuid,\n",
      "            @PipelineParentRunGuid,\n",
      "            @PipelineGuid,\n",
      "            @PipelineName,\n",
      "            @PipelineParameters,\n",
      "            @TriggerType,\n",
      "            @TriggerGuid,\n",
      "            @TriggerTime,\n",
      "            getdate(),\n",
      "            @LogType,\n",
      "            @LogData,\n",
      "            @WorkspaceGuid\n",
      "            )\n",
      "    \"\n"
     ]
    }
   ],
   "source": [
    "# by timeout re-run\n",
    "\n",
    "for target_item in deployment_manifest['logging']['items']:\n",
    "    if target_item['type'] == 'Warehouse':\n",
    "        connstring = target_item[\"connectionString\"]\n",
    "        database = target_item['displayName']\n",
    "\n",
    "try:\n",
    "    i = 0\n",
    "    token = notebookutils.credentials.getToken('https://analysis.windows.net/powerbi/api').encode(\"UTF-16-LE\")\n",
    "    token_struct = struct.pack(f'<I{len(token)}s', len(token), token)\n",
    "    print(f\"DRIVER={driver};SERVER={connstring};PORT=1433;DATABASE={database};\")\n",
    "    connection = pyodbc.connect(f\"DRIVER={driver};SERVER={connstring};PORT=1433;DATABASE={database};\", attrs_before={1256:token_struct}, timeout=12)\n",
    "\n",
    "    with connection.cursor() as cursor:\n",
    "        cursor.execute(\"SELECT 1\")  # Execute the warm-up query (a simple query like 'SELECT 1' can be used)\n",
    "        cursor.fetchone()\n",
    "        connection.timeout = 5  # Setting a lower timeout for subsequent queries\n",
    "        for i, query in enumerate(deployment_manifest[\"logging\"][\"queries\"]):\n",
    "            print(f' - execute \"{query}\"')\n",
    "            cursor.execute(query)\n",
    "            cursor.commit()\n",
    "\n",
    "            tasks.append({\"task_name\": f\"{target_item.get('displayName')} {database} query {i}\", \"task_duration\": 1, \"status\": \"success\"})\n",
    "except pyodbc.OperationalError as e:\n",
    "    print(e)\n",
    "    tasks.append({\"task_name\": f\"{target_item.get('displayName')} {database} query {i}\", \"task_duration\": 1, \"status\": f\"pyodbc failed: {e}\"})\n",
    "except Exception as e:\n",
    "    print(e)\n",
    "    tasks.append({\"task_name\": f\"{target_item.get('displayName')} {database} query {i}\", \"task_duration\": 1, \"status\": f\"failed: {e}\"})"
   ]
  },
  {
   "cell_type": "code",
   "execution_count": 169,
   "id": "471f7792-b72b-4aad-bc4c-1a8748facf52",
   "metadata": {
    "microsoft": {
     "language": "python",
     "language_group": "synapse_pyspark"
    }
   },
   "outputs": [
    {
     "data": {
      "application/vnd.livy.statement-meta+json": {
       "execution_finish_time": "2025-03-15T16:37:18.5479947Z",
       "execution_start_time": "2025-03-15T16:37:18.2402291Z",
       "livy_statement_state": "available",
       "normalized_state": "finished",
       "parent_msg_id": "0ac84d89-aca3-459f-848e-3818e91eba17",
       "queued_time": "2025-03-15T16:36:05.6422977Z",
       "session_id": "a14fac42-c7c2-4df5-9e9e-682110c92894",
       "session_start_time": null,
       "spark_pool": null,
       "state": "finished",
       "statement_id": 190,
       "statement_ids": [
        190
       ]
      },
      "text/plain": [
       "StatementMeta(, a14fac42-c7c2-4df5-9e9e-682110c92894, 190, Finished, Available, Finished)"
      ]
     },
     "metadata": {},
     "output_type": "display_data"
    }
   ],
   "source": [
    "deployment_manifest[\"configuration\"][\"queries_stored_procedures\"].append(f'EXEC [integration].[sp_UpsertConnection] @ConnectionGuid = \"00000000-0000-0000-0000-000000000000\", @Name = \"CON_FMD_ONELAKE\", @Type = \"ONELAKE\", @IsActive = 1')\n",
    "deployment_manifest[\"configuration\"][\"queries_stored_procedures\"].append(f'EXEC [integration].[sp_UpsertConnection] @ConnectionGuid = \"{(environments[0][\"connections\"][\"CON_FMD_ASQL_01\"])}\", @Name = \"CON_FMD_ASQL_01\", @Type = \"SQL\", @IsActive = 1')\n",
    "deployment_manifest[\"configuration\"][\"queries_stored_procedures\"].append(f'EXEC [integration].[sp_UpsertConnection] @ConnectionGuid = \"{(environments[0][\"connections\"][\"CON_FMD_ASQL_02\"])}\", @Name = \"CON_FMD_ASQL_02\", @Type = \"SQL\", @IsActive = 1')\n",
    "deployment_manifest[\"configuration\"][\"queries_stored_procedures\"].append(f'EXEC [integration].[sp_UpsertConnection] @ConnectionGuid = \"{(environments[0][\"connections\"][\"CON_FMD_ADLS_01\"])}\", @Name = \"CON_FMD_ADLS_01\", @Type = \"ADLS\", @IsActive = 1')\n",
    "deployment_manifest[\"configuration\"][\"queries_stored_procedures\"].append(f'EXEC [integration].[sp_UpsertConnection] @ConnectionGuid = \"{(environments[0][\"connections\"][\"CON_FMD_ADF_PIPELINES\"])}\", @Name = \"CON_FMD_ADF_PIPELINES\", @Type = \"ADF\", @IsActive = 1')"
   ]
  },
  {
   "cell_type": "code",
   "execution_count": 170,
   "id": "1fab2dbf-1444-49c8-9006-539024d5e997",
   "metadata": {
    "microsoft": {
     "language": "python",
     "language_group": "synapse_pyspark"
    }
   },
   "outputs": [
    {
     "data": {
      "application/vnd.livy.statement-meta+json": {
       "execution_finish_time": "2025-03-15T16:37:18.8818472Z",
       "execution_start_time": "2025-03-15T16:37:18.5507808Z",
       "livy_statement_state": "available",
       "normalized_state": "finished",
       "parent_msg_id": "d3ab7450-c45e-4c6f-8c02-d95bc6a28264",
       "queued_time": "2025-03-15T16:36:05.9362846Z",
       "session_id": "a14fac42-c7c2-4df5-9e9e-682110c92894",
       "session_start_time": null,
       "spark_pool": null,
       "state": "finished",
       "statement_id": 191,
       "statement_ids": [
        191
       ]
      },
      "text/plain": [
       "StatementMeta(, a14fac42-c7c2-4df5-9e9e-682110c92894, 191, Finished, Available, Finished)"
      ]
     },
     "metadata": {},
     "output_type": "display_data"
    }
   ],
   "source": [
    "deployment_manifest[\"configuration\"][\"queries_stored_procedures\"].append(\"\"\"\n",
    "    DECLARE @DataSourceIdInternal INT = (SELECT DataSourceId FROM integration.DataSource WHERE Name = 'LH_DATA_LANDINGZONE')\n",
    "    DECLARE @ConnectionIdInternal INT = (SELECT ConnectionId FROM integration.Connection WHERE ConnectionGuid = '00000000-0000-0000-0000-000000000000')\n",
    "    EXECUTE [integration].[sp_UpsertDataSource] \n",
    "        @ConnectionId = @ConnectionIdInternal\n",
    "        ,@DataSourceId = @DataSourceIdInternal\n",
    "        ,@Name = 'LH_DATA_LANDINGZONE'\n",
    "        ,@Namespace = 'ONELAKE'\n",
    "        ,@Type = 'ONELAKE_TABLES_01'\n",
    "        ,@Description = 'ONELAKE_TABLES'\n",
    "        ,@IsActive = 1\n",
    "\"\"\")"
   ]
  },
  {
   "cell_type": "code",
   "execution_count": 171,
   "id": "0cb672c5-4a52-410d-b16f-2bfac3b49a80",
   "metadata": {
    "microsoft": {
     "language": "python",
     "language_group": "synapse_pyspark"
    }
   },
   "outputs": [
    {
     "data": {
      "application/vnd.livy.statement-meta+json": {
       "execution_finish_time": "2025-03-15T16:37:19.2104906Z",
       "execution_start_time": "2025-03-15T16:37:18.8846166Z",
       "livy_statement_state": "available",
       "normalized_state": "finished",
       "parent_msg_id": "e8510c6b-69b7-4287-9520-9dc206302397",
       "queued_time": "2025-03-15T16:36:06.118995Z",
       "session_id": "a14fac42-c7c2-4df5-9e9e-682110c92894",
       "session_start_time": null,
       "spark_pool": null,
       "state": "finished",
       "statement_id": 192,
       "statement_ids": [
        192
       ]
      },
      "text/plain": [
       "StatementMeta(, a14fac42-c7c2-4df5-9e9e-682110c92894, 192, Finished, Available, Finished)"
      ]
     },
     "metadata": {},
     "output_type": "display_data"
    },
    {
     "name": "stdout",
     "output_type": "stream",
     "text": [
      "EXEC [integration].[sp_UpsertWorkspace](@WorkspaceId = \"196c62dc-b39e-480c-b48d-2fa198291f22\" ,@Name = \"TEST LOG FMD\")\n",
      "EXEC [integration].[sp_UpsertWorkspace](@WorkspaceId = \"47c5b2a1-71db-4c5a-b097-587a50c1770c\" ,@Name = \"TEST CONFIG FMD\")\n",
      "EXEC [integration].[sp_UpsertWorkspace](@WorkspaceId = \"36894866-6515-4081-9260-2ab3646f13bc\" ,@Name = \"TEST CODE (D) FMD\")\n",
      "EXEC [integration].[sp_UpsertWorkspace](@WorkspaceId = \"6a2547f5-12c4-4fc9-9430-de5588ae7096\" ,@Name = \"TEST DATA (D) FMD\")\n",
      "EXEC [integration].[sp_UpsertWorkspace](@WorkspaceId = \"ca3b23d7-9da3-4993-a7ca-96b8d718af9f\" ,@Name = \"TEST CODE (P) FMD\")\n",
      "EXEC [integration].[sp_UpsertWorkspace](@WorkspaceId = \"20d15aa1-1996-4977-ba44-1ae47348c235\" ,@Name = \"TEST DATA (P) FMD\")\n"
     ]
    }
   ],
   "source": [
    "workspaces = []\n",
    "workspaces.append(logging['workspace'])\n",
    "workspaces.append(configuration['workspace'])\n",
    "\n",
    "for environment in environments:\n",
    "    workspaces.append(environment['workspaces']['code'])\n",
    "    workspaces.append(environment['workspaces']['data'])\n",
    "    \n",
    "for workspace in workspaces:\n",
    "    print(f'EXEC [integration].[sp_UpsertWorkspace](@WorkspaceId = \"{workspace[\"id\"]}\" ,@Name = \"{workspace[\"name\"]}\")')\n",
    "    deployment_manifest[\"configuration\"][\"queries_stored_procedures\"].append(f'EXEC [integration].[sp_UpsertWorkspace] @WorkspaceId = \"{workspace[\"id\"]}\", @Name = \"{workspace[\"name\"]}\"')"
   ]
  },
  {
   "cell_type": "code",
   "execution_count": 172,
   "id": "3c90ef67-295b-4a98-a273-28f8873af045",
   "metadata": {
    "microsoft": {
     "language": "python",
     "language_group": "synapse_pyspark"
    }
   },
   "outputs": [
    {
     "data": {
      "application/vnd.livy.statement-meta+json": {
       "execution_finish_time": "2025-03-15T16:37:20.1229491Z",
       "execution_start_time": "2025-03-15T16:37:19.2132168Z",
       "livy_statement_state": "available",
       "normalized_state": "finished",
       "parent_msg_id": "28831c83-a074-4f23-a948-14f2dc4b97ff",
       "queued_time": "2025-03-15T16:36:06.3252619Z",
       "session_id": "a14fac42-c7c2-4df5-9e9e-682110c92894",
       "session_start_time": null,
       "spark_pool": null,
       "state": "finished",
       "statement_id": 193,
       "statement_ids": [
        193
       ]
      },
      "text/plain": [
       "StatementMeta(, a14fac42-c7c2-4df5-9e9e-682110c92894, 193, Finished, Available, Finished)"
      ]
     },
     "metadata": {},
     "output_type": "display_data"
    },
    {
     "name": "stdout",
     "output_type": "stream",
     "text": [
      "EXEC [integration].[sp_UpsertPipeline] @PipelineId = \"fb1751a8-71f8-4c5f-a5ed-0783bc0762a7\", @WorkspaceId = \"6a2547f5-12c4-4fc9-9430-de5588ae7096\" ,@Name = \"PL_FMD_LOAD_LANDINGZONE\"\n",
      "EXEC [integration].[sp_UpsertPipeline] @PipelineId = \"2b13086a-d81c-410d-b447-ecbacc34b9a5\", @WorkspaceId = \"6a2547f5-12c4-4fc9-9430-de5588ae7096\" ,@Name = \"PL_FMD_LOAD_ALL\"\n",
      "EXEC [integration].[sp_UpsertPipeline] @PipelineId = \"3858d8e2-2253-4372-94e3-40b0358dfb9b\", @WorkspaceId = \"6a2547f5-12c4-4fc9-9430-de5588ae7096\" ,@Name = \"PL_FMD_LOAD_BRONZE\"\n",
      "EXEC [integration].[sp_UpsertPipeline] @PipelineId = \"de78ee0b-67ba-4e8a-b05e-acff4d278b7a\", @WorkspaceId = \"6a2547f5-12c4-4fc9-9430-de5588ae7096\" ,@Name = \"PL_FMD_LOAD_SILVER\"\n",
      "EXEC [integration].[sp_UpsertPipeline] @PipelineId = \"3f351ada-b42f-43c6-9a9d-4abc93f9c330\", @WorkspaceId = \"6a2547f5-12c4-4fc9-9430-de5588ae7096\" ,@Name = \"PL_FMD_LDZ_COPY_FROM_ASQL_01\"\n",
      "EXEC [integration].[sp_UpsertPipeline] @PipelineId = \"ea486543-c956-4f98-8b73-cc3db8850bab\", @WorkspaceId = \"6a2547f5-12c4-4fc9-9430-de5588ae7096\" ,@Name = \"PL_FMD_LDZ_COPY_FROM_ONELAKE_TABLES_01\"\n",
      "EXEC [integration].[sp_UpsertPipeline] @PipelineId = \"dbe18ef6-b471-46f4-b4fc-e814c6879129\", @WorkspaceId = \"6a2547f5-12c4-4fc9-9430-de5588ae7096\" ,@Name = \"PL_FMD_LDZ_COPY_FROM_ADLS_01\"\n",
      "EXEC [integration].[sp_UpsertPipeline] @PipelineId = \"5452d802-d3a2-4464-8de8-67a6966584ed\", @WorkspaceId = \"6a2547f5-12c4-4fc9-9430-de5588ae7096\" ,@Name = \"PL_FMD_LDZ_COPY_FROM_ASQL_02\"\n",
      "EXEC [integration].[sp_UpsertPipeline] @PipelineId = \"0d4de7a1-50f1-4c68-b06b-2daff7d91d40\", @WorkspaceId = \"6a2547f5-12c4-4fc9-9430-de5588ae7096\" ,@Name = \"PL_FMD_LDZ_COMMAND_ASQL\"\n",
      "EXEC [integration].[sp_UpsertPipeline] @PipelineId = \"96f4adc3-42ed-4798-8d8b-8c799c184f46\", @WorkspaceId = \"6a2547f5-12c4-4fc9-9430-de5588ae7096\" ,@Name = \"PL_FMD_LDZ_COMMAND_ADLS\"\n",
      "EXEC [integration].[sp_UpsertPipeline] @PipelineId = \"e4808615-136e-4943-961d-3c8acd920cdd\", @WorkspaceId = \"6a2547f5-12c4-4fc9-9430-de5588ae7096\" ,@Name = \"PL_FMD_LDZ_COMMAND_ONELAKE\"\n",
      "EXEC [integration].[sp_UpsertPipeline] @PipelineId = \"4d91bfea-004f-4113-ae1e-b1ce5e9da040\", @WorkspaceId = \"6a2547f5-12c4-4fc9-9430-de5588ae7096\" ,@Name = \"PL_FMD_LDZ_COPY_FROM_ADF\"\n",
      "EXEC [integration].[sp_UpsertPipeline] @PipelineId = \"b1576023-499a-4de8-bd56-1cf4a84799ad\", @WorkspaceId = \"6a2547f5-12c4-4fc9-9430-de5588ae7096\" ,@Name = \"PL_FMD_LDZ_COMMAND_ADF\"\n",
      "EXEC [integration].[sp_UpsertPipeline] @PipelineId = \"c7e4b019-dee8-4a98-a8c7-5ed3842747db\", @WorkspaceId = \"6a2547f5-12c4-4fc9-9430-de5588ae7096\" ,@Name = \"PL_TOOLING_POST_ASQL_TO_FMD\"\n",
      "EXEC [integration].[sp_UpsertPipeline] @PipelineId = \"14deee00-e7b0-4b57-9ae8-f3ccb716f7a7\", @WorkspaceId = \"20d15aa1-1996-4977-ba44-1ae47348c235\" ,@Name = \"PL_FMD_LOAD_LANDINGZONE\"\n",
      "EXEC [integration].[sp_UpsertPipeline] @PipelineId = \"c7b2b2f7-8fa6-40be-813c-d47a613346fa\", @WorkspaceId = \"20d15aa1-1996-4977-ba44-1ae47348c235\" ,@Name = \"PL_FMD_LOAD_ALL\"\n",
      "EXEC [integration].[sp_UpsertPipeline] @PipelineId = \"c6dacb62-2d3c-402f-a4f2-471d97ccbfec\", @WorkspaceId = \"20d15aa1-1996-4977-ba44-1ae47348c235\" ,@Name = \"PL_FMD_LOAD_BRONZE\"\n",
      "EXEC [integration].[sp_UpsertPipeline] @PipelineId = \"f1f6713b-164a-4f30-9975-542f77b41820\", @WorkspaceId = \"20d15aa1-1996-4977-ba44-1ae47348c235\" ,@Name = \"PL_FMD_LOAD_SILVER\"\n",
      "EXEC [integration].[sp_UpsertPipeline] @PipelineId = \"7bf16bb0-c4f9-4db4-86d2-cc99f162ccd5\", @WorkspaceId = \"20d15aa1-1996-4977-ba44-1ae47348c235\" ,@Name = \"PL_FMD_LDZ_COPY_FROM_ASQL_01\"\n",
      "EXEC [integration].[sp_UpsertPipeline] @PipelineId = \"63764974-e30e-4016-a7de-30dd555c0aa4\", @WorkspaceId = \"20d15aa1-1996-4977-ba44-1ae47348c235\" ,@Name = \"PL_FMD_LDZ_COPY_FROM_ONELAKE_TABLES_01\"\n",
      "EXEC [integration].[sp_UpsertPipeline] @PipelineId = \"69f7d5f8-56a2-4275-82ff-07cba5053823\", @WorkspaceId = \"20d15aa1-1996-4977-ba44-1ae47348c235\" ,@Name = \"PL_FMD_LDZ_COPY_FROM_ADLS_01\"\n",
      "EXEC [integration].[sp_UpsertPipeline] @PipelineId = \"70831223-4a20-4014-9515-76673857c3fc\", @WorkspaceId = \"20d15aa1-1996-4977-ba44-1ae47348c235\" ,@Name = \"PL_FMD_LDZ_COPY_FROM_ASQL_02\"\n",
      "EXEC [integration].[sp_UpsertPipeline] @PipelineId = \"e75413d2-7b8d-4fad-bc7b-b462f937cbce\", @WorkspaceId = \"20d15aa1-1996-4977-ba44-1ae47348c235\" ,@Name = \"PL_FMD_LDZ_COMMAND_ASQL\"\n",
      "EXEC [integration].[sp_UpsertPipeline] @PipelineId = \"60b486a5-b67a-49bf-a0b9-e5b95c08cf3c\", @WorkspaceId = \"20d15aa1-1996-4977-ba44-1ae47348c235\" ,@Name = \"PL_FMD_LDZ_COMMAND_ADLS\"\n",
      "EXEC [integration].[sp_UpsertPipeline] @PipelineId = \"1ecd7e11-00d1-4d37-a8d2-7b5fa641460a\", @WorkspaceId = \"20d15aa1-1996-4977-ba44-1ae47348c235\" ,@Name = \"PL_FMD_LDZ_COMMAND_ONELAKE\"\n",
      "EXEC [integration].[sp_UpsertPipeline] @PipelineId = \"29ed8872-20d4-4591-80f9-c74b4c1ab17e\", @WorkspaceId = \"20d15aa1-1996-4977-ba44-1ae47348c235\" ,@Name = \"PL_FMD_LDZ_COPY_FROM_ADF\"\n",
      "EXEC [integration].[sp_UpsertPipeline] @PipelineId = \"0c39aece-662a-4791-95f9-25db0272bd37\", @WorkspaceId = \"20d15aa1-1996-4977-ba44-1ae47348c235\" ,@Name = \"PL_FMD_LDZ_COMMAND_ADF\"\n",
      "EXEC [integration].[sp_UpsertPipeline] @PipelineId = \"b59fa217-9bfa-4393-8965-ce31f337d4dc\", @WorkspaceId = \"20d15aa1-1996-4977-ba44-1ae47348c235\" ,@Name = \"PL_TOOLING_POST_ASQL_TO_FMD\"\n"
     ]
    }
   ],
   "source": [
    "for environment in environments:\n",
    "    existing_items = fabric_request(fabric_session, url=f\"workspaces/{environment['workspaces']['code']['id']}/items/\", method=\"GET\")\n",
    "    for item in existing_items.get('value', []):\n",
    "        if item['type'] == 'DataPipeline':\n",
    "            print(f'EXEC [integration].[sp_UpsertPipeline] @PipelineId = \"{item[\"id\"]}\", @WorkspaceId = \"{environment[\"workspaces\"][\"data\"][\"id\"]}\" ,@Name = \"{item[\"displayName\"]}\"')\n",
    "            deployment_manifest[\"configuration\"][\"queries_stored_procedures\"].append(f'EXEC [integration].[sp_UpsertPipeline] @PipelineId = \"{item[\"id\"]}\", @WorkspaceId = \"{environment[\"workspaces\"][\"data\"][\"id\"]}\" ,@Name = \"{item[\"displayName\"]}\"')"
   ]
  },
  {
   "cell_type": "code",
   "execution_count": 173,
   "id": "932a14c4-9d6f-4566-9d8f-d567ea27b809",
   "metadata": {
    "microsoft": {
     "language": "python",
     "language_group": "synapse_pyspark"
    }
   },
   "outputs": [
    {
     "data": {
      "application/vnd.livy.statement-meta+json": {
       "execution_finish_time": "2025-03-15T16:37:20.4550145Z",
       "execution_start_time": "2025-03-15T16:37:20.1258226Z",
       "livy_statement_state": "available",
       "normalized_state": "finished",
       "parent_msg_id": "cb51a9c7-88dd-4a0c-8fc1-f839f9ca4332",
       "queued_time": "2025-03-15T16:36:06.5168818Z",
       "session_id": "a14fac42-c7c2-4df5-9e9e-682110c92894",
       "session_start_time": null,
       "spark_pool": null,
       "state": "finished",
       "statement_id": 194,
       "statement_ids": [
        194
       ]
      },
      "text/plain": [
       "StatementMeta(, a14fac42-c7c2-4df5-9e9e-682110c92894, 194, Finished, Available, Finished)"
      ]
     },
     "metadata": {},
     "output_type": "display_data"
    },
    {
     "name": "stdout",
     "output_type": "stream",
     "text": [
      "EXEC [integration].[sp_UpsertLakehouse] @LakehouseId = \"3b3bc849-28ef-414d-a836-99473b1a78b3\", @WorkspaceId = \"6a2547f5-12c4-4fc9-9430-de5588ae7096\" ,@Name = \"LH_DATA_LANDINGZONE\"\n",
      "EXEC [integration].[sp_UpsertLakehouse] @LakehouseId = \"a8384867-d4a6-43cd-b196-aa54f1da37e7\", @WorkspaceId = \"6a2547f5-12c4-4fc9-9430-de5588ae7096\" ,@Name = \"LH_BRONZE_LAYER\"\n",
      "EXEC [integration].[sp_UpsertLakehouse] @LakehouseId = \"d2a86922-16ec-4dd0-82f4-6fc836333efa\", @WorkspaceId = \"6a2547f5-12c4-4fc9-9430-de5588ae7096\" ,@Name = \"LH_SILVER_LAYER\"\n",
      "EXEC [integration].[sp_UpsertLakehouse] @LakehouseId = \"62756342-15bf-429e-97dd-3a2bcd89c855\", @WorkspaceId = \"20d15aa1-1996-4977-ba44-1ae47348c235\" ,@Name = \"LH_DATA_LANDINGZONE\"\n",
      "EXEC [integration].[sp_UpsertLakehouse] @LakehouseId = \"0436622a-c639-4922-8262-c0cf2660d905\", @WorkspaceId = \"20d15aa1-1996-4977-ba44-1ae47348c235\" ,@Name = \"LH_BRONZE_LAYER\"\n",
      "EXEC [integration].[sp_UpsertLakehouse] @LakehouseId = \"358fdc38-e2da-4b9f-9e7d-896a4c02b9b2\", @WorkspaceId = \"20d15aa1-1996-4977-ba44-1ae47348c235\" ,@Name = \"LH_SILVER_LAYER\"\n"
     ]
    }
   ],
   "source": [
    "for environment in environments:\n",
    "    existing_items = fabric_request(fabric_session, url=f\"workspaces/{environment['workspaces']['data']['id']}/items/\", method=\"GET\")\n",
    "    for item in existing_items.get('value', []):\n",
    "        if item['type'] == 'Lakehouse':\n",
    "            print(f'EXEC [integration].[sp_UpsertLakehouse] @LakehouseId = \"{item[\"id\"]}\", @WorkspaceId = \"{environment[\"workspaces\"][\"data\"][\"id\"]}\" ,@Name = \"{item[\"displayName\"]}\"')\n",
    "            deployment_manifest[\"configuration\"][\"queries_stored_procedures\"].append(f'EXEC [integration].[sp_UpsertLakehouse] @LakehouseId = \"{item[\"id\"]}\", @WorkspaceId = \"{environment[\"workspaces\"][\"data\"][\"id\"]}\" ,@Name = \"{item[\"displayName\"]}\"')"
   ]
  },
  {
   "cell_type": "code",
   "execution_count": 174,
   "id": "7ebbd0e8-b82b-455d-93ab-54f99a02d699",
   "metadata": {
    "microsoft": {
     "language": "python",
     "language_group": "synapse_pyspark"
    }
   },
   "outputs": [
    {
     "data": {
      "application/vnd.livy.statement-meta+json": {
       "execution_finish_time": "2025-03-15T16:37:20.7846703Z",
       "execution_start_time": "2025-03-15T16:37:20.4577913Z",
       "livy_statement_state": "available",
       "normalized_state": "finished",
       "parent_msg_id": "6344514d-1b25-4628-af37-62a3e06c5546",
       "queued_time": "2025-03-15T16:36:06.7472396Z",
       "session_id": "a14fac42-c7c2-4df5-9e9e-682110c92894",
       "session_start_time": null,
       "spark_pool": null,
       "state": "finished",
       "statement_id": 195,
       "statement_ids": [
        195
       ]
      },
      "text/plain": [
       "StatementMeta(, a14fac42-c7c2-4df5-9e9e-682110c92894, 195, Finished, Available, Finished)"
      ]
     },
     "metadata": {},
     "output_type": "display_data"
    }
   ],
   "source": [
    "deployment_manifest[\"configuration\"][\"queries_stored_procedures\"].append(\"\"\"\n",
    "    DECLARE @LandingzoneEntityIdInternal INT = (SELECT LandingzoneEntityId FROM integration.LandingzoneEntity WHERE SourceSchema = 'in' and SourceName = 'customer')\n",
    "    DECLARE @DataSourceIdInternal INT = (SELECT DataSourceId FROM integration.DataSource WHERE Name = 'LH_DATA_LANDINGZONE')\n",
    "    DECLARE @LakehouseIdInternal INT = (SELECT top 1 LakehouseId FROM integration.Lakehouse WHERE Name = 'LH_DATA_LANDINGZONE')\n",
    "    EXECUTE [integration].[sp_UpsertLandingzoneEntity] \n",
    "        @LandingzoneEntityId = @LandingzoneEntityIdInternal\n",
    "        ,@DataSourceId = @DataSourceIdInternal\n",
    "        ,@LakehouseId = @LakehouseIdInternal\n",
    "        ,@SourceSchema = 'in'\n",
    "        ,@SourceName = 'customer'\n",
    "        ,@FileName = 'customer'\n",
    "        ,@FilePath = 'fmd'\n",
    "        ,@FileType = 'parquet'\n",
    "        ,@IsIncremental = 0\n",
    "        ,@IsIncrementalColumn = ''\n",
    "        ,@IsActive = 1\n",
    "\"\"\")"
   ]
  },
  {
   "cell_type": "code",
   "execution_count": 175,
   "id": "480adf45-7385-47fa-b669-a1f394252d38",
   "metadata": {
    "microsoft": {
     "language": "python",
     "language_group": "synapse_pyspark"
    }
   },
   "outputs": [
    {
     "data": {
      "application/vnd.livy.statement-meta+json": {
       "execution_finish_time": "2025-03-15T16:37:21.1420431Z",
       "execution_start_time": "2025-03-15T16:37:20.7873962Z",
       "livy_statement_state": "available",
       "normalized_state": "finished",
       "parent_msg_id": "00fb3e37-25d6-4c61-9a71-aed8e1dc01c3",
       "queued_time": "2025-03-15T16:36:06.9578581Z",
       "session_id": "a14fac42-c7c2-4df5-9e9e-682110c92894",
       "session_start_time": null,
       "spark_pool": null,
       "state": "finished",
       "statement_id": 196,
       "statement_ids": [
        196
       ]
      },
      "text/plain": [
       "StatementMeta(, a14fac42-c7c2-4df5-9e9e-682110c92894, 196, Finished, Available, Finished)"
      ]
     },
     "metadata": {},
     "output_type": "display_data"
    }
   ],
   "source": [
    "deployment_manifest[\"configuration\"][\"queries_stored_procedures\"].append(\"\"\"\n",
    "    DECLARE @LandingzoneEntityIdInternal INT = (SELECT LandingzoneEntityId FROM integration.LandingzoneEntity WHERE SourceSchema = 'in' and SourceName = 'customer')\n",
    "    DECLARE @BronzeLayerEntityIdInternal INT = (SELECT BronzeLayerEntityId FROM integration.BronzeLayerEntity WHERE [Schema] = 'in' and [Name] = 'customer')\n",
    "    DECLARE @LakehouseIdInternal INT = (SELECT top 1 LakehouseId FROM integration.Lakehouse WHERE Name = 'LH_BRONZE_LAYER')\n",
    "    EXECUTE [integration].[sp_UpsertBronzeLayerEntity] \n",
    "        @BronzeLayerEntityId = @BronzeLayerEntityIdInternal\n",
    "        ,@LandingzoneEntityId = @LandingzoneEntityIdInternal\n",
    "        ,@Schema = 'in'\n",
    "        ,@Name = 'customer'\n",
    "        ,@FileType = 'Delta'\n",
    "        ,@LakehouseId = @LakehouseIdInternal\n",
    "        ,@PrimaryKeys = 'CustomerId'\n",
    "        ,@IsActive = 1\n",
    "\"\"\")"
   ]
  },
  {
   "cell_type": "code",
   "execution_count": 176,
   "id": "ba6c1c95-806d-4f37-bddb-344c9fe58d32",
   "metadata": {
    "microsoft": {
     "language": "python",
     "language_group": "synapse_pyspark"
    }
   },
   "outputs": [
    {
     "data": {
      "application/vnd.livy.statement-meta+json": {
       "execution_finish_time": "2025-03-15T16:37:21.4958184Z",
       "execution_start_time": "2025-03-15T16:37:21.1447293Z",
       "livy_statement_state": "available",
       "normalized_state": "finished",
       "parent_msg_id": "08e518ef-df91-4daa-85a5-d3da37b26649",
       "queued_time": "2025-03-15T16:36:07.231968Z",
       "session_id": "a14fac42-c7c2-4df5-9e9e-682110c92894",
       "session_start_time": null,
       "spark_pool": null,
       "state": "finished",
       "statement_id": 197,
       "statement_ids": [
        197
       ]
      },
      "text/plain": [
       "StatementMeta(, a14fac42-c7c2-4df5-9e9e-682110c92894, 197, Finished, Available, Finished)"
      ]
     },
     "metadata": {},
     "output_type": "display_data"
    }
   ],
   "source": [
    "deployment_manifest[\"configuration\"][\"queries_stored_procedures\"].append(\"\"\"\n",
    "    DECLARE @BronzeLayerEntityIdInternal INT = (SELECT BronzeLayerEntityId FROM integration.BronzeLayerEntity WHERE [Schema] = 'in' and [Name] = 'customer')\n",
    "    DECLARE @SilverLayerEntityIdInternal INT = (SELECT SilverLayerEntityId FROM integration.SilverLayerEntity WHERE [Schema] = 'in' and [Name] = 'customer')\n",
    "    DECLARE @LakehouseIdInternal INT = (SELECT top 1 LakehouseId FROM integration.Lakehouse WHERE Name = 'LH_SILVER_LAYER')\n",
    "    EXECUTE [integration].[sp_UpsertSilverLayerEntity] \n",
    "        @SilverLayerEntityId = @SilverLayerEntityIdInternal\n",
    "        ,@BronzeLayerEntityId = @BronzeLayerEntityIdInternal\n",
    "        ,@LakehouseId = @LakehouseIdInternal\n",
    "        ,@Name = 'customer'\n",
    "        ,@Schema = 'in'\n",
    "        ,@FileType = 'delta'\n",
    "        ,@IsActive = 1\n",
    "\"\"\")"
   ]
  },
  {
   "cell_type": "code",
   "execution_count": 177,
   "id": "657493f0-7d03-4fd3-81bc-ca2e7be3ed24",
   "metadata": {
    "microsoft": {
     "language": "python",
     "language_group": "synapse_pyspark"
    }
   },
   "outputs": [
    {
     "data": {
      "application/vnd.livy.statement-meta+json": {
       "execution_finish_time": "2025-03-15T16:37:23.9922459Z",
       "execution_start_time": "2025-03-15T16:37:21.4985273Z",
       "livy_statement_state": "available",
       "normalized_state": "finished",
       "parent_msg_id": "16febc44-31c9-4d03-b46f-b3d5e0158f96",
       "queued_time": "2025-03-15T16:36:07.4323496Z",
       "session_id": "a14fac42-c7c2-4df5-9e9e-682110c92894",
       "session_start_time": null,
       "spark_pool": null,
       "state": "finished",
       "statement_id": 198,
       "statement_ids": [
        198
       ]
      },
      "text/plain": [
       "StatementMeta(, a14fac42-c7c2-4df5-9e9e-682110c92894, 198, Finished, Available, Finished)"
      ]
     },
     "metadata": {},
     "output_type": "display_data"
    },
    {
     "name": "stdout",
     "output_type": "stream",
     "text": [
      "DRIVER={ODBC Driver 18 for SQL Server};SERVER=nl7yhqnbrscude3yv6mas6bxpq-ugzmkr63ofnezmexlb5fbqlxbq.database.fabric.microsoft.com;PORT=1433;DATABASE=SQL_TEST_FRAMEWORK-20c23e66-ae56-41b3-b9bb-a19065b8055f;\n",
      " - execute \"\n",
      "    IF NOT EXISTS (SELECT * FROM sys.schemas WHERE name = 'integration')\n",
      "    BEGIN\n",
      "        EXEC('CREATE SCHEMA [integration];');\n",
      "    END\n",
      "    \"\n",
      " - execute \"\n",
      "    IF NOT EXISTS (SELECT * FROM sys.schemas WHERE name = 'execution')\n",
      "    BEGIN\n",
      "        EXEC('CREATE SCHEMA [execution];');\n",
      "    END\n",
      "    \"\n",
      " - execute \"\n",
      "    DECLARE @SQL NVARCHAR(MAX) = '';\n",
      "\n",
      "    SELECT @SQL = @SQL + 'ALTER TABLE ' + QUOTENAME(s.name) + '.' + QUOTENAME(t.name) + \n",
      "    ' DROP CONSTRAINT ' + QUOTENAME(dc.name) + ';' + CHAR(13)\n",
      "    FROM sys.default_constraints dc\n",
      "    INNER JOIN sys.tables t ON dc.parent_object_id = t.object_id\n",
      "    INNER JOIN sys.schemas s ON t.schema_id = s.schema_id\n",
      "    WHERE s.name IN ('integration', 'execution');\n",
      "\n",
      "    EXEC sp_executesql @SQL\n",
      "    \"\n",
      " - execute \"\n",
      "    IF NOT EXISTS (SELECT * FROM sys.tables WHERE name = 'Connection' AND schema_id = SCHEMA_ID('integration'))\n",
      "    BEGIN\n",
      "        CREATE TABLE [integration].[Connection](\n",
      "            [ConnectionId] [int] IDENTITY(1,1) NOT NULL,\n",
      "            [ConnectionGuid] [uniqueidentifier] NOT NULL,\n",
      "            [Name] [varchar](200) NOT NULL,\n",
      "            [Type] [varchar](50) NOT NULL,\n",
      "            [GatewayType] [varchar](50) NULL,\n",
      "            [DatasourceReference] [varchar](max) NULL,\n",
      "            [IsActive] [bit] NOT NULL\n",
      "        ) ON [PRIMARY] TEXTIMAGE_ON [PRIMARY]\n",
      "    END\n",
      "    \"\n",
      " - execute \"\n",
      "    IF NOT EXISTS (SELECT * FROM sys.objects WHERE type = 'PK' AND name = 'PK_integration_ConnectionId')\n",
      "    BEGIN\n",
      "        ALTER TABLE [integration].[Connection] ADD  CONSTRAINT [PK_integration_ConnectionId] PRIMARY KEY CLUSTERED \n",
      "        (\n",
      "            [ConnectionId] ASC\n",
      "        )WITH (PAD_INDEX = OFF, STATISTICS_NORECOMPUTE = OFF, SORT_IN_TEMPDB = OFF, IGNORE_DUP_KEY = OFF, ONLINE = OFF, ALLOW_ROW_LOCKS = ON, ALLOW_PAGE_LOCKS = ON) ON [PRIMARY]\n",
      "    END\n",
      "    \"\n",
      " - execute \"\n",
      "    IF NOT EXISTS (SELECT * FROM sys.objects WHERE type = 'UQ' AND name = 'UC_integration_Connection')\n",
      "    BEGIN\n",
      "        ALTER TABLE [integration].[Connection] ADD  CONSTRAINT [UC_integration_Connection] UNIQUE NONCLUSTERED \n",
      "        (\n",
      "            [ConnectionGuid] ASC\n",
      "        )WITH (PAD_INDEX = OFF, STATISTICS_NORECOMPUTE = OFF, SORT_IN_TEMPDB = OFF, IGNORE_DUP_KEY = OFF, ONLINE = OFF, ALLOW_ROW_LOCKS = ON, ALLOW_PAGE_LOCKS = ON) ON [PRIMARY]\n",
      "    END\n",
      "    \"\n",
      " - execute \"\n",
      "    ALTER TABLE [integration].[Connection] ADD  DEFAULT ((1)) FOR [IsActive] \n",
      "    \"\n",
      " - execute \"\n",
      "    IF NOT EXISTS (SELECT * FROM sys.tables WHERE name = 'DataSource' AND schema_id = SCHEMA_ID('integration'))\n",
      "    BEGIN\n",
      "        CREATE TABLE [integration].[DataSource](\n",
      "            [DataSourceId] [int] IDENTITY(1,1) NOT NULL,\n",
      "            [ConnectionId] [int] NOT NULL,\n",
      "            [Name] [varchar](100) NOT NULL,\n",
      "            [Namespace] [varchar](100) NOT NULL,\n",
      "            [Type] [varchar](30) NULL,\n",
      "            [Description] [nvarchar](200) NULL,\n",
      "            [IsActive] [bit] NOT NULL\n",
      "        ) ON [PRIMARY]\n",
      "    END\n",
      "    \"\n",
      " - execute \"\n",
      "    IF NOT EXISTS (SELECT * FROM sys.objects WHERE type = 'PK' AND name = 'PK_integration_DataSource')\n",
      "    BEGIN\n",
      "        ALTER TABLE [integration].[DataSource] ADD  CONSTRAINT [PK_integration_DataSource] PRIMARY KEY CLUSTERED \n",
      "        (\n",
      "            [DataSourceId] ASC\n",
      "        )WITH (PAD_INDEX = OFF, STATISTICS_NORECOMPUTE = OFF, SORT_IN_TEMPDB = OFF, IGNORE_DUP_KEY = OFF, ONLINE = OFF, ALLOW_ROW_LOCKS = ON, ALLOW_PAGE_LOCKS = ON) ON [PRIMARY]\n",
      "    END\n",
      "    \"\n",
      " - execute \"\n",
      "    IF NOT EXISTS (SELECT * FROM sys.objects WHERE type = 'UQ' AND name = 'UC_integration_DataSource')\n",
      "    BEGIN\n",
      "        ALTER TABLE [integration].[DataSource] ADD  CONSTRAINT [UC_integration_DataSource] UNIQUE NONCLUSTERED \n",
      "        (\n",
      "            [ConnectionId] ASC,\n",
      "            [Name] ASC,\n",
      "            [Type] ASC\n",
      "        )WITH (PAD_INDEX = OFF, STATISTICS_NORECOMPUTE = OFF, SORT_IN_TEMPDB = OFF, IGNORE_DUP_KEY = OFF, ONLINE = OFF, ALLOW_ROW_LOCKS = ON, ALLOW_PAGE_LOCKS = ON) ON [PRIMARY]\n",
      "    END\n",
      "    \"\n",
      " - execute \"\n",
      "        ALTER TABLE [integration].[DataSource] ADD  DEFAULT ((1)) FOR [IsActive]\n",
      "    \"\n",
      " - execute \"\n",
      "    IF NOT EXISTS (SELECT * FROM sys.tables WHERE name = 'Workspace' AND schema_id = SCHEMA_ID('integration'))\n",
      "    BEGIN\n",
      "        CREATE TABLE [integration].[Workspace](\n",
      "            [WorkspaceId] [int] IDENTITY(1,1) NOT NULL,\n",
      "            [WorkspaceGuid] [uniqueidentifier] NOT NULL,\n",
      "            [Name] [varchar](100) NOT NULL\n",
      "        ) ON [PRIMARY]\n",
      "    END\n",
      "    \"\n",
      " - execute \"\n",
      "    IF NOT EXISTS (SELECT * FROM sys.objects WHERE type = 'PK' AND name = 'PK_integration_Workspace')\n",
      "    BEGIN\n",
      "        ALTER TABLE [integration].[Workspace] ADD  CONSTRAINT [PK_integration_Workspace] PRIMARY KEY CLUSTERED \n",
      "        (\n",
      "            [WorkspaceId] ASC\n",
      "        )WITH (PAD_INDEX = OFF, STATISTICS_NORECOMPUTE = OFF, SORT_IN_TEMPDB = OFF, IGNORE_DUP_KEY = OFF, ONLINE = OFF, ALLOW_ROW_LOCKS = ON, ALLOW_PAGE_LOCKS = ON) ON [PRIMARY]\n",
      "    END\n",
      "    \"\n",
      " - execute \"\n",
      "    IF NOT EXISTS (SELECT * FROM sys.objects WHERE type = 'UQ' AND name = 'UC_integration_Workspace_WorkspaceGuid')\n",
      "    BEGIN\n",
      "        ALTER TABLE [integration].[Workspace] ADD  CONSTRAINT [UC_integration_Workspace_WorkspaceGuid] UNIQUE NONCLUSTERED \n",
      "        (\n",
      "            [WorkspaceGuid] ASC\n",
      "        )WITH (PAD_INDEX = OFF, STATISTICS_NORECOMPUTE = OFF, SORT_IN_TEMPDB = OFF, IGNORE_DUP_KEY = OFF, ONLINE = OFF, ALLOW_ROW_LOCKS = ON, ALLOW_PAGE_LOCKS = ON) ON [PRIMARY]\n",
      "    END\n",
      "    \"\n",
      " - execute \"\n",
      "    IF NOT EXISTS (SELECT * FROM sys.tables WHERE name = 'Pipeline' AND schema_id = SCHEMA_ID('integration'))\n",
      "    BEGIN\n",
      "        CREATE TABLE [integration].[Pipeline](\n",
      "            [PipelineId] [int] IDENTITY(1,1) NOT NULL,\n",
      "            [PipelineGuid] [uniqueidentifier] NOT NULL,\n",
      "            [WorkspaceGuid] [uniqueidentifier] NOT NULL,\n",
      "            [Name] [varchar](200) NOT NULL,\n",
      "            [IsActive] [bit] NOT NULL\n",
      "        ) ON [PRIMARY]\n",
      "    END\n",
      "    \"\n",
      " - execute \"\n",
      "    IF NOT EXISTS (SELECT * FROM sys.objects WHERE type = 'PK' AND name = 'PK_integration_PipelineId')\n",
      "    BEGIN\n",
      "        ALTER TABLE [integration].[Pipeline] ADD  CONSTRAINT [PK_integration_PipelineId] PRIMARY KEY CLUSTERED \n",
      "        (\n",
      "            [PipelineId] ASC\n",
      "        )WITH (PAD_INDEX = OFF, STATISTICS_NORECOMPUTE = OFF, SORT_IN_TEMPDB = OFF, IGNORE_DUP_KEY = OFF, ONLINE = OFF, ALLOW_ROW_LOCKS = ON, ALLOW_PAGE_LOCKS = ON) ON [PRIMARY]\n",
      "    END\n",
      "    \"\n",
      " - execute \"\n",
      "    IF NOT EXISTS (SELECT * FROM sys.objects WHERE type = 'UQ' AND name = 'UC_integration_Pipeline')\n",
      "    BEGIN\n",
      "        ALTER TABLE [integration].[Pipeline] ADD  CONSTRAINT [UC_integration_Pipeline] UNIQUE NONCLUSTERED \n",
      "        (\n",
      "            [PipelineGuid] ASC\n",
      "        )WITH (PAD_INDEX = OFF, STATISTICS_NORECOMPUTE = OFF, SORT_IN_TEMPDB = OFF, IGNORE_DUP_KEY = OFF, ONLINE = OFF, ALLOW_ROW_LOCKS = ON, ALLOW_PAGE_LOCKS = ON) ON [PRIMARY]\n",
      "    END\n",
      "    \"\n",
      " - execute \"\n",
      "        ALTER TABLE [integration].[Pipeline] ADD  DEFAULT ((1)) FOR [IsActive]\n",
      "    \"\n",
      " - execute \"\n",
      "    IF NOT EXISTS (SELECT * FROM sys.tables WHERE name = 'Lakehouse' AND schema_id = SCHEMA_ID('integration'))\n",
      "    BEGIN\n",
      "        CREATE TABLE [integration].[Lakehouse](\n",
      "            [LakehouseId] [int] IDENTITY(1,1) NOT NULL,\n",
      "            [LakehouseGuid] [uniqueidentifier] NOT NULL,\n",
      "            [WorkspaceGuid] [uniqueidentifier] NOT NULL,\n",
      "            [Name] [varchar](100) NOT NULL,\n",
      "            [IsActive] [bit] NOT NULL\n",
      "        ) ON [PRIMARY]\n",
      "    END \n",
      "    \"\n",
      " - execute \"\n",
      "    IF NOT EXISTS (SELECT * FROM sys.objects WHERE type = 'PK' AND name = 'PK_integration_Lakehouse')\n",
      "    BEGIN\n",
      "        ALTER TABLE [integration].[Lakehouse] ADD  CONSTRAINT [PK_integration_Lakehouse] PRIMARY KEY CLUSTERED \n",
      "        (\n",
      "            [LakehouseId] ASC\n",
      "        )WITH (PAD_INDEX = OFF, STATISTICS_NORECOMPUTE = OFF, SORT_IN_TEMPDB = OFF, IGNORE_DUP_KEY = OFF, ONLINE = OFF, ALLOW_ROW_LOCKS = ON, ALLOW_PAGE_LOCKS = ON) ON [PRIMARY]\n",
      "    END\n",
      "    \"\n",
      " - execute \"\n",
      "    IF NOT EXISTS (SELECT * FROM sys.objects WHERE type = 'UQ' AND name = 'UC_integration_Lakehouse')\n",
      "    BEGIN\n",
      "        ALTER TABLE [integration].[Lakehouse] ADD  CONSTRAINT [UC_integration_Lakehouse] UNIQUE NONCLUSTERED \n",
      "        (\n",
      "            [LakehouseGuid] ASC\n",
      "        )WITH (PAD_INDEX = OFF, STATISTICS_NORECOMPUTE = OFF, SORT_IN_TEMPDB = OFF, IGNORE_DUP_KEY = OFF, ONLINE = OFF, ALLOW_ROW_LOCKS = ON, ALLOW_PAGE_LOCKS = ON) ON [PRIMARY]\n",
      "    END\n",
      "    \"\n",
      " - execute \"\n",
      "        ALTER TABLE [integration].[Lakehouse] ADD  DEFAULT ((1)) FOR [IsActive]\n",
      "    \"\n",
      " - execute \"\n",
      "    IF NOT EXISTS (SELECT * FROM sys.objects WHERE type = 'F' AND name = 'FK_Lakehouse_Workspace')\n",
      "    BEGIN\n",
      "        ALTER TABLE [integration].[Lakehouse]  WITH CHECK ADD  CONSTRAINT [FK_Lakehouse_Workspace] FOREIGN KEY([WorkspaceGuid])\n",
      "        REFERENCES [integration].[Workspace] ([WorkspaceGuid])\n",
      "    END\n",
      "    \"\n",
      " - execute \"\n",
      "        ALTER TABLE [integration].[Lakehouse] CHECK CONSTRAINT [FK_Lakehouse_Workspace]\n",
      "    \"\n",
      " - execute \"\n",
      "    IF NOT EXISTS (SELECT * FROM sys.tables WHERE name = 'LandingzoneEntity' AND schema_id = SCHEMA_ID('integration'))\n",
      "    BEGIN\n",
      "        CREATE TABLE [integration].[LandingzoneEntity](\n",
      "            [LandingzoneEntityId] [bigint] IDENTITY(1,1) NOT NULL,\n",
      "            [DataSourceId] [int] NOT NULL,\n",
      "            [LakehouseId] [int] NOT NULL,\n",
      "            [SourceSchema] [nvarchar](100) NULL,\n",
      "            [SourceName] [nvarchar](200) NOT NULL,\n",
      "            [FileName] [nvarchar](200) NOT NULL,\n",
      "            [FileType] [nvarchar](20) NOT NULL,\n",
      "            [FilePath] [nvarchar](500) NOT NULL,\n",
      "            [IsIncremental] [bit] NOT NULL,\n",
      "            [IsIncrementalColumn] [nvarchar](50) NULL,\n",
      "            [IsActive] [bit] NOT NULL\n",
      "        ) ON [PRIMARY]\n",
      "    END \n",
      "    \"\n",
      " - execute \"\n",
      "    IF NOT EXISTS (SELECT * FROM sys.objects WHERE type = 'PK' AND name = 'PK_integration_LandingzoneEntity')\n",
      "    BEGIN\n",
      "        ALTER TABLE [integration].[LandingzoneEntity] ADD  CONSTRAINT [PK_integration_LandingzoneEntity] PRIMARY KEY CLUSTERED \n",
      "        (\n",
      "            [LandingzoneEntityId] ASC\n",
      "        )WITH (PAD_INDEX = OFF, STATISTICS_NORECOMPUTE = OFF, SORT_IN_TEMPDB = OFF, IGNORE_DUP_KEY = OFF, ONLINE = OFF, ALLOW_ROW_LOCKS = ON, ALLOW_PAGE_LOCKS = ON) ON [PRIMARY]\n",
      "    END\n",
      "    \"\n",
      " - execute \"\n",
      "    IF NOT EXISTS (SELECT * FROM sys.objects WHERE type = 'UQ' AND name = 'UC_integration_LandingzoneEntity')\n",
      "    BEGIN\n",
      "        ALTER TABLE [integration].[LandingzoneEntity] ADD  CONSTRAINT [UC_integration_LandingzoneEntity] UNIQUE NONCLUSTERED \n",
      "        (\n",
      "            [SourceSchema] ASC,\n",
      "            [SourceName] ASC,\n",
      "            [DataSourceId] ASC\n",
      "        )WITH (PAD_INDEX = OFF, STATISTICS_NORECOMPUTE = OFF, SORT_IN_TEMPDB = OFF, IGNORE_DUP_KEY = OFF, ONLINE = OFF, ALLOW_ROW_LOCKS = ON, ALLOW_PAGE_LOCKS = ON) ON [PRIMARY]\n",
      "    END\n",
      "    \"\n",
      " - execute \"\n",
      "        ALTER TABLE [integration].[LandingzoneEntity] ADD  DEFAULT ((0)) FOR [IsIncremental]\n",
      "    \"\n",
      " - execute \"\n",
      "        ALTER TABLE [integration].[LandingzoneEntity] ADD  DEFAULT ((1)) FOR [IsActive]\n",
      "    \"\n",
      " - execute \"\n",
      "    IF NOT EXISTS (SELECT * FROM sys.tables WHERE name = 'BronzeLayerEntity' AND schema_id = SCHEMA_ID('integration'))\n",
      "    BEGIN\n",
      "        CREATE TABLE [integration].[BronzeLayerEntity](\n",
      "            [BronzeLayerEntityId] [bigint] IDENTITY(1,1) NOT NULL,\n",
      "            [LandingzoneEntityId] [bigint] NOT NULL,\n",
      "            [LakehouseId] [int] NOT NULL,\n",
      "            [Schema] [nvarchar](100) NOT NULL,\n",
      "            [Name] [nvarchar](200) NOT NULL,\n",
      "            [PrimaryKeys] [nvarchar](200) NOT NULL,\n",
      "            [FileType] [nvarchar](20) NOT NULL,\n",
      "            [CleansingRules] [nvarchar](max) NULL,\n",
      "            [IsActive] [bit] NOT NULL\n",
      "        ) ON [PRIMARY] TEXTIMAGE_ON [PRIMARY]\n",
      "    END \n",
      "    \"\n",
      " - execute \"\n",
      "    IF NOT EXISTS (SELECT * FROM sys.objects WHERE type = 'PK' AND name = 'PK_integration_BronzeLayerEntity')\n",
      "    BEGIN\n",
      "        ALTER TABLE [integration].[BronzeLayerEntity] ADD  CONSTRAINT [PK_integration_BronzeLayerEntity] PRIMARY KEY CLUSTERED \n",
      "        (\n",
      "            [BronzeLayerEntityId] ASC\n",
      "        )WITH (PAD_INDEX = OFF, STATISTICS_NORECOMPUTE = OFF, SORT_IN_TEMPDB = OFF, IGNORE_DUP_KEY = OFF, ONLINE = OFF, ALLOW_ROW_LOCKS = ON, ALLOW_PAGE_LOCKS = ON) ON [PRIMARY]\n",
      "    END\n",
      "    \"\n",
      " - execute \"\n",
      "    IF NOT EXISTS (SELECT * FROM sys.objects WHERE type = 'UQ' AND name = 'UC_integration_BronzeLayerEntity')\n",
      "    BEGIN\n",
      "        ALTER TABLE [integration].[BronzeLayerEntity] ADD  CONSTRAINT [UC_integration_BronzeLayerEntity] UNIQUE NONCLUSTERED \n",
      "        (\n",
      "            [LakehouseId] ASC,\n",
      "            [Schema] ASC,\n",
      "            [Name] ASC\n",
      "        )WITH (PAD_INDEX = OFF, STATISTICS_NORECOMPUTE = OFF, SORT_IN_TEMPDB = OFF, IGNORE_DUP_KEY = OFF, ONLINE = OFF, ALLOW_ROW_LOCKS = ON, ALLOW_PAGE_LOCKS = ON) ON [PRIMARY]\n",
      "    END\n",
      "    \"\n",
      " - execute \"\n",
      "        ALTER TABLE [integration].[BronzeLayerEntity] ADD  DEFAULT ('Delta') FOR [FileType]\n",
      "    \"\n",
      " - execute \"\n",
      "        ALTER TABLE [integration].[BronzeLayerEntity] ADD  DEFAULT ((1)) FOR [IsActive]\n",
      "    \"\n",
      " - execute \"\n",
      "    IF NOT EXISTS (SELECT * FROM sys.objects WHERE type = 'F' AND name = 'FK_BronzeLayerEntity_LandingzoneEntity')\n",
      "    BEGIN\n",
      "        ALTER TABLE [integration].[BronzeLayerEntity]  WITH CHECK ADD  CONSTRAINT [FK_BronzeLayerEntity_LandingzoneEntity] FOREIGN KEY([LandingzoneEntityId])\n",
      "        REFERENCES [integration].[LandingzoneEntity] ([LandingzoneEntityId])\n",
      "    END\n",
      "    \"\n",
      " - execute \"\n",
      "        ALTER TABLE [integration].[BronzeLayerEntity] CHECK CONSTRAINT [FK_BronzeLayerEntity_LandingzoneEntity]\n",
      "    \"\n",
      " - execute \"\n",
      "    IF NOT EXISTS (SELECT * FROM sys.tables WHERE name = 'SilverLayerEntity' AND schema_id = SCHEMA_ID('integration'))\n",
      "    BEGIN\n",
      "        CREATE TABLE [integration].[SilverLayerEntity](\n",
      "            [SilverLayerEntityId] [bigint] IDENTITY(1,1) NOT NULL,\n",
      "            [BronzeLayerEntityId] [bigint] NOT NULL,\n",
      "            [LakehouseId] [int] NOT NULL,\n",
      "            [Schema] [nvarchar](100) NULL,\n",
      "            [Name] [nvarchar](200) NULL,\n",
      "            [FileType] [nvarchar](20) NOT NULL,\n",
      "            [CleansingRules] [nvarchar](max) NULL,\n",
      "            [IsActive] [bit] NOT NULL\n",
      "        ) ON [PRIMARY]\n",
      "    END\n",
      "    \"\n",
      " - execute \"\n",
      "    IF NOT EXISTS (SELECT * FROM sys.objects WHERE type = 'PK' AND name = 'PK_integration_SilverLayerEntity')\n",
      "    BEGIN\n",
      "        ALTER TABLE [integration].[SilverLayerEntity] ADD  CONSTRAINT [PK_integration_SilverLayerEntity] PRIMARY KEY CLUSTERED \n",
      "        (\n",
      "            [SilverLayerEntityId] ASC\n",
      "        )WITH (PAD_INDEX = OFF, STATISTICS_NORECOMPUTE = OFF, SORT_IN_TEMPDB = OFF, IGNORE_DUP_KEY = OFF, ONLINE = OFF, ALLOW_ROW_LOCKS = ON, ALLOW_PAGE_LOCKS = ON) ON [PRIMARY]\n",
      "    END\n",
      "    \"\n",
      " - execute \"\n",
      "    IF NOT EXISTS (SELECT * FROM sys.objects WHERE type = 'UQ' AND name = 'UC_integration_BSilverLayerEntity')\n",
      "    BEGIN\n",
      "        ALTER TABLE [integration].[SilverLayerEntity] ADD  CONSTRAINT [UC_integration_BSilverLayerEntity] UNIQUE NONCLUSTERED \n",
      "        (\n",
      "            [LakehouseId] ASC,\n",
      "            [Schema] ASC,\n",
      "            [Name] ASC\n",
      "        )WITH (PAD_INDEX = OFF, STATISTICS_NORECOMPUTE = OFF, SORT_IN_TEMPDB = OFF, IGNORE_DUP_KEY = OFF, ONLINE = OFF, ALLOW_ROW_LOCKS = ON, ALLOW_PAGE_LOCKS = ON) ON [PRIMARY]\n",
      "    END\n",
      "    \"\n",
      " - execute \"\n",
      "        ALTER TABLE [integration].[SilverLayerEntity] ADD  DEFAULT ('Delta') FOR [FileType]\n",
      "    \"\n",
      " - execute \"\n",
      "        ALTER TABLE [integration].[SilverLayerEntity] ADD  DEFAULT ((1)) FOR [IsActive]\n",
      "    \"\n",
      " - execute \"\n",
      "    IF NOT EXISTS (SELECT * FROM sys.objects WHERE type = 'F' AND name = 'FK_SilverLayerEntity_BronzeLayerEntityId')\n",
      "    BEGIN\n",
      "        ALTER TABLE [integration].[SilverLayerEntity]  WITH CHECK ADD  CONSTRAINT [FK_SilverLayerEntity_BronzeLayerEntityId] FOREIGN KEY([BronzeLayerEntityId])\n",
      "        REFERENCES [integration].[BronzeLayerEntity] ([BronzeLayerEntityId])\n",
      "    END\n",
      "    \"\n",
      " - execute \"\n",
      "        ALTER TABLE [integration].[SilverLayerEntity] CHECK CONSTRAINT [FK_SilverLayerEntity_BronzeLayerEntityId]\n",
      "    \"\n",
      " - execute \"\n",
      "    IF NOT EXISTS (SELECT * FROM sys.tables WHERE name = 'LandingzoneEntityLastLoadValue' AND schema_id = SCHEMA_ID('execution'))\n",
      "    BEGIN\n",
      "        CREATE TABLE [execution].[LandingzoneEntityLastLoadValue](\n",
      "            [LandingzoneEntityValueId] [bigint] IDENTITY(1,1) NOT NULL,\n",
      "            [LandingzoneEntityId] [bigint] NULL,\n",
      "            [LoadValue] [varchar](50) NULL,\n",
      "            [LastLoadDatetime] [datetime2](7) NULL\n",
      "        ) ON [PRIMARY]\n",
      "    END\n",
      "    \"\n",
      " - execute \"\n",
      "    IF NOT EXISTS (SELECT * FROM sys.objects WHERE type = 'PK' AND name = 'PK_execution_Source_LastLoadValue')\n",
      "    BEGIN\n",
      "        ALTER TABLE [execution].[LandingzoneEntityLastLoadValue] ADD  CONSTRAINT [PK_execution_Source_LastLoadValue] PRIMARY KEY CLUSTERED \n",
      "        (\n",
      "            [LandingzoneEntityValueId] ASC\n",
      "        )WITH (PAD_INDEX = OFF, STATISTICS_NORECOMPUTE = OFF, SORT_IN_TEMPDB = OFF, IGNORE_DUP_KEY = OFF, ONLINE = OFF, ALLOW_ROW_LOCKS = ON, ALLOW_PAGE_LOCKS = ON) ON [PRIMARY]\n",
      "    END\n",
      "    \"\n",
      " - execute \"\n",
      "    IF NOT EXISTS (SELECT * FROM sys.objects WHERE type = 'UQ' AND name = 'UC_execution_LandingzoneEntityLastLoadValue_Guid')\n",
      "    BEGIN\n",
      "        ALTER TABLE [execution].[LandingzoneEntityLastLoadValue] ADD  CONSTRAINT [UC_execution_LandingzoneEntityLastLoadValue_Guid] UNIQUE NONCLUSTERED \n",
      "        (\n",
      "            [LandingzoneEntityId] ASC\n",
      "        )WITH (PAD_INDEX = OFF, STATISTICS_NORECOMPUTE = OFF, SORT_IN_TEMPDB = OFF, IGNORE_DUP_KEY = OFF, ONLINE = OFF, ALLOW_ROW_LOCKS = ON, ALLOW_PAGE_LOCKS = ON) ON [PRIMARY]\n",
      "    END\n",
      "    \"\n",
      " - execute \"\n",
      "    IF NOT EXISTS (SELECT * FROM sys.tables WHERE name = 'PipelineLandingzoneEntity' AND schema_id = SCHEMA_ID('execution'))\n",
      "    BEGIN\n",
      "        CREATE TABLE [execution].[PipelineLandingzoneEntity](\n",
      "            [PipelineLandingzoneEntityId] [bigint] IDENTITY(1,1) NOT NULL,\n",
      "            [LandingzoneEntityId] [bigint] NOT NULL,\n",
      "            [FilePath] [nvarchar](300) NOT NULL,\n",
      "            [FileName] [nvarchar](max) NOT NULL,\n",
      "            [InsertDateTime] [datetime] NULL,\n",
      "            [IsProcessed] [bit] NOT NULL,\n",
      "            [LoadEndDateTime] [datetime] NULL\n",
      "        ) ON [PRIMARY] TEXTIMAGE_ON [PRIMARY]\n",
      "    END\n",
      "    \"\n",
      " - execute \"\n",
      "    IF NOT EXISTS (SELECT * FROM sys.objects WHERE type = 'PK' AND name = 'PK_execution_PipelineLandingzoneEntity')\n",
      "    BEGIN\n",
      "        ALTER TABLE [execution].[PipelineLandingzoneEntity] ADD  CONSTRAINT [PK_execution_PipelineLandingzoneEntity] PRIMARY KEY CLUSTERED \n",
      "        (\n",
      "            [PipelineLandingzoneEntityId] ASC\n",
      "        )WITH (PAD_INDEX = OFF, STATISTICS_NORECOMPUTE = OFF, SORT_IN_TEMPDB = OFF, IGNORE_DUP_KEY = OFF, ONLINE = OFF, ALLOW_ROW_LOCKS = ON, ALLOW_PAGE_LOCKS = ON) ON [PRIMARY]\n",
      "    END\n",
      "    \"\n",
      " - execute \"\n",
      "    CREATE or ALTER   VIEW [execution].[vw_LoadSourceToLandingzone]\n",
      "    AS\n",
      "\n",
      "    SELECT \n",
      "    LZE.[LandingzoneEntityId] AS [EntityId],\n",
      "    DS.[DataSourceId] AS [DataSourceId],\n",
      "    DS.[Name] AS [DataSourceName],\n",
      "    DS.[Namespace] AS [DataSourceNamespace],\n",
      "    DS.[Type] AS [DataSourceType],\n",
      "    C.[Type] AS [ConnectionType],\n",
      "    [SourceSchema],\n",
      "    [SourceName],\n",
      "    [FilePath] + '/' + DS.[Namespace] + FORMAT(GETUTCDATE(), '/yyyy/MM/dd') AS [TargetFilePath],\n",
      "    LZE.[FileName] + '_' + FORMAT(GETUTCDATE(), 'yyyyMMddHHmm') + '.' + [FileType] AS [TargetFileName],\n",
      "    LZE.[FileType] AS [TargetFileType],\n",
      "    LH.[LakehouseGuid] AS [TargetLakehouseGuid],\n",
      "    W.[WorkspaceGuid] AS [WorkspaceGuid],\n",
      "    [IsIncremental],\n",
      "    [IsIncrementalColumn],\n",
      "    [LastLoadValue] = CASE\n",
      "        WHEN C.[Type] IN ('SQL') THEN\n",
      "            'SELECT CASE WHEN ' + CONVERT(NVARCHAR(1), CASE WHEN LZE.[IsIncremental] = '' OR ISNULL(LZE.[IsIncrementalColumn], '') = '' THEN 0 ELSE LZE.[IsIncremental] END) + ' = 1 \n",
      "            THEN CONVERT(VARCHAR, MAX(' + (\n",
      "                CASE WHEN ISNULL(LZE.[IsIncrementalColumn], '') = '' THEN '1'\n",
      "                ELSE LZE.[IsIncrementalColumn]\n",
      "            END) + '), 120) \n",
      "            ELSE CONVERT(VARCHAR, GETDATE(), 120) \n",
      "            END AS [LastLoadValue] \n",
      "            FROM ' + QUOTENAME(ISNULL(\n",
      "                CASE WHEN LZE.[SourceSchema] != '' THEN LZE.[SourceSchema]\n",
      "                END, 'Unknown')) + '.' + QUOTENAME(LZE.[SourceName])\n",
      "        ELSE \n",
      "            LZELV.[LoadValue]\n",
      "    END,\n",
      "    [SourceDataRetrieval] = CASE \n",
      "        WHEN LZE.[IsIncremental] = 1 THEN \n",
      "            'SELECT * FROM ' + QUOTENAME(ISNULL(CASE WHEN LZE.[SourceSchema] != '' THEN LZE.[SourceSchema] END, 'Unknown')) + '.' + QUOTENAME(LZE.[SourceName]) + \n",
      "            CASE WHEN ISNULL(LZE.[IsIncrementalColumn], '') <> '' AND TRY_CONVERT(VARCHAR, [LoadValue]) IS NOT NULL THEN \n",
      "                ' WHERE ' + LZE.[IsIncrementalColumn] + ' >= ''' + TRY_CONVERT(VARCHAR, ISNULL([LoadValue], '1900-01-01')) + '''' \n",
      "            ELSE ''\n",
      "            END\n",
      "        WHEN ISNULL(LZE.[IsIncremental], 0) = 0 THEN \n",
      "            'SELECT * FROM ' + QUOTENAME(ISNULL(CASE WHEN LZE.[SourceSchema] != '' THEN LZE.[SourceSchema] END, 'Unknown')) + '.' + QUOTENAME(LZE.[SourceName]) \n",
      "        ELSE ''\n",
      "    END\n",
      "FROM [integration].[LandingzoneEntity] LZE\n",
      "INNER JOIN [integration].[Lakehouse] LH\n",
      "    ON LZE.[LakehouseId] = LH.[LakehouseId]\n",
      "INNER JOIN [integration].[Workspace] W\n",
      "    ON W.[WorkspaceGuid] = LH.[WorkspaceGuid]\n",
      "INNER JOIN [integration].[DataSource] DS\n",
      "    ON DS.[DataSourceId] = LZE.[DataSourceId]\n",
      "INNER JOIN [integration].[Connection] C\n",
      "    ON DS.[ConnectionId] = C.[ConnectionId]\n",
      "LEFT JOIN [execution].[LandingzoneEntityLastLoadValue] LZELV\n",
      "    ON LZELV.[LandingzoneEntityId] = LZE.[LandingzoneEntityId]\n",
      "WHERE 1 = 1\n",
      "    AND LZE.[IsActive] = 1\n",
      "    \n",
      "\"\n",
      " - execute \"\n",
      "\n",
      "    CREATE or ALTER   VIEW [execution].[vw_LoadToBronzeLayer]\n",
      "    AS\n",
      "    SELECT \n",
      "    BLE.[BronzeLayerEntityId], \n",
      "    PLZE.[FilePath] AS SourceFilePath,\n",
      "    PLZE.[FileName] AS SourceFileName,\n",
      "    LZE.[LandingzoneEntityId] AS [EntityId],\n",
      "    LZE.[FileType] AS SourceFileType,\n",
      "    BLE.[Schema] AS [TargetSchema],\n",
      "    BLE.[Name] AS [TargetName],\n",
      "    WT.[WorkspaceGuid] AS [TargetWorkspaceId],\n",
      "    WS.[WorkspaceGuid] AS [SourceWorkspaceId],\n",
      "    BLH.[LakehouseGuid] AS [TargetLakehouseId],\n",
      "    LZH.[LakehouseGuid] AS [SourceLakehouseId],\n",
      "    BLH.[Name] AS [TargetLakehouseName],\n",
      "    LZH.[Name] AS [SourceLakehouseName],\n",
      "    LZE.[IsIncremental],\n",
      "    BLE.[PrimaryKeys],\n",
      "    BLE.[CleansingRules],\n",
      "    DS.[Namespace] AS [DataSourceNamespace]\n",
      "FROM [integration].[BronzeLayerEntity] BLE\n",
      "INNER JOIN [integration].[LandingzoneEntity] LZE\n",
      "    ON LZE.[LandingzoneEntityId] = BLE.[LandingzoneEntityId]\n",
      "INNER JOIN [execution].[PipelineLandingzoneEntity] PLZE\n",
      "    ON LZE.[LandingzoneEntityId] = PLZE.[LandingzoneEntityId]\n",
      "INNER JOIN [execution].[LandingzoneEntityLastLoadValue] LZELV\n",
      "    ON LZE.[LandingzoneEntityId] = LZELV.[LandingzoneEntityId]\n",
      "INNER JOIN [integration].[DataSource] DS\n",
      "    ON DS.[DataSourceId] = LZE.[DataSourceId]\n",
      "INNER JOIN [integration].[Lakehouse] BLH\n",
      "    ON BLE.[LakehouseId] = BLH.[LakehouseId]\n",
      "INNER JOIN [integration].[Lakehouse] LZH\n",
      "    ON LZE.[LakehouseId] = LZH.[LakehouseId]\n",
      "INNER JOIN [integration].[Workspace] WT\n",
      "    ON WT.[WorkspaceGuid] = BLH.[WorkspaceGuid]\n",
      "INNER JOIN [integration].[Workspace] WS\n",
      "    ON WS.[WorkspaceGuid] = LZH.[WorkspaceGuid]\n",
      "WHERE 1 = 1\n",
      "    AND LZE.[IsActive] = 1\n",
      "    AND BLE.[IsActive] = 1\n",
      "    AND PLZE.[IsProcessed] = 0\n",
      "    \n",
      "\"\n",
      " - execute \"\n",
      "\n",
      "    CREATE or ALTER   VIEW [execution].[vw_LoadToSilverLayer]\n",
      "    AS\n",
      "    SELECT \n",
      "    LZE.[LandingzoneEntityId],\n",
      "    BLE.[BronzeLayerEntityId],\n",
      "    SLE.[SilverLayerEntityId] AS [EntityId],\n",
      "    SLE.[Schema] AS [SourceSchema],\n",
      "    SLE.[Name] AS [SourceName],\n",
      "    BLE.[FileType] AS [SourceFileType],\n",
      "    SLE.[Schema] AS [TargetSchema],\n",
      "    SLE.[Name] AS [TargetName],\n",
      "    SLE.[FileType] AS [TargetFileType],\n",
      "    WT.[WorkspaceGuid] AS [TargetWorkspaceId],\n",
      "    WS.[WorkspaceGuid] AS [SourceWorkspaceId],\n",
      "    SLH.[LakehouseGuid] AS [TargetLakehouseId],\n",
      "    BLH.[LakehouseGuid] AS [SourceLakehouseId],\n",
      "    SLH.[Name] AS [TargetLakehouseName],\n",
      "    BLH.[Name] AS [SourceLakehouseName],\n",
      "    SLE.[CleansingRules],\n",
      "    DS.[Namespace] AS [DataSourceNamespace]\n",
      "FROM [integration].[SilverLayerEntity] SLE\n",
      "INNER JOIN [integration].[BronzeLayerEntity] BLE\n",
      "    ON SLE.BronzeLayerEntityId = BLE.BronzeLayerEntityId\n",
      "INNER JOIN [integration].[LandingzoneEntity] LZE\n",
      "    ON LZE.LandingzoneEntityId = BLE.LandingzoneEntityId\n",
      "INNER JOIN [execution].[LandingzoneEntityLastLoadValue] LZELV\n",
      "    ON LZE.LandingzoneEntityId = LZELV.LandingzoneEntityId\n",
      "INNER JOIN [integration].[DataSource] DS\n",
      "    ON DS.[DataSourceId] = LZE.[DataSourceId]\n",
      "INNER JOIN [integration].[Lakehouse] BLH\n",
      "    ON BLE.LakehouseId = BLH.LakehouseId\n",
      "INNER JOIN [integration].[Lakehouse] SLH\n",
      "    ON SLE.LakehouseId = SLH.LakehouseId\n",
      "INNER JOIN [integration].[Workspace] WT\n",
      "    ON WT.[WorkspaceGuid] = SLH.[WorkspaceGuid]\n",
      "INNER JOIN [integration].[Workspace] WS\n",
      "    ON WS.[WorkspaceGuid] = BLH.[WorkspaceGuid]\n",
      "WHERE 1 = 1\n",
      "    AND LZE.IsActive = 1\n",
      "    AND BLE.IsActive = 1\n",
      "    AND SLE.IsActive = 1\n",
      "    \n",
      "\"\n",
      " - execute \"\n",
      "\n",
      "    CREATE or ALTER  PROCEDURE [execution].[sp_UpsertLandingZoneEntityLastLoadValue] (\n",
      "        @LandingzoneEntityId BIGINT,\n",
      "        @LastLoadValue VARCHAR(50)\n",
      "        )\n",
      "        WITH EXECUTE AS CALLER\n",
      "    AS\n",
      "    BEGIN\n",
      "        SET NOCOUNT ON\n",
      "                                                                            \n",
      "        IF EXISTS (\n",
      "                SELECT 1\n",
      "                FROM [execution].[LandingzoneEntityLastLoadValue]\n",
      "                WHERE [LandingzoneEntityId] = @LandingzoneEntityId\n",
      "                )\n",
      "        BEGIN\n",
      "            UPDATE x\n",
      "            SET [LoadValue] = @LastLoadValue,\n",
      "                LastLoadDatetime = CONVERT(DATETIME2(7), GETDATE())\n",
      "            FROM [execution].[LandingzoneEntityLastLoadValue] x\n",
      "            WHERE [LandingzoneEntityId] = @LandingzoneEntityId\n",
      "        END                                     \n",
      "        ELSE\n",
      "        BEGIN\n",
      "            INSERT INTO [execution].[LandingzoneEntityLastLoadValue] (\n",
      "                [LandingzoneEntityId],\n",
      "                [LoadValue],\n",
      "                LastLoadDatetime\n",
      "                )\n",
      "            VALUES (                             \n",
      "                @LandingzoneEntityId,\n",
      "                @LastLoadValue,\n",
      "                getdate()\n",
      "                )\n",
      "        END\n",
      "    --Output for Fabric Pipeline\n",
      "    SELECT @LandingzoneEntityId AS LandingzoneEntityId, \n",
      "            @LastLoadValue as LastLoadValue;\n",
      "        SET NOCOUNT OFF;\n",
      "    END\n",
      "    \n",
      "\"\n",
      " - execute \"\n",
      "\n",
      "    CREATE or ALTER  PROCEDURE [execution].[sp_UpsertPipelineLandingzoneEntity] (\n",
      "        @LandingzoneEntityId BIGINT,\n",
      "        @Filename NVARCHAR(300),\n",
      "        @FilePath NVARCHAR(300),\n",
      "        @IsProcessed BIT\n",
      "    )\n",
      "    WITH EXECUTE AS CALLER\n",
      "    AS\n",
      "    BEGIN\n",
      "        SET NOCOUNT ON;\n",
      "\n",
      "        IF NOT EXISTS (\n",
      "            SELECT 1\n",
      "            FROM [execution].[PipelineLandingzoneEntity] PLE\n",
      "            WHERE PLE.[LandingzoneEntityId] = @LandingzoneEntityId\n",
      "                AND PLE.[Filename] = @Filename\n",
      "                AND PLE.[FilePath] = @FilePath\n",
      "        )\n",
      "        BEGIN\n",
      "            INSERT INTO [execution].[PipelineLandingzoneEntity] (\n",
      "                [LandingzoneEntityId],\n",
      "                [FilePath],\n",
      "                [FileName],\n",
      "                [InsertDateTime],\n",
      "                [IsProcessed]\n",
      "            )\n",
      "            SELECT @LandingzoneEntityId,\n",
      "                @FilePath,\n",
      "                @Filename,\n",
      "                GETDATE(),\n",
      "                @IsProcessed;\n",
      "        END\n",
      "        ELSE IF @IsProcessed = 1\n",
      "        BEGIN\n",
      "            UPDATE [execution].[PipelineLandingzoneEntity]\n",
      "            SET [IsProcessed] = @IsProcessed,\n",
      "                [LoadEndDateTime] = GETDATE()\n",
      "            WHERE [LandingzoneEntityId] = @LandingzoneEntityId\n",
      "                AND [Filename] = @Filename\n",
      "                AND [FilePath] = @FilePath;\n",
      "        END\n",
      "\n",
      "        -- Output for Fabric Pipeline\n",
      "        SELECT @LandingzoneEntityId AS LandingzoneEntityId, \n",
      "            @IsProcessed as IsProcessed,\n",
      "            @FilePath as FilePath,\n",
      "            @Filename as [Filename];\n",
      "\n",
      "        SET NOCOUNT OFF;\n",
      "    END\n",
      "    \n",
      "\"\n",
      " - execute \"\n",
      "    CREATE or ALTER   PROCEDURE [integration].[sp_GetBronzeLayerEntity](\n",
      "         @LandingzoneEntityId int\n",
      "       \n",
      "    \n",
      "    )\n",
      "    WITH EXECUTE AS CALLER\n",
      "    AS \n",
      "\n",
      "    SET NOCOUNT ON; \n",
      "\n",
      "    declare @BronzeLayerEntityId int\n",
      "    BEGIN\n",
      "     set @BronzeLayerEntityId = ( select isnull(BronzeLayerEntityId,0) as BronzeLayerEntityId from   [integration].[BronzeLayerEntity] where LandingzoneEntityId= @LandingzoneEntityId)\n",
      "    END\n",
      "\n",
      "            SELECT @BronzeLayerEntityId AS BronzeLayerEntityId\n",
      "\n",
      "\n",
      "\"\n",
      " - execute \"\n",
      "    CREATE or ALTER   PROCEDURE [integration].[sp_GetDataSource](\n",
      "       @Name NVARCHAR(100)\n",
      "    \n",
      "    )\n",
      "    WITH EXECUTE AS CALLER\n",
      "    AS \n",
      "\n",
      "    SET NOCOUNT ON; \n",
      "\n",
      "    declare @DataSourceId int\n",
      "    BEGIN\n",
      "            set @DataSourceId= ( select isnull(DataSourceId,0) as DataSourceId  from   [integration].[DataSource] where  [Name] = @Name)\n",
      "    END\n",
      "\n",
      "            SELECT @DataSourceId AS DataSourceId\n",
      "\n",
      "\n",
      "\"\n",
      " - execute \"\n",
      "    CREATE or ALTER   PROCEDURE [integration].[sp_GetLakehouse](\n",
      "         @WorkspaceGuid UNIQUEIDENTIFIER\n",
      "        ,@Name NVARCHAR(100)\n",
      "    \n",
      "    )\n",
      "    WITH EXECUTE AS CALLER\n",
      "    AS \n",
      "\n",
      "    SET NOCOUNT ON; \n",
      "\n",
      "    declare @LakehouseId int\n",
      "    BEGIN\n",
      "        set @LakehouseId= ( select LakehouseId from   [integration].[Lakehouse] where  [Name] = @Name and  [WorkspaceGuid] = @WorkspaceGuid)\n",
      "    END\n",
      "\n",
      "            SELECT @LakehouseId AS LakehouseId\n",
      "\n",
      "\"\n",
      " - execute \"\n",
      "    CREATE or ALTER   PROCEDURE [integration].[sp_GetLandingzoneEntity](\n",
      "         @LakehouseId int\n",
      "        ,@SourceSchema NVARCHAR(100)\n",
      "        ,@SourceName NVARCHAR(200)\n",
      "    \n",
      "    )\n",
      "    WITH EXECUTE AS CALLER\n",
      "    AS \n",
      "\n",
      "    SET NOCOUNT ON; \n",
      "\n",
      "    declare @LandingzoneEntityId int\n",
      "    BEGIN\n",
      "          set @LandingzoneEntityId = ( select isnull(LandingzoneEntityId,0) as LandingzoneEntityId  from   [integration].[LandingzoneEntity] where  [SourceName] = @SourceName and  [SourceSchema] = @SourceSchema and [LakehouseId] = @LakehouseId)\n",
      "    END\n",
      "\n",
      "            SELECT @LandingzoneEntityId AS LandingzoneEntityId\n",
      "\n",
      "\n",
      "\"\n",
      " - execute \"\n",
      "    CREATE or ALTER   PROCEDURE [integration].[sp_GetSilverLayerEntity](\n",
      "         @BronzeLayerEntityId int\n",
      "       \n",
      "    \n",
      "    )\n",
      "    WITH EXECUTE AS CALLER\n",
      "    AS \n",
      "\n",
      "    SET NOCOUNT ON; \n",
      "\n",
      "    declare @SilverLayerEntityId int\n",
      "    BEGIN\n",
      "        set @SilverLayerEntityId = ( select  isnull(SilverLayerEntityId,0) as SilverLayerEntityId from   [integration].[SilverLayerEntity] where BronzeLayerEntityId= @BronzeLayerEntityId)\n",
      "    END\n",
      "\n",
      "            SELECT @SilverLayerEntityId AS SilverLayerEntityId\n",
      "\n",
      "\"\n",
      " - execute \"\n",
      "    CREATE or ALTER  PROCEDURE [integration].[sp_UpsertBronzeLayerEntity](\n",
      "        @BronzeLayerEntityId INT = 0\n",
      "        ,@LandingzoneEntityId INT\n",
      "        ,@Schema NVARCHAR(100) \n",
      "        ,@Name NVARCHAR(200)\n",
      "        ,@FileType NVARCHAR(20) = 'Delta'\n",
      "        ,@LakehouseId INT\n",
      "        ,@PrimaryKeys NVARCHAR(200)\n",
      "        ,@IsActive BIT = 1)\n",
      "    WITH EXECUTE AS CALLER\n",
      "    AS \n",
      "\n",
      "    BEGIN\n",
      "    SET NOCOUNT ON;\n",
      "\n",
      "    DECLARE @OutputTable TABLE (BronzeLayerEntityId INT);\n",
      "\n",
      "    IF NOT EXISTS(SELECT 1\n",
      "                  FROM [integration].[BronzeLayerEntity]\n",
      "                  WHERE [BronzeLayerEntityId] = @BronzeLayerEntityId)\n",
      "    BEGIN\n",
      "        INSERT INTO [integration].[BronzeLayerEntity]\n",
      "            ([LandingzoneEntityId]\n",
      "            ,[IsActive]\n",
      "            ,[Schema]\n",
      "            ,[Name]\n",
      "            ,[FileType]\n",
      "            ,[LakehouseId]\n",
      "            ,[PrimaryKeys])\n",
      "        OUTPUT INSERTED.[BronzeLayerEntityId] INTO @OutputTable\n",
      "        VALUES (@LandingzoneEntityId\n",
      "            ,@IsActive\n",
      "            ,@Schema\n",
      "            ,@Name\n",
      "            ,@FileType\n",
      "            ,@LakehouseId\n",
      "            ,@PrimaryKeys);\n",
      "    END\n",
      "    ELSE\n",
      "    BEGIN\n",
      "        UPDATE [integration].[BronzeLayerEntity]\n",
      "        SET [LandingzoneEntityId] = @LandingzoneEntityId\n",
      "            ,[IsActive] = @IsActive\n",
      "            ,[Schema] = @Schema\n",
      "            ,[Name] = @Name\n",
      "            ,[FileType] = @FileType\n",
      "            ,[LakehouseId] = @LakehouseId\n",
      "            ,[PrimaryKeys] = @PrimaryKeys\n",
      "        OUTPUT INSERTED.[BronzeLayerEntityId] INTO @OutputTable\n",
      "        WHERE [BronzeLayerEntityId] = @BronzeLayerEntityId;\n",
      "    END\n",
      "\n",
      "    SELECT BronzeLayerEntityId FROM @OutputTable;\n",
      "END\n",
      "\n",
      "\"\n",
      " - execute \"\n",
      "    CREATE or ALTER  PROCEDURE [integration].[sp_UpsertConnection](\n",
      "        @ConnectionGuid UNIQUEIDENTIFIER\n",
      "        ,@Name nvarchar(200) \n",
      "        ,@Type nvarchar(50) \n",
      "        ,@IsActive bit \n",
      "\n",
      "    )\n",
      "    WITH EXECUTE AS CALLER\n",
      "    AS \n",
      "\n",
      "    SET NOCOUNT ON; \n",
      "\n",
      "    IF NOT EXISTS(SELECT  1\n",
      "                FROM [integration].[Connection]\n",
      "                WHERE [ConnectionGuid] = @ConnectionGuid)\n",
      "    BEGIN\n",
      "        INSERT INTO [integration].[Connection]\n",
      "            ([ConnectionGuid]\n",
      "            ,[Name]\n",
      "            ,[Type]\n",
      "            ,[IsActive]\n",
      "    )\n",
      "        VALUES (\n",
      "            @ConnectionGuid\n",
      "            ,@Name\n",
      "            ,@Type\n",
      "            ,@IsActive\n",
      "    );\n",
      "    END\n",
      "    ELSE\n",
      "    BEGIN\n",
      "        UPDATE [integration].[Connection]\n",
      "        SET [Name] = @Name\n",
      "            ,[Type] = @Type\n",
      "            ,[IsActive] = @IsActive\n",
      "            WHERE [ConnectionGuid] = @ConnectionGuid  \n",
      "    END\n",
      "    \n",
      "\"\n",
      " - execute \"\n",
      "    CREATE or ALTER PROCEDURE [integration].[sp_UpsertDataSource](\n",
      "        @ConnectionId INT \n",
      "        ,@DataSourceId INT = 0\n",
      "        ,@Name NVARCHAR(100)\n",
      "        ,@Namespace VARCHAR(10)\n",
      "        ,@Type VARCHAR(30)\n",
      "        ,@Description NVARCHAR(200)\n",
      "        ,@IsActive BIT = 1\n",
      "    )\n",
      "    WITH EXECUTE AS CALLER\n",
      "AS\n",
      "BEGIN\n",
      "    SET NOCOUNT ON;\n",
      "\n",
      "    DECLARE @InternalConnectionId BIGINT;\n",
      "    DECLARE @OutputTable TABLE (DataSourceId INT);\n",
      "\n",
      "    SET @InternalConnectionId = (SELECT [C].[ConnectionId]\n",
      "                                 FROM [integration].[Connection] [C]\n",
      "                                 WHERE [C].ConnectionId = @ConnectionId);\n",
      "\n",
      "    IF NOT EXISTS (SELECT 1\n",
      "                   FROM [integration].[DataSource]\n",
      "                   WHERE [DataSourceId] = @DataSourceId)\n",
      "    BEGIN\n",
      "        INSERT INTO [integration].[DataSource]\n",
      "            ([Name]\n",
      "            ,[Namespace]\n",
      "            ,[ConnectionId]\n",
      "            ,[Type]\n",
      "            ,[Description]\n",
      "            ,[IsActive])\n",
      "        OUTPUT INSERTED.[DataSourceId] INTO @OutputTable\n",
      "        VALUES (@Name\n",
      "            ,@Namespace\n",
      "            ,@InternalConnectionId\n",
      "            ,@Type\n",
      "            ,@Description\n",
      "            ,@IsActive);\n",
      "    END\n",
      "    ELSE\n",
      "    BEGIN\n",
      "        UPDATE [integration].[DataSource]\n",
      "        SET [Name] = @Name\n",
      "            ,[ConnectionId] = @InternalConnectionId\n",
      "            ,[Namespace] = @Namespace\n",
      "            ,[Type] = @Type\n",
      "            ,[Description] = @Description\n",
      "            ,[IsActive] = @IsActive\n",
      "        OUTPUT INSERTED.[DataSourceId] INTO @OutputTable\n",
      "        WHERE [DataSourceId] = @DataSourceId;\n",
      "    END\n",
      "\n",
      "    SELECT DataSourceId FROM @OutputTable;\n",
      "END\n",
      "\n",
      "\"\n",
      " - execute \"\n",
      "    CREATE or ALTER   PROCEDURE [integration].[sp_UpsertLakehouse](\n",
      "        @LakehouseId UNIQUEIDENTIFIER\n",
      "        ,@WorkspaceId UNIQUEIDENTIFIER\n",
      "        ,@Name NVARCHAR(100) \n",
      "    )\n",
      "    WITH EXECUTE AS CALLER\n",
      "    AS \n",
      "\n",
      "    SET NOCOUNT ON; \n",
      "\n",
      "    IF NOT EXISTS(SELECT  1\n",
      "                FROM [integration].[Lakehouse]\n",
      "                WHERE [LakehouseGuid] = @LakehouseId)\n",
      "    BEGIN\n",
      "        INSERT INTO [integration].[Lakehouse]\n",
      "            ([Name]\n",
      "            ,[LakehouseGuid]\n",
      "            ,[WorkspaceGuid])\n",
      "        VALUES (@Name\n",
      "            ,@LakehouseId\n",
      "            ,@WorkspaceId);\n",
      "\n",
      "    END\n",
      "    ELSE\n",
      "    BEGIN\n",
      "\n",
      "        UPDATE [integration].[Lakehouse]\n",
      "        SET [Name] = @Name,\n",
      "            [WorkspaceGuid] = @WorkspaceId\n",
      "        WHERE [LakehouseGuid] = @LakehouseId\n",
      "    END\n",
      "    \n",
      "\"\n",
      " - execute \"\n",
      "    CREATE or ALTER  PROCEDURE [integration].[sp_UpsertLandingzoneEntity](\n",
      "        @LandingzoneEntityId INT = 0\n",
      "        ,@DataSourceId INT\n",
      "        ,@LakehouseId INT\n",
      "        ,@SourceSchema NVARCHAR(100)\n",
      "        ,@SourceName NVARCHAR(200)\n",
      "        ,@FileName NVARCHAR(200)\n",
      "        ,@FilePath NVARCHAR(100)\n",
      "        ,@FileType NVARCHAR(20)\n",
      "        ,@IsIncremental bit\n",
      "        ,@IsIncrementalColumn NVARCHAR(50) = NULL\n",
      "        ,@IsActive BIT = 1\n",
      "    )\n",
      "WITH EXECUTE AS CALLER\n",
      "AS\n",
      "BEGIN\n",
      "    SET NOCOUNT ON;\n",
      "\n",
      "    DECLARE @OutputTable TABLE (LandingzoneEntityId INT);\n",
      "\n",
      "    IF NOT EXISTS(SELECT 1\n",
      "                  FROM [integration].[LandingzoneEntity]\n",
      "                  WHERE [LandingzoneEntityId] = @LandingzoneEntityId)\n",
      "    BEGIN\n",
      "        INSERT INTO [integration].[LandingzoneEntity]\n",
      "            ([DataSourceId]\n",
      "            ,[IsActive]\n",
      "            ,[SourceSchema]\n",
      "            ,[SourceName]\n",
      "            ,[FileName]\n",
      "            ,[FileType]\n",
      "            ,[FilePath]\n",
      "            ,[LakehouseId]\n",
      "            ,[IsIncremental]\n",
      "            ,[IsIncrementalColumn])\n",
      "        OUTPUT INSERTED.[LandingzoneEntityId] INTO @OutputTable\n",
      "        VALUES (@DataSourceId\n",
      "            ,@IsActive\n",
      "            ,@SourceSchema\n",
      "            ,@SourceName\n",
      "            ,@FileName\n",
      "            ,@FileType\n",
      "            ,@FilePath\n",
      "            ,@LakehouseId\n",
      "            ,@IsIncremental\n",
      "            ,@IsIncrementalColumn);\n",
      "    END\n",
      "    ELSE\n",
      "    BEGIN\n",
      "        UPDATE [integration].[LandingzoneEntity]\n",
      "        SET [DataSourceId] = @DataSourceId\n",
      "            ,[IsActive] = @IsActive\n",
      "            ,[SourceSchema] = @SourceSchema\n",
      "            ,[SourceName] = @SourceName\n",
      "            ,[FileName] = @FileName\n",
      "            ,[FileType] = @FileType\n",
      "            ,[FilePath] = @FilePath\n",
      "            ,[LakehouseId] = @LakehouseId\n",
      "            ,[IsIncremental] = @IsIncremental\n",
      "            ,[IsIncrementalColumn] = @IsIncrementalColumn\n",
      "        OUTPUT INSERTED.[LandingzoneEntityId] INTO @OutputTable\n",
      "        WHERE [LandingzoneEntityId] = @LandingzoneEntityId;\n",
      "    END\n",
      "\n",
      "    SELECT LandingzoneEntityId FROM @OutputTable;\n",
      "END\n",
      "\n",
      "\"\n",
      " - execute \"\n",
      "    CREATE or ALTER   PROCEDURE [integration].[sp_UpsertPipeline](\n",
      "        @PipelineId UNIQUEIDENTIFIER\n",
      "        ,@WorkspaceId UNIQUEIDENTIFIER\n",
      "        ,@Name NVARCHAR(100) \n",
      "    )\n",
      "    WITH EXECUTE AS CALLER\n",
      "    AS \n",
      "\n",
      "    SET NOCOUNT ON; \n",
      "\n",
      "    IF NOT EXISTS(SELECT  1\n",
      "                FROM [integration].[Pipeline]\n",
      "                WHERE [PipelineGuid] = @PipelineId)\n",
      "    BEGIN\n",
      "        INSERT INTO [integration].[Pipeline]\n",
      "            ([Name]\n",
      "            ,[PipelineGuid]\n",
      "            ,[WorkspaceGuid])\n",
      "        VALUES (@Name\n",
      "            ,@PipelineId\n",
      "            ,@WorkspaceId);\n",
      "\n",
      "    END\n",
      "    ELSE\n",
      "    BEGIN\n",
      "\n",
      "        UPDATE [integration].[Pipeline]\n",
      "        SET [Name] = @Name,\n",
      "            [WorkspaceGuid] = @WorkspaceId\n",
      "        WHERE [PipelineGuid] = @PipelineId\n",
      "    END\n",
      "    \n",
      "\"\n",
      " - execute \"\n",
      "    CREATE or ALTER PROCEDURE [integration].[sp_UpsertSilverLayerEntity](\n",
      "         @SilverLayerEntityId INT = 0 \n",
      "        ,@BronzeLayerEntityId INT\n",
      "        ,@LakehouseId INT\n",
      "        ,@Name NVARCHAR(200)\n",
      "        ,@Schema NVARCHAR(100)\n",
      "        ,@FileType NVARCHAR(20) = 'Delta'\n",
      "        ,@IsActive BIT = 1)\n",
      "\n",
      "WITH EXECUTE AS CALLER\n",
      "AS\n",
      "BEGIN\n",
      "    SET NOCOUNT ON;\n",
      "\n",
      "    DECLARE @OutputTable TABLE (SilverLayerEntityId INT);\n",
      "\n",
      "    IF NOT EXISTS(SELECT 1\n",
      "                  FROM [integration].[SilverLayerEntity]\n",
      "                  WHERE [SilverLayerEntityId] = @SilverLayerEntityId)\n",
      "    BEGIN\n",
      "        INSERT INTO [integration].[SilverLayerEntity]\n",
      "            ([BronzeLayerEntityId]\n",
      "            ,[IsActive]\n",
      "            ,[Schema]\n",
      "            ,[Name]\n",
      "            ,[FileType]\n",
      "            ,[LakehouseId])\n",
      "        OUTPUT INSERTED.[SilverLayerEntityId] INTO @OutputTable\n",
      "        VALUES (@BronzeLayerEntityId\n",
      "            ,@IsActive\n",
      "            ,@Schema\n",
      "            ,@Name\n",
      "            ,@FileType\n",
      "            ,@LakehouseId);\n",
      "    END\n",
      "    ELSE\n",
      "    BEGIN\n",
      "        UPDATE [integration].[SilverLayerEntity]\n",
      "        SET [BronzeLayerEntityId] = @BronzeLayerEntityId\n",
      "            ,[Schema] = @Schema\n",
      "            ,[Name] = @Name\n",
      "            ,[FileType] = @FileType\n",
      "            ,[LakehouseId] = @LakehouseId\n",
      "            ,[IsActive] = @IsActive\n",
      "        OUTPUT INSERTED.[SilverLayerEntityId] INTO @OutputTable\n",
      "        WHERE [SilverLayerEntityId] = @SilverLayerEntityId;\n",
      "    END\n",
      "\n",
      "    SELECT SilverLayerEntityId FROM @OutputTable;\n",
      "END\n",
      "\n",
      "\"\n",
      " - execute \"\n",
      "    CREATE or ALTER  PROCEDURE [integration].[sp_UpsertWorkspace](\n",
      "        @WorkspaceId UNIQUEIDENTIFIER\n",
      "        ,@Name NVARCHAR(100) \n",
      "    )\n",
      "    WITH EXECUTE AS CALLER\n",
      "    AS \n",
      "\n",
      "    SET NOCOUNT ON; \n",
      "\n",
      "    IF NOT EXISTS(SELECT  1\n",
      "                FROM [integration].[Workspace]\n",
      "                WHERE [WorkspaceGuid] = @WorkspaceId)\n",
      "    BEGIN\n",
      "        INSERT INTO [integration].[Workspace]\n",
      "            ([Name]\n",
      "            ,[WorkspaceGuid])\n",
      "        VALUES (@Name\n",
      "            ,@WorkspaceId);\n",
      "\n",
      "    END\n",
      "    ELSE\n",
      "    BEGIN\n",
      "\n",
      "        UPDATE [integration].[Workspace]\n",
      "        SET [Name] = @Name\n",
      "        WHERE [WorkspaceGuid] = @WorkspaceId\n",
      "    END\n",
      "\n",
      "\"\n",
      " - execute \"\n",
      "    CREATE or ALTER  PROCEDURE [integration].[sp_GetConnection](\n",
      "       @ConnectionGuid uniqueidentifier\n",
      "    \n",
      "    )\n",
      "    WITH EXECUTE AS CALLER\n",
      "    AS \n",
      "\n",
      "    SET NOCOUNT ON; \n",
      "\n",
      "    declare @ConnectionId int\n",
      "    BEGIN\n",
      "        set @ConnectionId= ( select isnull(ConnectionId,0) as ConnectionId  from   [integration].[Connection] where [ConnectionGuid] = @ConnectionGuid)\n",
      "    END\n",
      "\n",
      "            SELECT @ConnectionId AS ConnectionId\n",
      "\"\n",
      " - execute \"EXEC [integration].[sp_UpsertConnection] @ConnectionGuid = \"00000000-0000-0000-0000-000000000000\", @Name = \"CON_FMD_ONELAKE\", @Type = \"ONELAKE\", @IsActive = 1\"\n",
      " - execute \"EXEC [integration].[sp_UpsertConnection] @ConnectionGuid = \"cf673e6a-13f6-4ebb-9cbb-4ba4ab390818\", @Name = \"CON_FMD_ASQL_01\", @Type = \"SQL\", @IsActive = 1\"\n",
      " - execute \"EXEC [integration].[sp_UpsertConnection] @ConnectionGuid = \"11a8e5fe-fbca-4822-9ba4-9162cf56e6dd\", @Name = \"CON_FMD_ASQL_02\", @Type = \"SQL\", @IsActive = 1\"\n",
      " - execute \"EXEC [integration].[sp_UpsertConnection] @ConnectionGuid = \"a0581b6e-5e38-46eb-bab2-7f08e9a35c30\", @Name = \"CON_FMD_ADLS_01\", @Type = \"ADLS\", @IsActive = 1\"\n",
      " - execute \"EXEC [integration].[sp_UpsertConnection] @ConnectionGuid = \"e93f565a-e2bc-4b60-900e-1907e825e37c\", @Name = \"CON_FMD_ADF_PIPELINES\", @Type = \"ADF\", @IsActive = 1\"\n",
      " - execute \"\n",
      "    DECLARE @DataSourceIdInternal INT = (SELECT DataSourceId FROM integration.DataSource WHERE Name = 'LH_DATA_LANDINGZONE')\n",
      "    DECLARE @ConnectionIdInternal INT = (SELECT ConnectionId FROM integration.Connection WHERE ConnectionGuid = '00000000-0000-0000-0000-000000000000')\n",
      "    EXECUTE [integration].[sp_UpsertDataSource] \n",
      "        @ConnectionId = @ConnectionIdInternal\n",
      "        ,@DataSourceId = @DataSourceIdInternal\n",
      "        ,@Name = 'LH_DATA_LANDINGZONE'\n",
      "        ,@Namespace = 'ONELAKE'\n",
      "        ,@Type = 'ONELAKE_TABLES_01'\n",
      "        ,@Description = 'ONELAKE_TABLES'\n",
      "        ,@IsActive = 1\n",
      "\"\n",
      " - execute \"EXEC [integration].[sp_UpsertWorkspace] @WorkspaceId = \"196c62dc-b39e-480c-b48d-2fa198291f22\", @Name = \"TEST LOG FMD\"\"\n",
      " - execute \"EXEC [integration].[sp_UpsertWorkspace] @WorkspaceId = \"47c5b2a1-71db-4c5a-b097-587a50c1770c\", @Name = \"TEST CONFIG FMD\"\"\n",
      " - execute \"EXEC [integration].[sp_UpsertWorkspace] @WorkspaceId = \"36894866-6515-4081-9260-2ab3646f13bc\", @Name = \"TEST CODE (D) FMD\"\"\n",
      " - execute \"EXEC [integration].[sp_UpsertWorkspace] @WorkspaceId = \"6a2547f5-12c4-4fc9-9430-de5588ae7096\", @Name = \"TEST DATA (D) FMD\"\"\n",
      " - execute \"EXEC [integration].[sp_UpsertWorkspace] @WorkspaceId = \"ca3b23d7-9da3-4993-a7ca-96b8d718af9f\", @Name = \"TEST CODE (P) FMD\"\"\n",
      " - execute \"EXEC [integration].[sp_UpsertWorkspace] @WorkspaceId = \"20d15aa1-1996-4977-ba44-1ae47348c235\", @Name = \"TEST DATA (P) FMD\"\"\n",
      " - execute \"EXEC [integration].[sp_UpsertPipeline] @PipelineId = \"fb1751a8-71f8-4c5f-a5ed-0783bc0762a7\", @WorkspaceId = \"6a2547f5-12c4-4fc9-9430-de5588ae7096\" ,@Name = \"PL_FMD_LOAD_LANDINGZONE\"\"\n",
      " - execute \"EXEC [integration].[sp_UpsertPipeline] @PipelineId = \"2b13086a-d81c-410d-b447-ecbacc34b9a5\", @WorkspaceId = \"6a2547f5-12c4-4fc9-9430-de5588ae7096\" ,@Name = \"PL_FMD_LOAD_ALL\"\"\n",
      " - execute \"EXEC [integration].[sp_UpsertPipeline] @PipelineId = \"3858d8e2-2253-4372-94e3-40b0358dfb9b\", @WorkspaceId = \"6a2547f5-12c4-4fc9-9430-de5588ae7096\" ,@Name = \"PL_FMD_LOAD_BRONZE\"\"\n",
      " - execute \"EXEC [integration].[sp_UpsertPipeline] @PipelineId = \"de78ee0b-67ba-4e8a-b05e-acff4d278b7a\", @WorkspaceId = \"6a2547f5-12c4-4fc9-9430-de5588ae7096\" ,@Name = \"PL_FMD_LOAD_SILVER\"\"\n",
      " - execute \"EXEC [integration].[sp_UpsertPipeline] @PipelineId = \"3f351ada-b42f-43c6-9a9d-4abc93f9c330\", @WorkspaceId = \"6a2547f5-12c4-4fc9-9430-de5588ae7096\" ,@Name = \"PL_FMD_LDZ_COPY_FROM_ASQL_01\"\"\n",
      " - execute \"EXEC [integration].[sp_UpsertPipeline] @PipelineId = \"ea486543-c956-4f98-8b73-cc3db8850bab\", @WorkspaceId = \"6a2547f5-12c4-4fc9-9430-de5588ae7096\" ,@Name = \"PL_FMD_LDZ_COPY_FROM_ONELAKE_TABLES_01\"\"\n",
      " - execute \"EXEC [integration].[sp_UpsertPipeline] @PipelineId = \"dbe18ef6-b471-46f4-b4fc-e814c6879129\", @WorkspaceId = \"6a2547f5-12c4-4fc9-9430-de5588ae7096\" ,@Name = \"PL_FMD_LDZ_COPY_FROM_ADLS_01\"\"\n",
      " - execute \"EXEC [integration].[sp_UpsertPipeline] @PipelineId = \"5452d802-d3a2-4464-8de8-67a6966584ed\", @WorkspaceId = \"6a2547f5-12c4-4fc9-9430-de5588ae7096\" ,@Name = \"PL_FMD_LDZ_COPY_FROM_ASQL_02\"\"\n",
      " - execute \"EXEC [integration].[sp_UpsertPipeline] @PipelineId = \"0d4de7a1-50f1-4c68-b06b-2daff7d91d40\", @WorkspaceId = \"6a2547f5-12c4-4fc9-9430-de5588ae7096\" ,@Name = \"PL_FMD_LDZ_COMMAND_ASQL\"\"\n",
      " - execute \"EXEC [integration].[sp_UpsertPipeline] @PipelineId = \"96f4adc3-42ed-4798-8d8b-8c799c184f46\", @WorkspaceId = \"6a2547f5-12c4-4fc9-9430-de5588ae7096\" ,@Name = \"PL_FMD_LDZ_COMMAND_ADLS\"\"\n",
      " - execute \"EXEC [integration].[sp_UpsertPipeline] @PipelineId = \"e4808615-136e-4943-961d-3c8acd920cdd\", @WorkspaceId = \"6a2547f5-12c4-4fc9-9430-de5588ae7096\" ,@Name = \"PL_FMD_LDZ_COMMAND_ONELAKE\"\"\n",
      " - execute \"EXEC [integration].[sp_UpsertPipeline] @PipelineId = \"4d91bfea-004f-4113-ae1e-b1ce5e9da040\", @WorkspaceId = \"6a2547f5-12c4-4fc9-9430-de5588ae7096\" ,@Name = \"PL_FMD_LDZ_COPY_FROM_ADF\"\"\n",
      " - execute \"EXEC [integration].[sp_UpsertPipeline] @PipelineId = \"b1576023-499a-4de8-bd56-1cf4a84799ad\", @WorkspaceId = \"6a2547f5-12c4-4fc9-9430-de5588ae7096\" ,@Name = \"PL_FMD_LDZ_COMMAND_ADF\"\"\n",
      " - execute \"EXEC [integration].[sp_UpsertPipeline] @PipelineId = \"c7e4b019-dee8-4a98-a8c7-5ed3842747db\", @WorkspaceId = \"6a2547f5-12c4-4fc9-9430-de5588ae7096\" ,@Name = \"PL_TOOLING_POST_ASQL_TO_FMD\"\"\n",
      " - execute \"EXEC [integration].[sp_UpsertPipeline] @PipelineId = \"14deee00-e7b0-4b57-9ae8-f3ccb716f7a7\", @WorkspaceId = \"20d15aa1-1996-4977-ba44-1ae47348c235\" ,@Name = \"PL_FMD_LOAD_LANDINGZONE\"\"\n",
      " - execute \"EXEC [integration].[sp_UpsertPipeline] @PipelineId = \"c7b2b2f7-8fa6-40be-813c-d47a613346fa\", @WorkspaceId = \"20d15aa1-1996-4977-ba44-1ae47348c235\" ,@Name = \"PL_FMD_LOAD_ALL\"\"\n",
      " - execute \"EXEC [integration].[sp_UpsertPipeline] @PipelineId = \"c6dacb62-2d3c-402f-a4f2-471d97ccbfec\", @WorkspaceId = \"20d15aa1-1996-4977-ba44-1ae47348c235\" ,@Name = \"PL_FMD_LOAD_BRONZE\"\"\n",
      " - execute \"EXEC [integration].[sp_UpsertPipeline] @PipelineId = \"f1f6713b-164a-4f30-9975-542f77b41820\", @WorkspaceId = \"20d15aa1-1996-4977-ba44-1ae47348c235\" ,@Name = \"PL_FMD_LOAD_SILVER\"\"\n",
      " - execute \"EXEC [integration].[sp_UpsertPipeline] @PipelineId = \"7bf16bb0-c4f9-4db4-86d2-cc99f162ccd5\", @WorkspaceId = \"20d15aa1-1996-4977-ba44-1ae47348c235\" ,@Name = \"PL_FMD_LDZ_COPY_FROM_ASQL_01\"\"\n",
      " - execute \"EXEC [integration].[sp_UpsertPipeline] @PipelineId = \"63764974-e30e-4016-a7de-30dd555c0aa4\", @WorkspaceId = \"20d15aa1-1996-4977-ba44-1ae47348c235\" ,@Name = \"PL_FMD_LDZ_COPY_FROM_ONELAKE_TABLES_01\"\"\n",
      " - execute \"EXEC [integration].[sp_UpsertPipeline] @PipelineId = \"69f7d5f8-56a2-4275-82ff-07cba5053823\", @WorkspaceId = \"20d15aa1-1996-4977-ba44-1ae47348c235\" ,@Name = \"PL_FMD_LDZ_COPY_FROM_ADLS_01\"\"\n",
      " - execute \"EXEC [integration].[sp_UpsertPipeline] @PipelineId = \"70831223-4a20-4014-9515-76673857c3fc\", @WorkspaceId = \"20d15aa1-1996-4977-ba44-1ae47348c235\" ,@Name = \"PL_FMD_LDZ_COPY_FROM_ASQL_02\"\"\n",
      " - execute \"EXEC [integration].[sp_UpsertPipeline] @PipelineId = \"e75413d2-7b8d-4fad-bc7b-b462f937cbce\", @WorkspaceId = \"20d15aa1-1996-4977-ba44-1ae47348c235\" ,@Name = \"PL_FMD_LDZ_COMMAND_ASQL\"\"\n",
      " - execute \"EXEC [integration].[sp_UpsertPipeline] @PipelineId = \"60b486a5-b67a-49bf-a0b9-e5b95c08cf3c\", @WorkspaceId = \"20d15aa1-1996-4977-ba44-1ae47348c235\" ,@Name = \"PL_FMD_LDZ_COMMAND_ADLS\"\"\n",
      " - execute \"EXEC [integration].[sp_UpsertPipeline] @PipelineId = \"1ecd7e11-00d1-4d37-a8d2-7b5fa641460a\", @WorkspaceId = \"20d15aa1-1996-4977-ba44-1ae47348c235\" ,@Name = \"PL_FMD_LDZ_COMMAND_ONELAKE\"\"\n",
      " - execute \"EXEC [integration].[sp_UpsertPipeline] @PipelineId = \"29ed8872-20d4-4591-80f9-c74b4c1ab17e\", @WorkspaceId = \"20d15aa1-1996-4977-ba44-1ae47348c235\" ,@Name = \"PL_FMD_LDZ_COPY_FROM_ADF\"\"\n",
      " - execute \"EXEC [integration].[sp_UpsertPipeline] @PipelineId = \"0c39aece-662a-4791-95f9-25db0272bd37\", @WorkspaceId = \"20d15aa1-1996-4977-ba44-1ae47348c235\" ,@Name = \"PL_FMD_LDZ_COMMAND_ADF\"\"\n",
      " - execute \"EXEC [integration].[sp_UpsertPipeline] @PipelineId = \"b59fa217-9bfa-4393-8965-ce31f337d4dc\", @WorkspaceId = \"20d15aa1-1996-4977-ba44-1ae47348c235\" ,@Name = \"PL_TOOLING_POST_ASQL_TO_FMD\"\"\n",
      " - execute \"EXEC [integration].[sp_UpsertLakehouse] @LakehouseId = \"3b3bc849-28ef-414d-a836-99473b1a78b3\", @WorkspaceId = \"6a2547f5-12c4-4fc9-9430-de5588ae7096\" ,@Name = \"LH_DATA_LANDINGZONE\"\"\n",
      " - execute \"EXEC [integration].[sp_UpsertLakehouse] @LakehouseId = \"a8384867-d4a6-43cd-b196-aa54f1da37e7\", @WorkspaceId = \"6a2547f5-12c4-4fc9-9430-de5588ae7096\" ,@Name = \"LH_BRONZE_LAYER\"\"\n",
      " - execute \"EXEC [integration].[sp_UpsertLakehouse] @LakehouseId = \"d2a86922-16ec-4dd0-82f4-6fc836333efa\", @WorkspaceId = \"6a2547f5-12c4-4fc9-9430-de5588ae7096\" ,@Name = \"LH_SILVER_LAYER\"\"\n",
      " - execute \"EXEC [integration].[sp_UpsertLakehouse] @LakehouseId = \"62756342-15bf-429e-97dd-3a2bcd89c855\", @WorkspaceId = \"20d15aa1-1996-4977-ba44-1ae47348c235\" ,@Name = \"LH_DATA_LANDINGZONE\"\"\n",
      " - execute \"EXEC [integration].[sp_UpsertLakehouse] @LakehouseId = \"0436622a-c639-4922-8262-c0cf2660d905\", @WorkspaceId = \"20d15aa1-1996-4977-ba44-1ae47348c235\" ,@Name = \"LH_BRONZE_LAYER\"\"\n",
      " - execute \"EXEC [integration].[sp_UpsertLakehouse] @LakehouseId = \"358fdc38-e2da-4b9f-9e7d-896a4c02b9b2\", @WorkspaceId = \"20d15aa1-1996-4977-ba44-1ae47348c235\" ,@Name = \"LH_SILVER_LAYER\"\"\n",
      " - execute \"\n",
      "    DECLARE @LandingzoneEntityIdInternal INT = (SELECT LandingzoneEntityId FROM integration.LandingzoneEntity WHERE SourceSchema = 'in' and SourceName = 'customer')\n",
      "    DECLARE @DataSourceIdInternal INT = (SELECT DataSourceId FROM integration.DataSource WHERE Name = 'LH_DATA_LANDINGZONE')\n",
      "    DECLARE @LakehouseIdInternal INT = (SELECT top 1 LakehouseId FROM integration.Lakehouse WHERE Name = 'LH_DATA_LANDINGZONE')\n",
      "    EXECUTE [integration].[sp_UpsertLandingzoneEntity] \n",
      "        @LandingzoneEntityId = @LandingzoneEntityIdInternal\n",
      "        ,@DataSourceId = @DataSourceIdInternal\n",
      "        ,@LakehouseId = @LakehouseIdInternal\n",
      "        ,@SourceSchema = 'in'\n",
      "        ,@SourceName = 'customer'\n",
      "        ,@FileName = 'customer'\n",
      "        ,@FilePath = 'fmd'\n",
      "        ,@FileType = 'parquet'\n",
      "        ,@IsIncremental = 0\n",
      "        ,@IsIncrementalColumn = ''\n",
      "        ,@IsActive = 1\n",
      "\"\n",
      " - execute \"\n",
      "    DECLARE @LandingzoneEntityIdInternal INT = (SELECT LandingzoneEntityId FROM integration.LandingzoneEntity WHERE SourceSchema = 'in' and SourceName = 'customer')\n",
      "    DECLARE @BronzeLayerEntityIdInternal INT = (SELECT BronzeLayerEntityId FROM integration.BronzeLayerEntity WHERE [Schema] = 'in' and [Name] = 'customer')\n",
      "    DECLARE @LakehouseIdInternal INT = (SELECT top 1 LakehouseId FROM integration.Lakehouse WHERE Name = 'LH_BRONZE_LAYER')\n",
      "    EXECUTE [integration].[sp_UpsertBronzeLayerEntity] \n",
      "        @BronzeLayerEntityId = @BronzeLayerEntityIdInternal\n",
      "        ,@LandingzoneEntityId = @LandingzoneEntityIdInternal\n",
      "        ,@Schema = 'in'\n",
      "        ,@Name = 'customer'\n",
      "        ,@FileType = 'Delta'\n",
      "        ,@LakehouseId = @LakehouseIdInternal\n",
      "        ,@PrimaryKeys = 'CustomerId'\n",
      "        ,@IsActive = 1\n",
      "\"\n",
      " - execute \"\n",
      "    DECLARE @BronzeLayerEntityIdInternal INT = (SELECT BronzeLayerEntityId FROM integration.BronzeLayerEntity WHERE [Schema] = 'in' and [Name] = 'customer')\n",
      "    DECLARE @SilverLayerEntityIdInternal INT = (SELECT SilverLayerEntityId FROM integration.SilverLayerEntity WHERE [Schema] = 'in' and [Name] = 'customer')\n",
      "    DECLARE @LakehouseIdInternal INT = (SELECT top 1 LakehouseId FROM integration.Lakehouse WHERE Name = 'LH_SILVER_LAYER')\n",
      "    EXECUTE [integration].[sp_UpsertSilverLayerEntity] \n",
      "        @SilverLayerEntityId = @SilverLayerEntityIdInternal\n",
      "        ,@BronzeLayerEntityId = @BronzeLayerEntityIdInternal\n",
      "        ,@LakehouseId = @LakehouseIdInternal\n",
      "        ,@Name = 'customer'\n",
      "        ,@Schema = 'in'\n",
      "        ,@FileType = 'delta'\n",
      "        ,@IsActive = 1\n",
      "\"\n"
     ]
    }
   ],
   "source": [
    "for target_item in deployment_manifest['configuration']['items']:\n",
    "    if target_item['type'] == 'SQLDatabase':\n",
    "        connstring = target_item[\"connectionString\"]\n",
    "        database = target_item['databaseName']\n",
    "\n",
    "try:\n",
    "    i = 0\n",
    "    token = mssparkutils.credentials.getToken('https://analysis.windows.net/powerbi/api').encode(\"UTF-16-LE\")\n",
    "    token_struct = struct.pack(f'<I{len(token)}s', len(token), token)\n",
    "    print(f\"DRIVER={driver};SERVER={connstring};PORT=1433;DATABASE={database};\")\n",
    "    connection = pyodbc.connect(f\"DRIVER={driver};SERVER={connstring};PORT=1433;DATABASE={database};\", attrs_before={1256:token_struct}, timeout=12)\n",
    "\n",
    "    with connection.cursor() as cursor:\n",
    "        cursor.execute(\"SELECT 1\")  # Execute the warm-up query (a simple query like 'SELECT 1' can be used)\n",
    "        cursor.fetchone()\n",
    "        connection.timeout = 5  # Setting a lower timeout for subsequent queries\n",
    "        for i, query in enumerate(deployment_manifest[\"configuration\"][\"queries_tables\"]):\n",
    "            print(f' - execute \"{query}\"')\n",
    "            cursor.execute(query)\n",
    "            cursor.commit()\n",
    "        for i, query in enumerate(deployment_manifest[\"configuration\"][\"queries_views\"]):\n",
    "            print(f' - execute \"{query}\"')\n",
    "            cursor.execute(query)\n",
    "            cursor.commit()\n",
    "        for i, query in enumerate(deployment_manifest[\"configuration\"][\"queries_stored_procedures\"]):\n",
    "            print(f' - execute \"{query}\"')\n",
    "            cursor.execute(query)\n",
    "            cursor.commit()\n",
    "    tasks.append({\"task_name\":f\"{workspace.get('displayName')} {database} query {i}\", \"task_duration\": 1, \"status\": f\"success\"})\n",
    "except pyodbc.OperationalError as e:\n",
    "    print(e) \n",
    "    tasks.append({\"task_name\":f\"{workspace.get('displayName')} {database} query {i}\", \"task_duration\": 1, \"status\": f\"pyodbc failed: {e}\"})\n",
    "except Exception as e:\n",
    "    print(e) \n",
    "    tasks.append({\"task_name\":f\"{workspace.get('displayName')} {database} query {i}\", \"task_duration\": 1, \"status\": f\"failed: {e}\"})"
   ]
  },
  {
   "cell_type": "code",
   "execution_count": 178,
   "id": "b3b7c873-295f-4e1d-ba84-b6689800f4c5",
   "metadata": {
    "collapsed": false,
    "microsoft": {
     "language": "python",
     "language_group": "synapse_pyspark"
    }
   },
   "outputs": [
    {
     "data": {
      "application/vnd.livy.statement-meta+json": {
       "execution_finish_time": "2025-03-15T16:37:25.4610759Z",
       "execution_start_time": "2025-03-15T16:37:23.9949848Z",
       "livy_statement_state": "available",
       "normalized_state": "finished",
       "parent_msg_id": "7538ca4d-4180-436d-9b1f-f04261b13e17",
       "queued_time": "2025-03-15T16:36:07.6996921Z",
       "session_id": "a14fac42-c7c2-4df5-9e9e-682110c92894",
       "session_start_time": null,
       "spark_pool": null,
       "state": "finished",
       "statement_id": 199,
       "statement_ids": [
        199
       ]
      },
      "text/plain": [
       "StatementMeta(, a14fac42-c7c2-4df5-9e9e-682110c92894, 199, Finished, Available, Finished)"
      ]
     },
     "metadata": {},
     "output_type": "display_data"
    },
    {
     "data": {
      "application/vnd.synapse.widget-view+json": {
       "widget_id": "84152380-dcc2-4dc6-8ff7-9fe58d1b6e81",
       "widget_type": "Synapse.DataFrame"
      },
      "text/plain": [
       "SynapseWidget(Synapse.DataFrame, 84152380-dcc2-4dc6-8ff7-9fe58d1b6e81)"
      ]
     },
     "metadata": {},
     "output_type": "display_data"
    }
   ],
   "source": [
    "display(tasks)"
   ]
  }
 ],
 "metadata": {
  "a365ComputeOptions": null,
  "dependencies": {
   "lakehouse": {}
  },
  "kernel_info": {
   "name": "synapse_pyspark"
  },
  "kernelspec": {
   "display_name": "Synapse PySpark",
   "language": "Python",
   "name": "synapse_pyspark"
  },
  "language_info": {
   "name": "python"
  },
  "microsoft": {
   "language": "python",
   "language_group": "synapse_pyspark",
   "ms_spell_check": {
    "ms_spell_check_language": "en"
   }
  },
  "nteract": {
   "version": "nteract-front-end@1.0.0"
  },
  "sessionKeepAliveTimeout": 0,
  "spark_compute": {
   "compute_id": "/trident/default",
   "session_options": {
    "conf": {
     "spark.synapse.nbs.session.timeout": "1200000"
    }
   }
  },
  "synapse_widget": {
   "state": {
    "84152380-dcc2-4dc6-8ff7-9fe58d1b6e81": {
     "persist_state": {
      "view": {
       "chartOptions": {
        "aggregationType": "count",
        "binsNumber": 10,
        "categoryFieldKeys": [
         "0"
        ],
        "chartType": "bar",
        "evaluatesOverAllRecords": false,
        "isStacked": false,
        "seriesFieldKeys": [
         "2"
        ],
        "wordFrequency": "-1"
       },
       "tableOptions": {},
       "type": "details",
       "viewOptionsGroup": [
        {
         "tabItems": [
          {
           "key": "0",
           "name": "Table",
           "options": {},
           "type": "table"
          }
         ]
        }
       ]
      }
     },
     "sync_state": {
      "isSummary": false,
      "language": "scala",
      "table": {
       "rows": [
        {
         "0": "success",
         "1": "4",
         "2": "Workspace 'TEST DATA (D) FMD' connected to capacity ID: 560C908C-072A-478C-939C-CFC4398D2FDB"
        },
        {
         "0": "success",
         "1": "4",
         "2": "Skipping: sg-fabric-contributor for 6a2547f5-12c4-4fc9-9430-de5588ae7096"
        },
        {
         "0": "success",
         "1": "4",
         "2": "Skipping: sg-fabric-admin for 6a2547f5-12c4-4fc9-9430-de5588ae7096"
        },
        {
         "0": "success",
         "1": "7",
         "2": "Workspace 'TEST CODE (D) FMD' connected to capacity ID: 560C908C-072A-478C-939C-CFC4398D2FDB"
        },
        {
         "0": "success",
         "1": "7",
         "2": "Skipping: sg-fabric-contributor for 36894866-6515-4081-9260-2ab3646f13bc"
        },
        {
         "0": "success",
         "1": "7",
         "2": "Skipping: sg-fabric-admin for 36894866-6515-4081-9260-2ab3646f13bc"
        },
        {
         "0": "success",
         "1": "10",
         "2": "Workspace 'TEST CONFIG FMD' connected to capacity ID: 2BDC6A16-1EE7-4BAD-9127-5EF6BEB00E84"
        },
        {
         "0": "success",
         "1": "10",
         "2": "Skipping: sg-fabric-contributor for 47c5b2a1-71db-4c5a-b097-587a50c1770c"
        },
        {
         "0": "success",
         "1": "10",
         "2": "Skipping: sg-fabric-admin for 47c5b2a1-71db-4c5a-b097-587a50c1770c"
        },
        {
         "0": "success",
         "1": "13",
         "2": "Workspace 'TEST LOG FMD' connected to capacity ID: 560C908C-072A-478C-939C-CFC4398D2FDB"
        },
        {
         "0": "success",
         "1": "14",
         "2": "Skipping: sg-fabric-contributor for 196c62dc-b39e-480c-b48d-2fa198291f22"
        },
        {
         "0": "success",
         "1": "14",
         "2": "Skipping: sg-fabric-admin for 196c62dc-b39e-480c-b48d-2fa198291f22"
        },
        {
         "0": "success",
         "1": "17",
         "2": "Workspace 'TEST DATA (P) FMD' connected to capacity ID: 560C908C-072A-478C-939C-CFC4398D2FDB"
        },
        {
         "0": "success",
         "1": "17",
         "2": "Skipping: sg-fabric-contributor for 20d15aa1-1996-4977-ba44-1ae47348c235"
        },
        {
         "0": "success",
         "1": "17",
         "2": "Skipping: sg-fabric-admin for 20d15aa1-1996-4977-ba44-1ae47348c235"
        },
        {
         "0": "success",
         "1": "20",
         "2": "Workspace 'TEST CODE (P) FMD' connected to capacity ID: 560C908C-072A-478C-939C-CFC4398D2FDB"
        },
        {
         "0": "success",
         "1": "20",
         "2": "Skipping: sg-fabric-contributor for ca3b23d7-9da3-4993-a7ca-96b8d718af9f"
        },
        {
         "0": "success",
         "1": "20",
         "2": "Skipping: sg-fabric-admin for ca3b23d7-9da3-4993-a7ca-96b8d718af9f"
        },
        {
         "0": "success",
         "1": "22",
         "2": "Workspace 'TEST CONFIG FMD' connected to capacity ID: 2BDC6A16-1EE7-4BAD-9127-5EF6BEB00E84"
        },
        {
         "0": "success",
         "1": "22",
         "2": "Skipping: sg-fabric-contributor for 47c5b2a1-71db-4c5a-b097-587a50c1770c"
        },
        {
         "0": "success",
         "1": "22",
         "2": "Skipping: sg-fabric-admin for 47c5b2a1-71db-4c5a-b097-587a50c1770c"
        },
        {
         "0": "success",
         "1": "26",
         "2": "Workspace 'TEST LOG FMD' connected to capacity ID: 560C908C-072A-478C-939C-CFC4398D2FDB"
        },
        {
         "0": "success",
         "1": "26",
         "2": "Skipping: sg-fabric-contributor for 196c62dc-b39e-480c-b48d-2fa198291f22"
        },
        {
         "0": "success",
         "1": "26",
         "2": "Skipping: sg-fabric-admin for 196c62dc-b39e-480c-b48d-2fa198291f22"
        },
        {
         "0": "success",
         "1": "0",
         "2": "Update item  Definition ENV_FMD"
        },
        {
         "0": "success",
         "1": "0",
         "2": "Update item  Definition NB_FMD_LOAD_BRONZE_SILVER"
        },
        {
         "0": "success",
         "1": "0",
         "2": "Update item  Definition NB_FMD_LOAD_LANDING_BRONZE"
        },
        {
         "0": "success",
         "1": "1",
         "2": "Update item  Definition PL_FMD_LOAD_LANDINGZONE"
        },
        {
         "0": "success",
         "1": "1",
         "2": "Update item  Definition PL_FMD_LOAD_ALL"
        },
        {
         "0": "success",
         "1": "1",
         "2": "Update item  Definition PL_FMD_LOAD_BRONZE"
        },
        {
         "0": "success",
         "1": "1",
         "2": "Update item  Definition PL_FMD_LOAD_SILVER"
        },
        {
         "0": "success",
         "1": "1",
         "2": "Update item  Definition PL_FMD_LDZ_COPY_FROM_ASQL_01"
        },
        {
         "0": "success",
         "1": "1",
         "2": "Update item  Definition PL_FMD_LDZ_COPY_FROM_ONELAKE_TABLES_01"
        },
        {
         "0": "success",
         "1": "1",
         "2": "Update item  Definition PL_FMD_LDZ_COPY_FROM_ADLS_01"
        },
        {
         "0": "success",
         "1": "1",
         "2": "Update item  Definition PL_FMD_LDZ_COPY_FROM_ASQL_02"
        },
        {
         "0": "success",
         "1": "1",
         "2": "Update item  Definition PL_FMD_LDZ_COMMAND_ASQL"
        },
        {
         "0": "success",
         "1": "1",
         "2": "Update item  Definition PL_FMD_LDZ_COMMAND_ADLS"
        },
        {
         "0": "success",
         "1": "1",
         "2": "Update item  Definition PL_FMD_LDZ_COMMAND_ONELAKE"
        },
        {
         "0": "success",
         "1": "1",
         "2": "Update item  Definition PL_FMD_LDZ_COPY_FROM_ADF"
        },
        {
         "0": "success",
         "1": "1",
         "2": "Update item  Definition PL_FMD_LDZ_COMMAND_ADF"
        },
        {
         "0": "success",
         "1": "0",
         "2": "Update item  Definition NB_FMD_DQ_CLEANSING"
        },
        {
         "0": "success",
         "1": "1",
         "2": "Update item  Definition PL_TOOLING_POST_ASQL_TO_FMD"
        },
        {
         "0": "success",
         "1": "1",
         "2": "Deploy PL_TOOLING_POST_ASQL_TO_FMD"
        },
        {
         "0": "success",
         "1": "0",
         "2": "Update item  Definition ENV_FMD"
        },
        {
         "0": "success",
         "1": "0",
         "2": "Update item  Definition NB_FMD_LOAD_BRONZE_SILVER"
        },
        {
         "0": "success",
         "1": "0",
         "2": "Update item  Definition NB_FMD_LOAD_LANDING_BRONZE"
        },
        {
         "0": "success",
         "1": "1",
         "2": "Update item  Definition PL_FMD_LOAD_LANDINGZONE"
        },
        {
         "0": "success",
         "1": "1",
         "2": "Update item  Definition PL_FMD_LOAD_ALL"
        },
        {
         "0": "success",
         "1": "1",
         "2": "Update item  Definition PL_FMD_LOAD_BRONZE"
        },
        {
         "0": "success",
         "1": "1",
         "2": "Update item  Definition PL_FMD_LOAD_SILVER"
        },
        {
         "0": "success",
         "1": "1",
         "2": "Update item  Definition PL_FMD_LDZ_COPY_FROM_ASQL_01"
        },
        {
         "0": "success",
         "1": "1",
         "2": "Update item  Definition PL_FMD_LDZ_COPY_FROM_ONELAKE_TABLES_01"
        },
        {
         "0": "success",
         "1": "1",
         "2": "Update item  Definition PL_FMD_LDZ_COPY_FROM_ADLS_01"
        },
        {
         "0": "success",
         "1": "1",
         "2": "Update item  Definition PL_FMD_LDZ_COPY_FROM_ASQL_02"
        },
        {
         "0": "success",
         "1": "1",
         "2": "Update item  Definition PL_FMD_LDZ_COMMAND_ASQL"
        },
        {
         "0": "success",
         "1": "1",
         "2": "Update item  Definition PL_FMD_LDZ_COMMAND_ADLS"
        },
        {
         "0": "success",
         "1": "1",
         "2": "Update item  Definition PL_FMD_LDZ_COMMAND_ONELAKE"
        },
        {
         "0": "success",
         "1": "1",
         "2": "Update item  Definition PL_FMD_LDZ_COPY_FROM_ADF"
        },
        {
         "0": "success",
         "1": "1",
         "2": "Update item  Definition PL_FMD_LDZ_COMMAND_ADF"
        },
        {
         "0": "success",
         "1": "0",
         "2": "Update item  Definition NB_FMD_DQ_CLEANSING"
        },
        {
         "0": "success",
         "1": "1",
         "2": "Update item  Definition PL_TOOLING_POST_ASQL_TO_FMD"
        },
        {
         "0": "success",
         "1": "1",
         "2": "Deploy PL_TOOLING_POST_ASQL_TO_FMD"
        },
        {
         "0": "success",
         "1": "1",
         "2": "WH_LOG WH_LOG query 0"
        },
        {
         "0": "success",
         "1": "1",
         "2": "WH_LOG WH_LOG query 1"
        },
        {
         "0": "success",
         "1": "1",
         "2": "WH_LOG WH_LOG query 2"
        },
        {
         "0": "success",
         "1": "1",
         "2": "None SQL_TEST_FRAMEWORK-20c23e66-ae56-41b3-b9bb-a19065b8055f query 64"
        }
       ],
       "schema": [
        {
         "key": "0",
         "name": "status",
         "type": "string"
        },
        {
         "key": "1",
         "name": "task_duration",
         "type": "bigint"
        },
        {
         "key": "2",
         "name": "task_name",
         "type": "string"
        }
       ],
       "truncated": false
      },
      "wranglerEntryContext": null
     },
     "type": "Synapse.DataFrame"
    }
   },
   "version": "0.1"
  }
 },
 "nbformat": 4,
 "nbformat_minor": 5
}
