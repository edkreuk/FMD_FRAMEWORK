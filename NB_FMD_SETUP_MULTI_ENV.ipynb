{
 "cells": [
  {
   "cell_type": "markdown",
   "id": "458d8025",
   "metadata": {},
   "source": [
    "If you have changed the default name, make sure you change the defaultLakehouse name as well\n",
    "\n",
    "Make sure you have:\n",
    "Create the Lakehouse LH_CONFIGURATION\n",
    "Uploaded the 'FMD_deployment.json' json file to 'deployment' subfolder\n"
   ]
  },
  {
   "cell_type": "code",
   "execution_count": 200,
   "id": "3e4b1a66-8c9b-4be7-a7fa-cb5ba25d9fb6",
   "metadata": {
    "microsoft": {
     "language": "python",
     "language_group": "synapse_pyspark"
    }
   },
   "outputs": [
    {
     "data": {
      "application/vnd.livy.statement-meta+json": {
       "execution_finish_time": "2025-01-29T15:09:21.7511328Z",
       "execution_start_time": "2025-01-29T15:09:21.6975891Z",
       "livy_statement_state": "available",
       "normalized_state": "finished",
       "parent_msg_id": "63d4b95c-4650-4733-b546-3e7bedc19ab2",
       "queued_time": "2025-01-29T15:07:03.6953849Z",
       "session_id": "5bcbb833-405a-41d2-a0ff-8103d99b7a53",
       "session_start_time": "2025-01-29T15:07:03.8437602Z",
       "spark_pool": null,
       "state": "finished",
       "statement_id": -1,
       "statement_ids": []
      },
      "text/plain": [
       "StatementMeta(, 5bcbb833-405a-41d2-a0ff-8103d99b7a53, -1, Finished, Available, Finished)"
      ]
     },
     "metadata": {},
     "output_type": "display_data"
    }
   ],
   "source": [
    "%%configure -f\n",
    "\n",
    "{ \n",
    "    \"defaultLakehouse\": { \n",
    "        \"name\":  \"LH_CONFIGURATION\"\n",
    "    }\n",
    "}"
   ]
  },
  {
   "cell_type": "markdown",
   "id": "96d82315",
   "metadata": {},
   "source": [
    "Before you runbook please change all the id's below. "
   ]
  },
  {
   "cell_type": "code",
   "execution_count": 296,
   "id": "1954c1d5-24fb-40dd-8784-7faf4ab0e12d",
   "metadata": {
    "microsoft": {
     "language": "python",
     "language_group": "synapse_pyspark"
    },
    "tags": [
     "parameters"
    ]
   },
   "outputs": [
    {
     "data": {
      "application/vnd.livy.statement-meta+json": {
       "execution_finish_time": "2025-01-29T15:47:11.5131438Z",
       "execution_start_time": "2025-01-29T15:47:11.2025176Z",
       "livy_statement_state": "available",
       "normalized_state": "finished",
       "parent_msg_id": "b728c302-7d1e-412d-a8ee-271f514fbf4c",
       "queued_time": "2025-01-29T15:47:11.0321541Z",
       "session_id": "5bcbb833-405a-41d2-a0ff-8103d99b7a53",
       "session_start_time": null,
       "spark_pool": null,
       "state": "finished",
       "statement_id": 119,
       "statement_ids": [
        119
       ]
      },
      "text/plain": [
       "StatementMeta(, 5bcbb833-405a-41d2-a0ff-8103d99b7a53, 119, Finished, Available, Finished)"
      ]
     },
     "metadata": {},
     "output_type": "display_data"
    }
   ],
   "source": [
    "# source file to read the deployment manifest from (LH_CONFIGURATION) \n",
    "deployment_file = 'deployment/FMD_deployment.json'\n",
    "\n",
    "# Before you run this Notebook change the id'd below\n",
    "capacity_id = '075e5656-1234-5678-a36c8c0e8bca'\n",
    "\n",
    "#Fabric SQL Framework\n",
    "workspace_sql = '7774469b-1234-5678-bc42-a36c8c0e8bca'\n",
    "artifact_sql_framework = '075e5656-1234-5678-89ed-63f6837c0ff6'\n",
    "\n",
    "A#Add roles to the workpspace or use workspace_roles[] to add them in a later stage\n",
    "workspace_roles = [\n",
    "                    {\n",
    "                        \"principal\": {\n",
    "                            \"id\": \"00000000-0000-0000-0000-000000000000\",\n",
    "                            \"displayName\": \"sg-fabric-contributor\",\n",
    "                            \"type\": \"Group\"\n",
    "                        },\n",
    "                        \"role\": \"Member\"\n",
    "                        },\n",
    "                        {\n",
    "                        \"principal\": {\n",
    "                            \"id\": \"00000000-0000-0000-0000-000000000000\",\n",
    "                            \"displayName\": \"sg-fabric-admin\",\n",
    "                            \"type\": \"Group\"\n",
    "                        },\n",
    "                        \"role\": \"Admin\"\n",
    "                        }\n",
    "                    ]\n",
    "\n",
    "logging = {\n",
    "    \"log_workspace_guid\": \"7db968e8-e86b-488e-b5ac-ffca009c89d7\",\n",
    "    \"log_warehouse_guid\": \"bebda8eb-0b5f-41e9-933b-1cfc1df648f4\",\n",
    "    \"log_warehouse_endpoint\": \"nl7yhqnbrscude3yv6mas6bxpq-5buls7ll5chernnm77fabhej24.datawarehouse.fabric.microsoft.com\"\n",
    "}\n",
    "\n",
    "configuration = {\n",
    "                    'workspace': {\n",
    "                        'name' : 'FMD_FRAMEWORK_DATA_MH2 (dvlm)',\n",
    "                        'roles' : workspace_roles,\n",
    "                        'capacity_id' : capacity_id\n",
    "                    },\n",
    "}\n",
    "\n",
    "environments = [\n",
    "                    {\n",
    "                        'environment_name' : 'development',\n",
    "                        'workspaces': {\n",
    "                            'data' : {\n",
    "                                'name' : 'FMD_FRAMEWORK_DATA (D)',\n",
    "                                'roles' : workspace_roles,\n",
    "                                'capacity_id' : capacity_id\n",
    "                            },\n",
    "                            'code' : {\n",
    "                                'name' : 'FMD_FRAMEWORK_CODE_MH2 (D)',\n",
    "                                'roles' : workspace_roles,\n",
    "                                'capacity_id' : capacity_id\n",
    "                            }\n",
    "                        },\n",
    "                        'connections' : {\n",
    "                            'CON_FMD_FSQL' : '372237f9-709a-48f8-8fb2-ce06940c990e',\n",
    "                            'CON_FMD_API_FABRIC' : '644f217a-8761-4f19-b1b7-a40bfe0ec2af',\n",
    "                            'CON_FMD_ASQL_01' : 'cf673e6a-13f6-4ebb-9cbb-4ba4ab390818',\n",
    "                            'CON_FMD_ASQL_02' : '11a8e5fe-fbca-4822-9ba4-9162cf56e6dd',\n",
    "                            'CON_FMD_ADLS_01' : 'a0581b6e-5e38-46eb-bab2-7f08e9a35c30',\n",
    "                            'CON_FMD_FABRICPIPELINES' : '6d8146c6-a438-47df-94e2-540c552eb6d7',\n",
    "                            'CON_FMD_ADF_PIPELINES' : '02e107b8-e97e-4b00-a28c-668cf9ce3d9a'\n",
    "                        }\n",
    "                    },\n",
    "                    {\n",
    "                        'environment_name' : 'production',\n",
    "                        'workspaces': {\n",
    "                            'data' : {\n",
    "                                'name' : 'FMD_FRAMEWORK_DATA',\n",
    "                                'roles' : workspace_roles,\n",
    "                                'capacity_id' : capacity_id\n",
    "                            },\n",
    "                            'code' : {\n",
    "                                'name' : 'FMD_FRAMEWORK_CODE_MH (prod)',\n",
    "                                'roles' : workspace_roles,\n",
    "                                'capacity_id' : capacity_id\n",
    "                            }\n",
    "                        },\n",
    "                        'connections' : {\n",
    "                            'CON_FMD_FSQL' : '372237f9-709a-48f8-8fb2-ce06940c990e',\n",
    "                            'CON_FMD_API_FABRIC' : '644f217a-8761-4f19-b1b7-a40bfe0ec2af',\n",
    "                            'CON_FMD_ASQL_01' : 'cf673e6a-13f6-4ebb-9cbb-4ba4ab390818',\n",
    "                            'CON_FMD_ASQL_02' : '11a8e5fe-fbca-4822-9ba4-9162cf56e6dd',\n",
    "                            'CON_FMD_ADLS_01' : 'a0581b6e-5e38-46eb-bab2-7f08e9a35c30',\n",
    "                            'CON_FMD_FABRICPIPELINES' : '6d8146c6-a438-47df-94e2-540c552eb6d7',\n",
    "                            'CON_FMD_ADF_PIPELINES' : '02e107b8-e97e-4b00-a28c-668cf9ce3d9a'\n",
    "                        }\n",
    "                    }\n",
    "                ]\n",
    "\n"
   ]
  },
  {
   "cell_type": "code",
   "execution_count": 297,
   "id": "762b85d2-c208-42a6-98cf-5bdfef91c4e9",
   "metadata": {
    "microsoft": {
     "language": "python",
     "language_group": "synapse_pyspark"
    }
   },
   "outputs": [
    {
     "data": {
      "application/vnd.livy.statement-meta+json": {
       "execution_finish_time": "2025-01-29T15:47:11.9447177Z",
       "execution_start_time": "2025-01-29T15:47:11.6613361Z",
       "livy_statement_state": "available",
       "normalized_state": "finished",
       "parent_msg_id": "5395ac3a-798a-41ef-93c1-8b159fa85f78",
       "queued_time": "2025-01-29T15:47:11.220149Z",
       "session_id": "5bcbb833-405a-41d2-a0ff-8103d99b7a53",
       "session_start_time": null,
       "spark_pool": null,
       "state": "finished",
       "statement_id": 120,
       "statement_ids": [
        120
       ]
      },
      "text/plain": [
       "StatementMeta(, 5bcbb833-405a-41d2-a0ff-8103d99b7a53, 120, Finished, Available, Finished)"
      ]
     },
     "metadata": {},
     "output_type": "display_data"
    }
   ],
   "source": [
    "from json import loads, dumps\n",
    "import json\n",
    "import requests\n",
    "import base64\n",
    "import time\n",
    "import uuid\n",
    "\n",
    "from typing import Callable, List, Dict, Optional, Any\n",
    "from datetime import datetime\n",
    "from time import sleep, time\n",
    "from dataclasses import dataclass, field"
   ]
  },
  {
   "cell_type": "code",
   "execution_count": 298,
   "id": "4d77bb62-d0e3-4601-8742-f37f7cc2195f",
   "metadata": {
    "jupyter": {
     "outputs_hidden": false,
     "source_hidden": false
    },
    "microsoft": {
     "language": "python",
     "language_group": "synapse_pyspark"
    },
    "nteract": {
     "transient": {
      "deleting": false
     }
    }
   },
   "outputs": [
    {
     "data": {
      "application/vnd.livy.statement-meta+json": {
       "execution_finish_time": "2025-01-29T15:47:13.9043314Z",
       "execution_start_time": "2025-01-29T15:47:13.904047Z",
       "livy_statement_state": "available",
       "normalized_state": "finished",
       "parent_msg_id": "bdfd585e-8a18-4ff6-b267-dcb0849ba13e",
       "queued_time": "2025-01-29T15:47:11.3476177Z",
       "session_id": "5bcbb833-405a-41d2-a0ff-8103d99b7a53",
       "session_start_time": null,
       "spark_pool": null,
       "state": "finished",
       "statement_id": 124,
       "statement_ids": [
        121,
        122,
        123,
        124
       ]
      },
      "text/plain": [
       "StatementMeta(, 5bcbb833-405a-41d2-a0ff-8103d99b7a53, 124, Finished, Available, Finished)"
      ]
     },
     "metadata": {},
     "output_type": "display_data"
    }
   ],
   "source": [
    "%run NB_FMD_UTILS"
   ]
  },
  {
   "cell_type": "code",
   "execution_count": 299,
   "id": "31372683-48cc-427e-abea-8defcfaf8b27",
   "metadata": {
    "jupyter": {
     "outputs_hidden": false,
     "source_hidden": false
    },
    "microsoft": {
     "language": "python",
     "language_group": "synapse_pyspark"
    },
    "nteract": {
     "transient": {
      "deleting": false
     }
    }
   },
   "outputs": [
    {
     "data": {
      "application/vnd.livy.statement-meta+json": {
       "execution_finish_time": "2025-01-29T15:47:14.3527908Z",
       "execution_start_time": "2025-01-29T15:47:14.0579254Z",
       "livy_statement_state": "available",
       "normalized_state": "finished",
       "parent_msg_id": "256701c8-e317-4d72-8e90-622c62558041",
       "queued_time": "2025-01-29T15:47:11.5646636Z",
       "session_id": "5bcbb833-405a-41d2-a0ff-8103d99b7a53",
       "session_start_time": null,
       "spark_pool": null,
       "state": "finished",
       "statement_id": 125,
       "statement_ids": [
        125
       ]
      },
      "text/plain": [
       "StatementMeta(, 5bcbb833-405a-41d2-a0ff-8103d99b7a53, 125, Finished, Available, Finished)"
      ]
     },
     "metadata": {},
     "output_type": "display_data"
    }
   ],
   "source": [
    "tasks=[]"
   ]
  },
  {
   "cell_type": "code",
   "execution_count": 300,
   "id": "4f177a49-b384-4d07-9895-423060188b64",
   "metadata": {
    "jupyter": {
     "outputs_hidden": false,
     "source_hidden": false
    },
    "microsoft": {
     "language": "python",
     "language_group": "synapse_pyspark"
    },
    "nteract": {
     "transient": {
      "deleting": false
     }
    }
   },
   "outputs": [
    {
     "data": {
      "application/vnd.livy.statement-meta+json": {
       "execution_finish_time": "2025-01-29T15:47:14.7712501Z",
       "execution_start_time": "2025-01-29T15:47:14.4986175Z",
       "livy_statement_state": "available",
       "normalized_state": "finished",
       "parent_msg_id": "0080d649-70d5-4b9a-8dcb-c27440f95569",
       "queued_time": "2025-01-29T15:47:11.7842735Z",
       "session_id": "5bcbb833-405a-41d2-a0ff-8103d99b7a53",
       "session_start_time": null,
       "spark_pool": null,
       "state": "finished",
       "statement_id": 126,
       "statement_ids": [
        126
       ]
      },
      "text/plain": [
       "StatementMeta(, 5bcbb833-405a-41d2-a0ff-8103d99b7a53, 126, Finished, Available, Finished)"
      ]
     },
     "metadata": {},
     "output_type": "display_data"
    }
   ],
   "source": [
    "fmd_api_access_token =  notebookutils.credentials.getToken('https://analysis.windows.net/powerbi/api')\n",
    "fabric_session = create_fabric_session(fabric_token = fmd_api_access_token)"
   ]
  },
  {
   "cell_type": "code",
   "execution_count": 301,
   "id": "15902111-9dbf-4c18-bb00-496f36e98f82",
   "metadata": {
    "microsoft": {
     "language": "python",
     "language_group": "synapse_pyspark"
    }
   },
   "outputs": [
    {
     "data": {
      "application/vnd.livy.statement-meta+json": {
       "execution_finish_time": "2025-01-29T15:47:15.2588477Z",
       "execution_start_time": "2025-01-29T15:47:14.9562917Z",
       "livy_statement_state": "available",
       "normalized_state": "finished",
       "parent_msg_id": "935937e4-35b1-46a2-9fec-3e6004f94c1f",
       "queued_time": "2025-01-29T15:47:12.0701236Z",
       "session_id": "5bcbb833-405a-41d2-a0ff-8103d99b7a53",
       "session_start_time": null,
       "spark_pool": null,
       "state": "finished",
       "statement_id": 127,
       "statement_ids": [
        127
       ]
      },
      "text/plain": [
       "StatementMeta(, 5bcbb833-405a-41d2-a0ff-8103d99b7a53, 127, Finished, Available, Finished)"
      ]
     },
     "metadata": {},
     "output_type": "display_data"
    },
    {
     "name": "stdout",
     "output_type": "stream",
     "text": [
      "token c183ff6a-8ca1-4185-9378-af980978377c will expire in 19.0 minutes at\t2025-01-29 16:06:48 UTC\n",
      "Current time:\t\t\t\t\t\t\t\t\t2025-01-29 15:47:14 UTC\n"
     ]
    }
   ],
   "source": [
    "# check if token is valid\n",
    "for token in [fmd_api_access_token]:\n",
    "    if not token:\n",
    "        continue\n",
    "    header, payload, signature = token.split('.')\n",
    "    payload += '=' * (-len(payload) % 4)  # Add padding\n",
    "    token_dict = loads(base64.urlsafe_b64decode(payload))\n",
    "    directory_id = token_dict.get(\"tid\")\n",
    "    timest = token_dict.get(\"exp\")\n",
    "    expiry = (datetime.fromtimestamp(timest) - datetime.now()).total_seconds() // 60\n",
    "    expiry_str = str(expiry) if expiry < 5 else str(expiry)\n",
    "    print(F\"token {directory_id} will expire in {expiry_str} minutes at\\t{datetime.fromtimestamp(timest)} UTC\")\n",
    "print(F\"Current time:\\t\\t\\t\\t\\t\\t\\t\\t\\t{datetime.now().replace(microsecond=0)} UTC\")"
   ]
  },
  {
   "cell_type": "code",
   "execution_count": 302,
   "id": "5d0a2af2-bfd3-4f3a-80e1-6f7e36bd23b3",
   "metadata": {
    "microsoft": {
     "language": "python",
     "language_group": "synapse_pyspark"
    }
   },
   "outputs": [
    {
     "data": {
      "application/vnd.livy.statement-meta+json": {
       "execution_finish_time": "2025-01-29T15:47:36.902602Z",
       "execution_start_time": "2025-01-29T15:47:15.4188937Z",
       "livy_statement_state": "available",
       "normalized_state": "finished",
       "parent_msg_id": "6b8dda30-622c-42ff-a5d1-5d0fdff95d0c",
       "queued_time": "2025-01-29T15:47:12.5284611Z",
       "session_id": "5bcbb833-405a-41d2-a0ff-8103d99b7a53",
       "session_start_time": null,
       "spark_pool": null,
       "state": "finished",
       "statement_id": 128,
       "statement_ids": [
        128
       ]
      },
      "text/plain": [
       "StatementMeta(, 5bcbb833-405a-41d2-a0ff-8103d99b7a53, 128, Finished, Available, Finished)"
      ]
     },
     "metadata": {},
     "output_type": "display_data"
    },
    {
     "name": "stdout",
     "output_type": "stream",
     "text": [
      "Workspace 'FMD_FRAMEWORK_DATA_MH2 (dvlm)' found. Workspace ID: c5f8ac02-00db-4f2b-a030-6965683abb7a\n",
      "Capacity found (560C908C-072A-478C-939C-CFC4398D2FDB)\n",
      "Capacity (560C908C-072A-478C-939C-CFC4398D2FDB) assigning to workspace (c5f8ac02-00db-4f2b-a030-6965683abb7a)\n",
      "Request accepted: Dont Wait for result\n",
      "Workspace 'FMD_FRAMEWORK_DATA_MH2 (dvlm)' connected to capacity ID: 560C908C-072A-478C-939C-CFC4398D2FDB\n",
      "Skipping: sg-fabric-contributor for c5f8ac02-00db-4f2b-a030-6965683abb7a\n",
      "Skipping: sg-fabric-admin for c5f8ac02-00db-4f2b-a030-6965683abb7a\n",
      "Workspace 'FMD_FRAMEWORK_CODE_MH2 (dvlm)' found. Workspace ID: 6a568632-74d2-41b2-84ba-b30a4fb450f4\n",
      "Capacity found (560C908C-072A-478C-939C-CFC4398D2FDB)\n",
      "Capacity (560C908C-072A-478C-939C-CFC4398D2FDB) assigning to workspace (6a568632-74d2-41b2-84ba-b30a4fb450f4)\n",
      "Request accepted: Dont Wait for result\n",
      "Workspace 'FMD_FRAMEWORK_CODE_MH2 (dvlm)' connected to capacity ID: 560C908C-072A-478C-939C-CFC4398D2FDB\n",
      "Skipping: sg-fabric-contributor for 6a568632-74d2-41b2-84ba-b30a4fb450f4\n",
      "Skipping: sg-fabric-admin for 6a568632-74d2-41b2-84ba-b30a4fb450f4\n",
      "Workspace 'FMD_FRAMEWORK_DATA_MH2 (dvlm)' found. Workspace ID: c5f8ac02-00db-4f2b-a030-6965683abb7a\n",
      "Capacity found (560C908C-072A-478C-939C-CFC4398D2FDB)\n",
      "Capacity (560C908C-072A-478C-939C-CFC4398D2FDB) assigning to workspace (c5f8ac02-00db-4f2b-a030-6965683abb7a)\n",
      "Request accepted: Dont Wait for result\n",
      "Workspace 'FMD_FRAMEWORK_DATA_MH2 (dvlm)' connected to capacity ID: 560C908C-072A-478C-939C-CFC4398D2FDB\n",
      "Skipping: sg-fabric-contributor for c5f8ac02-00db-4f2b-a030-6965683abb7a\n",
      "Skipping: sg-fabric-admin for c5f8ac02-00db-4f2b-a030-6965683abb7a\n",
      "Workspace ID for data workspace development: c5f8ac02-00db-4f2b-a030-6965683abb7a\n",
      "Workspace ID for code workspace development: 6a568632-74d2-41b2-84ba-b30a4fb450f4\n",
      "Workspace 'FMD_FRAMEWORK_DATA' found. Workspace ID: 40e27fdc-775a-4ee2-84d5-48893c92d7cc\n",
      "Capacity found (560C908C-072A-478C-939C-CFC4398D2FDB)\n",
      "Capacity (560C908C-072A-478C-939C-CFC4398D2FDB) assigning to workspace (40e27fdc-775a-4ee2-84d5-48893c92d7cc)\n",
      "Request accepted: Dont Wait for result\n",
      "Workspace 'FMD_FRAMEWORK_DATA' connected to capacity ID: 560C908C-072A-478C-939C-CFC4398D2FDB\n",
      "Skipping: sg-fabric-contributor for 40e27fdc-775a-4ee2-84d5-48893c92d7cc\n",
      "Skipping: sg-fabric-admin for 40e27fdc-775a-4ee2-84d5-48893c92d7cc\n",
      "Workspace 'FMD_FRAMEWORK_CODE_MH (prod)' found. Workspace ID: e64c7efd-19bf-4bf7-ad3e-64a9f387fbba\n",
      "Capacity found (560C908C-072A-478C-939C-CFC4398D2FDB)\n",
      "Capacity (560C908C-072A-478C-939C-CFC4398D2FDB) assigning to workspace (e64c7efd-19bf-4bf7-ad3e-64a9f387fbba)\n",
      "Request accepted: Dont Wait for result\n",
      "Workspace 'FMD_FRAMEWORK_CODE_MH (prod)' connected to capacity ID: 560C908C-072A-478C-939C-CFC4398D2FDB\n",
      "Skipping: sg-fabric-contributor for e64c7efd-19bf-4bf7-ad3e-64a9f387fbba\n",
      "Skipping: sg-fabric-admin for e64c7efd-19bf-4bf7-ad3e-64a9f387fbba\n",
      "Workspace 'FMD_FRAMEWORK_DATA_MH2 (dvlm)' found. Workspace ID: c5f8ac02-00db-4f2b-a030-6965683abb7a\n",
      "Capacity found (560C908C-072A-478C-939C-CFC4398D2FDB)\n",
      "Capacity (560C908C-072A-478C-939C-CFC4398D2FDB) assigning to workspace (c5f8ac02-00db-4f2b-a030-6965683abb7a)\n",
      "Request accepted: Dont Wait for result\n",
      "Workspace 'FMD_FRAMEWORK_DATA_MH2 (dvlm)' connected to capacity ID: 560C908C-072A-478C-939C-CFC4398D2FDB\n",
      "Skipping: sg-fabric-contributor for c5f8ac02-00db-4f2b-a030-6965683abb7a\n",
      "Skipping: sg-fabric-admin for c5f8ac02-00db-4f2b-a030-6965683abb7a\n",
      "Workspace ID for data workspace production: 40e27fdc-775a-4ee2-84d5-48893c92d7cc\n",
      "Workspace ID for code workspace production: e64c7efd-19bf-4bf7-ad3e-64a9f387fbba\n"
     ]
    }
   ],
   "source": [
    "# Create necessary workspaces \n",
    "start = time()\n",
    "\n",
    "# List all workspaces\n",
    "workspaces = get_fabric_workspaces(fabric_session)\n",
    "\n",
    "for environment in environments:\n",
    "\n",
    "    # Loop through the workspace names and get their IDs\n",
    "    for workspace_name in [environment['workspaces']['data']['name'], environment['workspaces']['code']['name'], configuration['workspace']['name']]:\n",
    "        if workspace_name == environment['workspaces']['data']['name']:\n",
    "            workspace = environment['workspaces']['data']\n",
    "        elif workspace_name == environment['workspaces']['code']['name']:\n",
    "            workspace = environment['workspaces']['code']\n",
    "        elif workspace_name == configuration['workspace']['name']:\n",
    "            workspace = configuration['workspace']\n",
    "\n",
    "        # Check if the displayName exists in the workspaces\n",
    "        matching_workspaces = [workspace for workspace in workspaces.get('value') if workspace['displayName'] == workspace_name]\n",
    "        if matching_workspaces:\n",
    "            workspace['id'] = matching_workspaces[0]['id']\n",
    "            print(f\"Workspace '{workspace_name}' found. Workspace ID: {workspace['id']}\")\n",
    "            tasks.append({\"task_name\":f\"create item {workspace_name} initially\", \"task_duration\": int(time() - start), \"status\": \"success\"})\n",
    "            assign_fabric_workspace_capacity(fabric_session, workspace['id'], workspace['capacity_id'])\n",
    "            tasks.append({\"task_name\":f\"Workspace '{workspace_name}' connected to capacity ID: {workspace['capacity_id']}\", \"task_duration\": int(time() - start), \"status\": \"success\"})\n",
    "            print(f\"Workspace '{workspace_name}' connected to capacity ID: {workspace['capacity_id']}\")   \n",
    "        else:\n",
    "            print(f\"Workspace '{workspace_name}' not found. Creating new workspace...\")\n",
    "            workspace_created = fabric_request(fabric_session, F\"workspaces/\", 'POST', payload={\"displayName\": workspace_name}, payloadtype='json')\n",
    "            workspace['id'] = workspace_created['id']\n",
    "            tasks.append({\"task_name\":f\"create item {workspace_name} initially\", \"task_duration\": int(time() - start), \"status\": \"success\"})\n",
    "            assign_fabric_workspace_capacity(fabric_session, workspace['id'], workspace['capacity_id'])\n",
    "            tasks.append({\"task_name\":f\"Workspace '{workspace_name}' connected to capacity ID: {workspace['capacity_id']}\", \"task_duration\": int(time() - start), \"status\": \"success\"})\n",
    "\n",
    "            print(f\"Workspace '{workspace_name}' created with ID: {workspace['id']} and capacity_id: {workspace['capacity_id']}\")\n",
    "\n",
    "        # Check if roles exists or create them\n",
    "        assign_fabric_workspace_roles(fabric_session, workspace['id'], workspace['roles'])\n",
    "\n",
    "    # Print the workspace IDs\n",
    "    print(f\"Workspace ID for data workspace {environment['environment_name']}: {environment['workspaces']['data']['id']}\")\n",
    "    print(f\"Workspace ID for code workspace {environment['environment_name']}: {environment['workspaces']['code']['id']}\")\n"
   ]
  },
  {
   "cell_type": "code",
   "execution_count": 304,
   "id": "d2187040-28df-48bc-931c-f0612c64078d",
   "metadata": {
    "microsoft": {
     "language": "python",
     "language_group": "synapse_pyspark"
    }
   },
   "outputs": [
    {
     "data": {
      "application/vnd.livy.statement-meta+json": {
       "execution_finish_time": "2025-01-29T15:47:49.3713023Z",
       "execution_start_time": "2025-01-29T15:47:49.0532214Z",
       "livy_statement_state": "available",
       "normalized_state": "finished",
       "parent_msg_id": "21fb6897-423e-4f8d-adbe-492860e14e81",
       "queued_time": "2025-01-29T15:47:48.8696077Z",
       "session_id": "5bcbb833-405a-41d2-a0ff-8103d99b7a53",
       "session_start_time": null,
       "spark_pool": null,
       "state": "finished",
       "statement_id": 130,
       "statement_ids": [
        130
       ]
      },
      "text/plain": [
       "StatementMeta(, 5bcbb833-405a-41d2-a0ff-8103d99b7a53, 130, Finished, Available, Finished)"
      ]
     },
     "metadata": {},
     "output_type": "display_data"
    }
   ],
   "source": [
    "# Read deployment manifest\n",
    "deployment_manifest = {}\n",
    "with open(f\"{notebookutils.fs.getMountPath('/default')}/Files/{deployment_file}\") as f:\n",
    "    deployment_manifest = json.load(f)"
   ]
  },
  {
   "cell_type": "code",
   "execution_count": 305,
   "id": "336e637c-46f6-44da-b65a-4f8095ed62fb",
   "metadata": {
    "jupyter": {
     "outputs_hidden": false,
     "source_hidden": false
    },
    "microsoft": {
     "language": "python",
     "language_group": "synapse_pyspark"
    },
    "nteract": {
     "transient": {
      "deleting": false
     }
    }
   },
   "outputs": [
    {
     "data": {
      "application/vnd.livy.statement-meta+json": {
       "execution_finish_time": "2025-01-29T15:47:54.8820208Z",
       "execution_start_time": "2025-01-29T15:47:53.9280852Z",
       "livy_statement_state": "available",
       "normalized_state": "finished",
       "parent_msg_id": "b4229715-d553-4c99-8b72-76cb5154d8a6",
       "queued_time": "2025-01-29T15:47:53.7601881Z",
       "session_id": "5bcbb833-405a-41d2-a0ff-8103d99b7a53",
       "session_start_time": null,
       "spark_pool": null,
       "state": "finished",
       "statement_id": 131,
       "statement_ids": [
        131
       ]
      },
      "text/plain": [
       "StatementMeta(, 5bcbb833-405a-41d2-a0ff-8103d99b7a53, 131, Finished, Available, Finished)"
      ]
     },
     "metadata": {},
     "output_type": "display_data"
    },
    {
     "name": "stdout",
     "output_type": "stream",
     "text": [
      "Skip existing: NB_FMD_LOAD_BRONZE_SILVER\n",
      "Skip existing: NB_FMD_LOAD_LANDING_BRONZE\n",
      "Skip existing: PL_FMD_LOAD_LANDINGZONE\n",
      "Skip existing: PL_FMD_LOAD_ALL\n",
      "Skip existing: PL_FMD_LOAD_BRONZE\n",
      "Skip existing: PL_FMD_LOAD_SILVER\n",
      "Skip existing: PL_FMD_LDZ_COPY_FROM_ASQL_01\n",
      "Skip existing: PL_FMD_LDZ_COPY_FROM_ONELAKE_TABLES_01\n",
      "Skip existing: PL_FMD_LDZ_COPY_FROM_ADLS_01\n",
      "Skip existing: PL_FMD_LDZ_COPY_FROM_ASQL_02\n",
      "Skip existing: PL_FMD_LDZ_COMMAND_ASQL\n",
      "Skip existing: PL_FMD_LDZ_COMMAND_ADLS\n",
      "Skip existing: PL_FMD_LDZ_COMMAND_ONELAKE\n",
      "Skip existing: PL_FMD_LDZ_COPY_FROM_ADF\n",
      "Skip existing: PL_FMD_LDZ_COMMAND_ADF\n",
      "Skip existing: NB_FMD_DQ_CLEANSING\n",
      "Skip existing: LH_LANDINGZONE\n",
      "Skip existing: LH_BRONZE_LAYER\n",
      "Skip existing: LH_SILVER_LAYER\n",
      "Skip existing: ENV_FMD\n",
      "Skip existing: NB_FMD_LOAD_BRONZE_SILVER\n",
      "Skip existing: NB_FMD_LOAD_LANDING_BRONZE\n",
      "Skip existing: PL_FMD_LOAD_LANDINGZONE\n",
      "Skip existing: PL_FMD_LOAD_ALL\n",
      "Skip existing: PL_FMD_LOAD_BRONZE\n",
      "Skip existing: PL_FMD_LOAD_SILVER\n",
      "Skip existing: PL_FMD_LDZ_COPY_FROM_ASQL_01\n",
      "Skip existing: PL_FMD_LDZ_COPY_FROM_ONELAKE_TABLES_01\n",
      "Skip existing: PL_FMD_LDZ_COPY_FROM_ADLS_01\n",
      "Skip existing: PL_FMD_LDZ_COPY_FROM_ASQL_02\n",
      "Skip existing: PL_FMD_LDZ_COMMAND_ASQL\n",
      "Skip existing: PL_FMD_LDZ_COMMAND_ADLS\n",
      "Skip existing: PL_FMD_LDZ_COMMAND_ONELAKE\n",
      "Skip existing: PL_FMD_LDZ_COPY_FROM_ADF\n",
      "Skip existing: PL_FMD_LDZ_COMMAND_ADF\n",
      "Skip existing: NB_FMD_DQ_CLEANSING\n",
      "Skip existing: LH_LANDINGZONE\n",
      "Skip existing: LH_BRONZE_LAYER\n",
      "Skip existing: LH_SILVER_LAYER\n",
      "Skip existing: ENV_FMD\n"
     ]
    }
   ],
   "source": [
    "# create empty items if not exists\n",
    "\n",
    "for environment in environments:\n",
    "    environment['guids_to_replace'] = []\n",
    "    \n",
    "    target_items = get_fabric_items(fabric_session, environment['workspaces']['code']['id'])\n",
    "\n",
    "    for deployment_item in deployment_manifest['items']:\n",
    "        # Check if target_items['value'] is empty\n",
    "        if not target_items['value']:\n",
    "            print(f\"Creating: {deployment_item['displayName']}\")\n",
    "            item = deployment_item.copy()\n",
    "            item.pop('definition')\n",
    "            return_item = fabric_request(fabric_session, url=f\"workspaces/{environment['workspaces']['code']['id']}/items/\", method=\"POST\", payload=item, payloadtype='json')\n",
    "            deployment_item[\"new_id\"] = return_item['id']\n",
    "        else:\n",
    "            for target_item in target_items['value']:\n",
    "                if target_item['displayName'] == deployment_item['displayName']:\n",
    "                    break\n",
    "            else:\n",
    "                print(f\"Creating: {deployment_item['displayName']}\")\n",
    "                item = deployment_item.copy()\n",
    "                item.pop('definition')\n",
    "                return_item = fabric_request(fabric_session, url=f\"workspaces/{environment['workspaces']['code']['id']}/items/\", method=\"POST\", payload=item, payloadtype='json')\n",
    "                deployment_item[\"new_id\"] = return_item['id']\n",
    "                continue\n",
    "\n",
    "            print(f\"Skip existing: {deployment_item['displayName']}\")\n",
    "            deployment_item[\"new_id\"] = target_item['id']\n",
    "\n",
    "        environment['guids_to_replace'].append({\"old_id\": deployment_item[\"org_id\"], \"new_id\": deployment_item[\"new_id\"]})\n",
    "\n",
    "    target_items = get_fabric_items(fabric_session, environment['workspaces']['data']['id'])\n",
    "\n",
    "    for deployment_data in deployment_manifest['data']:\n",
    "        for target_item in target_items['value']:\n",
    "            if target_item['displayName'] == deployment_data['displayName']:\n",
    "                break\n",
    "        else:\n",
    "            print(f\"Creating: {deployment_data['displayName']}\")\n",
    "            return_item = fabric_request(fabric_session, url=f\"workspaces/{environment['workspaces']['data']['id']}/items/\", method=\"POST\", payload=deployment_data, payloadtype='json')\n",
    "            deployment_data[\"new_id\"] = return_item['id']\n",
    "            continue\n",
    "\n",
    "        print(f\"Skip existing: {deployment_data['displayName']}\")\n",
    "        deployment_data[\"new_id\"] = target_item['id']\n",
    "\n",
    "        environment['guids_to_replace'].append({\"old_id\": deployment_data[\"org_id\"], \"new_id\": deployment_data[\"new_id\"]})\n",
    "\n",
    "    # skip because sqldatabase isn't supported yet\n",
    "    # target_items = get_fabric_items(fabric_session, configuration['workspace']['id'])\n",
    "\n",
    "    # for deployment_config in deployment_manifest['configuration']['items']:\n",
    "    #     for target_item in target_items['value']:\n",
    "    #         if target_item['displayName'] == deployment_config['displayName']:\n",
    "    #             break\n",
    "    #     else:\n",
    "    #         print(f\"Creating: {deployment_config['displayName']}\")\n",
    "    #         return_item = fabric_request(fabric_session, url=f\"workspaces/{configuration['workspace']['id']}/items/\", method=\"POST\", payload=deployment_config, payloadtype='json')\n",
    "    #         deployment_config[\"new_id\"] = return_item['id']\n",
    "    #         continue\n",
    "\n",
    "    #     print(f\"Skip existing: {deployment_config['displayName']}\")\n",
    "    #     deployment_config[\"new_id\"] = target_item['id']\n",
    "\n",
    "    #     environment['guids_to_replace'].append({\"old_id\": deployment_config[\"org_id\"], \"new_id\": deployment_config[\"new_id\"]})"
   ]
  },
  {
   "cell_type": "code",
   "execution_count": 308,
   "id": "40b17c4e-deff-4b68-b5c1-aecb1eeee6b3",
   "metadata": {
    "microsoft": {
     "language": "python",
     "language_group": "synapse_pyspark"
    }
   },
   "outputs": [
    {
     "data": {
      "application/vnd.livy.statement-meta+json": {
       "execution_finish_time": "2025-01-29T15:48:10.5484716Z",
       "execution_start_time": "2025-01-29T15:48:10.2898668Z",
       "livy_statement_state": "available",
       "normalized_state": "finished",
       "parent_msg_id": "e413d8d0-a077-4277-b3df-280089b3abb8",
       "queued_time": "2025-01-29T15:48:10.1333572Z",
       "session_id": "5bcbb833-405a-41d2-a0ff-8103d99b7a53",
       "session_start_time": null,
       "spark_pool": null,
       "state": "finished",
       "statement_id": 134,
       "statement_ids": [
        134
       ]
      },
      "text/plain": [
       "StatementMeta(, 5bcbb833-405a-41d2-a0ff-8103d99b7a53, 134, Finished, Available, Finished)"
      ]
     },
     "metadata": {},
     "output_type": "display_data"
    }
   ],
   "source": [
    "for environment in environments:\n",
    "    # Append the remaining pairs\n",
    "    environment['guids_to_replace'].append({\"old_id\": deployment_manifest[\"workspaces\"][\"workspace_data\"], \"new_id\": environment['workspaces']['data']['id']})\n",
    "    environment['guids_to_replace'].append({\"old_id\": deployment_manifest[\"workspaces\"][\"workspace_code\"], \"new_id\": environment['workspaces']['code']['id']})\n",
    "    environment['guids_to_replace'].append({\"old_id\": deployment_manifest[\"configuration\"][\"artifact_sql_framework\"], \"new_id\": artifact_sql_framework})\n",
    "    environment['guids_to_replace'].append({\"old_id\": deployment_manifest[\"connections\"][\"CON_FMD_FSQL\"], \"new_id\": environment['connections']['CON_FMD_FSQL']})\n",
    "    environment['guids_to_replace'].append({\"old_id\": deployment_manifest[\"connections\"][\"CON_FMD_API_FABRIC\"], \"new_id\": environment['connections']['CON_FMD_API_FABRIC']})\n",
    "    environment['guids_to_replace'].append({\"old_id\": deployment_manifest[\"connections\"][\"CON_FMD_ASQL_01\"], \"new_id\": environment['connections']['CON_FMD_ASQL_01']})\n",
    "    environment['guids_to_replace'].append({\"old_id\": deployment_manifest[\"connections\"][\"CON_FMD_ASQL_02\"], \"new_id\": environment['connections']['CON_FMD_ASQL_02']})\n",
    "    environment['guids_to_replace'].append({\"old_id\": deployment_manifest[\"connections\"][\"CON_FMD_ADLS_01\"], \"new_id\": environment['connections']['CON_FMD_ADLS_01']})\n",
    "    environment['guids_to_replace'].append({\"old_id\": deployment_manifest[\"connections\"][\"CON_FMD_FABRICPIPELINES\"], \"new_id\": environment['connections']['CON_FMD_FABRICPIPELINES']})\n",
    "    environment['guids_to_replace'].append({\"old_id\": deployment_manifest[\"connections\"][\"CON_FMD_ADF_PIPELINES\"], \"new_id\": environment['connections']['CON_FMD_ADF_PIPELINES']})\n",
    "    environment['guids_to_replace'].append({\"old_id\": deployment_manifest[\"logging\"][\"log_workspace_guid\"], \"new_id\": logging[\"log_workspace_guid\"]})\n",
    "    environment['guids_to_replace'].append({\"old_id\": deployment_manifest[\"logging\"][\"log_warehouse_guid\"], \"new_id\": logging[\"log_warehouse_guid\"]})\n",
    "    environment['guids_to_replace'].append({\"old_id\": deployment_manifest[\"logging\"][\"log_warehouse_endpoint\"], \"new_id\": logging[\"log_warehouse_endpoint\"]})"
   ]
  },
  {
   "cell_type": "code",
   "execution_count": 309,
   "id": "2a8cf383-606a-4c88-a052-6972e040b898",
   "metadata": {
    "jupyter": {
     "outputs_hidden": false,
     "source_hidden": false
    },
    "microsoft": {
     "language": "python",
     "language_group": "synapse_pyspark"
    },
    "nteract": {
     "transient": {
      "deleting": false
     }
    }
   },
   "outputs": [
    {
     "data": {
      "application/vnd.livy.statement-meta+json": {
       "execution_finish_time": "2025-01-29T15:49:00.5021521Z",
       "execution_start_time": "2025-01-29T15:48:15.7199486Z",
       "livy_statement_state": "available",
       "normalized_state": "finished",
       "parent_msg_id": "7d1e5642-dfda-4060-8fce-cffbb2849b1c",
       "queued_time": "2025-01-29T15:48:15.568749Z",
       "session_id": "5bcbb833-405a-41d2-a0ff-8103d99b7a53",
       "session_start_time": null,
       "spark_pool": null,
       "state": "finished",
       "statement_id": 135,
       "statement_ids": [
        135
       ]
      },
      "text/plain": [
       "StatementMeta(, 5bcbb833-405a-41d2-a0ff-8103d99b7a53, 135, Finished, Available, Finished)"
      ]
     },
     "metadata": {},
     "output_type": "display_data"
    },
    {
     "name": "stdout",
     "output_type": "stream",
     "text": [
      "--------------------------\n",
      "Processing: development\n",
      "Deploy NB_FMD_LOAD_BRONZE_SILVER (Notebook)\n",
      "Update 9ee9c740-7189-4aee-8499-dc423c3776aa\n",
      "Deploy NB_FMD_LOAD_LANDING_BRONZE (Notebook)\n",
      "Update b7f61c44-6a24-476b-a9b3-59ca4c9c7ad4\n",
      "Deploy PL_FMD_LOAD_LANDINGZONE (DataPipeline)\n",
      "Update 23417ffa-315a-4616-8912-26c954151d67\n",
      "Deploy PL_FMD_LOAD_ALL (DataPipeline)\n",
      "Update 61fca325-0ae4-497b-a01c-9a0565f05018\n",
      "Deploy PL_FMD_LOAD_BRONZE (DataPipeline)\n",
      "Update c7c2c6fc-71ae-4aa2-b253-b61c71eb0f1a\n",
      "Deploy PL_FMD_LOAD_SILVER (DataPipeline)\n",
      "Update 4ab242e2-174a-4872-8a0b-73b4ff0e1026\n",
      "Deploy PL_FMD_LDZ_COPY_FROM_ASQL_01 (DataPipeline)\n",
      "Update c171789d-4bda-4b76-adf4-66631e837cdd\n",
      "Deploy PL_FMD_LDZ_COPY_FROM_ONELAKE_TABLES_01 (DataPipeline)\n",
      "Update 20df98d3-a63d-43bb-abe7-a1a70157c9bf\n",
      "Deploy PL_FMD_LDZ_COPY_FROM_ADLS_01 (DataPipeline)\n",
      "Update a7d8acae-2116-430b-a59f-5d7fbb3be431\n",
      "Deploy PL_FMD_LDZ_COPY_FROM_ASQL_02 (DataPipeline)\n",
      "Update c91d03bc-a433-4b18-9a6b-0782055764c2\n",
      "Deploy PL_FMD_LDZ_COMMAND_ASQL (DataPipeline)\n",
      "Update e478fcc2-3096-434c-a26f-196f5e551aa0\n",
      "Deploy PL_FMD_LDZ_COMMAND_ADLS (DataPipeline)\n",
      "Update 7d14cf62-295e-4122-b0a0-61e01c6251b6\n",
      "Deploy PL_FMD_LDZ_COMMAND_ONELAKE (DataPipeline)\n",
      "Update ae2bfbd0-ab32-4e2e-b38f-ebed26bacd66\n",
      "Deploy PL_FMD_LDZ_COPY_FROM_ADF (DataPipeline)\n",
      "Deactivate sub_activity PL_INVOKE_ADF for connection 02e107b8-e97e-4b00-a28c-668cf9ce3d9a\n",
      "Update e8f392e2-05c2-4f1d-a6d9-bc9ccddd5baf\n",
      "Deploy PL_FMD_LDZ_COMMAND_ADF (DataPipeline)\n",
      "Update d0aa882d-9e9b-4a6a-bd37-4c74c0c23c38\n",
      "Deploy NB_FMD_DQ_CLEANSING (Notebook)\n",
      "Update f37cacce-8ef2-475e-be6d-605e5a0e4c71\n",
      "Succeeded\n",
      "--------------------------\n",
      "Processing: production\n",
      "Deploy NB_FMD_LOAD_BRONZE_SILVER (Notebook)\n",
      "Update f57c1666-83bf-4750-b15f-8af559eefc2d\n",
      "Deploy NB_FMD_LOAD_LANDING_BRONZE (Notebook)\n",
      "Update e0154f46-7140-4b43-b647-6a54ad8173ba\n",
      "Deploy PL_FMD_LOAD_LANDINGZONE (DataPipeline)\n",
      "Update c7c3620d-380f-4ec1-b6aa-5ceb653fd0ae\n",
      "Deploy PL_FMD_LOAD_ALL (DataPipeline)\n",
      "Update 827b2a87-7d12-4850-86d6-1267ebd1a4ed\n",
      "Deploy PL_FMD_LOAD_BRONZE (DataPipeline)\n",
      "Update c51cb49d-c07a-4997-9d76-24e0d12fdab0\n",
      "Deploy PL_FMD_LOAD_SILVER (DataPipeline)\n",
      "Update 46e8850f-421f-4860-b80c-2830f5916788\n",
      "Deploy PL_FMD_LDZ_COPY_FROM_ASQL_01 (DataPipeline)\n",
      "Update 2272d0d8-d88b-401b-8f72-b997d097cdf7\n",
      "Deploy PL_FMD_LDZ_COPY_FROM_ONELAKE_TABLES_01 (DataPipeline)\n",
      "Update e03fc432-214c-42d5-ab49-54171271bd87\n",
      "Deploy PL_FMD_LDZ_COPY_FROM_ADLS_01 (DataPipeline)\n",
      "Update 216b69ea-b111-481c-8bbb-dc0ce27b7bf1\n",
      "Deploy PL_FMD_LDZ_COPY_FROM_ASQL_02 (DataPipeline)\n",
      "Update ee22e817-6e88-4e0a-bfe3-3a2d6a43e3aa\n",
      "Deploy PL_FMD_LDZ_COMMAND_ASQL (DataPipeline)\n",
      "Update 5f29eaaa-e623-4aaf-99ea-7137d6b3be1e\n",
      "Deploy PL_FMD_LDZ_COMMAND_ADLS (DataPipeline)\n",
      "Update 323d25cd-7b53-4c95-ae2d-bea7f9de17a3\n",
      "Deploy PL_FMD_LDZ_COMMAND_ONELAKE (DataPipeline)\n",
      "Update 5ff31d05-7069-4f86-b3ff-07eb42959f05\n",
      "Deploy PL_FMD_LDZ_COPY_FROM_ADF (DataPipeline)\n",
      "Deactivate sub_activity PL_INVOKE_ADF for connection 02e107b8-e97e-4b00-a28c-668cf9ce3d9a\n",
      "Update dae9fcf3-860e-43ff-9ec2-0936656d338b\n",
      "Deploy PL_FMD_LDZ_COMMAND_ADF (DataPipeline)\n",
      "Update 41584bf8-42d6-4e83-a6ee-40eb3a0f9f24\n",
      "Deploy NB_FMD_DQ_CLEANSING (Notebook)\n",
      "Update b85d5c76-c01a-4304-87be-0a434b766851\n",
      "Succeeded\n"
     ]
    }
   ],
   "source": [
    "items_to_deploy = deployment_manifest[\"items\"]\n",
    "\n",
    "for environment in environments:\n",
    "    print(f\"--------------------------\")\n",
    "    print(f\"Processing: {environment['environment_name']}\")\n",
    "    \n",
    "    existing_items_code = fabric_request(fabric_session, url=f\"workspaces/{environment['workspaces']['code']['id']}/items/\", method=\"GET\")\n",
    "    deploy_items(items_to_deploy, environment['guids_to_replace'], fmd_api_access_token, environment['workspaces']['code']['id'], existing_items_code[\"value\"])"
   ]
  },
  {
   "cell_type": "code",
   "execution_count": 310,
   "id": "8eef37eb-3a0d-4fa6-87e4-c9b07e384924",
   "metadata": {
    "collapsed": false,
    "jupyter": {
     "outputs_hidden": false,
     "source_hidden": false
    },
    "microsoft": {
     "language": "python",
     "language_group": "synapse_pyspark"
    },
    "nteract": {
     "transient": {
      "deleting": false
     }
    }
   },
   "outputs": [
    {
     "data": {
      "application/vnd.livy.statement-meta+json": {
       "execution_finish_time": "2025-01-29T15:49:17.7172125Z",
       "execution_start_time": "2025-01-29T15:49:16.108567Z",
       "livy_statement_state": "available",
       "normalized_state": "finished",
       "parent_msg_id": "35d85c23-4afd-49e6-98d8-3faa5aa24e12",
       "queued_time": "2025-01-29T15:49:15.9390631Z",
       "session_id": "5bcbb833-405a-41d2-a0ff-8103d99b7a53",
       "session_start_time": null,
       "spark_pool": null,
       "state": "finished",
       "statement_id": 136,
       "statement_ids": [
        136
       ]
      },
      "text/plain": [
       "StatementMeta(, 5bcbb833-405a-41d2-a0ff-8103d99b7a53, 136, Finished, Available, Finished)"
      ]
     },
     "metadata": {},
     "output_type": "display_data"
    },
    {
     "data": {
      "application/vnd.synapse.widget-view+json": {
       "widget_id": "dc2e0c7e-dae6-4783-b82b-d669d6ab5eb7",
       "widget_type": "Synapse.DataFrame"
      },
      "text/plain": [
       "SynapseWidget(Synapse.DataFrame, dc2e0c7e-dae6-4783-b82b-d669d6ab5eb7)"
      ]
     },
     "metadata": {},
     "output_type": "display_data"
    }
   ],
   "source": [
    "display(tasks)"
   ]
  }
 ],
 "metadata": {
  "a365ComputeOptions": null,
  "dependencies": {
   "lakehouse": {}
  },
  "kernel_info": {
   "name": "synapse_pyspark"
  },
  "kernelspec": {
   "display_name": "Synapse PySpark",
   "language": "Python",
   "name": "synapse_pyspark"
  },
  "language_info": {
   "name": "python"
  },
  "microsoft": {
   "language": "python",
   "language_group": "synapse_pyspark",
   "ms_spell_check": {
    "ms_spell_check_language": "en"
   }
  },
  "nteract": {
   "version": "nteract-front-end@1.0.0"
  },
  "sessionKeepAliveTimeout": 0,
  "spark_compute": {
   "compute_id": "/trident/default",
   "session_options": {
    "conf": {
     "spark.synapse.nbs.session.timeout": "1200000"
    }
   }
  },
  "synapse_widget": {
   "state": {
    "dc2e0c7e-dae6-4783-b82b-d669d6ab5eb7": {
     "persist_state": {
      "view": {
       "chartOptions": {
        "aggregationType": "count",
        "binsNumber": 10,
        "categoryFieldKeys": [
         "0"
        ],
        "chartType": "bar",
        "evaluatesOverAllRecords": false,
        "isStacked": false,
        "seriesFieldKeys": [
         "2"
        ],
        "wordFrequency": "-1"
       },
       "tableOptions": {},
       "type": "details",
       "viewOptionsGroup": [
        {
         "tabItems": [
          {
           "key": "0",
           "name": "Table",
           "options": {},
           "type": "table"
          }
         ]
        }
       ]
      }
     },
     "sync_state": {
      "isSummary": false,
      "language": "scala",
      "table": {
       "rows": [
        {
         "0": "success",
         "1": "0",
         "2": "create item FMD_FRAMEWORK_DATA_MH2 (dvlm) initially"
        },
        {
         "0": "success",
         "1": "3",
         "2": "Workspace 'FMD_FRAMEWORK_DATA_MH2 (dvlm)' connected to capacity ID: 560C908C-072A-478C-939C-CFC4398D2FDB"
        },
        {
         "0": "success",
         "1": "3",
         "2": "Skipping: sg-fabric-contributor for c5f8ac02-00db-4f2b-a030-6965683abb7a"
        },
        {
         "0": "success",
         "1": "3",
         "2": "Skipping: sg-fabric-admin for c5f8ac02-00db-4f2b-a030-6965683abb7a"
        },
        {
         "0": "success",
         "1": "3",
         "2": "create item FMD_FRAMEWORK_CODE_MH2 (dvlm) initially"
        },
        {
         "0": "success",
         "1": "7",
         "2": "Workspace 'FMD_FRAMEWORK_CODE_MH2 (dvlm)' connected to capacity ID: 560C908C-072A-478C-939C-CFC4398D2FDB"
        },
        {
         "0": "success",
         "1": "7",
         "2": "Skipping: sg-fabric-contributor for 6a568632-74d2-41b2-84ba-b30a4fb450f4"
        },
        {
         "0": "success",
         "1": "7",
         "2": "Skipping: sg-fabric-admin for 6a568632-74d2-41b2-84ba-b30a4fb450f4"
        },
        {
         "0": "success",
         "1": "7",
         "2": "create item FMD_FRAMEWORK_DATA_MH2 (dvlm) initially"
        },
        {
         "0": "success",
         "1": "11",
         "2": "Workspace 'FMD_FRAMEWORK_DATA_MH2 (dvlm)' connected to capacity ID: 560C908C-072A-478C-939C-CFC4398D2FDB"
        },
        {
         "0": "success",
         "1": "11",
         "2": "Skipping: sg-fabric-contributor for c5f8ac02-00db-4f2b-a030-6965683abb7a"
        },
        {
         "0": "success",
         "1": "11",
         "2": "Skipping: sg-fabric-admin for c5f8ac02-00db-4f2b-a030-6965683abb7a"
        },
        {
         "0": "success",
         "1": "11",
         "2": "create item FMD_FRAMEWORK_DATA initially"
        },
        {
         "0": "success",
         "1": "13",
         "2": "Workspace 'FMD_FRAMEWORK_DATA' connected to capacity ID: 560C908C-072A-478C-939C-CFC4398D2FDB"
        },
        {
         "0": "success",
         "1": "13",
         "2": "Skipping: sg-fabric-contributor for 40e27fdc-775a-4ee2-84d5-48893c92d7cc"
        },
        {
         "0": "success",
         "1": "13",
         "2": "Skipping: sg-fabric-admin for 40e27fdc-775a-4ee2-84d5-48893c92d7cc"
        },
        {
         "0": "success",
         "1": "13",
         "2": "create item FMD_FRAMEWORK_CODE_MH (prod) initially"
        },
        {
         "0": "success",
         "1": "15",
         "2": "Workspace 'FMD_FRAMEWORK_CODE_MH (prod)' connected to capacity ID: 560C908C-072A-478C-939C-CFC4398D2FDB"
        },
        {
         "0": "success",
         "1": "15",
         "2": "Skipping: sg-fabric-contributor for e64c7efd-19bf-4bf7-ad3e-64a9f387fbba"
        },
        {
         "0": "success",
         "1": "15",
         "2": "Skipping: sg-fabric-admin for e64c7efd-19bf-4bf7-ad3e-64a9f387fbba"
        },
        {
         "0": "success",
         "1": "15",
         "2": "create item FMD_FRAMEWORK_DATA_MH2 (dvlm) initially"
        },
        {
         "0": "success",
         "1": "19",
         "2": "Workspace 'FMD_FRAMEWORK_DATA_MH2 (dvlm)' connected to capacity ID: 560C908C-072A-478C-939C-CFC4398D2FDB"
        },
        {
         "0": "success",
         "1": "19",
         "2": "Skipping: sg-fabric-contributor for c5f8ac02-00db-4f2b-a030-6965683abb7a"
        },
        {
         "0": "success",
         "1": "19",
         "2": "Skipping: sg-fabric-admin for c5f8ac02-00db-4f2b-a030-6965683abb7a"
        },
        {
         "0": "success",
         "1": "0",
         "2": "Update item  Definition NB_FMD_LOAD_BRONZE_SILVER"
        },
        {
         "0": "success",
         "1": "0",
         "2": "Update item  Definition NB_FMD_LOAD_LANDING_BRONZE"
        },
        {
         "0": "success",
         "1": "1",
         "2": "Update item  Definition PL_FMD_LOAD_LANDINGZONE"
        },
        {
         "0": "success",
         "1": "1",
         "2": "Update item  Definition PL_FMD_LOAD_ALL"
        },
        {
         "0": "success",
         "1": "1",
         "2": "Update item  Definition PL_FMD_LOAD_BRONZE"
        },
        {
         "0": "success",
         "1": "1",
         "2": "Update item  Definition PL_FMD_LOAD_SILVER"
        },
        {
         "0": "success",
         "1": "1",
         "2": "Update item  Definition PL_FMD_LDZ_COPY_FROM_ASQL_01"
        },
        {
         "0": "success",
         "1": "1",
         "2": "Update item  Definition PL_FMD_LDZ_COPY_FROM_ONELAKE_TABLES_01"
        },
        {
         "0": "success",
         "1": "2",
         "2": "Update item  Definition PL_FMD_LDZ_COPY_FROM_ADLS_01"
        },
        {
         "0": "success",
         "1": "1",
         "2": "Update item  Definition PL_FMD_LDZ_COPY_FROM_ASQL_02"
        },
        {
         "0": "success",
         "1": "1",
         "2": "Update item  Definition PL_FMD_LDZ_COMMAND_ASQL"
        },
        {
         "0": "success",
         "1": "1",
         "2": "Update item  Definition PL_FMD_LDZ_COMMAND_ADLS"
        },
        {
         "0": "success",
         "1": "1",
         "2": "Update item  Definition PL_FMD_LDZ_COMMAND_ONELAKE"
        },
        {
         "0": "success",
         "1": "1",
         "2": "Update item  Definition PL_FMD_LDZ_COPY_FROM_ADF"
        },
        {
         "0": "success",
         "1": "1",
         "2": "Update item  Definition PL_FMD_LDZ_COMMAND_ADF"
        },
        {
         "0": "success",
         "1": "0",
         "2": "Update item  Definition NB_FMD_DQ_CLEANSING"
        },
        {
         "0": "success",
         "1": "2",
         "2": "Deploy NB_FMD_DQ_CLEANSING"
        },
        {
         "0": "success",
         "1": "0",
         "2": "Update item  Definition NB_FMD_LOAD_BRONZE_SILVER"
        },
        {
         "0": "success",
         "1": "0",
         "2": "Update item  Definition NB_FMD_LOAD_LANDING_BRONZE"
        },
        {
         "0": "success",
         "1": "1",
         "2": "Update item  Definition PL_FMD_LOAD_LANDINGZONE"
        },
        {
         "0": "success",
         "1": "1",
         "2": "Update item  Definition PL_FMD_LOAD_ALL"
        },
        {
         "0": "success",
         "1": "1",
         "2": "Update item  Definition PL_FMD_LOAD_BRONZE"
        },
        {
         "0": "success",
         "1": "1",
         "2": "Update item  Definition PL_FMD_LOAD_SILVER"
        },
        {
         "0": "success",
         "1": "1",
         "2": "Update item  Definition PL_FMD_LDZ_COPY_FROM_ASQL_01"
        },
        {
         "0": "success",
         "1": "1",
         "2": "Update item  Definition PL_FMD_LDZ_COPY_FROM_ONELAKE_TABLES_01"
        },
        {
         "0": "success",
         "1": "1",
         "2": "Update item  Definition PL_FMD_LDZ_COPY_FROM_ADLS_01"
        },
        {
         "0": "success",
         "1": "1",
         "2": "Update item  Definition PL_FMD_LDZ_COPY_FROM_ASQL_02"
        },
        {
         "0": "success",
         "1": "1",
         "2": "Update item  Definition PL_FMD_LDZ_COMMAND_ASQL"
        },
        {
         "0": "success",
         "1": "1",
         "2": "Update item  Definition PL_FMD_LDZ_COMMAND_ADLS"
        },
        {
         "0": "success",
         "1": "1",
         "2": "Update item  Definition PL_FMD_LDZ_COMMAND_ONELAKE"
        },
        {
         "0": "success",
         "1": "1",
         "2": "Update item  Definition PL_FMD_LDZ_COPY_FROM_ADF"
        },
        {
         "0": "success",
         "1": "1",
         "2": "Update item  Definition PL_FMD_LDZ_COMMAND_ADF"
        },
        {
         "0": "success",
         "1": "0",
         "2": "Update item  Definition NB_FMD_DQ_CLEANSING"
        },
        {
         "0": "success",
         "1": "1",
         "2": "Deploy NB_FMD_DQ_CLEANSING"
        }
       ],
       "schema": [
        {
         "key": "0",
         "name": "status",
         "type": "string"
        },
        {
         "key": "1",
         "name": "task_duration",
         "type": "bigint"
        },
        {
         "key": "2",
         "name": "task_name",
         "type": "string"
        }
       ],
       "truncated": false
      },
      "wranglerEntryContext": null
     },
     "type": "Synapse.DataFrame"
    }
   },
   "version": "0.1"
  }
 },
 "nbformat": 4,
 "nbformat_minor": 5
}
